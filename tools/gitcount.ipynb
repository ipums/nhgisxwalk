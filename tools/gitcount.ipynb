{
 "cells": [
  {
   "cell_type": "markdown",
   "metadata": {},
   "source": [
    "--------------\n",
    "\n",
    "**This notebook is adapted from that in [pysal/spaghetti](https://github.com/pysal/spaghetti/blob/master/tools/gitcount.ipynb), which was in turn adapted from [pysal/pysal](https://github.com/pysal/pysal/blob/master/tools/gitcount.ipynb).**\n",
    "\n",
    "---------------\n",
    "\n",
    "## Change Log Statistics\n",
    "\n",
    "This notebook generates the summary statistics for a package. It assumes you are running this under the `tools` directory at the toplevel of the package. This notebook will generate a file in the current directory with the name ``changelog.md``. You can edit and append this on front of the ``CHANGELOG.md`` file for the package release."
   ]
  },
  {
   "cell_type": "markdown",
   "metadata": {},
   "source": [
    "## Change the values only in the next cell"
   ]
  },
  {
   "cell_type": "code",
   "execution_count": null,
   "metadata": {
    "ExecuteTime": {
     "end_time": "2020-07-29T21:34:25.075330Z",
     "start_time": "2020-07-29T21:34:25.072056Z"
    }
   },
   "outputs": [],
   "source": [
    "directory = \"jGaboardi\"\n",
    "package_name = \"nhgisxwalk\""
   ]
  },
  {
   "cell_type": "markdown",
   "metadata": {},
   "source": [
    "---------------------------"
   ]
  },
  {
   "cell_type": "code",
   "execution_count": null,
   "metadata": {
    "ExecuteTime": {
     "end_time": "2020-07-29T21:34:25.084083Z",
     "start_time": "2020-07-29T21:34:25.078215Z"
    }
   },
   "outputs": [],
   "source": [
    "import os\n",
    "import json\n",
    "import re\n",
    "import ssl\n",
    "from collections import Counter\n",
    "from datetime import datetime, timedelta\n",
    "from subprocess import check_output, Popen, PIPE\n",
    "from time import sleep\n",
    "from urllib.request import urlopen\n",
    "context = ssl._create_unverified_context()\n",
    "CWD = os.path.abspath(os.path.curdir)"
   ]
  },
  {
   "cell_type": "markdown",
   "metadata": {},
   "source": [
    "### Helper functions"
   ]
  },
  {
   "cell_type": "code",
   "execution_count": null,
   "metadata": {
    "ExecuteTime": {
     "end_time": "2020-07-29T21:34:25.101469Z",
     "start_time": "2020-07-29T21:34:25.085865Z"
    }
   },
   "outputs": [],
   "source": [
    "def regularize_identity(string):\n",
    "    string = string.decode()\n",
    "    if len(string.split(\" \"))>1:\n",
    "        string = string.title()\n",
    "    return string.lstrip(\"* \")\n",
    "\n",
    "def parse_link_header(headers):\n",
    "    link_s = headers.get(\"link\", \"\")\n",
    "    urls = element_pat.findall(link_s)\n",
    "    rels = rel_pat.findall(link_s)\n",
    "    d = {}\n",
    "    for rel,url in zip(rels, urls):\n",
    "        d[rel] = url\n",
    "    return d\n",
    "\n",
    "def get_paged_request(url):\n",
    "    \"\"\"Get a full list, handling APIv3's paging.\"\"\"\n",
    "    results = []\n",
    "    while url:\n",
    "        f = urlopen(url)\n",
    "        results.extend(json.load(f))\n",
    "        links = parse_link_header(f.headers)\n",
    "        url = links.get(\"next\")\n",
    "    return results\n",
    "\n",
    "def get_issues(project, state=\"closed\", pulls=False):\n",
    "    \"\"\"Get a list of the issues from the Github API.\"\"\"\n",
    "    which = \"pulls\" if pulls else \"issues\"\n",
    "    url = \"https://api.github.com/repos/%s/%s?state=%s&per_page=%i\" % (\n",
    "        project, which, state, PER_PAGE\n",
    "    )\n",
    "    return get_paged_request(url)\n",
    "\n",
    "def _parse_datetime(s):\n",
    "    \"\"\"Parse dates in the format returned by the Github API.\"\"\"\n",
    "    if s:\n",
    "        return datetime.strptime(s, ISO8601)\n",
    "    else:\n",
    "        return datetime.fromtimestamp(0)\n",
    "\n",
    "def issues2dict(issues):\n",
    "    \"\"\"Convert a list of issues to a dict, keyed by issue number.\"\"\"\n",
    "    idict = {}\n",
    "    for i in issues:\n",
    "        idict[i[\"number\"]] = i\n",
    "    return idict\n",
    "\n",
    "def is_pull_request(issue):\n",
    "    \"\"\"Return True if the given issue is a pull request.\"\"\"\n",
    "    return \"pull_request_url\" in issue\n",
    "\n",
    "def issues_closed_since(\n",
    "        period=timedelta(days=365), project=None, pulls=False\n",
    "    ):\n",
    "    \"\"\"Get all issues closed since a particular point in time. The\n",
    "    period parameter can either be a datetime object, or a timedelta object.\n",
    "    In the latter case, it is used as a time before the present. Rejected\n",
    "    pull requests are excluded.\n",
    "    \"\"\"\n",
    "    which = \"pulls\" if pulls else \"issues\"\n",
    "    if isinstance(period, timedelta):\n",
    "        period = datetime.now() - period\n",
    "    url = \"https://api.github.com/repos/\"\n",
    "    url += \"%s/%s?state=closed&sort=updated&since=%s&per_page=%i\" % (\n",
    "        project, which, period.strftime(ISO8601), PER_PAGE\n",
    "    )\n",
    "    allclosed = get_paged_request(url)\n",
    "    filtered = [\n",
    "        i for i in allclosed if _parse_datetime(i[\"closed_at\"]) > period\n",
    "    ]\n",
    "    if pulls:\n",
    "        filtered = [ pr for pr in filtered if pr[\"merged_at\"] ]\n",
    "    return filtered\n",
    "\n",
    "def sorted_by_field(issues, field=\"closed_at\", reverse=False):\n",
    "    \"\"\"Return a list of issues sorted by closing date date.\"\"\"\n",
    "    return sorted(issues, key = lambda i:i[field], reverse=reverse)\n",
    "\n",
    "def report(issues, show_urls=False):\n",
    "    \"\"\"Summary report about a list of issues, printing number and title.\n",
    "    Titles may have unicode in them, so we must encode everything below.\n",
    "    \"\"\"\n",
    "    if show_urls:\n",
    "        for i in issues:\n",
    "            role = \"ghpull\" if \"merged_at\" in i else \"ghissue\"\n",
    "            print(\n",
    "                \"* :%s:`%d`: %s\" % (\n",
    "                    role, i[\"number\"], i[\"title\"].encode(\"utf-8\")\n",
    "                )\n",
    "            )\n",
    "    else:\n",
    "        for i in issues:\n",
    "            print(\"* %d: %s\" % (i[\"number\"], i[\"title\"].encode(\"utf-8\")))"
   ]
  },
  {
   "cell_type": "markdown",
   "metadata": {},
   "source": [
    "###  Get the date of the last tag"
   ]
  },
  {
   "cell_type": "code",
   "execution_count": null,
   "metadata": {
    "ExecuteTime": {
     "end_time": "2020-07-29T21:34:25.178081Z",
     "start_time": "2020-07-29T21:34:25.104504Z"
    }
   },
   "outputs": [],
   "source": [
    "x, err = Popen(\n",
    "    'git log -1 --tags --simplify-by-decoration --pretty=\"%ai\"| cat',\n",
    "    stdin=PIPE,\n",
    "    stdout=PIPE,\n",
    "    stderr=PIPE,\n",
    "    shell=True\n",
    ").communicate()\n",
    "start_date = x.split()[0].decode(\"utf-8\")"
   ]
  },
  {
   "cell_type": "markdown",
   "metadata": {},
   "source": [
    "###  Get today's date"
   ]
  },
  {
   "cell_type": "code",
   "execution_count": null,
   "metadata": {
    "ExecuteTime": {
     "end_time": "2020-07-29T21:34:25.182989Z",
     "start_time": "2020-07-29T21:34:25.180320Z"
    }
   },
   "outputs": [],
   "source": [
    "release_date = str(datetime.today()).split()[0]"
   ]
  },
  {
   "cell_type": "markdown",
   "metadata": {},
   "source": [
    "### Calculate time since last tagged release"
   ]
  },
  {
   "cell_type": "code",
   "execution_count": null,
   "metadata": {
    "ExecuteTime": {
     "end_time": "2020-07-29T21:34:25.193026Z",
     "start_time": "2020-07-29T21:34:25.184651Z"
    }
   },
   "outputs": [],
   "source": [
    "since_date = '--since=\"%s\"' % start_date\n",
    "since = datetime.strptime(start_date+\" 0:0:0\", \"%Y-%m-%d %H:%M:%S\")\n",
    "since"
   ]
  },
  {
   "cell_type": "markdown",
   "metadata": {},
   "source": [
    "### Get current version"
   ]
  },
  {
   "cell_type": "code",
   "execution_count": null,
   "metadata": {
    "ExecuteTime": {
     "end_time": "2020-07-29T21:34:25.198394Z",
     "start_time": "2020-07-29T21:34:25.194490Z"
    }
   },
   "outputs": [],
   "source": [
    "f = \"../%s/__init__.py\" % package_name\n",
    "with open(f, \"r\") as initfile:\n",
    "     exec(initfile.readline())  "
   ]
  },
  {
   "cell_type": "markdown",
   "metadata": {},
   "source": [
    "### Total commits"
   ]
  },
  {
   "cell_type": "code",
   "execution_count": null,
   "metadata": {
    "ExecuteTime": {
     "end_time": "2020-07-29T21:34:25.221378Z",
     "start_time": "2020-07-29T21:34:25.200107Z"
    }
   },
   "outputs": [],
   "source": [
    "cmd = [\"git\", \"log\", \"--oneline\", since_date]\n",
    "ncommits = len(check_output(cmd).splitlines())\n",
    "ncommits"
   ]
  },
  {
   "cell_type": "markdown",
   "metadata": {},
   "source": [
    "### List Contributors"
   ]
  },
  {
   "cell_type": "code",
   "execution_count": null,
   "metadata": {
    "ExecuteTime": {
     "end_time": "2020-07-29T21:34:25.260892Z",
     "start_time": "2020-07-29T21:34:25.224368Z"
    }
   },
   "outputs": [],
   "source": [
    "author_cmd = [\"git\", \"log\", \"--format=* %aN\", since_date]\n",
    "ncommits = len(check_output(cmd).splitlines())\n",
    "all_authors = check_output(author_cmd).splitlines()\n",
    "counter = Counter([regularize_identity(author) for author in all_authors])\n",
    "unique_authors = sorted(set(all_authors))\n",
    "unique_authors = counter.keys()\n",
    "unique_authors"
   ]
  },
  {
   "cell_type": "markdown",
   "metadata": {},
   "source": [
    "### Disaggregate by PR, Issue"
   ]
  },
  {
   "cell_type": "code",
   "execution_count": null,
   "metadata": {
    "ExecuteTime": {
     "end_time": "2020-07-29T21:34:25.266455Z",
     "start_time": "2020-07-29T21:34:25.263246Z"
    }
   },
   "outputs": [],
   "source": [
    "ISO8601 = \"%Y-%m-%dT%H:%M:%SZ\"\n",
    "PER_PAGE = 100\n",
    "element_pat = re.compile(r\"<(.+?)>\")\n",
    "rel_pat = re.compile(r'rel=[\\'\"](\\w+)[\\'\"]')"
   ]
  },
  {
   "cell_type": "markdown",
   "metadata": {},
   "source": [
    "### Fetch pulls and issues"
   ]
  },
  {
   "cell_type": "code",
   "execution_count": null,
   "metadata": {
    "ExecuteTime": {
     "end_time": "2020-07-29T21:34:26.904437Z",
     "start_time": "2020-07-29T21:34:25.269230Z"
    }
   },
   "outputs": [],
   "source": [
    "all_issues = {}\n",
    "all_pulls = {}\n",
    "total_commits = 0\n",
    "prj = \"%s/%s\" % (directory, package_name)\n",
    "issues = issues_closed_since(since, project=prj, pulls=False)\n",
    "pulls = issues_closed_since(since, project=prj, pulls=True)\n",
    "issues = sorted_by_field(issues, reverse=True)\n",
    "pulls = sorted_by_field(pulls, reverse=True)\n",
    "n_issues, n_pulls = map(len, (issues, pulls))\n",
    "n_total = n_issues + n_pulls"
   ]
  },
  {
   "cell_type": "markdown",
   "metadata": {},
   "source": [
    "### Generate issue listing"
   ]
  },
  {
   "cell_type": "code",
   "execution_count": null,
   "metadata": {
    "ExecuteTime": {
     "end_time": "2020-07-29T21:34:26.913658Z",
     "start_time": "2020-07-29T21:34:26.907612Z"
    }
   },
   "outputs": [],
   "source": [
    "issue_listing = []\n",
    "for issue in issues:\n",
    "    entry = \"%s (#%s)\" % (issue[\"title\"], issue[\"number\"])\n",
    "    issue_listing.append(entry)\n",
    "issue_listing"
   ]
  },
  {
   "cell_type": "markdown",
   "metadata": {},
   "source": [
    "### Generate pull listing"
   ]
  },
  {
   "cell_type": "code",
   "execution_count": null,
   "metadata": {
    "ExecuteTime": {
     "end_time": "2020-07-29T21:34:26.921566Z",
     "start_time": "2020-07-29T21:34:26.915987Z"
    }
   },
   "outputs": [],
   "source": [
    "pull_listing = []\n",
    "for pull in pulls:\n",
    "    entry = \"%s (#%s)\" % (pull[\"title\"], pull[\"number\"])\n",
    "    pull_listing.append(entry)\n",
    "pull_listing"
   ]
  },
  {
   "cell_type": "markdown",
   "metadata": {},
   "source": [
    "### Generate mesage"
   ]
  },
  {
   "cell_type": "code",
   "execution_count": null,
   "metadata": {
    "ExecuteTime": {
     "end_time": "2020-07-29T21:34:26.931738Z",
     "start_time": "2020-07-29T21:34:26.923897Z"
    }
   },
   "outputs": [],
   "source": [
    "message = \"We closed a total of \"\n",
    "message += \"%s issues (enhancements and bug fixes) \" % n_total\n",
    "message += \"through %s pull requests, \" % n_pulls\n",
    "message += \"since our last release on %s.\" % str(start_date)\n",
    "message += \"\\n\\n## Issues Closed\\n\"\n",
    "issues = \"\\n\".join([\"  - \"+issue for issue in issue_listing])\n",
    "message += issues\n",
    "message += \"\\n\\n## Pull Requests\\n\"\n",
    "pulls = \"\\n\".join([\"  - \"+pull for pull in pull_listing])\n",
    "message += pulls\n",
    "people = \"\\n\".join([\"  - \"+person for person in unique_authors])\n",
    "message += \"\\n\\nThe following individuals contributed to this release: \"\n",
    "message += \"\\n\\n%s\" % people\n",
    "head = \"# Changes\\n\\nVersion %s (%s)\\n\\n\" % (__version__, release_date)\n",
    "message = head + message\n",
    "message"
   ]
  },
  {
   "cell_type": "markdown",
   "metadata": {},
   "source": [
    "### Write out `changelog.md`"
   ]
  },
  {
   "cell_type": "code",
   "execution_count": null,
   "metadata": {
    "ExecuteTime": {
     "end_time": "2020-07-29T21:34:26.937276Z",
     "start_time": "2020-07-29T21:34:26.933283Z"
    }
   },
   "outputs": [],
   "source": [
    "outfile = \"changelog_%s.md\" % __version__\n",
    "with open(outfile, \"w\") as of:\n",
    "    of.write(message)"
   ]
  },
  {
   "cell_type": "markdown",
   "metadata": {},
   "source": [
    "---------------------"
   ]
  }
 ],
 "metadata": {
  "kernelspec": {
   "display_name": "Python [conda env:py3_spgh_dev]",
   "language": "python",
   "name": "conda-env-py3_spgh_dev-py"
  },
  "language_info": {
   "codemirror_mode": {
    "name": "ipython",
    "version": 3
   },
   "file_extension": ".py",
   "mimetype": "text/x-python",
   "name": "python",
   "nbconvert_exporter": "python",
   "pygments_lexer": "ipython3",
   "version": "3.7.6"
  }
 },
 "nbformat": 4,
 "nbformat_minor": 2
}
