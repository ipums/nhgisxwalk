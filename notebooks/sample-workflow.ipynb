{
 "cells": [
  {
   "cell_type": "markdown",
   "metadata": {},
   "source": [
    "# Sample workflow (Wyoming) based on [Jonathon's document]()\n",
    "\n",
    "## defined classes and functions in `nhgisxwalk` package\n",
    "\n",
    "\n",
    "#### notes -- to do\n",
    "\n",
    "* single function or make class?\n",
    "* nhgisify -- G + 0 + 0\n",
    "* geoid <--> nhgisid\n",
    "* `geography_codes(geog=\"block\")` -- code label to code description xwalk\n",
    "\n",
    "#### NHGIS [block crosswalks](https://www.nhgis.org/user-resources/geographic-crosswalks)\n"
   ]
  },
  {
   "cell_type": "code",
   "execution_count": 1,
   "metadata": {
    "ExecuteTime": {
     "end_time": "2020-04-29T13:37:26.820287Z",
     "start_time": "2020-04-29T13:37:26.621918Z"
    }
   },
   "outputs": [
    {
     "name": "stdout",
     "output_type": "stream",
     "text": [
      "2020-04-29T09:37:26-04:00\n",
      "\n",
      "CPython 3.7.6\n",
      "IPython 7.13.0\n",
      "\n",
      "compiler   : Clang 9.0.1 \n",
      "system     : Darwin\n",
      "release    : 19.4.0\n",
      "machine    : x86_64\n",
      "processor  : i386\n",
      "CPU cores  : 4\n",
      "interpreter: 64bit\n"
     ]
    }
   ],
   "source": [
    "%load_ext watermark\n",
    "%watermark"
   ]
  },
  {
   "cell_type": "code",
   "execution_count": 2,
   "metadata": {
    "ExecuteTime": {
     "end_time": "2020-04-29T13:37:27.559806Z",
     "start_time": "2020-04-29T13:37:26.824127Z"
    }
   },
   "outputs": [
    {
     "name": "stdout",
     "output_type": "stream",
     "text": [
      "watermark 2.0.2\n",
      "pandas     1.0.3\n",
      "numpy      1.18.1\n",
      "nhgisxwalk 0.0.0\n",
      "\n"
     ]
    }
   ],
   "source": [
    "import nhgisxwalk\n",
    "import glob\n",
    "import inspect\n",
    "import numpy\n",
    "import pandas\n",
    "\n",
    "%load_ext autoreload\n",
    "%autoreload 2\n",
    "%watermark -w\n",
    "%watermark -iv"
   ]
  },
  {
   "cell_type": "markdown",
   "metadata": {},
   "source": [
    "## (major) Defined functions"
   ]
  },
  {
   "cell_type": "code",
   "execution_count": 3,
   "metadata": {
    "ExecuteTime": {
     "end_time": "2020-04-29T13:37:27.596584Z",
     "start_time": "2020-04-29T13:37:27.567696Z"
    }
   },
   "outputs": [
    {
     "name": "stdout",
     "output_type": "stream",
     "text": [
      "def calculate_atoms(\n",
      "    df, weight=None, input_var=None, sum_var=None, groupby_cols=None\n",
      "):\n",
      "    \"\"\" Calculate the atoms (intersecting parts) of census geographies.\n",
      "    \n",
      "    Parameters\n",
      "    ----------\n",
      "    \n",
      "    df : pandas.DataFrame\n",
      "        input data\n",
      "    \n",
      "    weight : str\n",
      "        weight colum name\n",
      "    \n",
      "    input_var : str\n",
      "        input variable column name\n",
      "    \n",
      "    sum_var : str\n",
      "        groupby and summed variable column name\n",
      "    \n",
      "    groupby_cols : list\n",
      "        dataframe columns to perform groupby\n",
      "    \n",
      "    Returns\n",
      "    -------\n",
      "    \n",
      "    atoms : pandas.DataFrame\n",
      "        output data\n",
      "    \n",
      "    \"\"\"\n",
      "    \n",
      "    df[sum_var] = df[weight] * df[input_var]\n",
      "    \n",
      "    atoms = df.groupby(groupby_cols)[sum_var].sum().to_frame()\n",
      "    \n",
      "    atoms.reset_index(inplace=True)\n",
      "    \n",
      "    return atoms\n",
      "\n"
     ]
    }
   ],
   "source": [
    "print(inspect.getsource(nhgisxwalk.calculate_atoms))"
   ]
  },
  {
   "cell_type": "code",
   "execution_count": 4,
   "metadata": {
    "ExecuteTime": {
     "end_time": "2020-04-29T13:37:27.632878Z",
     "start_time": "2020-04-29T13:37:27.601940Z"
    }
   },
   "outputs": [
    {
     "name": "stdout",
     "output_type": "stream",
     "text": [
      "def bgp_id(\n",
      "    df, order, cname=\"_GJOIN\", tzero=[\"STATEA\", \"COUNTYA\"], nhgis=True\n",
      "):\n",
      "    \"\"\"recreate a the BGPs GISJOIN/GEOID\n",
      "    \n",
      "    Parameters\n",
      "    ----------\n",
      "    \n",
      "    df : pandas.DataFrame\n",
      "        Input dataframe.\n",
      "    \n",
      "    order : list-like\n",
      "        Correct ordering of columns.\n",
      "    \n",
      "    cname : str\n",
      "        Name for new column.\n",
      "    \n",
      "    tzeros : list\n",
      "        Columns to add trailing zero. `nhgis` must be True.\n",
      "    \n",
      "    nhgis : bool\n",
      "        Added 'G' and training zeros. See `GISJOIN identifiers` at\n",
      "        https://www.nhgis.org/user-resources/geographic-crosswalks\n",
      "    \n",
      "    Returns\n",
      "    -------\n",
      "    \n",
      "    df : pandas.DataFrame\n",
      "        Dataframe with new column.\n",
      "    \n",
      "    \"\"\"\n",
      "    \n",
      "    def _gjoin(x):\n",
      "        \"\"\"internal GISJOIN/GEOID generator\"\"\"\n",
      "        \n",
      "        # container for ID components\n",
      "        join_id_vals = []\n",
      "        for o in order:\n",
      "            \n",
      "            # if the val associated with `o` is a numpy.float\n",
      "            v = getattr(x, o)\n",
      "            \n",
      "            try:\n",
      "                # handle NaN values\n",
      "                if not numpy.isnan(v):\n",
      "                    _id_val = str(v)\n",
      "                else:\n",
      "                    _id_val = \"\"\n",
      "            \n",
      "            # if the val associated with `o` is a str\n",
      "            except TypeError:\n",
      "                _id_val = str(v)\n",
      "            \n",
      "            # trailing zero for NHGIS\n",
      "            if nhgis and o in tzero:\n",
      "                _id_val += \"0\"\n",
      "            # append ID component to ID list\n",
      "            join_id_vals.append(_id_val)\n",
      "        \n",
      "        id_str = \"\".join(join_id_vals)\n",
      "        if nhgis:\n",
      "            # G prefix for GISJOIN and concatentate ID components\n",
      "            id_str = \"G\"+id_str\n",
      "        \n",
      "        return id_str\n",
      "    \n",
      "    # recreate GISJOIN ID (_GJOIN, [or other])\n",
      "    df[cname] = [_gjoin(record) for record in df.itertuples()]\n",
      "    \n",
      "    return df\n",
      "\n"
     ]
    }
   ],
   "source": [
    "print(inspect.getsource(nhgisxwalk.bgp_id))"
   ]
  },
  {
   "cell_type": "code",
   "execution_count": 5,
   "metadata": {
    "ExecuteTime": {
     "end_time": "2020-04-29T13:37:27.663051Z",
     "start_time": "2020-04-29T13:37:27.636193Z"
    }
   },
   "outputs": [
    {
     "name": "stdout",
     "output_type": "stream",
     "text": [
      "def trt_id(year, _id, nhgis=True):\n",
      "    \"\"\"Extract the tract ID from the block ID.\n",
      "    \n",
      "    Parameters\n",
      "    ----------\n",
      "    \n",
      "    year : str\n",
      "        Census collection year.\n",
      "    \n",
      "    _id : str\n",
      "        Block GISJOIN/GEOID.\n",
      "    \n",
      "    nhgis : bool\n",
      "        Added 'G' and training zeros. See `GISJOIN identifiers` at\n",
      "        https://www.nhgis.org/user-resources/geographic-crosswalks\n",
      "    \n",
      "    Returns\n",
      "    -------\n",
      "    \n",
      "    tract_id : str\n",
      "        Tract GISJOIN/GEOID.\n",
      "    \n",
      "    \"\"\"\n",
      "    \n",
      "    if year == \"2010\":\n",
      "        indexer = 14\n",
      "        if not nhgis:\n",
      "            indexer = \"?\"\n",
      "        # slice out tract ID\n",
      "        tract_id = _id[:indexer]\n",
      "    else:\n",
      "        msg = \"Census year %s is not currently supported.\" % year\n",
      "        raise RuntimeError(msg)\n",
      "    \n",
      "    return tract_id\n",
      "\n"
     ]
    }
   ],
   "source": [
    "print(inspect.getsource(nhgisxwalk.trt_id))"
   ]
  },
  {
   "cell_type": "code",
   "execution_count": 6,
   "metadata": {
    "ExecuteTime": {
     "end_time": "2020-04-29T13:37:27.694437Z",
     "start_time": "2020-04-29T13:37:27.666412Z"
    }
   },
   "outputs": [
    {
     "name": "stdout",
     "output_type": "stream",
     "text": [
      "def id_from(target_func, target_year, source, vectorized=True):\n",
      "    \"\"\"Create target IDs from source IDs.\n",
      "    \n",
      "    Parameters\n",
      "    ----------\n",
      "    \n",
      "    target_func : function or method\n",
      "        function or method for generating requested target IDs\n",
      "    \n",
      "    target_year : str\n",
      "        target ID year\n",
      "    \n",
      "    source : iterable\n",
      "        original source IDs\n",
      "    \n",
      "    vectorized : bool\n",
      "        potential speedup when vectorized\n",
      "    \n",
      "    Returns\n",
      "    -------\n",
      "    \n",
      "    result : iterable\n",
      "        generated target IDs\n",
      "    \n",
      "    \"\"\"\n",
      "    \n",
      "    # generate IDs from source geographies to target geographies\n",
      "    if vectorized:\n",
      "        result = numpy.vectorize(target_func)(\"2010\", source)\n",
      "    else:\n",
      "        result = [target_func(\"2010\", rec) for rec in source]\n",
      "    \n",
      "    return result\n",
      "\n"
     ]
    }
   ],
   "source": [
    "print(inspect.getsource(nhgisxwalk.id_from))"
   ]
  },
  {
   "cell_type": "markdown",
   "metadata": {},
   "source": [
    "------------------\n",
    "\n",
    "## Step 1\n",
    "### 1990-2010 BLK Crosswalk (`GISJOIN`)\n"
   ]
  },
  {
   "cell_type": "code",
   "execution_count": 7,
   "metadata": {
    "ExecuteTime": {
     "end_time": "2020-04-29T13:37:27.729970Z",
     "start_time": "2020-04-29T13:37:27.698018Z"
    }
   },
   "outputs": [
    {
     "data": {
      "text/plain": [
       "{'GJOIN1990': str, 'GJOIN2010': str}"
      ]
     },
     "execution_count": 7,
     "metadata": {},
     "output_type": "execute_result"
    }
   ],
   "source": [
    "xwalk_file = \"crosswalks/nhgis_blk1990_blk2010_gj.csv.zip\"\n",
    "data_types = nhgisxwalk.str_types([\"GJOIN1990\", \"GJOIN2010\"])\n",
    "data_types"
   ]
  },
  {
   "cell_type": "code",
   "execution_count": 8,
   "metadata": {
    "ExecuteTime": {
     "end_time": "2020-04-29T13:37:50.797303Z",
     "start_time": "2020-04-29T13:37:27.735786Z"
    }
   },
   "outputs": [
    {
     "name": "stderr",
     "output_type": "stream",
     "text": [
      "/Users/jgaboardi/miniconda3/envs/nhgis_env/lib/python3.7/site-packages/numpy/lib/arraysetops.py:569: FutureWarning: elementwise comparison failed; returning scalar instead, but in the future will perform elementwise comparison\n",
      "  mask |= (ar1 == a)\n"
     ]
    },
    {
     "data": {
      "text/html": [
       "<div>\n",
       "<style scoped>\n",
       "    .dataframe tbody tr th:only-of-type {\n",
       "        vertical-align: middle;\n",
       "    }\n",
       "\n",
       "    .dataframe tbody tr th {\n",
       "        vertical-align: top;\n",
       "    }\n",
       "\n",
       "    .dataframe thead th {\n",
       "        text-align: right;\n",
       "    }\n",
       "</style>\n",
       "<table border=\"1\" class=\"dataframe\">\n",
       "  <thead>\n",
       "    <tr style=\"text-align: right;\">\n",
       "      <th></th>\n",
       "      <th>GJOIN1990</th>\n",
       "      <th>GJOIN2010</th>\n",
       "      <th>WEIGHT</th>\n",
       "      <th>PAREA_VIA_BLK00</th>\n",
       "    </tr>\n",
       "  </thead>\n",
       "  <tbody>\n",
       "    <tr>\n",
       "      <th>0</th>\n",
       "      <td>NaN</td>\n",
       "      <td>G01000300107014085</td>\n",
       "      <td>0.0</td>\n",
       "      <td>0.0</td>\n",
       "    </tr>\n",
       "    <tr>\n",
       "      <th>1</th>\n",
       "      <td>NaN</td>\n",
       "      <td>G01000300107014086</td>\n",
       "      <td>0.0</td>\n",
       "      <td>0.0</td>\n",
       "    </tr>\n",
       "    <tr>\n",
       "      <th>2</th>\n",
       "      <td>NaN</td>\n",
       "      <td>G01000300107014089</td>\n",
       "      <td>0.0</td>\n",
       "      <td>0.0</td>\n",
       "    </tr>\n",
       "    <tr>\n",
       "      <th>3</th>\n",
       "      <td>NaN</td>\n",
       "      <td>G01000300107014091</td>\n",
       "      <td>0.0</td>\n",
       "      <td>0.0</td>\n",
       "    </tr>\n",
       "    <tr>\n",
       "      <th>4</th>\n",
       "      <td>NaN</td>\n",
       "      <td>G01000300107014109</td>\n",
       "      <td>0.0</td>\n",
       "      <td>0.0</td>\n",
       "    </tr>\n",
       "  </tbody>\n",
       "</table>\n",
       "</div>"
      ],
      "text/plain": [
       "  GJOIN1990           GJOIN2010  WEIGHT  PAREA_VIA_BLK00\n",
       "0       NaN  G01000300107014085     0.0              0.0\n",
       "1       NaN  G01000300107014086     0.0              0.0\n",
       "2       NaN  G01000300107014089     0.0              0.0\n",
       "3       NaN  G01000300107014091     0.0              0.0\n",
       "4       NaN  G01000300107014109     0.0              0.0"
      ]
     },
     "execution_count": 8,
     "metadata": {},
     "output_type": "execute_result"
    }
   ],
   "source": [
    "blk_xwdf = pandas.read_csv(xwalk_file, index_col=0, dtype=data_types)\n",
    "blk_xwdf.head()"
   ]
  },
  {
   "cell_type": "markdown",
   "metadata": {},
   "source": [
    "#### We can ignore the `NaN` 1990 values (which don't occur in WY) then susbet to WY"
   ]
  },
  {
   "cell_type": "code",
   "execution_count": 9,
   "metadata": {
    "ExecuteTime": {
     "end_time": "2020-04-29T13:37:57.544111Z",
     "start_time": "2020-04-29T13:37:50.807268Z"
    }
   },
   "outputs": [
    {
     "data": {
      "text/plain": [
       "(220403, 4)"
      ]
     },
     "execution_count": 9,
     "metadata": {},
     "output_type": "execute_result"
    }
   ],
   "source": [
    "blk_xwdf = blk_xwdf[~blk_xwdf[\"GJOIN1990\"].isna()]\n",
    "blk_xwdf = blk_xwdf[blk_xwdf[\"GJOIN1990\"].map(lambda x: x[1:3] == \"56\")]\n",
    "blk_xwdf.shape"
   ]
  },
  {
   "cell_type": "code",
   "execution_count": 10,
   "metadata": {
    "ExecuteTime": {
     "end_time": "2020-04-29T13:37:57.585726Z",
     "start_time": "2020-04-29T13:37:57.550091Z"
    }
   },
   "outputs": [
    {
     "data": {
      "text/html": [
       "<div>\n",
       "<style scoped>\n",
       "    .dataframe tbody tr th:only-of-type {\n",
       "        vertical-align: middle;\n",
       "    }\n",
       "\n",
       "    .dataframe tbody tr th {\n",
       "        vertical-align: top;\n",
       "    }\n",
       "\n",
       "    .dataframe thead th {\n",
       "        text-align: right;\n",
       "    }\n",
       "</style>\n",
       "<table border=\"1\" class=\"dataframe\">\n",
       "  <thead>\n",
       "    <tr style=\"text-align: right;\">\n",
       "      <th></th>\n",
       "      <th>GJOIN1990</th>\n",
       "      <th>GJOIN2010</th>\n",
       "      <th>WEIGHT</th>\n",
       "      <th>PAREA_VIA_BLK00</th>\n",
       "    </tr>\n",
       "  </thead>\n",
       "  <tbody>\n",
       "    <tr>\n",
       "      <th>20066154</th>\n",
       "      <td>G56000109626101</td>\n",
       "      <td>G56000109639001000</td>\n",
       "      <td>0.977864</td>\n",
       "      <td>0.977864</td>\n",
       "    </tr>\n",
       "    <tr>\n",
       "      <th>20066155</th>\n",
       "      <td>G56000109626101</td>\n",
       "      <td>G56000109639001001</td>\n",
       "      <td>0.013341</td>\n",
       "      <td>0.000193</td>\n",
       "    </tr>\n",
       "    <tr>\n",
       "      <th>20066156</th>\n",
       "      <td>G56000109626101</td>\n",
       "      <td>G56000109639001002</td>\n",
       "      <td>0.000191</td>\n",
       "      <td>0.000191</td>\n",
       "    </tr>\n",
       "    <tr>\n",
       "      <th>20066157</th>\n",
       "      <td>G56000109626101</td>\n",
       "      <td>G56000109639001009</td>\n",
       "      <td>0.008020</td>\n",
       "      <td>0.008020</td>\n",
       "    </tr>\n",
       "    <tr>\n",
       "      <th>20066158</th>\n",
       "      <td>G56000109626101</td>\n",
       "      <td>G56000109639001017</td>\n",
       "      <td>0.000274</td>\n",
       "      <td>0.013423</td>\n",
       "    </tr>\n",
       "  </tbody>\n",
       "</table>\n",
       "</div>"
      ],
      "text/plain": [
       "                GJOIN1990           GJOIN2010    WEIGHT  PAREA_VIA_BLK00\n",
       "20066154  G56000109626101  G56000109639001000  0.977864         0.977864\n",
       "20066155  G56000109626101  G56000109639001001  0.013341         0.000193\n",
       "20066156  G56000109626101  G56000109639001002  0.000191         0.000191\n",
       "20066157  G56000109626101  G56000109639001009  0.008020         0.008020\n",
       "20066158  G56000109626101  G56000109639001017  0.000274         0.013423"
      ]
     },
     "execution_count": 10,
     "metadata": {},
     "output_type": "execute_result"
    }
   ],
   "source": [
    "blk_xwdf.head()"
   ]
  },
  {
   "cell_type": "markdown",
   "metadata": {},
   "source": [
    "------------------------\n",
    "## Step 2\n",
    "### 1990 Blocks (Tabular)"
   ]
  },
  {
   "cell_type": "code",
   "execution_count": 11,
   "metadata": {
    "ExecuteTime": {
     "end_time": "2020-04-29T13:37:57.636936Z",
     "start_time": "2020-04-29T13:37:57.589452Z"
    }
   },
   "outputs": [
    {
     "data": {
      "text/plain": [
       "['tabular_data/WY_1990_block/1990_block.csv',\n",
       " 'tabular_data/WY_1990_block/context_cookbook_1990_BLOCK.csv']"
      ]
     },
     "execution_count": 11,
     "metadata": {},
     "output_type": "execute_result"
    }
   ],
   "source": [
    "csvs = glob.glob(\"tabular_data/WY_1990_block/*.csv\")\n",
    "csvs"
   ]
  },
  {
   "cell_type": "code",
   "execution_count": 12,
   "metadata": {
    "ExecuteTime": {
     "end_time": "2020-04-29T13:37:57.686736Z",
     "start_time": "2020-04-29T13:37:57.642503Z"
    }
   },
   "outputs": [
    {
     "data": {
      "text/html": [
       "<div>\n",
       "<style scoped>\n",
       "    .dataframe tbody tr th:only-of-type {\n",
       "        vertical-align: middle;\n",
       "    }\n",
       "\n",
       "    .dataframe tbody tr th {\n",
       "        vertical-align: top;\n",
       "    }\n",
       "\n",
       "    .dataframe thead th {\n",
       "        text-align: right;\n",
       "    }\n",
       "</style>\n",
       "<table border=\"1\" class=\"dataframe\">\n",
       "  <thead>\n",
       "    <tr style=\"text-align: right;\">\n",
       "      <th></th>\n",
       "      <th>Variable</th>\n",
       "      <th>Description</th>\n",
       "    </tr>\n",
       "    <tr>\n",
       "      <th>Block-1990</th>\n",
       "      <th></th>\n",
       "      <th></th>\n",
       "    </tr>\n",
       "  </thead>\n",
       "  <tbody>\n",
       "    <tr>\n",
       "      <th>0</th>\n",
       "      <td>GISJOIN</td>\n",
       "      <td>GIS Join Match Code</td>\n",
       "    </tr>\n",
       "    <tr>\n",
       "      <th>1</th>\n",
       "      <td>YEAR</td>\n",
       "      <td>Data File Year</td>\n",
       "    </tr>\n",
       "    <tr>\n",
       "      <th>2</th>\n",
       "      <td>ANRCA</td>\n",
       "      <td>Alaska Native Regional Corporation Code</td>\n",
       "    </tr>\n",
       "    <tr>\n",
       "      <th>3</th>\n",
       "      <td>AIANHHA</td>\n",
       "      <td>American Indian Area/Alaska Native Area/H...</td>\n",
       "    </tr>\n",
       "    <tr>\n",
       "      <th>4</th>\n",
       "      <td>RES_ONLYA</td>\n",
       "      <td>American Indian Reservation [excluding trus...</td>\n",
       "    </tr>\n",
       "    <tr>\n",
       "      <th>5</th>\n",
       "      <td>TRUSTA</td>\n",
       "      <td>American Indian Reservation [trust lands...</td>\n",
       "    </tr>\n",
       "    <tr>\n",
       "      <th>6</th>\n",
       "      <td>RES_TRSTA</td>\n",
       "      <td>Reservation/Trust Lands Code</td>\n",
       "    </tr>\n",
       "    <tr>\n",
       "      <th>7</th>\n",
       "      <td>BLOCKA</td>\n",
       "      <td>Block Code</td>\n",
       "    </tr>\n",
       "    <tr>\n",
       "      <th>8</th>\n",
       "      <td>BLCK_GRPA</td>\n",
       "      <td>Block Group Code</td>\n",
       "    </tr>\n",
       "    <tr>\n",
       "      <th>9</th>\n",
       "      <td>TRACTA</td>\n",
       "      <td>Census Tract Code</td>\n",
       "    </tr>\n",
       "    <tr>\n",
       "      <th>10</th>\n",
       "      <td>CDA</td>\n",
       "      <td>Congressional District (101st) Code</td>\n",
       "    </tr>\n",
       "    <tr>\n",
       "      <th>11</th>\n",
       "      <td>C_CITYA</td>\n",
       "      <td>Consolidated City Code</td>\n",
       "    </tr>\n",
       "    <tr>\n",
       "      <th>12</th>\n",
       "      <td>COUNTY</td>\n",
       "      <td>County Name</td>\n",
       "    </tr>\n",
       "    <tr>\n",
       "      <th>13</th>\n",
       "      <td>COUNTYA</td>\n",
       "      <td>County Code</td>\n",
       "    </tr>\n",
       "    <tr>\n",
       "      <th>14</th>\n",
       "      <td>CTY_SUBA</td>\n",
       "      <td>County Subdivision Code</td>\n",
       "    </tr>\n",
       "    <tr>\n",
       "      <th>15</th>\n",
       "      <td>DIVISIONA</td>\n",
       "      <td>Division Code</td>\n",
       "    </tr>\n",
       "    <tr>\n",
       "      <th>16</th>\n",
       "      <td>MSA_CMSAA</td>\n",
       "      <td>Metropolitan Statistical Area/Consolidated ...</td>\n",
       "    </tr>\n",
       "    <tr>\n",
       "      <th>17</th>\n",
       "      <td>PLACEA</td>\n",
       "      <td>Place Code</td>\n",
       "    </tr>\n",
       "    <tr>\n",
       "      <th>18</th>\n",
       "      <td>PMSAA</td>\n",
       "      <td>Primary Metropolitan Statistical Area Code</td>\n",
       "    </tr>\n",
       "    <tr>\n",
       "      <th>19</th>\n",
       "      <td>REGIONA</td>\n",
       "      <td>Region Code</td>\n",
       "    </tr>\n",
       "    <tr>\n",
       "      <th>20</th>\n",
       "      <td>STATE</td>\n",
       "      <td>State Name</td>\n",
       "    </tr>\n",
       "    <tr>\n",
       "      <th>21</th>\n",
       "      <td>STATEA</td>\n",
       "      <td>State Code</td>\n",
       "    </tr>\n",
       "    <tr>\n",
       "      <th>22</th>\n",
       "      <td>URBRURALA</td>\n",
       "      <td>Urban/Rural Code</td>\n",
       "    </tr>\n",
       "    <tr>\n",
       "      <th>23</th>\n",
       "      <td>URB_AREAA</td>\n",
       "      <td>Urban Area Code</td>\n",
       "    </tr>\n",
       "    <tr>\n",
       "      <th>24</th>\n",
       "      <td>CD103A</td>\n",
       "      <td>Congressional District (103rd) Code</td>\n",
       "    </tr>\n",
       "    <tr>\n",
       "      <th>25</th>\n",
       "      <td>ANPSADPI</td>\n",
       "      <td>Area Name/PSAD Term/Part Indicator</td>\n",
       "    </tr>\n",
       "  </tbody>\n",
       "</table>\n",
       "</div>"
      ],
      "text/plain": [
       "             Variable                                        Description\n",
       "Block-1990                                                              \n",
       "0             GISJOIN                                GIS Join Match Code\n",
       "1                YEAR                                     Data File Year\n",
       "2               ANRCA            Alaska Native Regional Corporation Code\n",
       "3             AIANHHA       American Indian Area/Alaska Native Area/H...\n",
       "4           RES_ONLYA     American Indian Reservation [excluding trus...\n",
       "5              TRUSTA        American Indian Reservation [trust lands...\n",
       "6           RES_TRSTA                       Reservation/Trust Lands Code\n",
       "7              BLOCKA                                         Block Code\n",
       "8           BLCK_GRPA                                   Block Group Code\n",
       "9              TRACTA                                  Census Tract Code\n",
       "10                CDA                Congressional District (101st) Code\n",
       "11            C_CITYA                             Consolidated City Code\n",
       "12             COUNTY                                        County Name\n",
       "13            COUNTYA                                        County Code\n",
       "14           CTY_SUBA                            County Subdivision Code\n",
       "15          DIVISIONA                                      Division Code\n",
       "16          MSA_CMSAA     Metropolitan Statistical Area/Consolidated ...\n",
       "17             PLACEA                                         Place Code\n",
       "18              PMSAA         Primary Metropolitan Statistical Area Code\n",
       "19            REGIONA                                        Region Code\n",
       "20              STATE                                         State Name\n",
       "21             STATEA                                         State Code\n",
       "22          URBRURALA                                   Urban/Rural Code\n",
       "23          URB_AREAA                                    Urban Area Code\n",
       "24             CD103A                Congressional District (103rd) Code\n",
       "25           ANPSADPI                 Area Name/PSAD Term/Part Indicator"
      ]
     },
     "execution_count": 12,
     "metadata": {},
     "output_type": "execute_result"
    }
   ],
   "source": [
    "context = nhgisxwalk.get_context(\"Block-1990\", csvs[1])\n",
    "context"
   ]
  },
  {
   "cell_type": "code",
   "execution_count": 13,
   "metadata": {
    "ExecuteTime": {
     "end_time": "2020-04-29T13:37:57.842282Z",
     "start_time": "2020-04-29T13:37:57.693239Z"
    }
   },
   "outputs": [
    {
     "data": {
      "text/plain": [
       "Index(['GISJOIN', 'YEAR', 'ANRCA', 'AIANHHA', 'RES_ONLYA', 'TRUSTA',\n",
       "       'RES_TRSTA', 'BLOCKA', 'BLCK_GRPA', 'TRACTA', 'CDA', 'C_CITYA',\n",
       "       'COUNTY', 'COUNTYA', 'CTY_SUBA', 'DIVISIONA', 'MSA_CMSAA', 'PLACEA',\n",
       "       'PMSAA', 'REGIONA', 'STATE', 'STATEA', 'URBRURALA', 'URB_AREAA',\n",
       "       'CD103A', 'ANPSADPI', 'ET1001', 'EUY001', 'EUY002', 'EUY003', 'EUY004',\n",
       "       'EUY005', 'ESA001', 'ES1001', 'ES1002'],\n",
       "      dtype='object')"
      ]
     },
     "execution_count": 13,
     "metadata": {},
     "output_type": "execute_result"
    }
   ],
   "source": [
    "data_types = nhgisxwalk.str_types(context[\"Variable\"])\n",
    "tabblkdf = pandas.read_csv(csvs[0], dtype=data_types)\n",
    "tabblkdf.columns"
   ]
  },
  {
   "cell_type": "code",
   "execution_count": 14,
   "metadata": {
    "ExecuteTime": {
     "end_time": "2020-04-29T13:37:57.901692Z",
     "start_time": "2020-04-29T13:37:57.851769Z"
    }
   },
   "outputs": [
    {
     "data": {
      "text/html": [
       "<div>\n",
       "<style scoped>\n",
       "    .dataframe tbody tr th:only-of-type {\n",
       "        vertical-align: middle;\n",
       "    }\n",
       "\n",
       "    .dataframe tbody tr th {\n",
       "        vertical-align: top;\n",
       "    }\n",
       "\n",
       "    .dataframe thead th {\n",
       "        text-align: right;\n",
       "    }\n",
       "</style>\n",
       "<table border=\"1\" class=\"dataframe\">\n",
       "  <thead>\n",
       "    <tr style=\"text-align: right;\">\n",
       "      <th></th>\n",
       "      <th>GISJOIN</th>\n",
       "      <th>YEAR</th>\n",
       "      <th>ANRCA</th>\n",
       "      <th>AIANHHA</th>\n",
       "      <th>RES_ONLYA</th>\n",
       "      <th>TRUSTA</th>\n",
       "      <th>RES_TRSTA</th>\n",
       "      <th>BLOCKA</th>\n",
       "      <th>BLCK_GRPA</th>\n",
       "      <th>TRACTA</th>\n",
       "      <th>...</th>\n",
       "      <th>ANPSADPI</th>\n",
       "      <th>ET1001</th>\n",
       "      <th>EUY001</th>\n",
       "      <th>EUY002</th>\n",
       "      <th>EUY003</th>\n",
       "      <th>EUY004</th>\n",
       "      <th>EUY005</th>\n",
       "      <th>ESA001</th>\n",
       "      <th>ES1001</th>\n",
       "      <th>ES1002</th>\n",
       "    </tr>\n",
       "  </thead>\n",
       "  <tbody>\n",
       "    <tr>\n",
       "      <th>0</th>\n",
       "      <td>G56000109626102</td>\n",
       "      <td>1990</td>\n",
       "      <td>99</td>\n",
       "      <td>9999</td>\n",
       "      <td>9999</td>\n",
       "      <td>9999</td>\n",
       "      <td>9</td>\n",
       "      <td>102</td>\n",
       "      <td>1</td>\n",
       "      <td>9626</td>\n",
       "      <td>...</td>\n",
       "      <td>Block 102</td>\n",
       "      <td>4</td>\n",
       "      <td>4</td>\n",
       "      <td>0</td>\n",
       "      <td>0</td>\n",
       "      <td>0</td>\n",
       "      <td>0</td>\n",
       "      <td>4</td>\n",
       "      <td>0</td>\n",
       "      <td>1</td>\n",
       "    </tr>\n",
       "    <tr>\n",
       "      <th>1</th>\n",
       "      <td>G56000109626103</td>\n",
       "      <td>1990</td>\n",
       "      <td>99</td>\n",
       "      <td>9999</td>\n",
       "      <td>9999</td>\n",
       "      <td>9999</td>\n",
       "      <td>9</td>\n",
       "      <td>103</td>\n",
       "      <td>1</td>\n",
       "      <td>9626</td>\n",
       "      <td>...</td>\n",
       "      <td>Block 103</td>\n",
       "      <td>26</td>\n",
       "      <td>26</td>\n",
       "      <td>0</td>\n",
       "      <td>0</td>\n",
       "      <td>0</td>\n",
       "      <td>0</td>\n",
       "      <td>72</td>\n",
       "      <td>8</td>\n",
       "      <td>2</td>\n",
       "    </tr>\n",
       "    <tr>\n",
       "      <th>2</th>\n",
       "      <td>G56000109626105</td>\n",
       "      <td>1990</td>\n",
       "      <td>99</td>\n",
       "      <td>9999</td>\n",
       "      <td>9999</td>\n",
       "      <td>9999</td>\n",
       "      <td>9</td>\n",
       "      <td>105</td>\n",
       "      <td>1</td>\n",
       "      <td>9626</td>\n",
       "      <td>...</td>\n",
       "      <td>Block 105</td>\n",
       "      <td>2</td>\n",
       "      <td>2</td>\n",
       "      <td>0</td>\n",
       "      <td>0</td>\n",
       "      <td>0</td>\n",
       "      <td>0</td>\n",
       "      <td>1</td>\n",
       "      <td>1</td>\n",
       "      <td>0</td>\n",
       "    </tr>\n",
       "    <tr>\n",
       "      <th>3</th>\n",
       "      <td>G56000109626106</td>\n",
       "      <td>1990</td>\n",
       "      <td>99</td>\n",
       "      <td>9999</td>\n",
       "      <td>9999</td>\n",
       "      <td>9999</td>\n",
       "      <td>9</td>\n",
       "      <td>106</td>\n",
       "      <td>1</td>\n",
       "      <td>9626</td>\n",
       "      <td>...</td>\n",
       "      <td>Block 106</td>\n",
       "      <td>0</td>\n",
       "      <td>0</td>\n",
       "      <td>0</td>\n",
       "      <td>0</td>\n",
       "      <td>0</td>\n",
       "      <td>0</td>\n",
       "      <td>14</td>\n",
       "      <td>0</td>\n",
       "      <td>0</td>\n",
       "    </tr>\n",
       "    <tr>\n",
       "      <th>4</th>\n",
       "      <td>G56000109626107</td>\n",
       "      <td>1990</td>\n",
       "      <td>99</td>\n",
       "      <td>9999</td>\n",
       "      <td>9999</td>\n",
       "      <td>9999</td>\n",
       "      <td>9</td>\n",
       "      <td>107</td>\n",
       "      <td>1</td>\n",
       "      <td>9626</td>\n",
       "      <td>...</td>\n",
       "      <td>Block 107</td>\n",
       "      <td>2</td>\n",
       "      <td>2</td>\n",
       "      <td>0</td>\n",
       "      <td>0</td>\n",
       "      <td>0</td>\n",
       "      <td>0</td>\n",
       "      <td>28</td>\n",
       "      <td>1</td>\n",
       "      <td>0</td>\n",
       "    </tr>\n",
       "  </tbody>\n",
       "</table>\n",
       "<p>5 rows × 35 columns</p>\n",
       "</div>"
      ],
      "text/plain": [
       "           GISJOIN  YEAR ANRCA AIANHHA RES_ONLYA TRUSTA RES_TRSTA BLOCKA  \\\n",
       "0  G56000109626102  1990    99    9999      9999   9999         9    102   \n",
       "1  G56000109626103  1990    99    9999      9999   9999         9    103   \n",
       "2  G56000109626105  1990    99    9999      9999   9999         9    105   \n",
       "3  G56000109626106  1990    99    9999      9999   9999         9    106   \n",
       "4  G56000109626107  1990    99    9999      9999   9999         9    107   \n",
       "\n",
       "  BLCK_GRPA TRACTA  ...   ANPSADPI ET1001 EUY001 EUY002 EUY003 EUY004 EUY005  \\\n",
       "0         1   9626  ...  Block 102      4      4      0      0      0      0   \n",
       "1         1   9626  ...  Block 103     26     26      0      0      0      0   \n",
       "2         1   9626  ...  Block 105      2      2      0      0      0      0   \n",
       "3         1   9626  ...  Block 106      0      0      0      0      0      0   \n",
       "4         1   9626  ...  Block 107      2      2      0      0      0      0   \n",
       "\n",
       "  ESA001 ES1001 ES1002  \n",
       "0      4      0      1  \n",
       "1     72      8      2  \n",
       "2      1      1      0  \n",
       "3     14      0      0  \n",
       "4     28      1      0  \n",
       "\n",
       "[5 rows x 35 columns]"
      ]
     },
     "execution_count": 14,
     "metadata": {},
     "output_type": "execute_result"
    }
   ],
   "source": [
    "tabblkdf.head()"
   ]
  },
  {
   "cell_type": "markdown",
   "metadata": {},
   "source": [
    "### Join Block Table and Crosswalk"
   ]
  },
  {
   "cell_type": "code",
   "execution_count": 15,
   "metadata": {
    "ExecuteTime": {
     "end_time": "2020-04-29T13:37:58.124083Z",
     "start_time": "2020-04-29T13:37:57.904869Z"
    }
   },
   "outputs": [],
   "source": [
    "blk_df = pandas.merge(\n",
    "    left=blk_xwdf,\n",
    "    right=tabblkdf,\n",
    "    how=\"left\",\n",
    "    left_on=\"GJOIN1990\",\n",
    "    right_on=\"GISJOIN\",\n",
    "    validate=\"many_to_many\"\n",
    ")"
   ]
  },
  {
   "cell_type": "markdown",
   "metadata": {},
   "source": [
    "### Variables"
   ]
  },
  {
   "cell_type": "code",
   "execution_count": 16,
   "metadata": {
    "ExecuteTime": {
     "end_time": "2020-04-29T13:37:58.306369Z",
     "start_time": "2020-04-29T13:37:58.126571Z"
    }
   },
   "outputs": [
    {
     "data": {
      "text/html": [
       "<div>\n",
       "<style scoped>\n",
       "    .dataframe tbody tr th:only-of-type {\n",
       "        vertical-align: middle;\n",
       "    }\n",
       "\n",
       "    .dataframe tbody tr th {\n",
       "        vertical-align: top;\n",
       "    }\n",
       "\n",
       "    .dataframe thead th {\n",
       "        text-align: right;\n",
       "    }\n",
       "</style>\n",
       "<table border=\"1\" class=\"dataframe\">\n",
       "  <thead>\n",
       "    <tr style=\"text-align: right;\">\n",
       "      <th></th>\n",
       "      <th>GJOIN1990</th>\n",
       "      <th>GISJOIN</th>\n",
       "      <th>WEIGHT</th>\n",
       "      <th>PAREA_VIA_BLK00</th>\n",
       "      <th>ET1001</th>\n",
       "      <th>ET1001</th>\n",
       "      <th>EUY001</th>\n",
       "      <th>EUY002</th>\n",
       "      <th>EUY003</th>\n",
       "      <th>EUY004</th>\n",
       "      <th>EUY005</th>\n",
       "      <th>ET1001</th>\n",
       "      <th>ES1001</th>\n",
       "      <th>ES1002</th>\n",
       "    </tr>\n",
       "  </thead>\n",
       "  <tbody>\n",
       "    <tr>\n",
       "      <th>0</th>\n",
       "      <td>G56000109626101</td>\n",
       "      <td>NaN</td>\n",
       "      <td>0.977864</td>\n",
       "      <td>0.977864</td>\n",
       "      <td>NaN</td>\n",
       "      <td>NaN</td>\n",
       "      <td>NaN</td>\n",
       "      <td>NaN</td>\n",
       "      <td>NaN</td>\n",
       "      <td>NaN</td>\n",
       "      <td>NaN</td>\n",
       "      <td>NaN</td>\n",
       "      <td>NaN</td>\n",
       "      <td>NaN</td>\n",
       "    </tr>\n",
       "    <tr>\n",
       "      <th>1</th>\n",
       "      <td>G56000109626101</td>\n",
       "      <td>NaN</td>\n",
       "      <td>0.013341</td>\n",
       "      <td>0.000193</td>\n",
       "      <td>NaN</td>\n",
       "      <td>NaN</td>\n",
       "      <td>NaN</td>\n",
       "      <td>NaN</td>\n",
       "      <td>NaN</td>\n",
       "      <td>NaN</td>\n",
       "      <td>NaN</td>\n",
       "      <td>NaN</td>\n",
       "      <td>NaN</td>\n",
       "      <td>NaN</td>\n",
       "    </tr>\n",
       "    <tr>\n",
       "      <th>2</th>\n",
       "      <td>G56000109626101</td>\n",
       "      <td>NaN</td>\n",
       "      <td>0.000191</td>\n",
       "      <td>0.000191</td>\n",
       "      <td>NaN</td>\n",
       "      <td>NaN</td>\n",
       "      <td>NaN</td>\n",
       "      <td>NaN</td>\n",
       "      <td>NaN</td>\n",
       "      <td>NaN</td>\n",
       "      <td>NaN</td>\n",
       "      <td>NaN</td>\n",
       "      <td>NaN</td>\n",
       "      <td>NaN</td>\n",
       "    </tr>\n",
       "    <tr>\n",
       "      <th>3</th>\n",
       "      <td>G56000109626101</td>\n",
       "      <td>NaN</td>\n",
       "      <td>0.008020</td>\n",
       "      <td>0.008020</td>\n",
       "      <td>NaN</td>\n",
       "      <td>NaN</td>\n",
       "      <td>NaN</td>\n",
       "      <td>NaN</td>\n",
       "      <td>NaN</td>\n",
       "      <td>NaN</td>\n",
       "      <td>NaN</td>\n",
       "      <td>NaN</td>\n",
       "      <td>NaN</td>\n",
       "      <td>NaN</td>\n",
       "    </tr>\n",
       "    <tr>\n",
       "      <th>4</th>\n",
       "      <td>G56000109626101</td>\n",
       "      <td>NaN</td>\n",
       "      <td>0.000274</td>\n",
       "      <td>0.013423</td>\n",
       "      <td>NaN</td>\n",
       "      <td>NaN</td>\n",
       "      <td>NaN</td>\n",
       "      <td>NaN</td>\n",
       "      <td>NaN</td>\n",
       "      <td>NaN</td>\n",
       "      <td>NaN</td>\n",
       "      <td>NaN</td>\n",
       "      <td>NaN</td>\n",
       "      <td>NaN</td>\n",
       "    </tr>\n",
       "    <tr>\n",
       "      <th>5</th>\n",
       "      <td>G56000109626101</td>\n",
       "      <td>NaN</td>\n",
       "      <td>0.000310</td>\n",
       "      <td>0.000310</td>\n",
       "      <td>NaN</td>\n",
       "      <td>NaN</td>\n",
       "      <td>NaN</td>\n",
       "      <td>NaN</td>\n",
       "      <td>NaN</td>\n",
       "      <td>NaN</td>\n",
       "      <td>NaN</td>\n",
       "      <td>NaN</td>\n",
       "      <td>NaN</td>\n",
       "      <td>NaN</td>\n",
       "    </tr>\n",
       "    <tr>\n",
       "      <th>6</th>\n",
       "      <td>G56000109626102</td>\n",
       "      <td>G56000109626102</td>\n",
       "      <td>0.279581</td>\n",
       "      <td>0.493676</td>\n",
       "      <td>4.0</td>\n",
       "      <td>4.0</td>\n",
       "      <td>4.0</td>\n",
       "      <td>0.0</td>\n",
       "      <td>0.0</td>\n",
       "      <td>0.0</td>\n",
       "      <td>0.0</td>\n",
       "      <td>4.0</td>\n",
       "      <td>0.0</td>\n",
       "      <td>1.0</td>\n",
       "    </tr>\n",
       "    <tr>\n",
       "      <th>7</th>\n",
       "      <td>G56000109626102</td>\n",
       "      <td>G56000109626102</td>\n",
       "      <td>0.000000</td>\n",
       "      <td>0.002995</td>\n",
       "      <td>4.0</td>\n",
       "      <td>4.0</td>\n",
       "      <td>4.0</td>\n",
       "      <td>0.0</td>\n",
       "      <td>0.0</td>\n",
       "      <td>0.0</td>\n",
       "      <td>0.0</td>\n",
       "      <td>4.0</td>\n",
       "      <td>0.0</td>\n",
       "      <td>1.0</td>\n",
       "    </tr>\n",
       "    <tr>\n",
       "      <th>8</th>\n",
       "      <td>G56000109626102</td>\n",
       "      <td>G56000109626102</td>\n",
       "      <td>0.000000</td>\n",
       "      <td>0.000531</td>\n",
       "      <td>4.0</td>\n",
       "      <td>4.0</td>\n",
       "      <td>4.0</td>\n",
       "      <td>0.0</td>\n",
       "      <td>0.0</td>\n",
       "      <td>0.0</td>\n",
       "      <td>0.0</td>\n",
       "      <td>4.0</td>\n",
       "      <td>0.0</td>\n",
       "      <td>1.0</td>\n",
       "    </tr>\n",
       "    <tr>\n",
       "      <th>9</th>\n",
       "      <td>G56000109626102</td>\n",
       "      <td>G56000109626102</td>\n",
       "      <td>0.000000</td>\n",
       "      <td>0.000152</td>\n",
       "      <td>4.0</td>\n",
       "      <td>4.0</td>\n",
       "      <td>4.0</td>\n",
       "      <td>0.0</td>\n",
       "      <td>0.0</td>\n",
       "      <td>0.0</td>\n",
       "      <td>0.0</td>\n",
       "      <td>4.0</td>\n",
       "      <td>0.0</td>\n",
       "      <td>1.0</td>\n",
       "    </tr>\n",
       "  </tbody>\n",
       "</table>\n",
       "</div>"
      ],
      "text/plain": [
       "         GJOIN1990          GISJOIN    WEIGHT  PAREA_VIA_BLK00  ET1001  \\\n",
       "0  G56000109626101              NaN  0.977864         0.977864     NaN   \n",
       "1  G56000109626101              NaN  0.013341         0.000193     NaN   \n",
       "2  G56000109626101              NaN  0.000191         0.000191     NaN   \n",
       "3  G56000109626101              NaN  0.008020         0.008020     NaN   \n",
       "4  G56000109626101              NaN  0.000274         0.013423     NaN   \n",
       "5  G56000109626101              NaN  0.000310         0.000310     NaN   \n",
       "6  G56000109626102  G56000109626102  0.279581         0.493676     4.0   \n",
       "7  G56000109626102  G56000109626102  0.000000         0.002995     4.0   \n",
       "8  G56000109626102  G56000109626102  0.000000         0.000531     4.0   \n",
       "9  G56000109626102  G56000109626102  0.000000         0.000152     4.0   \n",
       "\n",
       "   ET1001  EUY001  EUY002  EUY003  EUY004  EUY005  ET1001  ES1001  ES1002  \n",
       "0     NaN     NaN     NaN     NaN     NaN     NaN     NaN     NaN     NaN  \n",
       "1     NaN     NaN     NaN     NaN     NaN     NaN     NaN     NaN     NaN  \n",
       "2     NaN     NaN     NaN     NaN     NaN     NaN     NaN     NaN     NaN  \n",
       "3     NaN     NaN     NaN     NaN     NaN     NaN     NaN     NaN     NaN  \n",
       "4     NaN     NaN     NaN     NaN     NaN     NaN     NaN     NaN     NaN  \n",
       "5     NaN     NaN     NaN     NaN     NaN     NaN     NaN     NaN     NaN  \n",
       "6     4.0     4.0     0.0     0.0     0.0     0.0     4.0     0.0     1.0  \n",
       "7     4.0     4.0     0.0     0.0     0.0     0.0     4.0     0.0     1.0  \n",
       "8     4.0     4.0     0.0     0.0     0.0     0.0     4.0     0.0     1.0  \n",
       "9     4.0     4.0     0.0     0.0     0.0     0.0     4.0     0.0     1.0  "
      ]
     },
     "execution_count": 16,
     "metadata": {},
     "output_type": "execute_result"
    }
   ],
   "source": [
    "id_and_weight = [\n",
    "    \"GJOIN1990\",\n",
    "    \"GISJOIN\",\n",
    "    \"WEIGHT\",\n",
    "    \"PAREA_VIA_BLK00\"\n",
    "]\n",
    "var_cols = [\n",
    "    _k for k,v in nhgisxwalk.code_desc_1990_blk.items()\n",
    "    for _k, _ in v.items()\n",
    "    if _k.startswith(\"E\")\n",
    "]\n",
    "blk_df[id_and_weight + var_cols].head(10)"
   ]
  },
  {
   "cell_type": "markdown",
   "metadata": {},
   "source": [
    "### We can safely assume `NaN` values after join are 0.0 due to blocks with no population or housing units being excluded in the 1990 Census -- see [here](https://hackmd.io/pr87vv2kQG6JibTZU3s1ZA?both#NaNs)"
   ]
  },
  {
   "cell_type": "code",
   "execution_count": 17,
   "metadata": {
    "ExecuteTime": {
     "end_time": "2020-04-29T13:37:58.393024Z",
     "start_time": "2020-04-29T13:37:58.313172Z"
    }
   },
   "outputs": [
    {
     "data": {
      "text/plain": [
       "(78532, 39)"
      ]
     },
     "execution_count": 17,
     "metadata": {},
     "output_type": "execute_result"
    }
   ],
   "source": [
    "blk_df = blk_df[~blk_df[\"GISJOIN\"].isna()]\n",
    "blk_df.shape"
   ]
  },
  {
   "cell_type": "code",
   "execution_count": 18,
   "metadata": {
    "ExecuteTime": {
     "end_time": "2020-04-29T13:37:58.444530Z",
     "start_time": "2020-04-29T13:37:58.395778Z"
    }
   },
   "outputs": [
    {
     "data": {
      "text/html": [
       "<div>\n",
       "<style scoped>\n",
       "    .dataframe tbody tr th:only-of-type {\n",
       "        vertical-align: middle;\n",
       "    }\n",
       "\n",
       "    .dataframe tbody tr th {\n",
       "        vertical-align: top;\n",
       "    }\n",
       "\n",
       "    .dataframe thead th {\n",
       "        text-align: right;\n",
       "    }\n",
       "</style>\n",
       "<table border=\"1\" class=\"dataframe\">\n",
       "  <thead>\n",
       "    <tr style=\"text-align: right;\">\n",
       "      <th></th>\n",
       "      <th>ET1001</th>\n",
       "      <th>ET1001</th>\n",
       "      <th>EUY001</th>\n",
       "      <th>EUY002</th>\n",
       "      <th>EUY003</th>\n",
       "      <th>EUY004</th>\n",
       "      <th>EUY005</th>\n",
       "      <th>ET1001</th>\n",
       "      <th>ES1001</th>\n",
       "      <th>ES1002</th>\n",
       "    </tr>\n",
       "  </thead>\n",
       "  <tbody>\n",
       "    <tr>\n",
       "      <th>6</th>\n",
       "      <td>4.0</td>\n",
       "      <td>4.0</td>\n",
       "      <td>4.0</td>\n",
       "      <td>0.0</td>\n",
       "      <td>0.0</td>\n",
       "      <td>0.0</td>\n",
       "      <td>0.0</td>\n",
       "      <td>4.0</td>\n",
       "      <td>0.0</td>\n",
       "      <td>1.0</td>\n",
       "    </tr>\n",
       "    <tr>\n",
       "      <th>7</th>\n",
       "      <td>4.0</td>\n",
       "      <td>4.0</td>\n",
       "      <td>4.0</td>\n",
       "      <td>0.0</td>\n",
       "      <td>0.0</td>\n",
       "      <td>0.0</td>\n",
       "      <td>0.0</td>\n",
       "      <td>4.0</td>\n",
       "      <td>0.0</td>\n",
       "      <td>1.0</td>\n",
       "    </tr>\n",
       "    <tr>\n",
       "      <th>8</th>\n",
       "      <td>4.0</td>\n",
       "      <td>4.0</td>\n",
       "      <td>4.0</td>\n",
       "      <td>0.0</td>\n",
       "      <td>0.0</td>\n",
       "      <td>0.0</td>\n",
       "      <td>0.0</td>\n",
       "      <td>4.0</td>\n",
       "      <td>0.0</td>\n",
       "      <td>1.0</td>\n",
       "    </tr>\n",
       "    <tr>\n",
       "      <th>9</th>\n",
       "      <td>4.0</td>\n",
       "      <td>4.0</td>\n",
       "      <td>4.0</td>\n",
       "      <td>0.0</td>\n",
       "      <td>0.0</td>\n",
       "      <td>0.0</td>\n",
       "      <td>0.0</td>\n",
       "      <td>4.0</td>\n",
       "      <td>0.0</td>\n",
       "      <td>1.0</td>\n",
       "    </tr>\n",
       "    <tr>\n",
       "      <th>10</th>\n",
       "      <td>4.0</td>\n",
       "      <td>4.0</td>\n",
       "      <td>4.0</td>\n",
       "      <td>0.0</td>\n",
       "      <td>0.0</td>\n",
       "      <td>0.0</td>\n",
       "      <td>0.0</td>\n",
       "      <td>4.0</td>\n",
       "      <td>0.0</td>\n",
       "      <td>1.0</td>\n",
       "    </tr>\n",
       "  </tbody>\n",
       "</table>\n",
       "</div>"
      ],
      "text/plain": [
       "    ET1001  ET1001  EUY001  EUY002  EUY003  EUY004  EUY005  ET1001  ES1001  \\\n",
       "6      4.0     4.0     4.0     0.0     0.0     0.0     0.0     4.0     0.0   \n",
       "7      4.0     4.0     4.0     0.0     0.0     0.0     0.0     4.0     0.0   \n",
       "8      4.0     4.0     4.0     0.0     0.0     0.0     0.0     4.0     0.0   \n",
       "9      4.0     4.0     4.0     0.0     0.0     0.0     0.0     4.0     0.0   \n",
       "10     4.0     4.0     4.0     0.0     0.0     0.0     0.0     4.0     0.0   \n",
       "\n",
       "    ES1002  \n",
       "6      1.0  \n",
       "7      1.0  \n",
       "8      1.0  \n",
       "9      1.0  \n",
       "10     1.0  "
      ]
     },
     "execution_count": 18,
     "metadata": {},
     "output_type": "execute_result"
    }
   ],
   "source": [
    "blk_df[var_cols].head()"
   ]
  },
  {
   "cell_type": "markdown",
   "metadata": {},
   "source": [
    "------------------\n",
    "\n",
    "### Add Block Group Part ID to the blocks data"
   ]
  },
  {
   "cell_type": "code",
   "execution_count": 19,
   "metadata": {
    "ExecuteTime": {
     "end_time": "2020-04-29T13:37:58.480073Z",
     "start_time": "2020-04-29T13:37:58.448466Z"
    }
   },
   "outputs": [
    {
     "data": {
      "text/plain": [
       "['STATEA',\n",
       " 'COUNTYA',\n",
       " 'CTY_SUBA',\n",
       " 'PLACEA',\n",
       " 'TRACTA',\n",
       " 'CDA',\n",
       " 'AIANHHA',\n",
       " 'RES_TRSTA',\n",
       " 'ANRCA',\n",
       " 'URB_AREAA',\n",
       " 'URBRURALA',\n",
       " 'BLCK_GRPA']"
      ]
     },
     "execution_count": 19,
     "metadata": {},
     "output_type": "execute_result"
    }
   ],
   "source": [
    "bgp_cols = nhgisxwalk.code_cols(\"bgp\", \"1990\")\n",
    "bgp_cols"
   ]
  },
  {
   "cell_type": "code",
   "execution_count": 20,
   "metadata": {
    "ExecuteTime": {
     "end_time": "2020-04-29T13:38:01.321186Z",
     "start_time": "2020-04-29T13:37:58.487477Z"
    }
   },
   "outputs": [
    {
     "data": {
      "text/html": [
       "<div>\n",
       "<style scoped>\n",
       "    .dataframe tbody tr th:only-of-type {\n",
       "        vertical-align: middle;\n",
       "    }\n",
       "\n",
       "    .dataframe tbody tr th {\n",
       "        vertical-align: top;\n",
       "    }\n",
       "\n",
       "    .dataframe thead th {\n",
       "        text-align: right;\n",
       "    }\n",
       "</style>\n",
       "<table border=\"1\" class=\"dataframe\">\n",
       "  <thead>\n",
       "    <tr style=\"text-align: right;\">\n",
       "      <th></th>\n",
       "      <th>GJOIN1990</th>\n",
       "      <th>GJOIN1990</th>\n",
       "      <th>bgp1990</th>\n",
       "    </tr>\n",
       "  </thead>\n",
       "  <tbody>\n",
       "    <tr>\n",
       "      <th>6</th>\n",
       "      <td>G56000109626102</td>\n",
       "      <td>G56000109626102</td>\n",
       "      <td>G560001092695999999626009999999999921</td>\n",
       "    </tr>\n",
       "    <tr>\n",
       "      <th>7</th>\n",
       "      <td>G56000109626102</td>\n",
       "      <td>G56000109626102</td>\n",
       "      <td>G560001092695999999626009999999999921</td>\n",
       "    </tr>\n",
       "    <tr>\n",
       "      <th>8</th>\n",
       "      <td>G56000109626102</td>\n",
       "      <td>G56000109626102</td>\n",
       "      <td>G560001092695999999626009999999999921</td>\n",
       "    </tr>\n",
       "    <tr>\n",
       "      <th>9</th>\n",
       "      <td>G56000109626102</td>\n",
       "      <td>G56000109626102</td>\n",
       "      <td>G560001092695999999626009999999999921</td>\n",
       "    </tr>\n",
       "    <tr>\n",
       "      <th>10</th>\n",
       "      <td>G56000109626102</td>\n",
       "      <td>G56000109626102</td>\n",
       "      <td>G560001092695999999626009999999999921</td>\n",
       "    </tr>\n",
       "  </tbody>\n",
       "</table>\n",
       "</div>"
      ],
      "text/plain": [
       "          GJOIN1990        GJOIN1990                                bgp1990\n",
       "6   G56000109626102  G56000109626102  G560001092695999999626009999999999921\n",
       "7   G56000109626102  G56000109626102  G560001092695999999626009999999999921\n",
       "8   G56000109626102  G56000109626102  G560001092695999999626009999999999921\n",
       "9   G56000109626102  G56000109626102  G560001092695999999626009999999999921\n",
       "10  G56000109626102  G56000109626102  G560001092695999999626009999999999921"
      ]
     },
     "execution_count": 20,
     "metadata": {},
     "output_type": "execute_result"
    }
   ],
   "source": [
    "blk_df = nhgisxwalk.bgp_id(blk_df, bgp_cols, cname=\"bgp1990\", nhgis=True)\n",
    "blk_df[[\"GJOIN1990\", \"GJOIN1990\", \"bgp1990\"]].head()"
   ]
  },
  {
   "cell_type": "markdown",
   "metadata": {},
   "source": [
    "------------------------\n",
    "## Step 3 — Calculate base atoms\n",
    "\n",
    "#### See [a synthetic example here](https://nbviewer.jupyter.org/gist/jGaboardi/9f032b7713179dec292def31fe34954d?flush_cache=true). For further background information see:\n",
    "* **Schroeder, J. P**. 2007. *Target-density weighting interpolation and uncertainty evaluation for temporal analysis of census data*. Geographical Analysis 39 (3):311–335."
   ]
  },
  {
   "cell_type": "code",
   "execution_count": 21,
   "metadata": {
    "ExecuteTime": {
     "end_time": "2020-04-29T13:38:01.401054Z",
     "start_time": "2020-04-29T13:38:01.325241Z"
    }
   },
   "outputs": [],
   "source": [
    "blk_df[\"trt2010\"] = nhgisxwalk.id_from(\n",
    "    nhgisxwalk.trt_id, \"2010\", blk_df[\"GJOIN2010\"]\n",
    ")"
   ]
  },
  {
   "cell_type": "code",
   "execution_count": 22,
   "metadata": {
    "ExecuteTime": {
     "end_time": "2020-04-29T13:38:01.493519Z",
     "start_time": "2020-04-29T13:38:01.410904Z"
    }
   },
   "outputs": [
    {
     "data": {
      "text/html": [
       "<div>\n",
       "<style scoped>\n",
       "    .dataframe tbody tr th:only-of-type {\n",
       "        vertical-align: middle;\n",
       "    }\n",
       "\n",
       "    .dataframe tbody tr th {\n",
       "        vertical-align: top;\n",
       "    }\n",
       "\n",
       "    .dataframe thead th {\n",
       "        text-align: right;\n",
       "    }\n",
       "</style>\n",
       "<table border=\"1\" class=\"dataframe\">\n",
       "  <thead>\n",
       "    <tr style=\"text-align: right;\">\n",
       "      <th></th>\n",
       "      <th>bgp1990</th>\n",
       "      <th>GJOIN1990</th>\n",
       "      <th>GJOIN2010</th>\n",
       "      <th>trt2010</th>\n",
       "      <th>WEIGHT</th>\n",
       "      <th>ET1001</th>\n",
       "    </tr>\n",
       "  </thead>\n",
       "  <tbody>\n",
       "    <tr>\n",
       "      <th>6</th>\n",
       "      <td>G560001092695999999626009999999999921</td>\n",
       "      <td>G56000109626102</td>\n",
       "      <td>G56000109639001003</td>\n",
       "      <td>G5600010963900</td>\n",
       "      <td>0.279581</td>\n",
       "      <td>4.0</td>\n",
       "    </tr>\n",
       "    <tr>\n",
       "      <th>7</th>\n",
       "      <td>G560001092695999999626009999999999921</td>\n",
       "      <td>G56000109626102</td>\n",
       "      <td>G56000109639001004</td>\n",
       "      <td>G5600010963900</td>\n",
       "      <td>0.000000</td>\n",
       "      <td>4.0</td>\n",
       "    </tr>\n",
       "    <tr>\n",
       "      <th>8</th>\n",
       "      <td>G560001092695999999626009999999999921</td>\n",
       "      <td>G56000109626102</td>\n",
       "      <td>G56000109639001005</td>\n",
       "      <td>G5600010963900</td>\n",
       "      <td>0.000000</td>\n",
       "      <td>4.0</td>\n",
       "    </tr>\n",
       "    <tr>\n",
       "      <th>9</th>\n",
       "      <td>G560001092695999999626009999999999921</td>\n",
       "      <td>G56000109626102</td>\n",
       "      <td>G56000109639001006</td>\n",
       "      <td>G5600010963900</td>\n",
       "      <td>0.000000</td>\n",
       "      <td>4.0</td>\n",
       "    </tr>\n",
       "    <tr>\n",
       "      <th>10</th>\n",
       "      <td>G560001092695999999626009999999999921</td>\n",
       "      <td>G56000109626102</td>\n",
       "      <td>G56000109639001007</td>\n",
       "      <td>G5600010963900</td>\n",
       "      <td>0.000000</td>\n",
       "      <td>4.0</td>\n",
       "    </tr>\n",
       "  </tbody>\n",
       "</table>\n",
       "</div>"
      ],
      "text/plain": [
       "                                  bgp1990        GJOIN1990  \\\n",
       "6   G560001092695999999626009999999999921  G56000109626102   \n",
       "7   G560001092695999999626009999999999921  G56000109626102   \n",
       "8   G560001092695999999626009999999999921  G56000109626102   \n",
       "9   G560001092695999999626009999999999921  G56000109626102   \n",
       "10  G560001092695999999626009999999999921  G56000109626102   \n",
       "\n",
       "             GJOIN2010         trt2010    WEIGHT  ET1001  \n",
       "6   G56000109639001003  G5600010963900  0.279581     4.0  \n",
       "7   G56000109639001004  G5600010963900  0.000000     4.0  \n",
       "8   G56000109639001005  G5600010963900  0.000000     4.0  \n",
       "9   G56000109639001006  G5600010963900  0.000000     4.0  \n",
       "10  G56000109639001007  G5600010963900  0.000000     4.0  "
      ]
     },
     "execution_count": 22,
     "metadata": {},
     "output_type": "execute_result"
    }
   ],
   "source": [
    "population_total = nhgisxwalk.desc_code_1990_blk[\"Persons\"][\"Total\"]\n",
    "xwcols = [\n",
    "    \"bgp1990\", \"GJOIN1990\", \"GJOIN2010\", \"trt2010\", \"WEIGHT\", population_total\n",
    "]\n",
    "blk_df[xwcols].head()"
   ]
  },
  {
   "cell_type": "markdown",
   "metadata": {},
   "source": [
    "### Calculate atoms"
   ]
  },
  {
   "cell_type": "code",
   "execution_count": 23,
   "metadata": {
    "ExecuteTime": {
     "end_time": "2020-04-29T13:38:01.572075Z",
     "start_time": "2020-04-29T13:38:01.497996Z"
    }
   },
   "outputs": [
    {
     "data": {
      "text/html": [
       "<div>\n",
       "<style scoped>\n",
       "    .dataframe tbody tr th:only-of-type {\n",
       "        vertical-align: middle;\n",
       "    }\n",
       "\n",
       "    .dataframe tbody tr th {\n",
       "        vertical-align: top;\n",
       "    }\n",
       "\n",
       "    .dataframe thead th {\n",
       "        text-align: right;\n",
       "    }\n",
       "</style>\n",
       "<table border=\"1\" class=\"dataframe\">\n",
       "  <thead>\n",
       "    <tr style=\"text-align: right;\">\n",
       "      <th></th>\n",
       "      <th>bgp1990</th>\n",
       "      <th>trt2010</th>\n",
       "      <th>bgp1990_in_trt2010</th>\n",
       "    </tr>\n",
       "  </thead>\n",
       "  <tbody>\n",
       "    <tr>\n",
       "      <th>0</th>\n",
       "      <td>G560001091100999999626009999999999922</td>\n",
       "      <td>G5600010963900</td>\n",
       "      <td>96.000000</td>\n",
       "    </tr>\n",
       "    <tr>\n",
       "      <th>1</th>\n",
       "      <td>G560001092090450509628009999999999911</td>\n",
       "      <td>G5600010962800</td>\n",
       "      <td>973.000000</td>\n",
       "    </tr>\n",
       "    <tr>\n",
       "      <th>2</th>\n",
       "      <td>G560001092090450509628009999999999912</td>\n",
       "      <td>G5600010962700</td>\n",
       "      <td>0.002397</td>\n",
       "    </tr>\n",
       "    <tr>\n",
       "      <th>3</th>\n",
       "      <td>G560001092090450509628009999999999912</td>\n",
       "      <td>G5600010962800</td>\n",
       "      <td>1059.997603</td>\n",
       "    </tr>\n",
       "    <tr>\n",
       "      <th>4</th>\n",
       "      <td>G560001092090450509629009999999999911</td>\n",
       "      <td>G5600010962900</td>\n",
       "      <td>838.000000</td>\n",
       "    </tr>\n",
       "  </tbody>\n",
       "</table>\n",
       "</div>"
      ],
      "text/plain": [
       "                                 bgp1990         trt2010  bgp1990_in_trt2010\n",
       "0  G560001091100999999626009999999999922  G5600010963900           96.000000\n",
       "1  G560001092090450509628009999999999911  G5600010962800          973.000000\n",
       "2  G560001092090450509628009999999999912  G5600010962700            0.002397\n",
       "3  G560001092090450509628009999999999912  G5600010962800         1059.997603\n",
       "4  G560001092090450509629009999999999911  G5600010962900          838.000000"
      ]
     },
     "execution_count": 23,
     "metadata": {},
     "output_type": "execute_result"
    }
   ],
   "source": [
    "atom_df = nhgisxwalk.calculate_atoms(\n",
    "    blk_df,\n",
    "    weight=\"WEIGHT\",\n",
    "    input_var=population_total,\n",
    "    sum_var=\"bgp1990_in_trt2010\",\n",
    "    groupby_cols=[\"bgp1990\", \"trt2010\"]\n",
    ")\n",
    "atom_df.head()"
   ]
  },
  {
   "cell_type": "markdown",
   "metadata": {},
   "source": [
    "------------------------\n",
    "## Step 4\n",
    "### Join 1990 Block Group Part (Tabular)\n",
    "#### BGP Join ID"
   ]
  },
  {
   "cell_type": "code",
   "execution_count": 24,
   "metadata": {
    "ExecuteTime": {
     "end_time": "2020-04-29T13:38:01.617167Z",
     "start_time": "2020-04-29T13:38:01.577890Z"
    }
   },
   "outputs": [],
   "source": [
    "# this is already performed earlier"
   ]
  },
  {
   "cell_type": "markdown",
   "metadata": {},
   "source": [
    "------------------------\n",
    "## Step 5\n",
    "### Estimate black & OOHU counts for atoms\n",
    "\n",
    "#### Atoms for subgroups\n",
    "\n",
    "**These atoms of `y1y2` unit intersections can then be used to calculate subgroups of variables with the following equation:**\n",
    "## $atom_{\\widehat{var}^{gu}} = total_{\\widehat{var}^{gu}} \\times \\frac{atom_{var^{gu}}}{total_{var^{gu}}}$\n",
    "**where:**\n",
    " * $var =$ a variable representing a count (i.e. population)\n",
    " * $\\widehat{var} =$ a subgroup of a variable representing a count (i.e. asian population)\n",
    " * $gu =$ a geographic unit (i.e. block group part)\n",
    "\n",
    "**For example, since we are considering the population variable, we will define the following:**\n",
    "## $rg_i = \\widehat{var}$\n",
    "**where**\n",
    " * $pop = $ total population variable\n",
    " * ${rg}_i =$ the population of a specific racial group\n",
    "\n",
    "## $atom_{rg_i^{bgp}} = total_{rg_i^{bgp}} \\times \\frac{atom_{pop^{bgp}}}{total_{pop^{bgp}}}$\n",
    "\n",
    "**As an example, consider the are 30 people in racial group $i$ within block group part $A$ $({total}_{rg_i^{bgp}})$:**\n",
    "* ${atom}_{rg_i^{AX}} = 16.875 = 30 \\times \\frac{90}{160}$\n",
    "* ${atom}_{rg_i^{AY}} = 13.125 = 30 \\times \\frac{70}{160}$"
   ]
  },
  {
   "cell_type": "code",
   "execution_count": 25,
   "metadata": {
    "ExecuteTime": {
     "end_time": "2020-04-29T13:38:01.666542Z",
     "start_time": "2020-04-29T13:38:01.620067Z"
    }
   },
   "outputs": [
    {
     "data": {
      "text/html": [
       "<div>\n",
       "<style scoped>\n",
       "    .dataframe tbody tr th:only-of-type {\n",
       "        vertical-align: middle;\n",
       "    }\n",
       "\n",
       "    .dataframe tbody tr th {\n",
       "        vertical-align: top;\n",
       "    }\n",
       "\n",
       "    .dataframe thead th {\n",
       "        text-align: right;\n",
       "    }\n",
       "</style>\n",
       "<table border=\"1\" class=\"dataframe\">\n",
       "  <thead>\n",
       "    <tr style=\"text-align: right;\">\n",
       "      <th></th>\n",
       "      <th>bgp1990</th>\n",
       "      <th>GJOIN1990</th>\n",
       "      <th>GJOIN2010</th>\n",
       "      <th>trt2010</th>\n",
       "      <th>WEIGHT</th>\n",
       "      <th>ET1001</th>\n",
       "      <th>EUY002</th>\n",
       "    </tr>\n",
       "  </thead>\n",
       "  <tbody>\n",
       "    <tr>\n",
       "      <th>6</th>\n",
       "      <td>G560001092695999999626009999999999921</td>\n",
       "      <td>G56000109626102</td>\n",
       "      <td>G56000109639001003</td>\n",
       "      <td>G5600010963900</td>\n",
       "      <td>0.279581</td>\n",
       "      <td>4.0</td>\n",
       "      <td>0.0</td>\n",
       "    </tr>\n",
       "    <tr>\n",
       "      <th>7</th>\n",
       "      <td>G560001092695999999626009999999999921</td>\n",
       "      <td>G56000109626102</td>\n",
       "      <td>G56000109639001004</td>\n",
       "      <td>G5600010963900</td>\n",
       "      <td>0.000000</td>\n",
       "      <td>4.0</td>\n",
       "      <td>0.0</td>\n",
       "    </tr>\n",
       "    <tr>\n",
       "      <th>8</th>\n",
       "      <td>G560001092695999999626009999999999921</td>\n",
       "      <td>G56000109626102</td>\n",
       "      <td>G56000109639001005</td>\n",
       "      <td>G5600010963900</td>\n",
       "      <td>0.000000</td>\n",
       "      <td>4.0</td>\n",
       "      <td>0.0</td>\n",
       "    </tr>\n",
       "    <tr>\n",
       "      <th>9</th>\n",
       "      <td>G560001092695999999626009999999999921</td>\n",
       "      <td>G56000109626102</td>\n",
       "      <td>G56000109639001006</td>\n",
       "      <td>G5600010963900</td>\n",
       "      <td>0.000000</td>\n",
       "      <td>4.0</td>\n",
       "      <td>0.0</td>\n",
       "    </tr>\n",
       "    <tr>\n",
       "      <th>10</th>\n",
       "      <td>G560001092695999999626009999999999921</td>\n",
       "      <td>G56000109626102</td>\n",
       "      <td>G56000109639001007</td>\n",
       "      <td>G5600010963900</td>\n",
       "      <td>0.000000</td>\n",
       "      <td>4.0</td>\n",
       "      <td>0.0</td>\n",
       "    </tr>\n",
       "  </tbody>\n",
       "</table>\n",
       "</div>"
      ],
      "text/plain": [
       "                                  bgp1990        GJOIN1990  \\\n",
       "6   G560001092695999999626009999999999921  G56000109626102   \n",
       "7   G560001092695999999626009999999999921  G56000109626102   \n",
       "8   G560001092695999999626009999999999921  G56000109626102   \n",
       "9   G560001092695999999626009999999999921  G56000109626102   \n",
       "10  G560001092695999999626009999999999921  G56000109626102   \n",
       "\n",
       "             GJOIN2010         trt2010    WEIGHT  ET1001  EUY002  \n",
       "6   G56000109639001003  G5600010963900  0.279581     4.0     0.0  \n",
       "7   G56000109639001004  G5600010963900  0.000000     4.0     0.0  \n",
       "8   G56000109639001005  G5600010963900  0.000000     4.0     0.0  \n",
       "9   G56000109639001006  G5600010963900  0.000000     4.0     0.0  \n",
       "10  G56000109639001007  G5600010963900  0.000000     4.0     0.0  "
      ]
     },
     "execution_count": 25,
     "metadata": {},
     "output_type": "execute_result"
    }
   ],
   "source": [
    "xwcols = [\"bgp1990\", \"GJOIN1990\", \"GJOIN2010\", \"trt2010\", \"WEIGHT\", \"ET1001\", \"EUY002\"]\n",
    "blk_df[xwcols].head()"
   ]
  },
  {
   "cell_type": "code",
   "execution_count": 26,
   "metadata": {
    "ExecuteTime": {
     "end_time": "2020-04-29T13:38:01.722166Z",
     "start_time": "2020-04-29T13:38:01.671867Z"
    }
   },
   "outputs": [
    {
     "name": "stdout",
     "output_type": "stream",
     "text": [
      "(1074,)\n"
     ]
    },
    {
     "data": {
      "text/plain": [
       "bgp1990\n",
       "G560001091100999999626009999999999922     1811.0\n",
       "G560001092090450509628009999999999911     3335.0\n",
       "G560001092090450509628009999999999912     2759.0\n",
       "G560001092090450509629009999999999911    11447.0\n",
       "G560001092090450509629009999999999912     1556.0\n",
       "Name: ET1001, dtype: float64"
      ]
     },
     "execution_count": 26,
     "metadata": {},
     "output_type": "execute_result"
    }
   ],
   "source": [
    "print(blk_df.groupby(\"bgp1990\")[\"ET1001\"].sum().shape)\n",
    "blk_df.groupby(\"bgp1990\")[\"ET1001\"].sum().head()"
   ]
  },
  {
   "cell_type": "code",
   "execution_count": 27,
   "metadata": {
    "ExecuteTime": {
     "end_time": "2020-04-29T13:38:01.772489Z",
     "start_time": "2020-04-29T13:38:01.728409Z"
    }
   },
   "outputs": [
    {
     "data": {
      "text/plain": [
       "bgp1990\n",
       "G560001091100999999626009999999999922      96.0\n",
       "G560001092090450509628009999999999911     973.0\n",
       "G560001092090450509628009999999999912    1060.0\n",
       "G560001092090450509629009999999999911     838.0\n",
       "G560001092090450509629009999999999912     867.0\n",
       "Name: bgp1990_in_trt2010, dtype: float64"
      ]
     },
     "execution_count": 27,
     "metadata": {},
     "output_type": "execute_result"
    }
   ],
   "source": [
    "blk_df.groupby(\"bgp1990\")[\"bgp1990_in_trt2010\"].sum().head()"
   ]
  },
  {
   "cell_type": "code",
   "execution_count": 28,
   "metadata": {
    "ExecuteTime": {
     "end_time": "2020-04-29T13:38:01.815164Z",
     "start_time": "2020-04-29T13:38:01.776703Z"
    }
   },
   "outputs": [
    {
     "data": {
      "text/plain": [
       "bgp1990\n",
       "G560001091100999999626009999999999922     0.0\n",
       "G560001092090450509628009999999999911    12.0\n",
       "G560001092090450509628009999999999912    11.0\n",
       "G560001092090450509629009999999999911    72.0\n",
       "G560001092090450509629009999999999912    26.0\n",
       "Name: EUY002, dtype: float64"
      ]
     },
     "execution_count": 28,
     "metadata": {},
     "output_type": "execute_result"
    }
   ],
   "source": [
    "blk_df.groupby(\"bgp1990\")[\"EUY002\"].sum().head()"
   ]
  },
  {
   "cell_type": "code",
   "execution_count": 29,
   "metadata": {
    "ExecuteTime": {
     "end_time": "2020-04-29T13:38:01.847456Z",
     "start_time": "2020-04-29T13:38:01.819131Z"
    }
   },
   "outputs": [
    {
     "data": {
      "text/plain": [
       "0.0"
      ]
     },
     "execution_count": 29,
     "metadata": {},
     "output_type": "execute_result"
    }
   ],
   "source": [
    "0. * (96. / 1811.)"
   ]
  },
  {
   "cell_type": "code",
   "execution_count": 30,
   "metadata": {
    "ExecuteTime": {
     "end_time": "2020-04-29T13:38:01.883811Z",
     "start_time": "2020-04-29T13:38:01.853598Z"
    }
   },
   "outputs": [
    {
     "data": {
      "text/plain": [
       "3.501049475262369"
      ]
     },
     "execution_count": 30,
     "metadata": {},
     "output_type": "execute_result"
    }
   ],
   "source": [
    "12. * (973. / 3335.)"
   ]
  },
  {
   "cell_type": "code",
   "execution_count": null,
   "metadata": {},
   "outputs": [],
   "source": []
  },
  {
   "cell_type": "code",
   "execution_count": null,
   "metadata": {},
   "outputs": [],
   "source": []
  },
  {
   "cell_type": "code",
   "execution_count": null,
   "metadata": {},
   "outputs": [],
   "source": []
  },
  {
   "cell_type": "code",
   "execution_count": null,
   "metadata": {},
   "outputs": [],
   "source": []
  },
  {
   "cell_type": "markdown",
   "metadata": {},
   "source": [
    "-----------------------------------------------"
   ]
  }
 ],
 "metadata": {
  "_draft": {
   "nbviewer_url": "https://gist.github.com/9f47e4ec2cc37bce83acf20abfca69d2"
  },
  "gist": {
   "data": {
    "description": "sample-workflow.ipynb",
    "public": true
   },
   "id": "9f47e4ec2cc37bce83acf20abfca69d2"
  },
  "kernelspec": {
   "display_name": "Python [conda env:nhgis_env]",
   "language": "python",
   "name": "conda-env-nhgis_env-py"
  },
  "language_info": {
   "codemirror_mode": {
    "name": "ipython",
    "version": 3
   },
   "file_extension": ".py",
   "mimetype": "text/x-python",
   "name": "python",
   "nbconvert_exporter": "python",
   "pygments_lexer": "ipython3",
   "version": "3.7.6"
  }
 },
 "nbformat": 4,
 "nbformat_minor": 4
}
