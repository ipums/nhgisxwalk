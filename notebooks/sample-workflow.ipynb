{
 "cells": [
  {
   "cell_type": "markdown",
   "metadata": {},
   "source": [
    "# Sample workflow of `nhgisxwalk`\n",
    "\n",
    "## Subset to Wyoming\n",
    "\n",
    "For further background information see:\n",
    "* **Schroeder, J. P**. 2007. *Target-density weighting interpolation and uncertainty evaluation for temporal analysis of census data*. Geographical Analysis 39 (3):311–335.\n",
    "\n",
    "#### NHGIS [block crosswalks](https://www.nhgis.org/user-resources/geographic-crosswalks)"
   ]
  },
  {
   "cell_type": "code",
   "execution_count": 1,
   "metadata": {
    "ExecuteTime": {
     "end_time": "2020-05-06T03:29:14.675165Z",
     "start_time": "2020-05-06T03:29:14.436265Z"
    }
   },
   "outputs": [
    {
     "name": "stdout",
     "output_type": "stream",
     "text": [
      "2020-05-05T23:29:14-04:00\n",
      "\n",
      "CPython 3.7.6\n",
      "IPython 7.13.0\n",
      "\n",
      "compiler   : Clang 9.0.1 \n",
      "system     : Darwin\n",
      "release    : 19.4.0\n",
      "machine    : x86_64\n",
      "processor  : i386\n",
      "CPU cores  : 4\n",
      "interpreter: 64bit\n"
     ]
    }
   ],
   "source": [
    "%load_ext watermark\n",
    "%watermark"
   ]
  },
  {
   "cell_type": "code",
   "execution_count": 2,
   "metadata": {
    "ExecuteTime": {
     "end_time": "2020-05-06T03:29:15.751193Z",
     "start_time": "2020-05-06T03:29:15.321379Z"
    }
   },
   "outputs": [
    {
     "name": "stdout",
     "output_type": "stream",
     "text": [
      "watermark 2.0.2\n",
      "pandas     1.0.3\n",
      "nhgisxwalk 0.0.1\n",
      "numpy      1.18.1\n",
      "\n"
     ]
    }
   ],
   "source": [
    "import nhgisxwalk\n",
    "import glob\n",
    "import inspect\n",
    "import numpy\n",
    "import pandas\n",
    "\n",
    "%load_ext autoreload\n",
    "%autoreload 2\n",
    "%watermark -w\n",
    "%watermark -iv"
   ]
  },
  {
   "cell_type": "markdown",
   "metadata": {},
   "source": [
    "### Source and target years for the crosswalk"
   ]
  },
  {
   "cell_type": "code",
   "execution_count": 3,
   "metadata": {
    "ExecuteTime": {
     "end_time": "2020-05-06T03:29:16.409691Z",
     "start_time": "2020-05-06T03:29:16.377563Z"
    }
   },
   "outputs": [],
   "source": [
    "source_year, target_year = \"1990\", \"2010\""
   ]
  },
  {
   "cell_type": "markdown",
   "metadata": {},
   "source": [
    "### Source-target building base"
   ]
  },
  {
   "cell_type": "code",
   "execution_count": 4,
   "metadata": {
    "ExecuteTime": {
     "end_time": "2020-05-06T03:29:42.232219Z",
     "start_time": "2020-05-06T03:29:17.734122Z"
    }
   },
   "outputs": [
    {
     "name": "stderr",
     "output_type": "stream",
     "text": [
      "/Users/jgaboardi/miniconda3/envs/nhgis_env/lib/python3.7/site-packages/numpy/lib/arraysetops.py:569: FutureWarning: elementwise comparison failed; returning scalar instead, but in the future will perform elementwise comparison\n",
      "  mask |= (ar1 == a)\n"
     ]
    },
    {
     "data": {
      "text/html": [
       "<div>\n",
       "<style scoped>\n",
       "    .dataframe tbody tr th:only-of-type {\n",
       "        vertical-align: middle;\n",
       "    }\n",
       "\n",
       "    .dataframe tbody tr th {\n",
       "        vertical-align: top;\n",
       "    }\n",
       "\n",
       "    .dataframe thead th {\n",
       "        text-align: right;\n",
       "    }\n",
       "</style>\n",
       "<table border=\"1\" class=\"dataframe\">\n",
       "  <thead>\n",
       "    <tr style=\"text-align: right;\">\n",
       "      <th></th>\n",
       "      <th>GJOIN1990</th>\n",
       "      <th>GJOIN2010</th>\n",
       "      <th>WEIGHT</th>\n",
       "      <th>PAREA_VIA_BLK00</th>\n",
       "    </tr>\n",
       "  </thead>\n",
       "  <tbody>\n",
       "    <tr>\n",
       "      <th>0</th>\n",
       "      <td>NaN</td>\n",
       "      <td>G01000300107014085</td>\n",
       "      <td>0.0</td>\n",
       "      <td>0.0</td>\n",
       "    </tr>\n",
       "    <tr>\n",
       "      <th>1</th>\n",
       "      <td>NaN</td>\n",
       "      <td>G01000300107014086</td>\n",
       "      <td>0.0</td>\n",
       "      <td>0.0</td>\n",
       "    </tr>\n",
       "    <tr>\n",
       "      <th>2</th>\n",
       "      <td>NaN</td>\n",
       "      <td>G01000300107014089</td>\n",
       "      <td>0.0</td>\n",
       "      <td>0.0</td>\n",
       "    </tr>\n",
       "    <tr>\n",
       "      <th>3</th>\n",
       "      <td>NaN</td>\n",
       "      <td>G01000300107014091</td>\n",
       "      <td>0.0</td>\n",
       "      <td>0.0</td>\n",
       "    </tr>\n",
       "    <tr>\n",
       "      <th>4</th>\n",
       "      <td>NaN</td>\n",
       "      <td>G01000300107014109</td>\n",
       "      <td>0.0</td>\n",
       "      <td>0.0</td>\n",
       "    </tr>\n",
       "  </tbody>\n",
       "</table>\n",
       "</div>"
      ],
      "text/plain": [
       "  GJOIN1990           GJOIN2010  WEIGHT  PAREA_VIA_BLK00\n",
       "0       NaN  G01000300107014085     0.0              0.0\n",
       "1       NaN  G01000300107014086     0.0              0.0\n",
       "2       NaN  G01000300107014089     0.0              0.0\n",
       "3       NaN  G01000300107014091     0.0              0.0\n",
       "4       NaN  G01000300107014109     0.0              0.0"
      ]
     },
     "execution_count": 4,
     "metadata": {},
     "output_type": "execute_result"
    }
   ],
   "source": [
    "crosswalk_dir = \"../../crosswalks\"\n",
    "base_xwalk_name = \"/nhgis_blk%s_blk%s_gj.csv.zip\" % (source_year, target_year)\n",
    "base_xwalk_file = crosswalk_dir + base_xwalk_name\n",
    "data_types = nhgisxwalk.str_types([\"GJOIN%s\"%source_year, \"GJOIN%s\"%target_year])\n",
    "base_xwalk = pandas.read_csv(base_xwalk_file, index_col=0, dtype=data_types)\n",
    "base_xwalk.head()"
   ]
  },
  {
   "cell_type": "markdown",
   "metadata": {
    "ExecuteTime": {
     "end_time": "2020-05-06T01:38:54.287365Z",
     "start_time": "2020-05-06T01:38:54.253398Z"
    }
   },
   "source": [
    "### Convenience code shorthand/lookup"
   ]
  },
  {
   "cell_type": "code",
   "execution_count": 5,
   "metadata": {
    "ExecuteTime": {
     "end_time": "2020-05-06T03:29:42.264532Z",
     "start_time": "2020-05-06T03:29:42.235674Z"
    }
   },
   "outputs": [
    {
     "name": "stdout",
     "output_type": "stream",
     "text": [
      "def valid_geo_shorthand(shorthand_name=True):\n",
      "    \"\"\"Shorthand lookups for census geographies.\"\"\"\n",
      "    lookup = {\n",
      "        \"blk\": \"block\",\n",
      "        \"bgp\": \"block group part\",\n",
      "        \"bkg\": \"block group\",\n",
      "        \"trt\": \"tract\",\n",
      "        \"cty\": \"county\",\n",
      "    }\n",
      "    if not shorthand_name:\n",
      "        lookup = {v: k for k, v in lookup.items()}\n",
      "    return lookup\n",
      "\n"
     ]
    }
   ],
   "source": [
    "print(inspect.getsource(nhgisxwalk.valid_geo_shorthand))"
   ]
  },
  {
   "cell_type": "code",
   "execution_count": 6,
   "metadata": {
    "ExecuteTime": {
     "end_time": "2020-05-06T03:29:42.297280Z",
     "start_time": "2020-05-06T03:29:42.268974Z"
    }
   },
   "outputs": [
    {
     "data": {
      "text/plain": [
       "{'block': 'blk',\n",
       " 'block group part': 'bgp',\n",
       " 'block group': 'bkg',\n",
       " 'tract': 'trt',\n",
       " 'county': 'cty'}"
      ]
     },
     "execution_count": 6,
     "metadata": {},
     "output_type": "execute_result"
    }
   ],
   "source": [
    "nhgisxwalk.valid_geo_shorthand(shorthand_name=False)"
   ]
  },
  {
   "cell_type": "markdown",
   "metadata": {
    "ExecuteTime": {
     "end_time": "2020-05-06T01:39:20.256193Z",
     "start_time": "2020-05-06T01:38:55.817691Z"
    }
   },
   "source": [
    "### Instantiate an `nhgisxwalk.GeoCrossWalk` object — Wyoming\n",
    "##### see [nhgisxwalk.GeoCrossWalk](https://github.com/jGaboardi/nhgisxwalk/blob/92b4fe55de0a9c53d0315dcda8ec121faaf20aef/nhgisxwalk/geocrosswalk.py#L19) for full details"
   ]
  },
  {
   "cell_type": "code",
   "execution_count": 7,
   "metadata": {
    "ExecuteTime": {
     "end_time": "2020-05-06T03:29:42.331952Z",
     "start_time": "2020-05-06T03:29:42.301661Z"
    }
   },
   "outputs": [
    {
     "data": {
      "text/plain": [
       "{'Persons': {'Persons': 'Universe',\n",
       "  'NP1': 'Source code',\n",
       "  'ET1': 'NHGIS code',\n",
       "  'Total': 'ET1001'},\n",
       " 'Race': {'Persons': 'Universe',\n",
       "  'NP6': 'Source code',\n",
       "  'EUY': 'NHGIS code',\n",
       "  'Total': 'ET1001',\n",
       "  'White': 'EUY001',\n",
       "  'Black': 'EUY002',\n",
       "  'American Indian, Eskimo, or Aleut': 'EUY003',\n",
       "  'Asian or Pacific Islander': 'EUY004',\n",
       "  'Other race': 'EUY005'},\n",
       " 'Housing Units': {'Housing Units': 'Universe',\n",
       "  'NH1': 'Source code',\n",
       "  'ESA': 'NHGIS code',\n",
       "  'Total': 'ET1001'},\n",
       " 'Tenure': {'Occupied housing units': 'Universe',\n",
       "  'NH3': 'Source code',\n",
       "  'ES1': 'NHGIS code',\n",
       "  'Owner occupied': 'ES1001',\n",
       "  'Renter occupied': 'ES1002'}}"
      ]
     },
     "execution_count": 7,
     "metadata": {},
     "output_type": "execute_result"
    }
   ],
   "source": [
    "nhgisxwalk.desc_code_blk1990"
   ]
  },
  {
   "cell_type": "code",
   "execution_count": 19,
   "metadata": {
    "ExecuteTime": {
     "end_time": "2020-05-06T03:44:14.050844Z",
     "start_time": "2020-05-06T03:44:14.024649Z"
    }
   },
   "outputs": [
    {
     "data": {
      "text/plain": [
       "['ET1001']"
      ]
     },
     "execution_count": 19,
     "metadata": {},
     "output_type": "execute_result"
    }
   ],
   "source": [
    "input_vars = [\n",
    "    nhgisxwalk.desc_code_blk1990[\"Persons\"][\"Total\"],\n",
    "    #nhgisxwalk.desc_code_blk1990[\"Housing Units\"][\"Total\"]\n",
    "]\n",
    "input_vars"
   ]
  },
  {
   "cell_type": "code",
   "execution_count": 11,
   "metadata": {
    "ExecuteTime": {
     "end_time": "2020-05-06T03:40:10.581784Z",
     "start_time": "2020-05-06T03:40:10.536967Z"
    }
   },
   "outputs": [],
   "source": [
    "input_var_tags = [\"pop\"]#, \"hu\"]"
   ]
  },
  {
   "cell_type": "code",
   "execution_count": 12,
   "metadata": {
    "ExecuteTime": {
     "end_time": "2020-05-06T03:40:59.463609Z",
     "start_time": "2020-05-06T03:40:11.597460Z"
    }
   },
   "outputs": [],
   "source": [
    "bgp1990_to_trt2010 = nhgisxwalk.GeoCrossWalk(\n",
    "    base_xwalk,\n",
    "    source_year=source_year,\n",
    "    target_year=target_year,\n",
    "    source_geo=\"bgp\",\n",
    "    target_geo=\"trt\",\n",
    "    base_source_table=\"../../tabular_data/USA_1990_block/1990_block.csv\",\n",
    "    input_var=input_vars,\n",
    "    weight_var=input_var_tags,\n",
    "    stfips=\"56\"\n",
    ")\n",
    "bgp1990_to_trt2010.xwalk.tail(15)"
   ]
  },
  {
   "cell_type": "code",
   "execution_count": 13,
   "metadata": {
    "ExecuteTime": {
     "end_time": "2020-05-06T03:40:59.501784Z",
     "start_time": "2020-05-06T03:40:59.466547Z"
    }
   },
   "outputs": [
    {
     "data": {
      "text/html": [
       "<div>\n",
       "<style scoped>\n",
       "    .dataframe tbody tr th:only-of-type {\n",
       "        vertical-align: middle;\n",
       "    }\n",
       "\n",
       "    .dataframe tbody tr th {\n",
       "        vertical-align: top;\n",
       "    }\n",
       "\n",
       "    .dataframe thead th {\n",
       "        text-align: right;\n",
       "    }\n",
       "</style>\n",
       "<table border=\"1\" class=\"dataframe\">\n",
       "  <thead>\n",
       "    <tr style=\"text-align: right;\">\n",
       "      <th></th>\n",
       "      <th>bgp1990</th>\n",
       "      <th>trt2010</th>\n",
       "      <th>wt_pop</th>\n",
       "    </tr>\n",
       "  </thead>\n",
       "  <tbody>\n",
       "    <tr>\n",
       "      <th>1304</th>\n",
       "      <td>G560045092255999999513009999999999921</td>\n",
       "      <td>G5600450951300</td>\n",
       "      <td>1.000000</td>\n",
       "    </tr>\n",
       "    <tr>\n",
       "      <th>1305</th>\n",
       "      <td>G560045092255999999513009999999999922</td>\n",
       "      <td>G5600450951300</td>\n",
       "      <td>1.000000</td>\n",
       "    </tr>\n",
       "    <tr>\n",
       "      <th>1306</th>\n",
       "      <td>G560045092255999999513009999999999923</td>\n",
       "      <td>G5600450951300</td>\n",
       "      <td>1.000000</td>\n",
       "    </tr>\n",
       "    <tr>\n",
       "      <th>1307</th>\n",
       "      <td>G560045092255999999513009999999999924</td>\n",
       "      <td>G5600450951300</td>\n",
       "      <td>1.000000</td>\n",
       "    </tr>\n",
       "    <tr>\n",
       "      <th>1308</th>\n",
       "      <td>G560045092255999999513009999999999925</td>\n",
       "      <td>G5600450951100</td>\n",
       "      <td>0.107631</td>\n",
       "    </tr>\n",
       "    <tr>\n",
       "      <th>1309</th>\n",
       "      <td>G560045092255999999513009999999999925</td>\n",
       "      <td>G5600450951300</td>\n",
       "      <td>0.892369</td>\n",
       "    </tr>\n",
       "    <tr>\n",
       "      <th>1310</th>\n",
       "      <td>G560045093520791259512009999999999926</td>\n",
       "      <td>G5600450951100</td>\n",
       "      <td>1.000000</td>\n",
       "    </tr>\n",
       "    <tr>\n",
       "      <th>1311</th>\n",
       "      <td>G560045093520791259512009999999999927</td>\n",
       "      <td>G5600450951100</td>\n",
       "      <td>1.000000</td>\n",
       "    </tr>\n",
       "    <tr>\n",
       "      <th>1312</th>\n",
       "      <td>G560045093520999999512009999999999921</td>\n",
       "      <td>G5600450951100</td>\n",
       "      <td>1.000000</td>\n",
       "    </tr>\n",
       "    <tr>\n",
       "      <th>1313</th>\n",
       "      <td>G560045093520999999512009999999999922</td>\n",
       "      <td>G5600450951100</td>\n",
       "      <td>1.000000</td>\n",
       "    </tr>\n",
       "    <tr>\n",
       "      <th>1314</th>\n",
       "      <td>G560045093520999999512009999999999923</td>\n",
       "      <td>G5600450951100</td>\n",
       "      <td>1.000000</td>\n",
       "    </tr>\n",
       "    <tr>\n",
       "      <th>1315</th>\n",
       "      <td>G560045093520999999512009999999999924</td>\n",
       "      <td>G5600450951100</td>\n",
       "      <td>1.000000</td>\n",
       "    </tr>\n",
       "    <tr>\n",
       "      <th>1316</th>\n",
       "      <td>G560045093520999999512009999999999925</td>\n",
       "      <td>G5600450951100</td>\n",
       "      <td>1.000000</td>\n",
       "    </tr>\n",
       "    <tr>\n",
       "      <th>1317</th>\n",
       "      <td>G560045093520999999512009999999999926</td>\n",
       "      <td>G5600450951100</td>\n",
       "      <td>1.000000</td>\n",
       "    </tr>\n",
       "    <tr>\n",
       "      <th>1318</th>\n",
       "      <td>G560045093520999999512009999999999927</td>\n",
       "      <td>G5600450951100</td>\n",
       "      <td>1.000000</td>\n",
       "    </tr>\n",
       "  </tbody>\n",
       "</table>\n",
       "</div>"
      ],
      "text/plain": [
       "                                    bgp1990         trt2010    wt_pop\n",
       "1304  G560045092255999999513009999999999921  G5600450951300  1.000000\n",
       "1305  G560045092255999999513009999999999922  G5600450951300  1.000000\n",
       "1306  G560045092255999999513009999999999923  G5600450951300  1.000000\n",
       "1307  G560045092255999999513009999999999924  G5600450951300  1.000000\n",
       "1308  G560045092255999999513009999999999925  G5600450951100  0.107631\n",
       "1309  G560045092255999999513009999999999925  G5600450951300  0.892369\n",
       "1310  G560045093520791259512009999999999926  G5600450951100  1.000000\n",
       "1311  G560045093520791259512009999999999927  G5600450951100  1.000000\n",
       "1312  G560045093520999999512009999999999921  G5600450951100  1.000000\n",
       "1313  G560045093520999999512009999999999922  G5600450951100  1.000000\n",
       "1314  G560045093520999999512009999999999923  G5600450951100  1.000000\n",
       "1315  G560045093520999999512009999999999924  G5600450951100  1.000000\n",
       "1316  G560045093520999999512009999999999925  G5600450951100  1.000000\n",
       "1317  G560045093520999999512009999999999926  G5600450951100  1.000000\n",
       "1318  G560045093520999999512009999999999927  G5600450951100  1.000000"
      ]
     },
     "execution_count": 13,
     "metadata": {},
     "output_type": "execute_result"
    }
   ],
   "source": []
  },
  {
   "cell_type": "markdown",
   "metadata": {},
   "source": [
    "### Write crosswalk to file"
   ]
  },
  {
   "cell_type": "code",
   "execution_count": 14,
   "metadata": {
    "ExecuteTime": {
     "end_time": "2020-05-06T03:40:59.545010Z",
     "start_time": "2020-05-06T03:40:59.506927Z"
    }
   },
   "outputs": [],
   "source": [
    "res_dir = \"../../results/\"\n",
    "bgp1990_to_trt2010.xwalk_to_file(loc=res_dir)"
   ]
  },
  {
   "cell_type": "markdown",
   "metadata": {},
   "source": [
    "### Read crosswalk from file"
   ]
  },
  {
   "cell_type": "code",
   "execution_count": 17,
   "metadata": {
    "ExecuteTime": {
     "end_time": "2020-05-06T03:42:32.964293Z",
     "start_time": "2020-05-06T03:42:32.924967Z"
    }
   },
   "outputs": [
    {
     "data": {
      "text/html": [
       "<div>\n",
       "<style scoped>\n",
       "    .dataframe tbody tr th:only-of-type {\n",
       "        vertical-align: middle;\n",
       "    }\n",
       "\n",
       "    .dataframe tbody tr th {\n",
       "        vertical-align: top;\n",
       "    }\n",
       "\n",
       "    .dataframe thead th {\n",
       "        text-align: right;\n",
       "    }\n",
       "</style>\n",
       "<table border=\"1\" class=\"dataframe\">\n",
       "  <thead>\n",
       "    <tr style=\"text-align: right;\">\n",
       "      <th></th>\n",
       "      <th>Unnamed: 0</th>\n",
       "      <th>bgp1990</th>\n",
       "      <th>trt2010</th>\n",
       "      <th>wt_pop</th>\n",
       "    </tr>\n",
       "  </thead>\n",
       "  <tbody>\n",
       "    <tr>\n",
       "      <th>1304</th>\n",
       "      <td>1304</td>\n",
       "      <td>G560045092255999999513009999999999921</td>\n",
       "      <td>G5600450951300</td>\n",
       "      <td>1.000000</td>\n",
       "    </tr>\n",
       "    <tr>\n",
       "      <th>1305</th>\n",
       "      <td>1305</td>\n",
       "      <td>G560045092255999999513009999999999922</td>\n",
       "      <td>G5600450951300</td>\n",
       "      <td>1.000000</td>\n",
       "    </tr>\n",
       "    <tr>\n",
       "      <th>1306</th>\n",
       "      <td>1306</td>\n",
       "      <td>G560045092255999999513009999999999923</td>\n",
       "      <td>G5600450951300</td>\n",
       "      <td>1.000000</td>\n",
       "    </tr>\n",
       "    <tr>\n",
       "      <th>1307</th>\n",
       "      <td>1307</td>\n",
       "      <td>G560045092255999999513009999999999924</td>\n",
       "      <td>G5600450951300</td>\n",
       "      <td>1.000000</td>\n",
       "    </tr>\n",
       "    <tr>\n",
       "      <th>1308</th>\n",
       "      <td>1308</td>\n",
       "      <td>G560045092255999999513009999999999925</td>\n",
       "      <td>G5600450951100</td>\n",
       "      <td>0.107631</td>\n",
       "    </tr>\n",
       "    <tr>\n",
       "      <th>1309</th>\n",
       "      <td>1309</td>\n",
       "      <td>G560045092255999999513009999999999925</td>\n",
       "      <td>G5600450951300</td>\n",
       "      <td>0.892369</td>\n",
       "    </tr>\n",
       "    <tr>\n",
       "      <th>1310</th>\n",
       "      <td>1310</td>\n",
       "      <td>G560045093520791259512009999999999926</td>\n",
       "      <td>G5600450951100</td>\n",
       "      <td>1.000000</td>\n",
       "    </tr>\n",
       "    <tr>\n",
       "      <th>1311</th>\n",
       "      <td>1311</td>\n",
       "      <td>G560045093520791259512009999999999927</td>\n",
       "      <td>G5600450951100</td>\n",
       "      <td>1.000000</td>\n",
       "    </tr>\n",
       "    <tr>\n",
       "      <th>1312</th>\n",
       "      <td>1312</td>\n",
       "      <td>G560045093520999999512009999999999921</td>\n",
       "      <td>G5600450951100</td>\n",
       "      <td>1.000000</td>\n",
       "    </tr>\n",
       "    <tr>\n",
       "      <th>1313</th>\n",
       "      <td>1313</td>\n",
       "      <td>G560045093520999999512009999999999922</td>\n",
       "      <td>G5600450951100</td>\n",
       "      <td>1.000000</td>\n",
       "    </tr>\n",
       "    <tr>\n",
       "      <th>1314</th>\n",
       "      <td>1314</td>\n",
       "      <td>G560045093520999999512009999999999923</td>\n",
       "      <td>G5600450951100</td>\n",
       "      <td>1.000000</td>\n",
       "    </tr>\n",
       "    <tr>\n",
       "      <th>1315</th>\n",
       "      <td>1315</td>\n",
       "      <td>G560045093520999999512009999999999924</td>\n",
       "      <td>G5600450951100</td>\n",
       "      <td>1.000000</td>\n",
       "    </tr>\n",
       "    <tr>\n",
       "      <th>1316</th>\n",
       "      <td>1316</td>\n",
       "      <td>G560045093520999999512009999999999925</td>\n",
       "      <td>G5600450951100</td>\n",
       "      <td>1.000000</td>\n",
       "    </tr>\n",
       "    <tr>\n",
       "      <th>1317</th>\n",
       "      <td>1317</td>\n",
       "      <td>G560045093520999999512009999999999926</td>\n",
       "      <td>G5600450951100</td>\n",
       "      <td>1.000000</td>\n",
       "    </tr>\n",
       "    <tr>\n",
       "      <th>1318</th>\n",
       "      <td>1318</td>\n",
       "      <td>G560045093520999999512009999999999927</td>\n",
       "      <td>G5600450951100</td>\n",
       "      <td>1.000000</td>\n",
       "    </tr>\n",
       "  </tbody>\n",
       "</table>\n",
       "</div>"
      ],
      "text/plain": [
       "      Unnamed: 0                                bgp1990         trt2010  \\\n",
       "1304        1304  G560045092255999999513009999999999921  G5600450951300   \n",
       "1305        1305  G560045092255999999513009999999999922  G5600450951300   \n",
       "1306        1306  G560045092255999999513009999999999923  G5600450951300   \n",
       "1307        1307  G560045092255999999513009999999999924  G5600450951300   \n",
       "1308        1308  G560045092255999999513009999999999925  G5600450951100   \n",
       "1309        1309  G560045092255999999513009999999999925  G5600450951300   \n",
       "1310        1310  G560045093520791259512009999999999926  G5600450951100   \n",
       "1311        1311  G560045093520791259512009999999999927  G5600450951100   \n",
       "1312        1312  G560045093520999999512009999999999921  G5600450951100   \n",
       "1313        1313  G560045093520999999512009999999999922  G5600450951100   \n",
       "1314        1314  G560045093520999999512009999999999923  G5600450951100   \n",
       "1315        1315  G560045093520999999512009999999999924  G5600450951100   \n",
       "1316        1316  G560045093520999999512009999999999925  G5600450951100   \n",
       "1317        1317  G560045093520999999512009999999999926  G5600450951100   \n",
       "1318        1318  G560045093520999999512009999999999927  G5600450951100   \n",
       "\n",
       "        wt_pop  \n",
       "1304  1.000000  \n",
       "1305  1.000000  \n",
       "1306  1.000000  \n",
       "1307  1.000000  \n",
       "1308  0.107631  \n",
       "1309  0.892369  \n",
       "1310  1.000000  \n",
       "1311  1.000000  \n",
       "1312  1.000000  \n",
       "1313  1.000000  \n",
       "1314  1.000000  \n",
       "1315  1.000000  \n",
       "1316  1.000000  \n",
       "1317  1.000000  \n",
       "1318  1.000000  "
      ]
     },
     "execution_count": 17,
     "metadata": {},
     "output_type": "execute_result"
    }
   ],
   "source": [
    "fname = res_dir + \"bgp1990_to_trt2010_56\"\n",
    "_bgp1990_to_trt2010 = nhgisxwalk.GeoCrossWalk.xwalk_from_file(fname)\n",
    "_bgp1990_to_trt2010.tail(15)"
   ]
  },
  {
   "cell_type": "code",
   "execution_count": null,
   "metadata": {},
   "outputs": [],
   "source": []
  },
  {
   "cell_type": "code",
   "execution_count": null,
   "metadata": {},
   "outputs": [],
   "source": []
  },
  {
   "cell_type": "code",
   "execution_count": null,
   "metadata": {},
   "outputs": [],
   "source": []
  },
  {
   "cell_type": "code",
   "execution_count": null,
   "metadata": {},
   "outputs": [],
   "source": []
  },
  {
   "cell_type": "code",
   "execution_count": null,
   "metadata": {},
   "outputs": [],
   "source": []
  },
  {
   "cell_type": "code",
   "execution_count": null,
   "metadata": {},
   "outputs": [],
   "source": []
  },
  {
   "cell_type": "code",
   "execution_count": null,
   "metadata": {},
   "outputs": [],
   "source": []
  },
  {
   "cell_type": "code",
   "execution_count": null,
   "metadata": {},
   "outputs": [],
   "source": []
  },
  {
   "cell_type": "code",
   "execution_count": null,
   "metadata": {},
   "outputs": [],
   "source": []
  },
  {
   "cell_type": "code",
   "execution_count": null,
   "metadata": {},
   "outputs": [],
   "source": []
  },
  {
   "cell_type": "markdown",
   "metadata": {},
   "source": [
    "-----------------------------------------------"
   ]
  }
 ],
 "metadata": {
  "_draft": {
   "nbviewer_url": "https://gist.github.com/9f47e4ec2cc37bce83acf20abfca69d2"
  },
  "gist": {
   "data": {
    "description": "sample-workflow.ipynb",
    "public": true
   },
   "id": "9f47e4ec2cc37bce83acf20abfca69d2"
  },
  "kernelspec": {
   "display_name": "Python [conda env:nhgis_env]",
   "language": "python",
   "name": "conda-env-nhgis_env-py"
  },
  "language_info": {
   "codemirror_mode": {
    "name": "ipython",
    "version": 3
   },
   "file_extension": ".py",
   "mimetype": "text/x-python",
   "name": "python",
   "nbconvert_exporter": "python",
   "pygments_lexer": "ipython3",
   "version": "3.7.6"
  }
 },
 "nbformat": 4,
 "nbformat_minor": 4
}
