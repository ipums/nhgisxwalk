{
 "cells": [
  {
   "cell_type": "markdown",
   "metadata": {},
   "source": [
    "# Sample workflow: 1990 block group parts to 2010 block groups\n",
    "\n",
    "## Starting from a subset of 2010 Delaware blocks\n",
    "\n",
    "For further background information see:\n",
    "* **Schroeder, J. P**. 2007. *Target-density weighting interpolation and uncertainty evaluation for temporal analysis of census data*. Geographical Analysis 39 (3):311–335.\n",
    "\n",
    "#### NHGIS [block crosswalks](https://www.nhgis.org/user-resources/geographic-crosswalks)"
   ]
  },
  {
   "cell_type": "code",
   "execution_count": 1,
   "metadata": {
    "ExecuteTime": {
     "end_time": "2020-07-29T20:16:38.314469Z",
     "start_time": "2020-07-29T20:16:38.298325Z"
    }
   },
   "outputs": [
    {
     "name": "stdout",
     "output_type": "stream",
     "text": [
      "2020-07-29T16:16:38-04:00\n",
      "\n",
      "CPython 3.7.6\n",
      "IPython 7.15.0\n",
      "\n",
      "compiler   : Clang 9.0.1 \n",
      "system     : Darwin\n",
      "release    : 19.6.0\n",
      "machine    : x86_64\n",
      "processor  : i386\n",
      "CPU cores  : 8\n",
      "interpreter: 64bit\n"
     ]
    }
   ],
   "source": [
    "%load_ext watermark\n",
    "%watermark"
   ]
  },
  {
   "cell_type": "code",
   "execution_count": 2,
   "metadata": {
    "ExecuteTime": {
     "end_time": "2020-07-29T20:16:38.572710Z",
     "start_time": "2020-07-29T20:16:38.316675Z"
    }
   },
   "outputs": [
    {
     "name": "stdout",
     "output_type": "stream",
     "text": [
      "watermark 2.0.2\n",
      "numpy      1.18.5\n",
      "nhgisxwalk 0.0.6\n",
      "pandas     1.0.4\n",
      "\n"
     ]
    }
   ],
   "source": [
    "import nhgisxwalk\n",
    "import inspect\n",
    "import numpy\n",
    "import pandas\n",
    "\n",
    "%load_ext autoreload\n",
    "%autoreload 2\n",
    "%watermark -w\n",
    "%watermark -iv"
   ]
  },
  {
   "cell_type": "markdown",
   "metadata": {},
   "source": [
    "### Source and target years for the crosswalk"
   ]
  },
  {
   "cell_type": "code",
   "execution_count": 3,
   "metadata": {
    "ExecuteTime": {
     "end_time": "2020-07-29T20:16:38.593393Z",
     "start_time": "2020-07-29T20:16:38.575350Z"
    }
   },
   "outputs": [],
   "source": [
    "source_year, target_year = \"1990\", \"2010\""
   ]
  },
  {
   "cell_type": "markdown",
   "metadata": {},
   "source": [
    "### Source-target building base"
   ]
  },
  {
   "cell_type": "code",
   "execution_count": 4,
   "metadata": {
    "ExecuteTime": {
     "end_time": "2020-07-29T20:16:38.671359Z",
     "start_time": "2020-07-29T20:16:38.595815Z"
    }
   },
   "outputs": [
    {
     "data": {
      "text/html": [
       "<div>\n",
       "<style scoped>\n",
       "    .dataframe tbody tr th:only-of-type {\n",
       "        vertical-align: middle;\n",
       "    }\n",
       "\n",
       "    .dataframe tbody tr th {\n",
       "        vertical-align: top;\n",
       "    }\n",
       "\n",
       "    .dataframe thead th {\n",
       "        text-align: right;\n",
       "    }\n",
       "</style>\n",
       "<table border=\"1\" class=\"dataframe\">\n",
       "  <thead>\n",
       "    <tr style=\"text-align: right;\">\n",
       "      <th></th>\n",
       "      <th>GJOIN1990</th>\n",
       "      <th>GJOIN2010</th>\n",
       "      <th>WEIGHT</th>\n",
       "      <th>PAREA_VIA_BLK00</th>\n",
       "    </tr>\n",
       "  </thead>\n",
       "  <tbody>\n",
       "    <tr>\n",
       "      <th>0</th>\n",
       "      <td>G10000100401101</td>\n",
       "      <td>G10000100401001000</td>\n",
       "      <td>1.000000</td>\n",
       "      <td>1.000000</td>\n",
       "    </tr>\n",
       "    <tr>\n",
       "      <th>1</th>\n",
       "      <td>G10000100401102</td>\n",
       "      <td>G10000100401001001</td>\n",
       "      <td>0.921750</td>\n",
       "      <td>0.976774</td>\n",
       "    </tr>\n",
       "    <tr>\n",
       "      <th>2</th>\n",
       "      <td>G10000100401102</td>\n",
       "      <td>G10000100401001002</td>\n",
       "      <td>0.078219</td>\n",
       "      <td>0.023215</td>\n",
       "    </tr>\n",
       "    <tr>\n",
       "      <th>3</th>\n",
       "      <td>G10000100401102</td>\n",
       "      <td>G10000100401001003</td>\n",
       "      <td>0.000031</td>\n",
       "      <td>0.000012</td>\n",
       "    </tr>\n",
       "    <tr>\n",
       "      <th>4</th>\n",
       "      <td>G10000100401103</td>\n",
       "      <td>G10000100401001003</td>\n",
       "      <td>1.000000</td>\n",
       "      <td>1.000000</td>\n",
       "    </tr>\n",
       "  </tbody>\n",
       "</table>\n",
       "</div>"
      ],
      "text/plain": [
       "         GJOIN1990           GJOIN2010    WEIGHT  PAREA_VIA_BLK00\n",
       "0  G10000100401101  G10000100401001000  1.000000         1.000000\n",
       "1  G10000100401102  G10000100401001001  0.921750         0.976774\n",
       "2  G10000100401102  G10000100401001002  0.078219         0.023215\n",
       "3  G10000100401102  G10000100401001003  0.000031         0.000012\n",
       "4  G10000100401103  G10000100401001003  1.000000         1.000000"
      ]
     },
     "execution_count": 4,
     "metadata": {},
     "output_type": "execute_result"
    }
   ],
   "source": [
    "subset_data_dir = \"../testing_data_subsets\"\n",
    "base_xwalk_name = \"/nhgis_blk%s_blk%s_gj.zip\" % (source_year, target_year)\n",
    "base_xwalk_file = subset_data_dir + base_xwalk_name\n",
    "data_types = nhgisxwalk.str_types([\"GJOIN%s\"%source_year, \"GJOIN%s\"%target_year])\n",
    "base_xwalk = pandas.read_csv(base_xwalk_file, index_col=0, dtype=data_types)\n",
    "base_xwalk.head()"
   ]
  },
  {
   "cell_type": "markdown",
   "metadata": {},
   "source": [
    "### Source supplementary summary data (special case for 1990)"
   ]
  },
  {
   "cell_type": "code",
   "execution_count": 5,
   "metadata": {
    "ExecuteTime": {
     "end_time": "2020-07-29T20:16:38.691235Z",
     "start_time": "2020-07-29T20:16:38.672671Z"
    }
   },
   "outputs": [],
   "source": [
    "supp_source_name = \"%s_blck_grp_598_103.csv.zip\" % source_year\n",
    "supp_source_file = subset_data_dir + supp_source_name"
   ]
  },
  {
   "cell_type": "markdown",
   "metadata": {},
   "source": [
    "### Convenience code shorthand/lookup"
   ]
  },
  {
   "cell_type": "code",
   "execution_count": 6,
   "metadata": {
    "ExecuteTime": {
     "end_time": "2020-07-29T20:16:38.713645Z",
     "start_time": "2020-07-29T20:16:38.693423Z"
    }
   },
   "outputs": [
    {
     "name": "stdout",
     "output_type": "stream",
     "text": [
      "def valid_geo_shorthand(shorthand_name=True):\n",
      "    \"\"\"Shorthand lookups for census geographies.\"\"\"\n",
      "    lookup = {\n",
      "        \"blk\": \"block\",\n",
      "        \"bgp\": \"block group part\",\n",
      "        \"bg\": \"block group\",\n",
      "        \"tr\": \"tract\",\n",
      "        \"co\": \"county\",\n",
      "    }\n",
      "    if not shorthand_name:\n",
      "        lookup = {v: k for k, v in lookup.items()}\n",
      "    return lookup\n",
      "\n"
     ]
    }
   ],
   "source": [
    "print(inspect.getsource(nhgisxwalk.valid_geo_shorthand))"
   ]
  },
  {
   "cell_type": "code",
   "execution_count": 7,
   "metadata": {
    "ExecuteTime": {
     "end_time": "2020-07-29T20:16:38.735920Z",
     "start_time": "2020-07-29T20:16:38.716200Z"
    }
   },
   "outputs": [
    {
     "data": {
      "text/plain": [
       "{'block': 'blk',\n",
       " 'block group part': 'bgp',\n",
       " 'block group': 'bg',\n",
       " 'tract': 'tr',\n",
       " 'county': 'co'}"
      ]
     },
     "execution_count": 7,
     "metadata": {},
     "output_type": "execute_result"
    }
   ],
   "source": [
    "nhgisxwalk.valid_geo_shorthand(shorthand_name=False)"
   ]
  },
  {
   "cell_type": "markdown",
   "metadata": {},
   "source": [
    "### Instantiate an `nhgisxwalk.GeoCrossWalk` object\n",
    "##### see [nhgisxwalk.GeoCrossWalk](https://github.com/jGaboardi/nhgisxwalk/blob/92b4fe55de0a9c53d0315dcda8ec121faaf20aef/nhgisxwalk/geocrosswalk.py#L19) for full details"
   ]
  },
  {
   "cell_type": "code",
   "execution_count": 8,
   "metadata": {
    "ExecuteTime": {
     "end_time": "2020-07-29T20:16:38.757737Z",
     "start_time": "2020-07-29T20:16:38.738851Z"
    }
   },
   "outputs": [
    {
     "data": {
      "text/plain": [
       "{'Persons': {'Persons': 'Universe',\n",
       "  'NP1': 'Source code',\n",
       "  'ET1': 'NHGIS code',\n",
       "  'Total': 'ET1001'},\n",
       " 'Families': {'Families': 'Universe',\n",
       "  'NP2': 'Source code',\n",
       "  'EUD': 'NHGIS code',\n",
       "  'Total': 'EUD001'},\n",
       " 'Households': {'Households': 'Universe',\n",
       "  'NP3': 'Source code',\n",
       "  'EUO': 'NHGIS code',\n",
       "  'Total': 'EUO001'},\n",
       " 'Housing Units': {'Housing Units': 'Universe',\n",
       "  'NH1': 'Source code',\n",
       "  'ESA': 'NHGIS code',\n",
       "  'Total': 'ESA001'}}"
      ]
     },
     "execution_count": 8,
     "metadata": {},
     "output_type": "execute_result"
    }
   ],
   "source": [
    "nhgisxwalk.desc_code_1990"
   ]
  },
  {
   "cell_type": "code",
   "execution_count": 9,
   "metadata": {
    "ExecuteTime": {
     "end_time": "2020-07-29T20:16:38.782022Z",
     "start_time": "2020-07-29T20:16:38.760168Z"
    }
   },
   "outputs": [
    {
     "data": {
      "text/plain": [
       "['ET1001', 'EUD001', 'EUO001', 'ESA001']"
      ]
     },
     "execution_count": 9,
     "metadata": {},
     "output_type": "execute_result"
    }
   ],
   "source": [
    "input_vars = [\n",
    "    nhgisxwalk.desc_code_1990[\"Persons\"][\"Total\"],\n",
    "    nhgisxwalk.desc_code_1990[\"Families\"][\"Total\"],\n",
    "    nhgisxwalk.desc_code_1990[\"Households\"][\"Total\"],\n",
    "    nhgisxwalk.desc_code_1990[\"Housing Units\"][\"Total\"]\n",
    "]\n",
    "input_vars"
   ]
  },
  {
   "cell_type": "code",
   "execution_count": 10,
   "metadata": {
    "ExecuteTime": {
     "end_time": "2020-07-29T20:16:38.802527Z",
     "start_time": "2020-07-29T20:16:38.783266Z"
    }
   },
   "outputs": [],
   "source": [
    "input_var_tags = [\"pop\", \"fam\", \"hh\", \"hu\"]"
   ]
  },
  {
   "cell_type": "code",
   "execution_count": 11,
   "metadata": {
    "ExecuteTime": {
     "end_time": "2020-07-29T20:16:39.289273Z",
     "start_time": "2020-07-29T20:16:38.804254Z"
    }
   },
   "outputs": [
    {
     "data": {
      "text/html": [
       "<div>\n",
       "<style scoped>\n",
       "    .dataframe tbody tr th:only-of-type {\n",
       "        vertical-align: middle;\n",
       "    }\n",
       "\n",
       "    .dataframe tbody tr th {\n",
       "        vertical-align: top;\n",
       "    }\n",
       "\n",
       "    .dataframe thead th {\n",
       "        text-align: right;\n",
       "    }\n",
       "</style>\n",
       "<table border=\"1\" class=\"dataframe\">\n",
       "  <thead>\n",
       "    <tr style=\"text-align: right;\">\n",
       "      <th></th>\n",
       "      <th>bgp1990gj</th>\n",
       "      <th>bg2010gj</th>\n",
       "      <th>bg2010ge</th>\n",
       "      <th>wt_pop</th>\n",
       "      <th>wt_fam</th>\n",
       "      <th>wt_hh</th>\n",
       "      <th>wt_hu</th>\n",
       "    </tr>\n",
       "  </thead>\n",
       "  <tbody>\n",
       "    <tr>\n",
       "      <th>0</th>\n",
       "      <td>G100001090444072500423009999999999921</td>\n",
       "      <td>G10000100432023</td>\n",
       "      <td>100010432023</td>\n",
       "      <td>1.0</td>\n",
       "      <td>1.0</td>\n",
       "      <td>1.0</td>\n",
       "      <td>1.0</td>\n",
       "    </tr>\n",
       "    <tr>\n",
       "      <th>1</th>\n",
       "      <td>G100001090444444300422009999999999926</td>\n",
       "      <td>G10000100422021</td>\n",
       "      <td>100010422021</td>\n",
       "      <td>1.0</td>\n",
       "      <td>1.0</td>\n",
       "      <td>1.0</td>\n",
       "      <td>1.0</td>\n",
       "    </tr>\n",
       "    <tr>\n",
       "      <th>2</th>\n",
       "      <td>G100001090444612650422009999999219011</td>\n",
       "      <td>G10000100412002</td>\n",
       "      <td>100010412002</td>\n",
       "      <td>0.0</td>\n",
       "      <td>0.0</td>\n",
       "      <td>0.0</td>\n",
       "      <td>0.0</td>\n",
       "    </tr>\n",
       "    <tr>\n",
       "      <th>3</th>\n",
       "      <td>G100001090444612650422009999999219011</td>\n",
       "      <td>G10000100422011</td>\n",
       "      <td>100010422011</td>\n",
       "      <td>1.0</td>\n",
       "      <td>1.0</td>\n",
       "      <td>1.0</td>\n",
       "      <td>1.0</td>\n",
       "    </tr>\n",
       "    <tr>\n",
       "      <th>4</th>\n",
       "      <td>G100001090444612650422009999999219012</td>\n",
       "      <td>G10000100422012</td>\n",
       "      <td>100010422012</td>\n",
       "      <td>1.0</td>\n",
       "      <td>1.0</td>\n",
       "      <td>1.0</td>\n",
       "      <td>1.0</td>\n",
       "    </tr>\n",
       "    <tr>\n",
       "      <th>...</th>\n",
       "      <td>...</td>\n",
       "      <td>...</td>\n",
       "      <td>...</td>\n",
       "      <td>...</td>\n",
       "      <td>...</td>\n",
       "      <td>...</td>\n",
       "      <td>...</td>\n",
       "    </tr>\n",
       "    <tr>\n",
       "      <th>1402</th>\n",
       "      <td>G100005093552999990515009999999999923</td>\n",
       "      <td>G10000500515003</td>\n",
       "      <td>100050515003</td>\n",
       "      <td>1.0</td>\n",
       "      <td>1.0</td>\n",
       "      <td>1.0</td>\n",
       "      <td>1.0</td>\n",
       "    </tr>\n",
       "    <tr>\n",
       "      <th>1403</th>\n",
       "      <td>G100005093552999990515009999999999924</td>\n",
       "      <td>G10000500515004</td>\n",
       "      <td>100050515004</td>\n",
       "      <td>1.0</td>\n",
       "      <td>1.0</td>\n",
       "      <td>1.0</td>\n",
       "      <td>1.0</td>\n",
       "    </tr>\n",
       "    <tr>\n",
       "      <th>1404</th>\n",
       "      <td>G100005093552999990516009999999999921</td>\n",
       "      <td>G10000500517021</td>\n",
       "      <td>100050517021</td>\n",
       "      <td>1.0</td>\n",
       "      <td>1.0</td>\n",
       "      <td>1.0</td>\n",
       "      <td>1.0</td>\n",
       "    </tr>\n",
       "    <tr>\n",
       "      <th>1405</th>\n",
       "      <td>G10000509900000</td>\n",
       "      <td>G10000509900000</td>\n",
       "      <td>100059900000</td>\n",
       "      <td>0.0</td>\n",
       "      <td>0.0</td>\n",
       "      <td>0.0</td>\n",
       "      <td>0.0</td>\n",
       "    </tr>\n",
       "    <tr>\n",
       "      <th>1406</th>\n",
       "      <td>G340033010610106000204029999999916014</td>\n",
       "      <td>G10000309901000</td>\n",
       "      <td>100039901000</td>\n",
       "      <td>0.0</td>\n",
       "      <td>0.0</td>\n",
       "      <td>0.0</td>\n",
       "      <td>0.0</td>\n",
       "    </tr>\n",
       "  </tbody>\n",
       "</table>\n",
       "<p>1407 rows × 7 columns</p>\n",
       "</div>"
      ],
      "text/plain": [
       "                                  bgp1990gj         bg2010gj      bg2010ge  \\\n",
       "0     G100001090444072500423009999999999921  G10000100432023  100010432023   \n",
       "1     G100001090444444300422009999999999926  G10000100422021  100010422021   \n",
       "2     G100001090444612650422009999999219011  G10000100412002  100010412002   \n",
       "3     G100001090444612650422009999999219011  G10000100422011  100010422011   \n",
       "4     G100001090444612650422009999999219012  G10000100422012  100010422012   \n",
       "...                                     ...              ...           ...   \n",
       "1402  G100005093552999990515009999999999923  G10000500515003  100050515003   \n",
       "1403  G100005093552999990515009999999999924  G10000500515004  100050515004   \n",
       "1404  G100005093552999990516009999999999921  G10000500517021  100050517021   \n",
       "1405                        G10000509900000  G10000509900000  100059900000   \n",
       "1406  G340033010610106000204029999999916014  G10000309901000  100039901000   \n",
       "\n",
       "      wt_pop  wt_fam  wt_hh  wt_hu  \n",
       "0        1.0     1.0    1.0    1.0  \n",
       "1        1.0     1.0    1.0    1.0  \n",
       "2        0.0     0.0    0.0    0.0  \n",
       "3        1.0     1.0    1.0    1.0  \n",
       "4        1.0     1.0    1.0    1.0  \n",
       "...      ...     ...    ...    ...  \n",
       "1402     1.0     1.0    1.0    1.0  \n",
       "1403     1.0     1.0    1.0    1.0  \n",
       "1404     1.0     1.0    1.0    1.0  \n",
       "1405     0.0     0.0    0.0    0.0  \n",
       "1406     0.0     0.0    0.0    0.0  \n",
       "\n",
       "[1407 rows x 7 columns]"
      ]
     },
     "execution_count": 11,
     "metadata": {},
     "output_type": "execute_result"
    }
   ],
   "source": [
    "subset_state = \"10\"\n",
    "bgp1990_to_bg2010 = nhgisxwalk.GeoCrossWalk(\n",
    "    base_xwalk,\n",
    "    source_year=source_year,\n",
    "    target_year=target_year,\n",
    "    source_geo=\"bgp\",\n",
    "    target_geo=\"bg\",\n",
    "    base_source_table=subset_data_dir+\"/1990_block.csv.zip\",\n",
    "    supp_source_table=subset_data_dir+\"/1990_blck_grp_598_103.csv.zip\",\n",
    "    input_var=input_vars,\n",
    "    weight_var=input_var_tags,\n",
    "    stfips=subset_state,\n",
    "    keep_base=True,\n",
    "    add_geoid=True\n",
    ")\n",
    "bgp1990_to_bg2010.xwalk"
   ]
  },
  {
   "cell_type": "markdown",
   "metadata": {},
   "source": [
    "### Write crosswalk to a `.csv`"
   ]
  },
  {
   "cell_type": "code",
   "execution_count": 12,
   "metadata": {
    "ExecuteTime": {
     "end_time": "2020-07-29T20:16:39.322866Z",
     "start_time": "2020-07-29T20:16:39.291028Z"
    }
   },
   "outputs": [],
   "source": [
    "state_dir = \"../../crosswalks/nhgis_bgp1990_bg2010_state/\"\n",
    "nhgisxwalk.xwalk_df_to_csv(\n",
    "    cls=bgp1990_to_bg2010,\n",
    "    path=state_dir\n",
    ")"
   ]
  },
  {
   "cell_type": "markdown",
   "metadata": {},
   "source": [
    "### Read crosswalk from a `.csv`"
   ]
  },
  {
   "cell_type": "code",
   "execution_count": 13,
   "metadata": {
    "ExecuteTime": {
     "end_time": "2020-07-29T20:16:39.355895Z",
     "start_time": "2020-07-29T20:16:39.324814Z"
    }
   },
   "outputs": [
    {
     "data": {
      "text/html": [
       "<div>\n",
       "<style scoped>\n",
       "    .dataframe tbody tr th:only-of-type {\n",
       "        vertical-align: middle;\n",
       "    }\n",
       "\n",
       "    .dataframe tbody tr th {\n",
       "        vertical-align: top;\n",
       "    }\n",
       "\n",
       "    .dataframe thead th {\n",
       "        text-align: right;\n",
       "    }\n",
       "</style>\n",
       "<table border=\"1\" class=\"dataframe\">\n",
       "  <thead>\n",
       "    <tr style=\"text-align: right;\">\n",
       "      <th></th>\n",
       "      <th>bgp1990gj</th>\n",
       "      <th>bg2010gj</th>\n",
       "      <th>bg2010ge</th>\n",
       "      <th>wt_pop</th>\n",
       "      <th>wt_fam</th>\n",
       "      <th>wt_hh</th>\n",
       "      <th>wt_hu</th>\n",
       "    </tr>\n",
       "  </thead>\n",
       "  <tbody>\n",
       "    <tr>\n",
       "      <th>0</th>\n",
       "      <td>G100001090444072500423009999999999921</td>\n",
       "      <td>G10000100432023</td>\n",
       "      <td>100010432023</td>\n",
       "      <td>1.0</td>\n",
       "      <td>1.0</td>\n",
       "      <td>1.0</td>\n",
       "      <td>1.0</td>\n",
       "    </tr>\n",
       "    <tr>\n",
       "      <th>1</th>\n",
       "      <td>G100001090444444300422009999999999926</td>\n",
       "      <td>G10000100422021</td>\n",
       "      <td>100010422021</td>\n",
       "      <td>1.0</td>\n",
       "      <td>1.0</td>\n",
       "      <td>1.0</td>\n",
       "      <td>1.0</td>\n",
       "    </tr>\n",
       "    <tr>\n",
       "      <th>2</th>\n",
       "      <td>G100001090444612650422009999999219011</td>\n",
       "      <td>G10000100412002</td>\n",
       "      <td>100010412002</td>\n",
       "      <td>0.0</td>\n",
       "      <td>0.0</td>\n",
       "      <td>0.0</td>\n",
       "      <td>0.0</td>\n",
       "    </tr>\n",
       "    <tr>\n",
       "      <th>3</th>\n",
       "      <td>G100001090444612650422009999999219011</td>\n",
       "      <td>G10000100422011</td>\n",
       "      <td>100010422011</td>\n",
       "      <td>1.0</td>\n",
       "      <td>1.0</td>\n",
       "      <td>1.0</td>\n",
       "      <td>1.0</td>\n",
       "    </tr>\n",
       "    <tr>\n",
       "      <th>4</th>\n",
       "      <td>G100001090444612650422009999999219012</td>\n",
       "      <td>G10000100422012</td>\n",
       "      <td>100010422012</td>\n",
       "      <td>1.0</td>\n",
       "      <td>1.0</td>\n",
       "      <td>1.0</td>\n",
       "      <td>1.0</td>\n",
       "    </tr>\n",
       "    <tr>\n",
       "      <th>...</th>\n",
       "      <td>...</td>\n",
       "      <td>...</td>\n",
       "      <td>...</td>\n",
       "      <td>...</td>\n",
       "      <td>...</td>\n",
       "      <td>...</td>\n",
       "      <td>...</td>\n",
       "    </tr>\n",
       "    <tr>\n",
       "      <th>1402</th>\n",
       "      <td>G100005093552999990515009999999999923</td>\n",
       "      <td>G10000500515003</td>\n",
       "      <td>100050515003</td>\n",
       "      <td>1.0</td>\n",
       "      <td>1.0</td>\n",
       "      <td>1.0</td>\n",
       "      <td>1.0</td>\n",
       "    </tr>\n",
       "    <tr>\n",
       "      <th>1403</th>\n",
       "      <td>G100005093552999990515009999999999924</td>\n",
       "      <td>G10000500515004</td>\n",
       "      <td>100050515004</td>\n",
       "      <td>1.0</td>\n",
       "      <td>1.0</td>\n",
       "      <td>1.0</td>\n",
       "      <td>1.0</td>\n",
       "    </tr>\n",
       "    <tr>\n",
       "      <th>1404</th>\n",
       "      <td>G100005093552999990516009999999999921</td>\n",
       "      <td>G10000500517021</td>\n",
       "      <td>100050517021</td>\n",
       "      <td>1.0</td>\n",
       "      <td>1.0</td>\n",
       "      <td>1.0</td>\n",
       "      <td>1.0</td>\n",
       "    </tr>\n",
       "    <tr>\n",
       "      <th>1405</th>\n",
       "      <td>G10000509900000</td>\n",
       "      <td>G10000509900000</td>\n",
       "      <td>100059900000</td>\n",
       "      <td>0.0</td>\n",
       "      <td>0.0</td>\n",
       "      <td>0.0</td>\n",
       "      <td>0.0</td>\n",
       "    </tr>\n",
       "    <tr>\n",
       "      <th>1406</th>\n",
       "      <td>G340033010610106000204029999999916014</td>\n",
       "      <td>G10000309901000</td>\n",
       "      <td>100039901000</td>\n",
       "      <td>0.0</td>\n",
       "      <td>0.0</td>\n",
       "      <td>0.0</td>\n",
       "      <td>0.0</td>\n",
       "    </tr>\n",
       "  </tbody>\n",
       "</table>\n",
       "<p>1407 rows × 7 columns</p>\n",
       "</div>"
      ],
      "text/plain": [
       "                                  bgp1990gj         bg2010gj      bg2010ge  \\\n",
       "0     G100001090444072500423009999999999921  G10000100432023  100010432023   \n",
       "1     G100001090444444300422009999999999926  G10000100422021  100010422021   \n",
       "2     G100001090444612650422009999999219011  G10000100412002  100010412002   \n",
       "3     G100001090444612650422009999999219011  G10000100422011  100010422011   \n",
       "4     G100001090444612650422009999999219012  G10000100422012  100010422012   \n",
       "...                                     ...              ...           ...   \n",
       "1402  G100005093552999990515009999999999923  G10000500515003  100050515003   \n",
       "1403  G100005093552999990515009999999999924  G10000500515004  100050515004   \n",
       "1404  G100005093552999990516009999999999921  G10000500517021  100050517021   \n",
       "1405                        G10000509900000  G10000509900000  100059900000   \n",
       "1406  G340033010610106000204029999999916014  G10000309901000  100039901000   \n",
       "\n",
       "      wt_pop  wt_fam  wt_hh  wt_hu  \n",
       "0        1.0     1.0    1.0    1.0  \n",
       "1        1.0     1.0    1.0    1.0  \n",
       "2        0.0     0.0    0.0    0.0  \n",
       "3        1.0     1.0    1.0    1.0  \n",
       "4        1.0     1.0    1.0    1.0  \n",
       "...      ...     ...    ...    ...  \n",
       "1402     1.0     1.0    1.0    1.0  \n",
       "1403     1.0     1.0    1.0    1.0  \n",
       "1404     1.0     1.0    1.0    1.0  \n",
       "1405     0.0     0.0    0.0    0.0  \n",
       "1406     0.0     0.0    0.0    0.0  \n",
       "\n",
       "[1407 rows x 7 columns]"
      ]
     },
     "execution_count": 13,
     "metadata": {},
     "output_type": "execute_result"
    }
   ],
   "source": [
    "fname = state_dir + bgp1990_to_bg2010.xwalk_name\n",
    "bgp1990_to_bg2010_df = nhgisxwalk.xwalk_df_from_csv(fname)\n",
    "bgp1990_to_bg2010_df"
   ]
  },
  {
   "cell_type": "markdown",
   "metadata": {},
   "source": [
    "-----------------------------------------------"
   ]
  }
 ],
 "metadata": {
  "_draft": {
   "nbviewer_url": "https://gist.github.com/9f47e4ec2cc37bce83acf20abfca69d2"
  },
  "gist": {
   "data": {
    "description": "sample-workflow.ipynb",
    "public": true
   },
   "id": "9f47e4ec2cc37bce83acf20abfca69d2"
  },
  "kernelspec": {
   "display_name": "Python [conda env:nhgis]",
   "language": "python",
   "name": "conda-env-nhgis-py"
  },
  "language_info": {
   "codemirror_mode": {
    "name": "ipython",
    "version": 3
   },
   "file_extension": ".py",
   "mimetype": "text/x-python",
   "name": "python",
   "nbconvert_exporter": "python",
   "pygments_lexer": "ipython3",
   "version": "3.8.5"
  }
 },
 "nbformat": 4,
 "nbformat_minor": 4
}
