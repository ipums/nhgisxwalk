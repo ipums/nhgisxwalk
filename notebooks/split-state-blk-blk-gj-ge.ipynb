{
 "cells": [
  {
   "cell_type": "markdown",
   "metadata": {},
   "source": [
    "# Split out base crosswalks into states\n",
    "## `blk{1990/2000}{ge/gj}-blk2010{ge/gj}`\n",
    "\n",
    "### NHGIS [block crosswalks](https://www.nhgis.org/user-resources/geographic-crosswalks)\n",
    "\n",
    "**James D. Gaboardi, 06/2020**"
   ]
  },
  {
   "cell_type": "code",
   "execution_count": 1,
   "metadata": {
    "ExecuteTime": {
     "end_time": "2020-06-21T00:24:22.044873Z",
     "start_time": "2020-06-21T00:24:22.003388Z"
    }
   },
   "outputs": [
    {
     "name": "stdout",
     "output_type": "stream",
     "text": [
      "2020-06-20T20:24:22-04:00\n",
      "\n",
      "CPython 3.7.6\n",
      "IPython 7.15.0\n",
      "\n",
      "compiler   : Clang 9.0.1 \n",
      "system     : Darwin\n",
      "release    : 19.5.0\n",
      "machine    : x86_64\n",
      "processor  : i386\n",
      "CPU cores  : 8\n",
      "interpreter: 64bit\n"
     ]
    }
   ],
   "source": [
    "%load_ext watermark\n",
    "%watermark"
   ]
  },
  {
   "cell_type": "code",
   "execution_count": 2,
   "metadata": {
    "ExecuteTime": {
     "end_time": "2020-06-21T00:24:23.332503Z",
     "start_time": "2020-06-21T00:24:22.723918Z"
    }
   },
   "outputs": [
    {
     "name": "stdout",
     "output_type": "stream",
     "text": [
      "watermark 2.0.2\n",
      "numpy      1.18.5\n",
      "pandas     1.0.4\n",
      "nhgisxwalk 0.0.4\n",
      "\n"
     ]
    }
   ],
   "source": [
    "import glob\n",
    "import nhgisxwalk\n",
    "import numpy\n",
    "import pandas\n",
    "\n",
    "%load_ext autoreload\n",
    "%autoreload 2\n",
    "%watermark -w\n",
    "%watermark -iv"
   ]
  },
  {
   "cell_type": "markdown",
   "metadata": {},
   "source": [
    "### Fetch path for each original crosswalk"
   ]
  },
  {
   "cell_type": "code",
   "execution_count": 3,
   "metadata": {
    "ExecuteTime": {
     "end_time": "2020-06-21T00:24:24.279986Z",
     "start_time": "2020-06-21T00:24:24.250467Z"
    }
   },
   "outputs": [
    {
     "data": {
      "text/plain": [
       "['../../crosswalks/nhgis_blk1990_blk2010_gj.zip',\n",
       " '../../crosswalks/nhgis_blk2000_blk2010_ge.zip',\n",
       " '../../crosswalks/nhgis_blk2000_blk2010_gj.zip',\n",
       " '../../crosswalks/nhgis_blk1990_blk2010_ge.zip']"
      ]
     },
     "execution_count": 3,
     "metadata": {},
     "output_type": "execute_result"
    }
   ],
   "source": [
    "cross_dir = \"../../crosswalks/\"\n",
    "rezips = [f for f in glob.glob(cross_dir+\"nhgis_blk*\") if f.endswith(\"zip\")]\n",
    "rezips"
   ]
  },
  {
   "cell_type": "markdown",
   "metadata": {},
   "source": [
    "### Declare target column names for each original crosswalk"
   ]
  },
  {
   "cell_type": "code",
   "execution_count": 4,
   "metadata": {
    "ExecuteTime": {
     "end_time": "2020-06-21T00:02:30.825469Z",
     "start_time": "2020-06-21T00:02:30.804598Z"
    }
   },
   "outputs": [
    {
     "data": {
      "text/plain": [
       "['GJOIN2010', 'GEOID10', 'GJOIN2010', 'GEOID10']"
      ]
     },
     "execution_count": 4,
     "metadata": {},
     "output_type": "execute_result"
    }
   ],
   "source": [
    "target_columns = [\"GJOIN2010\", \"GEOID10\", \"GJOIN2010\", \"GEOID10\"]\n",
    "target_columns"
   ]
  },
  {
   "cell_type": "markdown",
   "metadata": {},
   "source": [
    "### Recompress (In order to get correct `GEOID`s)"
   ]
  },
  {
   "cell_type": "code",
   "execution_count": 5,
   "metadata": {
    "ExecuteTime": {
     "end_time": "2020-06-21T00:02:31.475284Z",
     "start_time": "2020-06-21T00:02:31.456376Z"
    }
   },
   "outputs": [],
   "source": [
    "#zips = [f for f in glob.glob(cross_dir+\"nhgis_blk*\") if f.endswith(\"csv\")]\n",
    "#zips\n",
    "#id_cols = [\"GEOID90\", \"GEOID00\", \"GEOID10\"]\n",
    "#_target_columns = [\"GEOID10\", \"GEOID10\"]\n",
    "#dtype={c:str for c in id_cols}\n",
    "#for f, col in list(zip(zips, _target_columns)):\n",
    "#    f = f[:-4]\n",
    "#    xwalk_name = f.split(\"/\")[-1].split(\".\")[0]\n",
    "#    xwalk_path = f.split(xwalk_name[0])[0]\n",
    "#    df = nhgisxwalk.xwalk_df_from_csv(f, fext=None, dtype=dtype)\n",
    "#    nhgisxwalk.xwalk_df_to_csv(\n",
    "#        dfkwds={\"df\": df, \"xwalk_name\": xwalk_name},\n",
    "#        path=xwalk_path\n",
    "#    )"
   ]
  },
  {
   "cell_type": "markdown",
   "metadata": {},
   "source": [
    "### Split each original crosswalk by state and write out"
   ]
  },
  {
   "cell_type": "code",
   "execution_count": 6,
   "metadata": {
    "ExecuteTime": {
     "end_time": "2020-06-21T00:19:01.752864Z",
     "start_time": "2020-06-21T00:02:32.377597Z"
    }
   },
   "outputs": [],
   "source": [
    "id_cols = [\n",
    "    \"GJOIN1990\",\n",
    "    \"GJOIN2000\",\n",
    "    \"GJOIN2010\",\n",
    "    \"GEOID90\",\n",
    "    \"GEOID00\",\n",
    "    \"GEOID10\"\n",
    "]\n",
    "\n",
    "\n",
    "dtype = {c:str for c in id_cols}\n",
    "for f, col in list(zip(rezips, target_columns)):\n",
    "    \n",
    "    \n",
    "    f = f[:-4]\n",
    "    df = nhgisxwalk.xwalk_df_from_csv(f, dtype=dtype)\n",
    "    \n",
    "    # sort by rules from ....\n",
    "    df.sort_values(\n",
    "        by=[geoxwalk.source, geoxwalk.target],\n",
    "        na_position=\"last\",\n",
    "        ignore_index=True,\n",
    "        inplace=True,\n",
    "    )\n",
    "    \n",
    "    xwalk_name = f.split(\"/\")[-1].split(\".\")[0]\n",
    "    xwalk_path = f.split(xwalk_name[0])[0]\n",
    "    st_path = xwalk_path+xwalk_name+\"_state/\"\n",
    "    nhgisxwalk.split_blk_blk_xwalk(df, col, xwalk_name, fpath=st_path)"
   ]
  },
  {
   "cell_type": "markdown",
   "metadata": {},
   "source": [
    "-------------"
   ]
  }
 ],
 "metadata": {
  "kernelspec": {
   "display_name": "Python [conda env:nhgis]",
   "language": "python",
   "name": "conda-env-nhgis-py"
  },
  "language_info": {
   "codemirror_mode": {
    "name": "ipython",
    "version": 3
   },
   "file_extension": ".py",
   "mimetype": "text/x-python",
   "name": "python",
   "nbconvert_exporter": "python",
   "pygments_lexer": "ipython3",
   "version": "3.7.6"
  }
 },
 "nbformat": 4,
 "nbformat_minor": 4
}
