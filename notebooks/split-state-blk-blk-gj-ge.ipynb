{
 "cells": [
  {
   "cell_type": "markdown",
   "metadata": {},
   "source": [
    "# Split out base crosswalks into states w/`README.txt` files\n",
    "## `blk{1990/2000}{ge/gj}-blk2010{ge/gj}`\n",
    "\n",
    "### NHGIS [block crosswalks](https://www.nhgis.org/user-resources/geographic-crosswalks)\n",
    "\n",
    "**James D. Gaboardi, 06/2020**"
   ]
  },
  {
   "cell_type": "code",
   "execution_count": 1,
   "metadata": {
    "ExecuteTime": {
     "end_time": "2020-08-08T03:26:05.531616Z",
     "start_time": "2020-08-08T03:26:05.381067Z"
    }
   },
   "outputs": [
    {
     "name": "stdout",
     "output_type": "stream",
     "text": [
      "2020-08-07T23:26:05-04:00\n",
      "\n",
      "CPython 3.8.5\n",
      "IPython 7.16.1\n",
      "\n",
      "compiler   : Clang 10.0.1 \n",
      "system     : Darwin\n",
      "release    : 19.6.0\n",
      "machine    : x86_64\n",
      "processor  : i386\n",
      "CPU cores  : 8\n",
      "interpreter: 64bit\n"
     ]
    }
   ],
   "source": [
    "%load_ext watermark\n",
    "%watermark"
   ]
  },
  {
   "cell_type": "code",
   "execution_count": 2,
   "metadata": {
    "ExecuteTime": {
     "end_time": "2020-08-08T03:26:06.078324Z",
     "start_time": "2020-08-08T03:26:05.533394Z"
    }
   },
   "outputs": [
    {
     "name": "stdout",
     "output_type": "stream",
     "text": [
      "watermark 2.0.2\n",
      "nhgisxwalk 0.0.8\n",
      "\n"
     ]
    }
   ],
   "source": [
    "import glob\n",
    "import nhgisxwalk\n",
    "import shutil\n",
    "\n",
    "%load_ext autoreload\n",
    "%autoreload 2\n",
    "%watermark -w\n",
    "%watermark -iv"
   ]
  },
  {
   "cell_type": "markdown",
   "metadata": {},
   "source": [
    "### Fetch path for each original crosswalk"
   ]
  },
  {
   "cell_type": "code",
   "execution_count": 3,
   "metadata": {
    "ExecuteTime": {
     "end_time": "2020-08-08T03:26:06.106045Z",
     "start_time": "2020-08-08T03:26:06.080837Z"
    }
   },
   "outputs": [
    {
     "data": {
      "text/plain": [
       "['../../original_blk_blk_crosswalks/nhgis_blk1990_blk2010_gj.zip',\n",
       " '../../original_blk_blk_crosswalks/nhgis_blk2000_blk2010_ge.zip',\n",
       " '../../original_blk_blk_crosswalks/nhgis_blk2000_blk2010_gj.zip',\n",
       " '../../original_blk_blk_crosswalks/nhgis_blk1990_blk2010_ge.zip']"
      ]
     },
     "execution_count": 3,
     "metadata": {},
     "output_type": "execute_result"
    }
   ],
   "source": [
    "cross_dir_in = \"../../original_blk_blk_crosswalks/\"\n",
    "cross_zip_in = [f for f in glob.glob(cross_dir_in+\"nhgis_blk*\") if f.endswith(\"zip\")]\n",
    "cross_zip_in"
   ]
  },
  {
   "cell_type": "code",
   "execution_count": 4,
   "metadata": {
    "ExecuteTime": {
     "end_time": "2020-08-08T03:26:06.127530Z",
     "start_time": "2020-08-08T03:26:06.108119Z"
    }
   },
   "outputs": [],
   "source": [
    "cross_dir_out = \"../../crosswalks\""
   ]
  },
  {
   "cell_type": "markdown",
   "metadata": {},
   "source": [
    "### Declare target column names for each original crosswalk"
   ]
  },
  {
   "cell_type": "code",
   "execution_count": 5,
   "metadata": {
    "ExecuteTime": {
     "end_time": "2020-08-08T03:26:06.150947Z",
     "start_time": "2020-08-08T03:26:06.130227Z"
    }
   },
   "outputs": [
    {
     "data": {
      "text/plain": [
       "['GJOIN2010', 'GEOID10', 'GJOIN2010', 'GEOID10']"
      ]
     },
     "execution_count": 5,
     "metadata": {},
     "output_type": "execute_result"
    }
   ],
   "source": [
    "target_columns = [\"GJOIN2010\", \"GEOID10\", \"GJOIN2010\", \"GEOID10\"]\n",
    "target_columns"
   ]
  },
  {
   "cell_type": "markdown",
   "metadata": {},
   "source": [
    "### Regenerate sorted crosswalks, split crosswalk by state, and write out"
   ]
  },
  {
   "cell_type": "code",
   "execution_count": 6,
   "metadata": {
    "ExecuteTime": {
     "end_time": "2020-08-08T12:55:30.845318Z",
     "start_time": "2020-08-08T03:26:06.152967Z"
    }
   },
   "outputs": [],
   "source": [
    "dtype = nhgisxwalk.str_types(nhgisxwalk.ID_COLS)\n",
    "for f, tcol in list(zip(cross_zip_in, target_columns)):\n",
    "    nhgisxwalk.regenerate_blk_blk_xwalk(f, cross_dir_out, tcol, dtype)"
   ]
  },
  {
   "cell_type": "markdown",
   "metadata": {},
   "source": [
    "-------------"
   ]
  }
 ],
 "metadata": {
  "kernelspec": {
   "display_name": "Python [conda env:nhgis]",
   "language": "python",
   "name": "conda-env-nhgis-py"
  },
  "language_info": {
   "codemirror_mode": {
    "name": "ipython",
    "version": 3
   },
   "file_extension": ".py",
   "mimetype": "text/x-python",
   "name": "python",
   "nbconvert_exporter": "python",
   "pygments_lexer": "ipython3",
   "version": "3.8.5"
  }
 },
 "nbformat": 4,
 "nbformat_minor": 4
}
