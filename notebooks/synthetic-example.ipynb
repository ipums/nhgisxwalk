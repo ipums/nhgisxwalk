{
 "cells": [
  {
   "cell_type": "markdown",
   "metadata": {},
   "source": [
    "# Synthetic example\n",
    "\n",
    "1. Example data + subgroup atom values equations/example \n",
    "2. Larger synthetic example w/ visualization — exact\n",
    "3. Larger synthetic example w/ visualization — imperfect"
   ]
  },
  {
   "cell_type": "code",
   "execution_count": 1,
   "metadata": {
    "ExecuteTime": {
     "end_time": "2020-06-13T18:54:03.279982Z",
     "start_time": "2020-06-13T18:54:03.262232Z"
    }
   },
   "outputs": [
    {
     "name": "stdout",
     "output_type": "stream",
     "text": [
      "2020-06-13T14:54:03-04:00\n",
      "\n",
      "CPython 3.7.6\n",
      "IPython 7.15.0\n",
      "\n",
      "compiler   : Clang 9.0.1 \n",
      "system     : Darwin\n",
      "release    : 19.5.0\n",
      "machine    : x86_64\n",
      "processor  : i386\n",
      "CPU cores  : 8\n",
      "interpreter: 64bit\n"
     ]
    }
   ],
   "source": [
    "%load_ext watermark\n",
    "%watermark"
   ]
  },
  {
   "cell_type": "code",
   "execution_count": 2,
   "metadata": {
    "ExecuteTime": {
     "end_time": "2020-06-13T18:54:03.775932Z",
     "start_time": "2020-06-13T18:54:03.282101Z"
    }
   },
   "outputs": [
    {
     "name": "stdout",
     "output_type": "stream",
     "text": [
      "watermark 2.0.2\n",
      "nhgisxwalk 0.0.2\n",
      "numpy      1.18.5\n",
      "geopandas  0.7.0\n",
      "shapely    1.7.0\n",
      "pandas     1.0.4\n",
      "matplotlib 3.2.1\n",
      "\n"
     ]
    }
   ],
   "source": [
    "import nhgisxwalk\n",
    "import geopandas\n",
    "import inspect\n",
    "import matplotlib\n",
    "import matplotlib.pyplot as plt\n",
    "import numpy\n",
    "import pandas\n",
    "import shapely\n",
    "from shapely.geometry import Point, LineString, Polygon\n",
    "import string\n",
    "\n",
    "%matplotlib inline\n",
    "%watermark -w\n",
    "%watermark -iv"
   ]
  },
  {
   "cell_type": "code",
   "execution_count": 3,
   "metadata": {
    "ExecuteTime": {
     "end_time": "2020-06-13T18:54:03.780962Z",
     "start_time": "2020-06-13T18:54:03.778502Z"
    }
   },
   "outputs": [],
   "source": [
    "try:\n",
    "    from IPython.display import set_matplotlib_formats\n",
    "    set_matplotlib_formats(\"retina\")\n",
    "except ImportError:\n",
    "    pass"
   ]
  },
  {
   "cell_type": "markdown",
   "metadata": {},
   "source": [
    "---------------------\n",
    "\n",
    "## 1. Toy example"
   ]
  },
  {
   "cell_type": "code",
   "execution_count": 4,
   "metadata": {
    "ExecuteTime": {
     "end_time": "2020-06-13T18:54:03.827923Z",
     "start_time": "2020-06-13T18:54:03.783350Z"
    }
   },
   "outputs": [
    {
     "data": {
      "text/html": [
       "<div>\n",
       "<style scoped>\n",
       "    .dataframe tbody tr th:only-of-type {\n",
       "        vertical-align: middle;\n",
       "    }\n",
       "\n",
       "    .dataframe tbody tr th {\n",
       "        vertical-align: top;\n",
       "    }\n",
       "\n",
       "    .dataframe thead th {\n",
       "        text-align: right;\n",
       "    }\n",
       "</style>\n",
       "<table border=\"1\" class=\"dataframe\">\n",
       "  <thead>\n",
       "    <tr style=\"text-align: right;\">\n",
       "      <th></th>\n",
       "      <th>bgp1990</th>\n",
       "      <th>blk1990</th>\n",
       "      <th>blk2010</th>\n",
       "      <th>trt2010</th>\n",
       "      <th>wt</th>\n",
       "      <th>pop_1990</th>\n",
       "      <th>hh_1990</th>\n",
       "    </tr>\n",
       "  </thead>\n",
       "  <tbody>\n",
       "    <tr>\n",
       "      <th>0</th>\n",
       "      <td>A</td>\n",
       "      <td>A.1</td>\n",
       "      <td>X.1</td>\n",
       "      <td>X</td>\n",
       "      <td>1.0</td>\n",
       "      <td>60.0</td>\n",
       "      <td>25.0</td>\n",
       "    </tr>\n",
       "    <tr>\n",
       "      <th>1</th>\n",
       "      <td>A</td>\n",
       "      <td>A.2</td>\n",
       "      <td>X.2</td>\n",
       "      <td>X</td>\n",
       "      <td>0.3</td>\n",
       "      <td>100.0</td>\n",
       "      <td>40.0</td>\n",
       "    </tr>\n",
       "    <tr>\n",
       "      <th>2</th>\n",
       "      <td>A</td>\n",
       "      <td>A.2</td>\n",
       "      <td>Y.1</td>\n",
       "      <td>Y</td>\n",
       "      <td>0.7</td>\n",
       "      <td>100.0</td>\n",
       "      <td>40.0</td>\n",
       "    </tr>\n",
       "    <tr>\n",
       "      <th>3</th>\n",
       "      <td>B</td>\n",
       "      <td>B.1</td>\n",
       "      <td>X.3</td>\n",
       "      <td>X</td>\n",
       "      <td>1.0</td>\n",
       "      <td>50.0</td>\n",
       "      <td>20.0</td>\n",
       "    </tr>\n",
       "    <tr>\n",
       "      <th>4</th>\n",
       "      <td>B</td>\n",
       "      <td>B.2</td>\n",
       "      <td>Y.2</td>\n",
       "      <td>Y</td>\n",
       "      <td>1.0</td>\n",
       "      <td>80.0</td>\n",
       "      <td>30.0</td>\n",
       "    </tr>\n",
       "  </tbody>\n",
       "</table>\n",
       "</div>"
      ],
      "text/plain": [
       "  bgp1990 blk1990 blk2010 trt2010   wt  pop_1990  hh_1990\n",
       "0       A     A.1     X.1       X  1.0      60.0     25.0\n",
       "1       A     A.2     X.2       X  0.3     100.0     40.0\n",
       "2       A     A.2     Y.1       Y  0.7     100.0     40.0\n",
       "3       B     B.1     X.3       X  1.0      50.0     20.0\n",
       "4       B     B.2     Y.2       Y  1.0      80.0     30.0"
      ]
     },
     "execution_count": 4,
     "metadata": {},
     "output_type": "execute_result"
    }
   ],
   "source": [
    "toy_df = nhgisxwalk.example_crosswalk_data()\n",
    "toy_df"
   ]
  },
  {
   "cell_type": "markdown",
   "metadata": {},
   "source": [
    "### Function for calculating `atoms`:\n",
    " 1. calculating weighted variable values\n",
    " 2. grouping by 2 columns\n",
    " 3. summing weighted variable values over #2"
   ]
  },
  {
   "cell_type": "code",
   "execution_count": 5,
   "metadata": {
    "ExecuteTime": {
     "end_time": "2020-06-13T18:54:03.835559Z",
     "start_time": "2020-06-13T18:54:03.829906Z"
    }
   },
   "outputs": [
    {
     "name": "stdout",
     "output_type": "stream",
     "text": [
      "def calculate_atoms(\n",
      "    df,\n",
      "    weight=None,\n",
      "    input_var=None,\n",
      "    weight_var=None,\n",
      "    weight_prefix=None,\n",
      "    source_id=None,\n",
      "    groupby_cols=None,\n",
      "    overwrite_attrs=None,\n",
      "):\n",
      "    \"\"\"Calculate the atoms (intersecting parts) of census geographies\n",
      "    and interpolate a proportional weight of the source attribute that\n",
      "    lies within the target geography.\n",
      "    \n",
      "    Parameters\n",
      "    ----------\n",
      "    \n",
      "    df : pandas.DataFrame\n",
      "        The input data. See ``GeoCrossWalk.base``.\n",
      "    \n",
      "    weight : str\n",
      "        The weight colum name(s).\n",
      "    \n",
      "    input_var : str or iterable\n",
      "        The input variable column name(s).\n",
      "    \n",
      "    weight_var : str or iterable\n",
      "        The groupby and summed variable column name(s).\n",
      "    \n",
      "    weight_prefix : str\n",
      "        Prepend this prefix to the the ``weight_var`` column name.\n",
      "    \n",
      "    source_id : str\n",
      "        The source ID column name.\n",
      "    \n",
      "    groupby_cols : list\n",
      "        The dataframe columns on which to perform groupby.\n",
      "    \n",
      "    overwrite_attrs : None or GeoCrossWalk\n",
      "        Setting this parameter to a ``GeoCrossWalk`` object overwrites the\n",
      "        ``input_var`` and ``weight_var`` attributes. Default is ``None``.\n",
      "    \n",
      "    Returns\n",
      "    -------\n",
      "    \n",
      "    atoms : pandas.DataFrame\n",
      "        All intersections between ``source`` and ``target`` geographies, and \n",
      "        the interpolated weight calculations for the propotion of\n",
      "        source area attributes that are in the target area.\n",
      "    \n",
      "    Notes\n",
      "    -----\n",
      "    \n",
      "    See example 1 in the ``GeoCrossWalk`` Examples section.\n",
      "    \n",
      "    \"\"\"\n",
      "\n",
      "    # confirm variable data types\n",
      "    input_var, weight_var = _check_vars(input_var), _check_vars(weight_var)\n",
      "\n",
      "    # determine length of variable lists\n",
      "    n_input_var, n_weight_var = len(input_var), len(weight_var)\n",
      "\n",
      "    # check variable lists are equal length\n",
      "    if n_input_var != n_weight_var:\n",
      "        msg = \"The 'input_var' and 'weight_var' should be the same length. \"\n",
      "        msg += \"%s != %s\" % (n_input_var, n_weight_var)\n",
      "        raise RuntimeError(msg)\n",
      "\n",
      "    # add prefix (if desired)\n",
      "    weight_col = _weight_columns(weight_prefix if weight_prefix else \"\", weight_var)\n",
      "\n",
      "    if str(overwrite_attrs) != \"None\":\n",
      "        overwrite_attrs.input_var = input_var\n",
      "        overwrite_attrs.weight_col = weight_col\n",
      "\n",
      "    # iterate over each pair of input/interpolation variables\n",
      "    for ix, (ivar, wvar) in enumerate(zip(input_var, weight_col)):\n",
      "\n",
      "        # calculate numerators\n",
      "        df[wvar] = df[weight] * df[ivar]\n",
      "        if ix == 0:\n",
      "            # on the first iteration create an atom dataframe\n",
      "            atoms = df.groupby(groupby_cols)[wvar].sum().to_frame()\n",
      "            atoms.reset_index(inplace=True)\n",
      "        else:\n",
      "            # on tsubsequent iterations add weights as a column\n",
      "            atoms[wvar] = df.groupby(groupby_cols)[wvar].sum().values\n",
      "\n",
      "        # calculate denominators\n",
      "        denominators = atoms.groupby(source_id)[wvar].sum()\n",
      "\n",
      "        # interpolate weights\n",
      "        atoms[wvar] = atoms[wvar] / atoms[source_id].map(denominators)\n",
      "\n",
      "        # if any weights are NaN, replace with 0.\n",
      "        atoms[wvar].fillna(0.0, inplace=True)\n",
      "\n",
      "    return atoms\n",
      "\n"
     ]
    }
   ],
   "source": [
    "print(inspect.getsource(nhgisxwalk.calculate_atoms))"
   ]
  },
  {
   "cell_type": "code",
   "execution_count": 6,
   "metadata": {
    "ExecuteTime": {
     "end_time": "2020-06-13T18:54:03.860675Z",
     "start_time": "2020-06-13T18:54:03.837162Z"
    }
   },
   "outputs": [
    {
     "data": {
      "text/html": [
       "<div>\n",
       "<style scoped>\n",
       "    .dataframe tbody tr th:only-of-type {\n",
       "        vertical-align: middle;\n",
       "    }\n",
       "\n",
       "    .dataframe tbody tr th {\n",
       "        vertical-align: top;\n",
       "    }\n",
       "\n",
       "    .dataframe thead th {\n",
       "        text-align: right;\n",
       "    }\n",
       "</style>\n",
       "<table border=\"1\" class=\"dataframe\">\n",
       "  <thead>\n",
       "    <tr style=\"text-align: right;\">\n",
       "      <th></th>\n",
       "      <th>bgp1990</th>\n",
       "      <th>trt2010</th>\n",
       "      <th>wt_pop</th>\n",
       "      <th>wt_hh</th>\n",
       "    </tr>\n",
       "  </thead>\n",
       "  <tbody>\n",
       "    <tr>\n",
       "      <th>0</th>\n",
       "      <td>A</td>\n",
       "      <td>X</td>\n",
       "      <td>0.562500</td>\n",
       "      <td>0.569231</td>\n",
       "    </tr>\n",
       "    <tr>\n",
       "      <th>1</th>\n",
       "      <td>A</td>\n",
       "      <td>Y</td>\n",
       "      <td>0.437500</td>\n",
       "      <td>0.430769</td>\n",
       "    </tr>\n",
       "    <tr>\n",
       "      <th>2</th>\n",
       "      <td>B</td>\n",
       "      <td>X</td>\n",
       "      <td>0.384615</td>\n",
       "      <td>0.400000</td>\n",
       "    </tr>\n",
       "    <tr>\n",
       "      <th>3</th>\n",
       "      <td>B</td>\n",
       "      <td>Y</td>\n",
       "      <td>0.615385</td>\n",
       "      <td>0.600000</td>\n",
       "    </tr>\n",
       "  </tbody>\n",
       "</table>\n",
       "</div>"
      ],
      "text/plain": [
       "  bgp1990 trt2010    wt_pop     wt_hh\n",
       "0       A       X  0.562500  0.569231\n",
       "1       A       Y  0.437500  0.430769\n",
       "2       B       X  0.384615  0.400000\n",
       "3       B       Y  0.615385  0.600000"
      ]
     },
     "execution_count": 6,
     "metadata": {},
     "output_type": "execute_result"
    }
   ],
   "source": [
    "atom_df = nhgisxwalk.calculate_atoms(\n",
    "    toy_df,\n",
    "    weight=\"wt\",\n",
    "    input_var=[\"pop_1990\", \"hh_1990\"],\n",
    "    weight_var=[\"pop\", \"hh\"],\n",
    "    weight_prefix=\"wt_\",\n",
    "    source_id=\"bgp1990\",\n",
    "    groupby_cols=[\"bgp1990\", \"trt2010\"]\n",
    ")\n",
    "atom_df"
   ]
  },
  {
   "cell_type": "markdown",
   "metadata": {},
   "source": [
    "### Atoms for subgroups\n",
    "\n",
    "**These atoms of `y1y2` unit intersections can then be used to calculate subgroups of variables with the following equation:**\n",
    "## $atom_{\\widehat{var}^{gu}} = total_{\\widehat{var}^{gu}} \\times \\frac{atom_{var^{gu}}}{total_{var^{gu}}}$\n",
    "**where:**\n",
    " * $var =$ a variable representing a count (i.e. population)\n",
    " * $\\widehat{var} =$ a subgroup of a variable representing a count (i.e. asian population)\n",
    " * $gu =$ a geographic unit (i.e. block group part)\n",
    "\n",
    "**For example, since we are considering the population variable, we will define the following:**\n",
    "## $rg_i = \\widehat{var}$\n",
    "**where**\n",
    " * $pop = $ total population variable\n",
    " * ${rg}_i =$ the population of a specific racial group\n",
    "\n",
    "## $atom_{rg_i^{bgp}} = total_{rg_i^{bgp}} \\times \\frac{atom_{pop^{bgp}}}{total_{pop^{bgp}}}$\n",
    "\n",
    "**As an example, consider the are 30 people in racial group $i$ within block group part $A$ $({total}_{rg_i^{bgp}})$:**\n",
    "* ${atom}_{rg_i^{AX}} = 16.875 = 30 \\times \\frac{90}{160}$\n",
    "* ${atom}_{rg_i^{AY}} = 13.125 = 30 \\times \\frac{70}{160}$\n",
    "\n",
    "\n",
    "--------------------\n",
    "\n",
    "## 2. Larger synthetic example with visualization — exact\n",
    " * All smaller units fit exactly within larger units\n",
    "   * `year1_small` units (blocks)\n",
    "   * `year2_small` units (blocks)\n",
    "   * `year1_medium` units (block group parts)\n",
    "   * `year2_large` units (tracts)"
   ]
  },
  {
   "cell_type": "markdown",
   "metadata": {},
   "source": [
    "### Create synthetic census geographies"
   ]
  },
  {
   "cell_type": "code",
   "execution_count": 7,
   "metadata": {
    "ExecuteTime": {
     "end_time": "2020-06-13T18:54:03.870804Z",
     "start_time": "2020-06-13T18:54:03.862608Z"
    }
   },
   "outputs": [],
   "source": [
    "def regular_lattice(bounds, length, width):\n",
    "    \"\"\"Create a regular lattice of polygons\"\"\"\n",
    "    def _intervals(_min, _max, dim):\n",
    "        return list(range(int(numpy.floor(_min)), int(numpy.ceil(_max)), dim))\n",
    "    \n",
    "    xmin, ymin, xmax, ymax = bounds\n",
    "    rows = _intervals(ymin, ymax, length)\n",
    "    cols = _intervals(xmin, xmax, width)\n",
    "    polygons = [polygonize(i, j, length, width) for i in rows for j in cols]\n",
    "    lattice = geopandas.GeoDataFrame({\"geometry\": polygons})\n",
    "    return lattice\n",
    "\n",
    "def irregular_lattice(poly_cords):\n",
    "    \"\"\"Create an irregular lattice of polygons\"\"\"\n",
    "    polygons = [polygonize(*pc, regular=False) for pc in poly_cords]\n",
    "    lattice = geopandas.GeoDataFrame({\"geometry\": polygons})\n",
    "    return lattice\n",
    "\n",
    "def polygonize(x, y, l, w, regular=True):\n",
    "    \"\"\"Create individual polygons\"\"\"\n",
    "    if regular:\n",
    "        ps = [(x,y), (x+w, y), (x+w, y+l), (x, y+l)]\n",
    "    else:\n",
    "        ps = [x, y, l, w]\n",
    "    return Polygon(ps)"
   ]
  },
  {
   "cell_type": "code",
   "execution_count": 8,
   "metadata": {
    "ExecuteTime": {
     "end_time": "2020-06-13T18:54:03.884399Z",
     "start_time": "2020-06-13T18:54:03.874926Z"
    }
   },
   "outputs": [],
   "source": [
    "area = 12, 12\n",
    "lparams = (0, 0, *area)\n",
    "# ~ 1990 blocks\n",
    "year1_small = regular_lattice(lparams, 3, 3)\n",
    "# ~ 2010 blocks\n",
    "year2_small = regular_lattice(lparams, 2, 2)\n",
    "# ~ 1990 block group parts\n",
    "year1_medium = regular_lattice(lparams, 6, 6)\n",
    "# ~ 2010 tracts\n",
    "year2_large = irregular_lattice(\n",
    "    [((0,0), (6,0), (6,12), (0,12)), ((6,0), (12,0), (12,12), (6,12))]\n",
    ")"
   ]
  },
  {
   "cell_type": "markdown",
   "metadata": {},
   "source": [
    "### Visualize"
   ]
  },
  {
   "cell_type": "code",
   "execution_count": 9,
   "metadata": {
    "ExecuteTime": {
     "end_time": "2020-06-13T18:54:04.467706Z",
     "start_time": "2020-06-13T18:54:03.887654Z"
    }
   },
   "outputs": [
    {
     "data": {
      "image/png": "[encoded data removed]",
      "text/plain": [
       "<Figure size 504x504 with 1 Axes>"
      ]
     },
     "metadata": {
      "image/png": {
       "height": 411,
       "width": 711
      },
      "needs_background": "light"
     },
     "output_type": "display_data"
    }
   ],
   "source": [
    "def plotter():\n",
    "    def _patch(_kws, labinfo):\n",
    "        _kws.update({\"alpha\":.5})\n",
    "        label = \"%s — %s — $|%s|$\" % tuple(labinfo)\n",
    "        _kws.update({\"label\":label, \"solid_capstyle\":\"round\"})\n",
    "        p = matplotlib.lines.Line2D([], [], **_kws)\n",
    "        return p\n",
    "    \n",
    "    def _legend(handles, anchor=(1.8, .8)):\n",
    "        lkws = {\"fancybox\":True,\"framealpha\":0.85, \"fontsize\":\"x-large\"}\n",
    "        lkws.update({\"bbox_to_anchor\": anchor, \"labelspacing\": 2.})\n",
    "        lkws.update({\"borderpad\": 2., \"handletextpad\":1.5})\n",
    "        matplotlib.pyplot.legend(handles=handles, **lkws)\n",
    "    \n",
    "    pltkws = {\"alpha\":.5, \"capstyle\":\"round\", \"fc\":\"None\"}\n",
    "    base = year2_large.plot(figsize=(7,7), ec=\"k\", lw=30, zorder=0, **pltkws)\n",
    "    patches = [_patch({\"lw\":30, \"c\":\"k\"}, [\"Year 2\", \"large\", year2_large.shape[0]])]\n",
    "    gdfs = [year1_medium, year1_small, year2_small]\n",
    "    colors, lws, zo = [\"g\", \"b\", \"r\"], [15, 5, 5], [1 ,2 ,3]\n",
    "    labels = [[\"Year 1\", \"medium\"], [\"Year 1\", \"small\"], [\"Year 2\", \"small\"]]\n",
    "    iterinfo = list(zip(gdfs, colors, lws, zo, labels))\n",
    "    for gdf, c, l, z, lab in iterinfo:\n",
    "        gdf.plot(ax=base, ec=c, lw=l, zorder=z, **pltkws)\n",
    "        patches.append(_patch({\"lw\":l,\"c\":c}, lab+[gdf.shape[0]]))\n",
    "    _legend(patches)\n",
    "\n",
    "plotter()"
   ]
  },
  {
   "cell_type": "markdown",
   "metadata": {},
   "source": [
    "### Record Hierarchical Membership"
   ]
  },
  {
   "cell_type": "code",
   "execution_count": 10,
   "metadata": {
    "ExecuteTime": {
     "end_time": "2020-06-13T18:54:04.474922Z",
     "start_time": "2020-06-13T18:54:04.470175Z"
    }
   },
   "outputs": [],
   "source": [
    "def hiearchy_ids(l_df, s_df, prefix, idcol=\"ID\"):\n",
    "    \"\"\"(Dis)Aggregated pseudo-GEOIDs\"\"\"\n",
    "    # larger spatial units\n",
    "    l_df[idcol] = [\"%s0%s0\" % (prefix, i) for i in range(l_df.shape[0])]\n",
    "    l_df = l_df[[idcol, \"geometry\"]]\n",
    "    # smaller spatial units\n",
    "    s_df = geopandas.overlay(s_df, l_df)\n",
    "    for _id, _df in s_df.groupby(idcol):\n",
    "        xi = range(_df.shape[0])\n",
    "        s_df.loc[_df.index, idcol] = [_id+\".s\"+str(x).ljust(3,\"0\") for x in xi]\n",
    "    return l_df, s_df"
   ]
  },
  {
   "cell_type": "markdown",
   "metadata": {},
   "source": [
    "### Year 1 IDs — \"block groups and blocks\""
   ]
  },
  {
   "cell_type": "code",
   "execution_count": 11,
   "metadata": {
    "ExecuteTime": {
     "end_time": "2020-06-13T18:54:04.513826Z",
     "start_time": "2020-06-13T18:54:04.476731Z"
    }
   },
   "outputs": [
    {
     "data": {
      "text/html": [
       "<div>\n",
       "<style scoped>\n",
       "    .dataframe tbody tr th:only-of-type {\n",
       "        vertical-align: middle;\n",
       "    }\n",
       "\n",
       "    .dataframe tbody tr th {\n",
       "        vertical-align: top;\n",
       "    }\n",
       "\n",
       "    .dataframe thead th {\n",
       "        text-align: right;\n",
       "    }\n",
       "</style>\n",
       "<table border=\"1\" class=\"dataframe\">\n",
       "  <thead>\n",
       "    <tr style=\"text-align: right;\">\n",
       "      <th></th>\n",
       "      <th>ID</th>\n",
       "      <th>geometry</th>\n",
       "    </tr>\n",
       "  </thead>\n",
       "  <tbody>\n",
       "    <tr>\n",
       "      <th>0</th>\n",
       "      <td>y1_M000</td>\n",
       "      <td>POLYGON ((0.00000 0.00000, 6.00000 0.00000, 6....</td>\n",
       "    </tr>\n",
       "    <tr>\n",
       "      <th>1</th>\n",
       "      <td>y1_M010</td>\n",
       "      <td>POLYGON ((0.00000 6.00000, 6.00000 6.00000, 6....</td>\n",
       "    </tr>\n",
       "    <tr>\n",
       "      <th>2</th>\n",
       "      <td>y1_M020</td>\n",
       "      <td>POLYGON ((6.00000 0.00000, 12.00000 0.00000, 1...</td>\n",
       "    </tr>\n",
       "    <tr>\n",
       "      <th>3</th>\n",
       "      <td>y1_M030</td>\n",
       "      <td>POLYGON ((6.00000 6.00000, 12.00000 6.00000, 1...</td>\n",
       "    </tr>\n",
       "  </tbody>\n",
       "</table>\n",
       "</div>"
      ],
      "text/plain": [
       "        ID                                           geometry\n",
       "0  y1_M000  POLYGON ((0.00000 0.00000, 6.00000 0.00000, 6....\n",
       "1  y1_M010  POLYGON ((0.00000 6.00000, 6.00000 6.00000, 6....\n",
       "2  y1_M020  POLYGON ((6.00000 0.00000, 12.00000 0.00000, 1...\n",
       "3  y1_M030  POLYGON ((6.00000 6.00000, 12.00000 6.00000, 1..."
      ]
     },
     "execution_count": 11,
     "metadata": {},
     "output_type": "execute_result"
    }
   ],
   "source": [
    "year1_medium, year1_small = hiearchy_ids(year1_medium, year1_small, \"y1_M\")\n",
    "year1_medium"
   ]
  },
  {
   "cell_type": "code",
   "execution_count": 12,
   "metadata": {
    "ExecuteTime": {
     "end_time": "2020-06-13T18:54:04.524539Z",
     "start_time": "2020-06-13T18:54:04.515243Z"
    }
   },
   "outputs": [
    {
     "data": {
      "text/html": [
       "<div>\n",
       "<style scoped>\n",
       "    .dataframe tbody tr th:only-of-type {\n",
       "        vertical-align: middle;\n",
       "    }\n",
       "\n",
       "    .dataframe tbody tr th {\n",
       "        vertical-align: top;\n",
       "    }\n",
       "\n",
       "    .dataframe thead th {\n",
       "        text-align: right;\n",
       "    }\n",
       "</style>\n",
       "<table border=\"1\" class=\"dataframe\">\n",
       "  <thead>\n",
       "    <tr style=\"text-align: right;\">\n",
       "      <th></th>\n",
       "      <th>ID</th>\n",
       "      <th>geometry</th>\n",
       "    </tr>\n",
       "  </thead>\n",
       "  <tbody>\n",
       "    <tr>\n",
       "      <th>0</th>\n",
       "      <td>y1_M000.s000</td>\n",
       "      <td>POLYGON ((0.00000 0.00000, 0.00000 3.00000, 3....</td>\n",
       "    </tr>\n",
       "    <tr>\n",
       "      <th>1</th>\n",
       "      <td>y1_M000.s100</td>\n",
       "      <td>POLYGON ((0.00000 3.00000, 0.00000 6.00000, 3....</td>\n",
       "    </tr>\n",
       "    <tr>\n",
       "      <th>2</th>\n",
       "      <td>y1_M000.s200</td>\n",
       "      <td>POLYGON ((3.00000 0.00000, 3.00000 3.00000, 6....</td>\n",
       "    </tr>\n",
       "    <tr>\n",
       "      <th>3</th>\n",
       "      <td>y1_M000.s300</td>\n",
       "      <td>POLYGON ((3.00000 3.00000, 3.00000 6.00000, 6....</td>\n",
       "    </tr>\n",
       "    <tr>\n",
       "      <th>4</th>\n",
       "      <td>y1_M010.s000</td>\n",
       "      <td>POLYGON ((0.00000 6.00000, 0.00000 9.00000, 3....</td>\n",
       "    </tr>\n",
       "    <tr>\n",
       "      <th>5</th>\n",
       "      <td>y1_M010.s100</td>\n",
       "      <td>POLYGON ((0.00000 9.00000, 0.00000 12.00000, 3...</td>\n",
       "    </tr>\n",
       "    <tr>\n",
       "      <th>6</th>\n",
       "      <td>y1_M010.s200</td>\n",
       "      <td>POLYGON ((3.00000 6.00000, 3.00000 9.00000, 6....</td>\n",
       "    </tr>\n",
       "    <tr>\n",
       "      <th>7</th>\n",
       "      <td>y1_M010.s300</td>\n",
       "      <td>POLYGON ((3.00000 9.00000, 3.00000 12.00000, 6...</td>\n",
       "    </tr>\n",
       "    <tr>\n",
       "      <th>8</th>\n",
       "      <td>y1_M020.s000</td>\n",
       "      <td>POLYGON ((6.00000 0.00000, 6.00000 3.00000, 9....</td>\n",
       "    </tr>\n",
       "    <tr>\n",
       "      <th>9</th>\n",
       "      <td>y1_M020.s100</td>\n",
       "      <td>POLYGON ((6.00000 3.00000, 6.00000 6.00000, 9....</td>\n",
       "    </tr>\n",
       "  </tbody>\n",
       "</table>\n",
       "</div>"
      ],
      "text/plain": [
       "             ID                                           geometry\n",
       "0  y1_M000.s000  POLYGON ((0.00000 0.00000, 0.00000 3.00000, 3....\n",
       "1  y1_M000.s100  POLYGON ((0.00000 3.00000, 0.00000 6.00000, 3....\n",
       "2  y1_M000.s200  POLYGON ((3.00000 0.00000, 3.00000 3.00000, 6....\n",
       "3  y1_M000.s300  POLYGON ((3.00000 3.00000, 3.00000 6.00000, 6....\n",
       "4  y1_M010.s000  POLYGON ((0.00000 6.00000, 0.00000 9.00000, 3....\n",
       "5  y1_M010.s100  POLYGON ((0.00000 9.00000, 0.00000 12.00000, 3...\n",
       "6  y1_M010.s200  POLYGON ((3.00000 6.00000, 3.00000 9.00000, 6....\n",
       "7  y1_M010.s300  POLYGON ((3.00000 9.00000, 3.00000 12.00000, 6...\n",
       "8  y1_M020.s000  POLYGON ((6.00000 0.00000, 6.00000 3.00000, 9....\n",
       "9  y1_M020.s100  POLYGON ((6.00000 3.00000, 6.00000 6.00000, 9...."
      ]
     },
     "execution_count": 12,
     "metadata": {},
     "output_type": "execute_result"
    }
   ],
   "source": [
    "year1_small.head(10)"
   ]
  },
  {
   "cell_type": "markdown",
   "metadata": {},
   "source": [
    "### Year 2 IDs — \"tracts and blocks\""
   ]
  },
  {
   "cell_type": "code",
   "execution_count": 13,
   "metadata": {
    "ExecuteTime": {
     "end_time": "2020-06-13T18:54:04.561010Z",
     "start_time": "2020-06-13T18:54:04.526048Z"
    }
   },
   "outputs": [
    {
     "data": {
      "text/html": [
       "<div>\n",
       "<style scoped>\n",
       "    .dataframe tbody tr th:only-of-type {\n",
       "        vertical-align: middle;\n",
       "    }\n",
       "\n",
       "    .dataframe tbody tr th {\n",
       "        vertical-align: top;\n",
       "    }\n",
       "\n",
       "    .dataframe thead th {\n",
       "        text-align: right;\n",
       "    }\n",
       "</style>\n",
       "<table border=\"1\" class=\"dataframe\">\n",
       "  <thead>\n",
       "    <tr style=\"text-align: right;\">\n",
       "      <th></th>\n",
       "      <th>ID</th>\n",
       "      <th>geometry</th>\n",
       "    </tr>\n",
       "  </thead>\n",
       "  <tbody>\n",
       "    <tr>\n",
       "      <th>0</th>\n",
       "      <td>y2_L000</td>\n",
       "      <td>POLYGON ((0.00000 0.00000, 6.00000 0.00000, 6....</td>\n",
       "    </tr>\n",
       "    <tr>\n",
       "      <th>1</th>\n",
       "      <td>y2_L010</td>\n",
       "      <td>POLYGON ((6.00000 0.00000, 12.00000 0.00000, 1...</td>\n",
       "    </tr>\n",
       "  </tbody>\n",
       "</table>\n",
       "</div>"
      ],
      "text/plain": [
       "        ID                                           geometry\n",
       "0  y2_L000  POLYGON ((0.00000 0.00000, 6.00000 0.00000, 6....\n",
       "1  y2_L010  POLYGON ((6.00000 0.00000, 12.00000 0.00000, 1..."
      ]
     },
     "execution_count": 13,
     "metadata": {},
     "output_type": "execute_result"
    }
   ],
   "source": [
    "year2_large, year2_small = hiearchy_ids(year2_large, year2_small, \"y2_L\")\n",
    "year2_large"
   ]
  },
  {
   "cell_type": "code",
   "execution_count": 14,
   "metadata": {
    "ExecuteTime": {
     "end_time": "2020-06-13T18:54:04.573754Z",
     "start_time": "2020-06-13T18:54:04.562620Z"
    }
   },
   "outputs": [
    {
     "data": {
      "text/html": [
       "<div>\n",
       "<style scoped>\n",
       "    .dataframe tbody tr th:only-of-type {\n",
       "        vertical-align: middle;\n",
       "    }\n",
       "\n",
       "    .dataframe tbody tr th {\n",
       "        vertical-align: top;\n",
       "    }\n",
       "\n",
       "    .dataframe thead th {\n",
       "        text-align: right;\n",
       "    }\n",
       "</style>\n",
       "<table border=\"1\" class=\"dataframe\">\n",
       "  <thead>\n",
       "    <tr style=\"text-align: right;\">\n",
       "      <th></th>\n",
       "      <th>ID</th>\n",
       "      <th>geometry</th>\n",
       "    </tr>\n",
       "  </thead>\n",
       "  <tbody>\n",
       "    <tr>\n",
       "      <th>12</th>\n",
       "      <td>y2_L000.s120</td>\n",
       "      <td>POLYGON ((4.00000 0.00000, 4.00000 2.00000, 6....</td>\n",
       "    </tr>\n",
       "    <tr>\n",
       "      <th>13</th>\n",
       "      <td>y2_L000.s130</td>\n",
       "      <td>POLYGON ((4.00000 2.00000, 4.00000 4.00000, 6....</td>\n",
       "    </tr>\n",
       "    <tr>\n",
       "      <th>14</th>\n",
       "      <td>y2_L000.s140</td>\n",
       "      <td>POLYGON ((4.00000 4.00000, 4.00000 6.00000, 6....</td>\n",
       "    </tr>\n",
       "    <tr>\n",
       "      <th>15</th>\n",
       "      <td>y2_L000.s150</td>\n",
       "      <td>POLYGON ((4.00000 6.00000, 4.00000 8.00000, 6....</td>\n",
       "    </tr>\n",
       "    <tr>\n",
       "      <th>16</th>\n",
       "      <td>y2_L000.s160</td>\n",
       "      <td>POLYGON ((4.00000 8.00000, 4.00000 10.00000, 6...</td>\n",
       "    </tr>\n",
       "    <tr>\n",
       "      <th>17</th>\n",
       "      <td>y2_L000.s170</td>\n",
       "      <td>POLYGON ((4.00000 10.00000, 4.00000 12.00000, ...</td>\n",
       "    </tr>\n",
       "    <tr>\n",
       "      <th>18</th>\n",
       "      <td>y2_L010.s000</td>\n",
       "      <td>POLYGON ((6.00000 0.00000, 6.00000 2.00000, 8....</td>\n",
       "    </tr>\n",
       "    <tr>\n",
       "      <th>19</th>\n",
       "      <td>y2_L010.s100</td>\n",
       "      <td>POLYGON ((6.00000 2.00000, 6.00000 4.00000, 8....</td>\n",
       "    </tr>\n",
       "    <tr>\n",
       "      <th>20</th>\n",
       "      <td>y2_L010.s200</td>\n",
       "      <td>POLYGON ((6.00000 4.00000, 6.00000 6.00000, 8....</td>\n",
       "    </tr>\n",
       "  </tbody>\n",
       "</table>\n",
       "</div>"
      ],
      "text/plain": [
       "              ID                                           geometry\n",
       "12  y2_L000.s120  POLYGON ((4.00000 0.00000, 4.00000 2.00000, 6....\n",
       "13  y2_L000.s130  POLYGON ((4.00000 2.00000, 4.00000 4.00000, 6....\n",
       "14  y2_L000.s140  POLYGON ((4.00000 4.00000, 4.00000 6.00000, 6....\n",
       "15  y2_L000.s150  POLYGON ((4.00000 6.00000, 4.00000 8.00000, 6....\n",
       "16  y2_L000.s160  POLYGON ((4.00000 8.00000, 4.00000 10.00000, 6...\n",
       "17  y2_L000.s170  POLYGON ((4.00000 10.00000, 4.00000 12.00000, ...\n",
       "18  y2_L010.s000  POLYGON ((6.00000 0.00000, 6.00000 2.00000, 8....\n",
       "19  y2_L010.s100  POLYGON ((6.00000 2.00000, 6.00000 4.00000, 8....\n",
       "20  y2_L010.s200  POLYGON ((6.00000 4.00000, 6.00000 6.00000, 8...."
      ]
     },
     "execution_count": 14,
     "metadata": {},
     "output_type": "execute_result"
    }
   ],
   "source": [
    "year2_small[12:21]"
   ]
  },
  {
   "cell_type": "markdown",
   "metadata": {},
   "source": [
    "### Set synthetic population for `year1_small` parts"
   ]
  },
  {
   "cell_type": "code",
   "execution_count": 15,
   "metadata": {
    "ExecuteTime": {
     "end_time": "2020-06-13T18:54:04.580673Z",
     "start_time": "2020-06-13T18:54:04.575605Z"
    }
   },
   "outputs": [
    {
     "data": {
      "text/plain": [
       "136"
      ]
     },
     "execution_count": 15,
     "metadata": {},
     "output_type": "execute_result"
    }
   ],
   "source": [
    "year1_small[\"pop_y1\"] = range(1,year1_small.shape[0]+1)\n",
    "year1_small[\"pop_y1\"].sum()"
   ]
  },
  {
   "cell_type": "markdown",
   "metadata": {},
   "source": [
    "### Create crosswalk (mimic of [the NHGIS crosswalk]())"
   ]
  },
  {
   "cell_type": "code",
   "execution_count": 16,
   "metadata": {
    "ExecuteTime": {
     "end_time": "2020-06-13T18:54:04.587844Z",
     "start_time": "2020-06-13T18:54:04.582347Z"
    }
   },
   "outputs": [],
   "source": [
    "def mimic_xwalk(df1, df1id, df2, df2id, wt=\"wt\", _id=\"ID\", geom=\"geometry\"):\n",
    "    \"\"\"Mimic NHGIS crosswalk\"\"\"\n",
    "    def wcalc(xa, xid):\n",
    "        \"\"\"Weight calculation helper\"\"\"\n",
    "        return xa / df1.loc[(df1[_id]==xid), geom].squeeze().area\n",
    "    \n",
    "    xw = geopandas.overlay(df1, df2)\n",
    "    xw = xw[[df1id, df2id, geom]]\n",
    "    xw[wt] = xw.apply(lambda rec: wcalc(rec[geom].area, rec[df1id]), axis=1)\n",
    "    xw = extract_higher_ids(xw, [df1id, df2id])\n",
    "    return xw\n",
    "\n",
    "def extract_higher_ids(df, cols):\n",
    "    \"\"\"Extract the higher order IDs\"\"\"\n",
    "    for c in cols:\n",
    "        df[\"_%s\"%c.lower()] = df[c].apply(lambda x: x.split(\".\")[0])\n",
    "    return df"
   ]
  },
  {
   "cell_type": "code",
   "execution_count": 17,
   "metadata": {
    "ExecuteTime": {
     "end_time": "2020-06-13T18:54:04.667078Z",
     "start_time": "2020-06-13T18:54:04.589806Z"
    }
   },
   "outputs": [
    {
     "data": {
      "text/html": [
       "<div>\n",
       "<style scoped>\n",
       "    .dataframe tbody tr th:only-of-type {\n",
       "        vertical-align: middle;\n",
       "    }\n",
       "\n",
       "    .dataframe tbody tr th {\n",
       "        vertical-align: top;\n",
       "    }\n",
       "\n",
       "    .dataframe thead th {\n",
       "        text-align: right;\n",
       "    }\n",
       "</style>\n",
       "<table border=\"1\" class=\"dataframe\">\n",
       "  <thead>\n",
       "    <tr style=\"text-align: right;\">\n",
       "      <th></th>\n",
       "      <th>ID_1</th>\n",
       "      <th>ID_2</th>\n",
       "      <th>geometry</th>\n",
       "      <th>wt</th>\n",
       "      <th>_id_1</th>\n",
       "      <th>_id_2</th>\n",
       "    </tr>\n",
       "  </thead>\n",
       "  <tbody>\n",
       "    <tr>\n",
       "      <th>0</th>\n",
       "      <td>y1_M000.s000</td>\n",
       "      <td>y2_L000.s000</td>\n",
       "      <td>POLYGON ((0.00000 0.00000, 0.00000 2.00000, 2....</td>\n",
       "      <td>0.444444</td>\n",
       "      <td>y1_M000</td>\n",
       "      <td>y2_L000</td>\n",
       "    </tr>\n",
       "    <tr>\n",
       "      <th>1</th>\n",
       "      <td>y1_M000.s000</td>\n",
       "      <td>y2_L000.s100</td>\n",
       "      <td>POLYGON ((0.00000 2.00000, 0.00000 3.00000, 2....</td>\n",
       "      <td>0.222222</td>\n",
       "      <td>y1_M000</td>\n",
       "      <td>y2_L000</td>\n",
       "    </tr>\n",
       "    <tr>\n",
       "      <th>2</th>\n",
       "      <td>y1_M000.s100</td>\n",
       "      <td>y2_L000.s100</td>\n",
       "      <td>POLYGON ((0.00000 3.00000, 0.00000 4.00000, 2....</td>\n",
       "      <td>0.222222</td>\n",
       "      <td>y1_M000</td>\n",
       "      <td>y2_L000</td>\n",
       "    </tr>\n",
       "    <tr>\n",
       "      <th>3</th>\n",
       "      <td>y1_M000.s000</td>\n",
       "      <td>y2_L000.s600</td>\n",
       "      <td>POLYGON ((3.00000 2.00000, 3.00000 0.00000, 2....</td>\n",
       "      <td>0.222222</td>\n",
       "      <td>y1_M000</td>\n",
       "      <td>y2_L000</td>\n",
       "    </tr>\n",
       "    <tr>\n",
       "      <th>4</th>\n",
       "      <td>y1_M000.s200</td>\n",
       "      <td>y2_L000.s600</td>\n",
       "      <td>POLYGON ((3.00000 0.00000, 3.00000 2.00000, 4....</td>\n",
       "      <td>0.222222</td>\n",
       "      <td>y1_M000</td>\n",
       "      <td>y2_L000</td>\n",
       "    </tr>\n",
       "  </tbody>\n",
       "</table>\n",
       "</div>"
      ],
      "text/plain": [
       "           ID_1          ID_2  \\\n",
       "0  y1_M000.s000  y2_L000.s000   \n",
       "1  y1_M000.s000  y2_L000.s100   \n",
       "2  y1_M000.s100  y2_L000.s100   \n",
       "3  y1_M000.s000  y2_L000.s600   \n",
       "4  y1_M000.s200  y2_L000.s600   \n",
       "\n",
       "                                            geometry        wt    _id_1  \\\n",
       "0  POLYGON ((0.00000 0.00000, 0.00000 2.00000, 2....  0.444444  y1_M000   \n",
       "1  POLYGON ((0.00000 2.00000, 0.00000 3.00000, 2....  0.222222  y1_M000   \n",
       "2  POLYGON ((0.00000 3.00000, 0.00000 4.00000, 2....  0.222222  y1_M000   \n",
       "3  POLYGON ((3.00000 2.00000, 3.00000 0.00000, 2....  0.222222  y1_M000   \n",
       "4  POLYGON ((3.00000 0.00000, 3.00000 2.00000, 4....  0.222222  y1_M000   \n",
       "\n",
       "     _id_2  \n",
       "0  y2_L000  \n",
       "1  y2_L000  \n",
       "2  y2_L000  \n",
       "3  y2_L000  \n",
       "4  y2_L000  "
      ]
     },
     "execution_count": 17,
     "metadata": {},
     "output_type": "execute_result"
    }
   ],
   "source": [
    "small_xwalk = mimic_xwalk(year1_small, \"ID_1\", year2_small, \"ID_2\")\n",
    "small_xwalk.head()"
   ]
  },
  {
   "cell_type": "markdown",
   "metadata": {},
   "source": [
    "### Intersecting parts of `year1` and `year2` small units plotted by areal weight of `year1`"
   ]
  },
  {
   "cell_type": "code",
   "execution_count": 18,
   "metadata": {
    "ExecuteTime": {
     "end_time": "2020-06-13T18:54:04.860778Z",
     "start_time": "2020-06-13T18:54:04.668481Z"
    }
   },
   "outputs": [
    {
     "data": {
      "image/png": "[encoded data removed]",
      "text/plain": [
       "<Figure size 504x504 with 1 Axes>"
      ]
     },
     "metadata": {
      "image/png": {
       "height": 411,
       "width": 414
      },
      "needs_background": "light"
     },
     "output_type": "display_data"
    }
   ],
   "source": [
    "small_xwalk.plot(figsize=(7,7), cmap=\"plasma_r\", column=\"wt\", ec=\"k\");"
   ]
  },
  {
   "cell_type": "code",
   "execution_count": 19,
   "metadata": {
    "ExecuteTime": {
     "end_time": "2020-06-13T18:54:04.868619Z",
     "start_time": "2020-06-13T18:54:04.863101Z"
    }
   },
   "outputs": [],
   "source": [
    "small_xwalk.drop(\"geometry\", inplace=True, axis=1)"
   ]
  },
  {
   "cell_type": "markdown",
   "metadata": {},
   "source": [
    "### Map the `year1_small` population to the crosswalk"
   ]
  },
  {
   "cell_type": "code",
   "execution_count": 20,
   "metadata": {
    "ExecuteTime": {
     "end_time": "2020-06-13T18:54:04.887840Z",
     "start_time": "2020-06-13T18:54:04.870933Z"
    }
   },
   "outputs": [
    {
     "data": {
      "text/html": [
       "<div>\n",
       "<style scoped>\n",
       "    .dataframe tbody tr th:only-of-type {\n",
       "        vertical-align: middle;\n",
       "    }\n",
       "\n",
       "    .dataframe tbody tr th {\n",
       "        vertical-align: top;\n",
       "    }\n",
       "\n",
       "    .dataframe thead th {\n",
       "        text-align: right;\n",
       "    }\n",
       "</style>\n",
       "<table border=\"1\" class=\"dataframe\">\n",
       "  <thead>\n",
       "    <tr style=\"text-align: right;\">\n",
       "      <th></th>\n",
       "      <th>ID_1</th>\n",
       "      <th>ID_2</th>\n",
       "      <th>wt</th>\n",
       "      <th>_id_1</th>\n",
       "      <th>_id_2</th>\n",
       "      <th>pop_y1</th>\n",
       "    </tr>\n",
       "  </thead>\n",
       "  <tbody>\n",
       "    <tr>\n",
       "      <th>0</th>\n",
       "      <td>y1_M000.s000</td>\n",
       "      <td>y2_L000.s000</td>\n",
       "      <td>0.444444</td>\n",
       "      <td>y1_M000</td>\n",
       "      <td>y2_L000</td>\n",
       "      <td>1</td>\n",
       "    </tr>\n",
       "    <tr>\n",
       "      <th>1</th>\n",
       "      <td>y1_M000.s000</td>\n",
       "      <td>y2_L000.s100</td>\n",
       "      <td>0.222222</td>\n",
       "      <td>y1_M000</td>\n",
       "      <td>y2_L000</td>\n",
       "      <td>1</td>\n",
       "    </tr>\n",
       "    <tr>\n",
       "      <th>2</th>\n",
       "      <td>y1_M000.s100</td>\n",
       "      <td>y2_L000.s100</td>\n",
       "      <td>0.222222</td>\n",
       "      <td>y1_M000</td>\n",
       "      <td>y2_L000</td>\n",
       "      <td>2</td>\n",
       "    </tr>\n",
       "    <tr>\n",
       "      <th>3</th>\n",
       "      <td>y1_M000.s000</td>\n",
       "      <td>y2_L000.s600</td>\n",
       "      <td>0.222222</td>\n",
       "      <td>y1_M000</td>\n",
       "      <td>y2_L000</td>\n",
       "      <td>1</td>\n",
       "    </tr>\n",
       "    <tr>\n",
       "      <th>4</th>\n",
       "      <td>y1_M000.s200</td>\n",
       "      <td>y2_L000.s600</td>\n",
       "      <td>0.222222</td>\n",
       "      <td>y1_M000</td>\n",
       "      <td>y2_L000</td>\n",
       "      <td>3</td>\n",
       "    </tr>\n",
       "    <tr>\n",
       "      <th>5</th>\n",
       "      <td>y1_M000.s000</td>\n",
       "      <td>y2_L000.s700</td>\n",
       "      <td>0.111111</td>\n",
       "      <td>y1_M000</td>\n",
       "      <td>y2_L000</td>\n",
       "      <td>1</td>\n",
       "    </tr>\n",
       "    <tr>\n",
       "      <th>6</th>\n",
       "      <td>y1_M000.s100</td>\n",
       "      <td>y2_L000.s700</td>\n",
       "      <td>0.111111</td>\n",
       "      <td>y1_M000</td>\n",
       "      <td>y2_L000</td>\n",
       "      <td>2</td>\n",
       "    </tr>\n",
       "    <tr>\n",
       "      <th>7</th>\n",
       "      <td>y1_M000.s200</td>\n",
       "      <td>y2_L000.s700</td>\n",
       "      <td>0.111111</td>\n",
       "      <td>y1_M000</td>\n",
       "      <td>y2_L000</td>\n",
       "      <td>3</td>\n",
       "    </tr>\n",
       "    <tr>\n",
       "      <th>8</th>\n",
       "      <td>y1_M000.s300</td>\n",
       "      <td>y2_L000.s700</td>\n",
       "      <td>0.111111</td>\n",
       "      <td>y1_M000</td>\n",
       "      <td>y2_L000</td>\n",
       "      <td>4</td>\n",
       "    </tr>\n",
       "    <tr>\n",
       "      <th>9</th>\n",
       "      <td>y1_M000.s100</td>\n",
       "      <td>y2_L000.s200</td>\n",
       "      <td>0.444444</td>\n",
       "      <td>y1_M000</td>\n",
       "      <td>y2_L000</td>\n",
       "      <td>2</td>\n",
       "    </tr>\n",
       "  </tbody>\n",
       "</table>\n",
       "</div>"
      ],
      "text/plain": [
       "           ID_1          ID_2        wt    _id_1    _id_2  pop_y1\n",
       "0  y1_M000.s000  y2_L000.s000  0.444444  y1_M000  y2_L000       1\n",
       "1  y1_M000.s000  y2_L000.s100  0.222222  y1_M000  y2_L000       1\n",
       "2  y1_M000.s100  y2_L000.s100  0.222222  y1_M000  y2_L000       2\n",
       "3  y1_M000.s000  y2_L000.s600  0.222222  y1_M000  y2_L000       1\n",
       "4  y1_M000.s200  y2_L000.s600  0.222222  y1_M000  y2_L000       3\n",
       "5  y1_M000.s000  y2_L000.s700  0.111111  y1_M000  y2_L000       1\n",
       "6  y1_M000.s100  y2_L000.s700  0.111111  y1_M000  y2_L000       2\n",
       "7  y1_M000.s200  y2_L000.s700  0.111111  y1_M000  y2_L000       3\n",
       "8  y1_M000.s300  y2_L000.s700  0.111111  y1_M000  y2_L000       4\n",
       "9  y1_M000.s100  y2_L000.s200  0.444444  y1_M000  y2_L000       2"
      ]
     },
     "execution_count": 20,
     "metadata": {},
     "output_type": "execute_result"
    }
   ],
   "source": [
    "pop_mapper = dict(year1_small[[\"ID\", \"pop_y1\"]].values)\n",
    "small_xwalk[\"pop_y1\"] = small_xwalk[\"ID_1\"].map(pop_mapper)\n",
    "small_xwalk.head(10)"
   ]
  },
  {
   "cell_type": "markdown",
   "metadata": {},
   "source": [
    "### Calculate the atoms"
   ]
  },
  {
   "cell_type": "code",
   "execution_count": 21,
   "metadata": {
    "ExecuteTime": {
     "end_time": "2020-06-13T18:54:04.907502Z",
     "start_time": "2020-06-13T18:54:04.890063Z"
    }
   },
   "outputs": [
    {
     "data": {
      "text/html": [
       "<div>\n",
       "<style scoped>\n",
       "    .dataframe tbody tr th:only-of-type {\n",
       "        vertical-align: middle;\n",
       "    }\n",
       "\n",
       "    .dataframe tbody tr th {\n",
       "        vertical-align: top;\n",
       "    }\n",
       "\n",
       "    .dataframe thead th {\n",
       "        text-align: right;\n",
       "    }\n",
       "</style>\n",
       "<table border=\"1\" class=\"dataframe\">\n",
       "  <thead>\n",
       "    <tr style=\"text-align: right;\">\n",
       "      <th></th>\n",
       "      <th>_id_1</th>\n",
       "      <th>_id_2</th>\n",
       "      <th>pop_y1y2</th>\n",
       "    </tr>\n",
       "  </thead>\n",
       "  <tbody>\n",
       "    <tr>\n",
       "      <th>0</th>\n",
       "      <td>y1_M000</td>\n",
       "      <td>y2_L000</td>\n",
       "      <td>1.0</td>\n",
       "    </tr>\n",
       "    <tr>\n",
       "      <th>1</th>\n",
       "      <td>y1_M010</td>\n",
       "      <td>y2_L000</td>\n",
       "      <td>1.0</td>\n",
       "    </tr>\n",
       "    <tr>\n",
       "      <th>2</th>\n",
       "      <td>y1_M020</td>\n",
       "      <td>y2_L010</td>\n",
       "      <td>1.0</td>\n",
       "    </tr>\n",
       "    <tr>\n",
       "      <th>3</th>\n",
       "      <td>y1_M030</td>\n",
       "      <td>y2_L010</td>\n",
       "      <td>1.0</td>\n",
       "    </tr>\n",
       "  </tbody>\n",
       "</table>\n",
       "</div>"
      ],
      "text/plain": [
       "     _id_1    _id_2  pop_y1y2\n",
       "0  y1_M000  y2_L000       1.0\n",
       "1  y1_M010  y2_L000       1.0\n",
       "2  y1_M020  y2_L010       1.0\n",
       "3  y1_M030  y2_L010       1.0"
      ]
     },
     "execution_count": 21,
     "metadata": {},
     "output_type": "execute_result"
    }
   ],
   "source": [
    "atom_df = nhgisxwalk.calculate_atoms(\n",
    "    small_xwalk,\n",
    "    weight=\"wt\",\n",
    "    input_var=\"pop_y1\",\n",
    "    weight_var=\"pop_y1y2\",\n",
    "    source_id=\"_id_1\",\n",
    "    groupby_cols=[\"_id_1\", \"_id_2\"]\n",
    ")\n",
    "atom_df"
   ]
  },
  {
   "cell_type": "code",
   "execution_count": 22,
   "metadata": {
    "ExecuteTime": {
     "end_time": "2020-06-13T18:54:04.914076Z",
     "start_time": "2020-06-13T18:54:04.910129Z"
    }
   },
   "outputs": [
    {
     "data": {
      "text/plain": [
       "4.0"
      ]
     },
     "execution_count": 22,
     "metadata": {},
     "output_type": "execute_result"
    }
   ],
   "source": [
    "atom_df[\"pop_y1y2\"].sum()"
   ]
  },
  {
   "cell_type": "markdown",
   "metadata": {},
   "source": [
    "### Year 1 weighted population in Year 2\n",
    "* year 1 \"small\" units crosswalk year 2 \"small\" units\n",
    "* population of year 1 \"medium\" units built up from comprising year 1 \"small\" units\n",
    "* year 2 \"large\" units built up from comprising year 2 \"small\" units\n",
    "* result is year 1 weighted population estimates based in year 2 geographies"
   ]
  },
  {
   "cell_type": "code",
   "execution_count": 23,
   "metadata": {
    "ExecuteTime": {
     "end_time": "2020-06-13T18:54:04.925315Z",
     "start_time": "2020-06-13T18:54:04.918667Z"
    }
   },
   "outputs": [
    {
     "data": {
      "text/plain": [
       "_id_2\n",
       "y2_L000    2.0\n",
       "y2_L010    2.0\n",
       "Name: pop_y1y2, dtype: float64"
      ]
     },
     "execution_count": 23,
     "metadata": {},
     "output_type": "execute_result"
    }
   ],
   "source": [
    "atom_df.groupby(\"_id_2\")[\"pop_y1y2\"].sum()"
   ]
  },
  {
   "cell_type": "code",
   "execution_count": 24,
   "metadata": {
    "ExecuteTime": {
     "end_time": "2020-06-13T18:54:04.932878Z",
     "start_time": "2020-06-13T18:54:04.928042Z"
    }
   },
   "outputs": [],
   "source": [
    "M0s0 = year1_small[year1_small[\"ID\"] == \"y1_M000.s000\"]\n",
    "M0s1 = year1_small[year1_small[\"ID\"] == \"y1_M000.s100\"]"
   ]
  },
  {
   "cell_type": "markdown",
   "metadata": {
    "ExecuteTime": {
     "end_time": "2020-04-14T23:01:05.359996Z",
     "start_time": "2020-04-14T23:01:05.351263Z"
    }
   },
   "source": [
    "### One unit of each geography over plotted `year_1` population"
   ]
  },
  {
   "cell_type": "code",
   "execution_count": 25,
   "metadata": {
    "ExecuteTime": {
     "end_time": "2020-06-13T18:54:05.213691Z",
     "start_time": "2020-06-13T18:54:04.935143Z"
    }
   },
   "outputs": [
    {
     "data": {
      "image/png": "[encoded data removed]",
      "text/plain": [
       "<Figure size 504x504 with 1 Axes>"
      ]
     },
     "metadata": {
      "image/png": {
       "height": 411,
       "width": 414
      },
      "needs_background": "light"
     },
     "output_type": "display_data"
    }
   ],
   "source": [
    "M000 = year1_medium[year1_medium[\"ID\"] == \"y1_M000\"]\n",
    "L000 = year2_large[year2_large[\"ID\"] == \"y2_L000\"]\n",
    "y1_M000s000 = year1_small[year1_small[\"ID\"] == \"y1_M000.s000\"]\n",
    "y2_L000s000 = year2_small[year2_small[\"ID\"] == \"y2_L000.s000\"]\n",
    "# plot\n",
    "base = year1_small.plot(figsize=(7,7), cmap=\"plasma_r\", column=\"pop_y1\", zorder=0)\n",
    "L000.plot(ax=base, ec=\"black\", fc=\"None\", lw=7, zorder=1)\n",
    "M000.plot(ax=base, ec=\"green\", fc=\"None\", lw=4, zorder=2)\n",
    "y1_M000s000.plot(ax=base, ec=\"blue\", fc=\"None\", lw=4, zorder=3)\n",
    "y2_L000s000.plot(ax=base, ec=\"red\", fc=\"None\", lw=4, zorder=4);"
   ]
  },
  {
   "cell_type": "markdown",
   "metadata": {},
   "source": [
    "\n",
    "--------------------\n",
    "\n",
    "## 3. Larger synthetic example with visualization — imperfect"
   ]
  },
  {
   "cell_type": "code",
   "execution_count": 26,
   "metadata": {
    "ExecuteTime": {
     "end_time": "2020-06-13T18:54:05.557651Z",
     "start_time": "2020-06-13T18:54:05.215554Z"
    }
   },
   "outputs": [
    {
     "data": {
      "image/png": "[encoded data removed]",
      "text/plain": [
       "<Figure size 504x504 with 1 Axes>"
      ]
     },
     "metadata": {
      "image/png": {
       "height": 323,
       "width": 730
      },
      "needs_background": "light"
     },
     "output_type": "display_data"
    }
   ],
   "source": [
    "area = 12, 12\n",
    "lparams = (0, 0, *area)\n",
    "# ~ 1990 blocks\n",
    "year1_small = regular_lattice(lparams, 3, 3)\n",
    "# ~ 2010 blocks\n",
    "year2_small = irregular_lattice(\n",
    "    [\n",
    "        ((-2,2), (6,2), (6,6), (-2,6)),\n",
    "        ((6,2), (14,2), (14,6), (6,6)),\n",
    "        ((-2,6), (6,6), (6,10), (-2,10)),\n",
    "        ((6,6), (14,6), (14,10), (6,10))\n",
    "    ]\n",
    ")\n",
    "# ~ 1990 block group parts\n",
    "year1_medium = regular_lattice(lparams, 4, 4)\n",
    "# ~ 2010 tracts\n",
    "year2_large = irregular_lattice(\n",
    "    [((-2,2), (6,2), (6,10), (-2,10)), ((6,2), (14,2), (14,10), (6,10))]\n",
    ")\n",
    "plotter()"
   ]
  },
  {
   "cell_type": "code",
   "execution_count": 27,
   "metadata": {
    "ExecuteTime": {
     "end_time": "2020-06-13T18:54:05.613484Z",
     "start_time": "2020-06-13T18:54:05.560128Z"
    }
   },
   "outputs": [],
   "source": [
    "year1_medium, year1_small = hiearchy_ids(year1_medium, year1_small, \"y1_M\")\n",
    "year2_large, year2_small = hiearchy_ids(year2_large, year2_small, \"y2_L\")"
   ]
  },
  {
   "cell_type": "code",
   "execution_count": 28,
   "metadata": {
    "ExecuteTime": {
     "end_time": "2020-06-13T18:54:05.619921Z",
     "start_time": "2020-06-13T18:54:05.615123Z"
    }
   },
   "outputs": [
    {
     "data": {
      "text/plain": [
       "666"
      ]
     },
     "execution_count": 28,
     "metadata": {},
     "output_type": "execute_result"
    }
   ],
   "source": [
    "year1_small[\"pop_y1\"] = range(1,year1_small.shape[0]+1)\n",
    "year1_small[\"pop_y1\"].sum()"
   ]
  },
  {
   "cell_type": "code",
   "execution_count": 29,
   "metadata": {
    "ExecuteTime": {
     "end_time": "2020-06-13T18:54:05.675861Z",
     "start_time": "2020-06-13T18:54:05.621666Z"
    }
   },
   "outputs": [
    {
     "data": {
      "text/html": [
       "<div>\n",
       "<style scoped>\n",
       "    .dataframe tbody tr th:only-of-type {\n",
       "        vertical-align: middle;\n",
       "    }\n",
       "\n",
       "    .dataframe tbody tr th {\n",
       "        vertical-align: top;\n",
       "    }\n",
       "\n",
       "    .dataframe thead th {\n",
       "        text-align: right;\n",
       "    }\n",
       "</style>\n",
       "<table border=\"1\" class=\"dataframe\">\n",
       "  <thead>\n",
       "    <tr style=\"text-align: right;\">\n",
       "      <th></th>\n",
       "      <th>ID_1</th>\n",
       "      <th>ID_2</th>\n",
       "      <th>geometry</th>\n",
       "      <th>wt</th>\n",
       "      <th>_id_1</th>\n",
       "      <th>_id_2</th>\n",
       "    </tr>\n",
       "  </thead>\n",
       "  <tbody>\n",
       "    <tr>\n",
       "      <th>0</th>\n",
       "      <td>y1_M000.s000</td>\n",
       "      <td>y2_L000.s000</td>\n",
       "      <td>POLYGON ((0.00000 2.00000, 0.00000 3.00000, 3....</td>\n",
       "      <td>0.333333</td>\n",
       "      <td>y1_M000</td>\n",
       "      <td>y2_L000</td>\n",
       "    </tr>\n",
       "    <tr>\n",
       "      <th>1</th>\n",
       "      <td>y1_M000.s100</td>\n",
       "      <td>y2_L000.s000</td>\n",
       "      <td>POLYGON ((0.00000 3.00000, 0.00000 4.00000, 3....</td>\n",
       "      <td>1.000000</td>\n",
       "      <td>y1_M000</td>\n",
       "      <td>y2_L000</td>\n",
       "    </tr>\n",
       "    <tr>\n",
       "      <th>2</th>\n",
       "      <td>y1_M000.s200</td>\n",
       "      <td>y2_L000.s000</td>\n",
       "      <td>POLYGON ((3.00000 2.00000, 3.00000 3.00000, 4....</td>\n",
       "      <td>0.333333</td>\n",
       "      <td>y1_M000</td>\n",
       "      <td>y2_L000</td>\n",
       "    </tr>\n",
       "    <tr>\n",
       "      <th>3</th>\n",
       "      <td>y1_M000.s300</td>\n",
       "      <td>y2_L000.s000</td>\n",
       "      <td>POLYGON ((3.00000 3.00000, 3.00000 4.00000, 4....</td>\n",
       "      <td>1.000000</td>\n",
       "      <td>y1_M000</td>\n",
       "      <td>y2_L000</td>\n",
       "    </tr>\n",
       "    <tr>\n",
       "      <th>4</th>\n",
       "      <td>y1_M010.s000</td>\n",
       "      <td>y2_L000.s000</td>\n",
       "      <td>POLYGON ((0.00000 4.00000, 0.00000 6.00000, 3....</td>\n",
       "      <td>1.000000</td>\n",
       "      <td>y1_M010</td>\n",
       "      <td>y2_L000</td>\n",
       "    </tr>\n",
       "  </tbody>\n",
       "</table>\n",
       "</div>"
      ],
      "text/plain": [
       "           ID_1          ID_2  \\\n",
       "0  y1_M000.s000  y2_L000.s000   \n",
       "1  y1_M000.s100  y2_L000.s000   \n",
       "2  y1_M000.s200  y2_L000.s000   \n",
       "3  y1_M000.s300  y2_L000.s000   \n",
       "4  y1_M010.s000  y2_L000.s000   \n",
       "\n",
       "                                            geometry        wt    _id_1  \\\n",
       "0  POLYGON ((0.00000 2.00000, 0.00000 3.00000, 3....  0.333333  y1_M000   \n",
       "1  POLYGON ((0.00000 3.00000, 0.00000 4.00000, 3....  1.000000  y1_M000   \n",
       "2  POLYGON ((3.00000 2.00000, 3.00000 3.00000, 4....  0.333333  y1_M000   \n",
       "3  POLYGON ((3.00000 3.00000, 3.00000 4.00000, 4....  1.000000  y1_M000   \n",
       "4  POLYGON ((0.00000 4.00000, 0.00000 6.00000, 3....  1.000000  y1_M010   \n",
       "\n",
       "     _id_2  \n",
       "0  y2_L000  \n",
       "1  y2_L000  \n",
       "2  y2_L000  \n",
       "3  y2_L000  \n",
       "4  y2_L000  "
      ]
     },
     "execution_count": 29,
     "metadata": {},
     "output_type": "execute_result"
    }
   ],
   "source": [
    "small_xwalk = mimic_xwalk(year1_small, \"ID_1\", year2_small, \"ID_2\")\n",
    "small_xwalk.head()"
   ]
  },
  {
   "cell_type": "code",
   "execution_count": 30,
   "metadata": {
    "ExecuteTime": {
     "end_time": "2020-06-13T18:54:05.911230Z",
     "start_time": "2020-06-13T18:54:05.677910Z"
    }
   },
   "outputs": [
    {
     "data": {
      "image/png": "[encoded data removed]",
      "text/plain": [
       "<Figure size 504x504 with 1 Axes>"
      ]
     },
     "metadata": {
      "image/png": {
       "height": 411,
       "width": 414
      },
      "needs_background": "light"
     },
     "output_type": "display_data"
    }
   ],
   "source": [
    "base = small_xwalk.plot(figsize=(7,7), cmap=\"plasma_r\", column=\"wt\", ec=\"k\")\n",
    "year1_small.plot(ax=base, fc=\"None\", ec=\"k\");"
   ]
  },
  {
   "cell_type": "code",
   "execution_count": 31,
   "metadata": {
    "ExecuteTime": {
     "end_time": "2020-06-13T18:54:05.918902Z",
     "start_time": "2020-06-13T18:54:05.913465Z"
    }
   },
   "outputs": [],
   "source": [
    "small_xwalk.drop(\"geometry\", inplace=True, axis=1)"
   ]
  },
  {
   "cell_type": "code",
   "execution_count": 32,
   "metadata": {
    "ExecuteTime": {
     "end_time": "2020-06-13T18:54:05.937875Z",
     "start_time": "2020-06-13T18:54:05.920995Z"
    }
   },
   "outputs": [
    {
     "data": {
      "text/html": [
       "<div>\n",
       "<style scoped>\n",
       "    .dataframe tbody tr th:only-of-type {\n",
       "        vertical-align: middle;\n",
       "    }\n",
       "\n",
       "    .dataframe tbody tr th {\n",
       "        vertical-align: top;\n",
       "    }\n",
       "\n",
       "    .dataframe thead th {\n",
       "        text-align: right;\n",
       "    }\n",
       "</style>\n",
       "<table border=\"1\" class=\"dataframe\">\n",
       "  <thead>\n",
       "    <tr style=\"text-align: right;\">\n",
       "      <th></th>\n",
       "      <th>ID_1</th>\n",
       "      <th>ID_2</th>\n",
       "      <th>wt</th>\n",
       "      <th>_id_1</th>\n",
       "      <th>_id_2</th>\n",
       "      <th>pop_y1</th>\n",
       "    </tr>\n",
       "  </thead>\n",
       "  <tbody>\n",
       "    <tr>\n",
       "      <th>0</th>\n",
       "      <td>y1_M000.s000</td>\n",
       "      <td>y2_L000.s000</td>\n",
       "      <td>0.333333</td>\n",
       "      <td>y1_M000</td>\n",
       "      <td>y2_L000</td>\n",
       "      <td>1</td>\n",
       "    </tr>\n",
       "    <tr>\n",
       "      <th>1</th>\n",
       "      <td>y1_M000.s100</td>\n",
       "      <td>y2_L000.s000</td>\n",
       "      <td>1.000000</td>\n",
       "      <td>y1_M000</td>\n",
       "      <td>y2_L000</td>\n",
       "      <td>2</td>\n",
       "    </tr>\n",
       "    <tr>\n",
       "      <th>2</th>\n",
       "      <td>y1_M000.s200</td>\n",
       "      <td>y2_L000.s000</td>\n",
       "      <td>0.333333</td>\n",
       "      <td>y1_M000</td>\n",
       "      <td>y2_L000</td>\n",
       "      <td>3</td>\n",
       "    </tr>\n",
       "    <tr>\n",
       "      <th>3</th>\n",
       "      <td>y1_M000.s300</td>\n",
       "      <td>y2_L000.s000</td>\n",
       "      <td>1.000000</td>\n",
       "      <td>y1_M000</td>\n",
       "      <td>y2_L000</td>\n",
       "      <td>4</td>\n",
       "    </tr>\n",
       "    <tr>\n",
       "      <th>4</th>\n",
       "      <td>y1_M010.s000</td>\n",
       "      <td>y2_L000.s000</td>\n",
       "      <td>1.000000</td>\n",
       "      <td>y1_M010</td>\n",
       "      <td>y2_L000</td>\n",
       "      <td>5</td>\n",
       "    </tr>\n",
       "    <tr>\n",
       "      <th>5</th>\n",
       "      <td>y1_M010.s200</td>\n",
       "      <td>y2_L000.s000</td>\n",
       "      <td>1.000000</td>\n",
       "      <td>y1_M010</td>\n",
       "      <td>y2_L000</td>\n",
       "      <td>7</td>\n",
       "    </tr>\n",
       "    <tr>\n",
       "      <th>6</th>\n",
       "      <td>y1_M030.s000</td>\n",
       "      <td>y2_L000.s000</td>\n",
       "      <td>0.333333</td>\n",
       "      <td>y1_M030</td>\n",
       "      <td>y2_L000</td>\n",
       "      <td>13</td>\n",
       "    </tr>\n",
       "    <tr>\n",
       "      <th>7</th>\n",
       "      <td>y1_M030.s100</td>\n",
       "      <td>y2_L000.s000</td>\n",
       "      <td>1.000000</td>\n",
       "      <td>y1_M030</td>\n",
       "      <td>y2_L000</td>\n",
       "      <td>14</td>\n",
       "    </tr>\n",
       "    <tr>\n",
       "      <th>8</th>\n",
       "      <td>y1_M040.s000</td>\n",
       "      <td>y2_L000.s000</td>\n",
       "      <td>1.000000</td>\n",
       "      <td>y1_M040</td>\n",
       "      <td>y2_L000</td>\n",
       "      <td>17</td>\n",
       "    </tr>\n",
       "    <tr>\n",
       "      <th>9</th>\n",
       "      <td>y1_M010.s100</td>\n",
       "      <td>y2_L000.s100</td>\n",
       "      <td>1.000000</td>\n",
       "      <td>y1_M010</td>\n",
       "      <td>y2_L000</td>\n",
       "      <td>6</td>\n",
       "    </tr>\n",
       "  </tbody>\n",
       "</table>\n",
       "</div>"
      ],
      "text/plain": [
       "           ID_1          ID_2        wt    _id_1    _id_2  pop_y1\n",
       "0  y1_M000.s000  y2_L000.s000  0.333333  y1_M000  y2_L000       1\n",
       "1  y1_M000.s100  y2_L000.s000  1.000000  y1_M000  y2_L000       2\n",
       "2  y1_M000.s200  y2_L000.s000  0.333333  y1_M000  y2_L000       3\n",
       "3  y1_M000.s300  y2_L000.s000  1.000000  y1_M000  y2_L000       4\n",
       "4  y1_M010.s000  y2_L000.s000  1.000000  y1_M010  y2_L000       5\n",
       "5  y1_M010.s200  y2_L000.s000  1.000000  y1_M010  y2_L000       7\n",
       "6  y1_M030.s000  y2_L000.s000  0.333333  y1_M030  y2_L000      13\n",
       "7  y1_M030.s100  y2_L000.s000  1.000000  y1_M030  y2_L000      14\n",
       "8  y1_M040.s000  y2_L000.s000  1.000000  y1_M040  y2_L000      17\n",
       "9  y1_M010.s100  y2_L000.s100  1.000000  y1_M010  y2_L000       6"
      ]
     },
     "execution_count": 32,
     "metadata": {},
     "output_type": "execute_result"
    }
   ],
   "source": [
    "pop_mapper = dict(year1_small[[\"ID\", \"pop_y1\"]].values)\n",
    "small_xwalk[\"pop_y1\"] = small_xwalk[\"ID_1\"].map(pop_mapper)\n",
    "small_xwalk.head(10)"
   ]
  },
  {
   "cell_type": "code",
   "execution_count": 33,
   "metadata": {
    "ExecuteTime": {
     "end_time": "2020-06-13T18:54:05.958494Z",
     "start_time": "2020-06-13T18:54:05.939849Z"
    }
   },
   "outputs": [
    {
     "data": {
      "text/html": [
       "<div>\n",
       "<style scoped>\n",
       "    .dataframe tbody tr th:only-of-type {\n",
       "        vertical-align: middle;\n",
       "    }\n",
       "\n",
       "    .dataframe tbody tr th {\n",
       "        vertical-align: top;\n",
       "    }\n",
       "\n",
       "    .dataframe thead th {\n",
       "        text-align: right;\n",
       "    }\n",
       "</style>\n",
       "<table border=\"1\" class=\"dataframe\">\n",
       "  <thead>\n",
       "    <tr style=\"text-align: right;\">\n",
       "      <th></th>\n",
       "      <th>_id_1</th>\n",
       "      <th>_id_2</th>\n",
       "      <th>pop_y1y2</th>\n",
       "    </tr>\n",
       "  </thead>\n",
       "  <tbody>\n",
       "    <tr>\n",
       "      <th>0</th>\n",
       "      <td>y1_M000</td>\n",
       "      <td>y2_L000</td>\n",
       "      <td>1.000000</td>\n",
       "    </tr>\n",
       "    <tr>\n",
       "      <th>1</th>\n",
       "      <td>y1_M010</td>\n",
       "      <td>y2_L000</td>\n",
       "      <td>1.000000</td>\n",
       "    </tr>\n",
       "    <tr>\n",
       "      <th>2</th>\n",
       "      <td>y1_M020</td>\n",
       "      <td>y2_L000</td>\n",
       "      <td>1.000000</td>\n",
       "    </tr>\n",
       "    <tr>\n",
       "      <th>3</th>\n",
       "      <td>y1_M030</td>\n",
       "      <td>y2_L000</td>\n",
       "      <td>0.466102</td>\n",
       "    </tr>\n",
       "    <tr>\n",
       "      <th>4</th>\n",
       "      <td>y1_M030</td>\n",
       "      <td>y2_L010</td>\n",
       "      <td>0.533898</td>\n",
       "    </tr>\n",
       "    <tr>\n",
       "      <th>5</th>\n",
       "      <td>y1_M040</td>\n",
       "      <td>y2_L000</td>\n",
       "      <td>0.472973</td>\n",
       "    </tr>\n",
       "    <tr>\n",
       "      <th>6</th>\n",
       "      <td>y1_M040</td>\n",
       "      <td>y2_L010</td>\n",
       "      <td>0.527027</td>\n",
       "    </tr>\n",
       "    <tr>\n",
       "      <th>7</th>\n",
       "      <td>y1_M050</td>\n",
       "      <td>y2_L000</td>\n",
       "      <td>0.477528</td>\n",
       "    </tr>\n",
       "    <tr>\n",
       "      <th>8</th>\n",
       "      <td>y1_M050</td>\n",
       "      <td>y2_L010</td>\n",
       "      <td>0.522472</td>\n",
       "    </tr>\n",
       "    <tr>\n",
       "      <th>9</th>\n",
       "      <td>y1_M060</td>\n",
       "      <td>y2_L010</td>\n",
       "      <td>1.000000</td>\n",
       "    </tr>\n",
       "    <tr>\n",
       "      <th>10</th>\n",
       "      <td>y1_M070</td>\n",
       "      <td>y2_L010</td>\n",
       "      <td>1.000000</td>\n",
       "    </tr>\n",
       "    <tr>\n",
       "      <th>11</th>\n",
       "      <td>y1_M080</td>\n",
       "      <td>y2_L010</td>\n",
       "      <td>1.000000</td>\n",
       "    </tr>\n",
       "  </tbody>\n",
       "</table>\n",
       "</div>"
      ],
      "text/plain": [
       "      _id_1    _id_2  pop_y1y2\n",
       "0   y1_M000  y2_L000  1.000000\n",
       "1   y1_M010  y2_L000  1.000000\n",
       "2   y1_M020  y2_L000  1.000000\n",
       "3   y1_M030  y2_L000  0.466102\n",
       "4   y1_M030  y2_L010  0.533898\n",
       "5   y1_M040  y2_L000  0.472973\n",
       "6   y1_M040  y2_L010  0.527027\n",
       "7   y1_M050  y2_L000  0.477528\n",
       "8   y1_M050  y2_L010  0.522472\n",
       "9   y1_M060  y2_L010  1.000000\n",
       "10  y1_M070  y2_L010  1.000000\n",
       "11  y1_M080  y2_L010  1.000000"
      ]
     },
     "execution_count": 33,
     "metadata": {},
     "output_type": "execute_result"
    }
   ],
   "source": [
    "atom_df = nhgisxwalk.calculate_atoms(\n",
    "    small_xwalk,\n",
    "    weight=\"wt\",\n",
    "    input_var=\"pop_y1\",\n",
    "    weight_var=\"pop_y1y2\",\n",
    "    source_id=\"_id_1\",\n",
    "    groupby_cols=[\"_id_1\", \"_id_2\"]\n",
    ")\n",
    "atom_df"
   ]
  },
  {
   "cell_type": "code",
   "execution_count": 34,
   "metadata": {
    "ExecuteTime": {
     "end_time": "2020-06-13T18:54:05.965288Z",
     "start_time": "2020-06-13T18:54:05.960972Z"
    }
   },
   "outputs": [
    {
     "data": {
      "text/plain": [
       "9.0"
      ]
     },
     "execution_count": 34,
     "metadata": {},
     "output_type": "execute_result"
    }
   ],
   "source": [
    "atom_df[\"pop_y1y2\"].sum()"
   ]
  },
  {
   "cell_type": "code",
   "execution_count": 35,
   "metadata": {
    "ExecuteTime": {
     "end_time": "2020-06-13T18:54:06.165258Z",
     "start_time": "2020-06-13T18:54:05.967279Z"
    }
   },
   "outputs": [
    {
     "data": {
      "image/png": "[encoded data removed]",
      "text/plain": [
       "<Figure size 504x504 with 1 Axes>"
      ]
     },
     "metadata": {
      "image/png": {
       "height": 323,
       "width": 424
      },
      "needs_background": "light"
     },
     "output_type": "display_data"
    }
   ],
   "source": [
    "base = year1_small.plot(figsize=(7,7), cmap=\"plasma_r\", column=\"pop_y1\", zorder=0)\n",
    "year2_small.plot(ax=base, fc=\"None\", ec=\"k\");"
   ]
  },
  {
   "cell_type": "markdown",
   "metadata": {},
   "source": [
    "-------------------"
   ]
  }
 ],
 "metadata": {
  "_draft": {
   "nbviewer_url": "https://gist.github.com/9f032b7713179dec292def31fe34954d"
  },
  "gist": {
   "data": {
    "description": "synthetic-example.ipynb",
    "public": true
   },
   "id": "9f032b7713179dec292def31fe34954d"
  },
  "kernelspec": {
   "display_name": "Python [conda env:nhgis]",
   "language": "python",
   "name": "conda-env-nhgis-py"
  },
  "language_info": {
   "codemirror_mode": {
    "name": "ipython",
    "version": 3
   },
   "file_extension": ".py",
   "mimetype": "text/x-python",
   "name": "python",
   "nbconvert_exporter": "python",
   "pygments_lexer": "ipython3",
   "version": "3.7.6"
  }
 },
 "nbformat": 4,
 "nbformat_minor": 4
}
