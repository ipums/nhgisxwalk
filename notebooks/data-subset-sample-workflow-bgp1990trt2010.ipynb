{
 "cells": [
  {
   "cell_type": "markdown",
   "metadata": {},
   "source": [
    "# Sample workflow: 1990 block group parts to 2010 tracts\n",
    "\n",
    "## Starting from a subset of 2010 Delaware blocks\n",
    "\n",
    "For further background information see:\n",
    "* **Schroeder, J. P**. 2007. *Target-density weighting interpolation and uncertainty evaluation for temporal analysis of census data*. Geographical Analysis 39 (3):311–335.\n",
    "\n",
    "#### NHGIS [block crosswalks](https://www.nhgis.org/user-resources/geographic-crosswalks)"
   ]
  },
  {
   "cell_type": "code",
   "execution_count": 1,
   "metadata": {
    "ExecuteTime": {
     "end_time": "2020-06-13T18:43:33.607536Z",
     "start_time": "2020-06-13T18:43:33.585520Z"
    }
   },
   "outputs": [
    {
     "name": "stdout",
     "output_type": "stream",
     "text": [
      "2020-06-13T14:43:33-04:00\n",
      "\n",
      "CPython 3.7.6\n",
      "IPython 7.15.0\n",
      "\n",
      "compiler   : Clang 9.0.1 \n",
      "system     : Darwin\n",
      "release    : 19.5.0\n",
      "machine    : x86_64\n",
      "processor  : i386\n",
      "CPU cores  : 8\n",
      "interpreter: 64bit\n"
     ]
    }
   ],
   "source": [
    "%load_ext watermark\n",
    "%watermark"
   ]
  },
  {
   "cell_type": "code",
   "execution_count": 2,
   "metadata": {
    "ExecuteTime": {
     "end_time": "2020-06-13T18:43:33.875831Z",
     "start_time": "2020-06-13T18:43:33.609578Z"
    }
   },
   "outputs": [
    {
     "name": "stdout",
     "output_type": "stream",
     "text": [
      "watermark 2.0.2\n",
      "numpy      1.18.5\n",
      "nhgisxwalk 0.0.2\n",
      "pandas     1.0.4\n",
      "\n"
     ]
    }
   ],
   "source": [
    "import nhgisxwalk\n",
    "import inspect\n",
    "import numpy\n",
    "import pandas\n",
    "\n",
    "%load_ext autoreload\n",
    "%autoreload 2\n",
    "%watermark -w\n",
    "%watermark -iv"
   ]
  },
  {
   "cell_type": "markdown",
   "metadata": {},
   "source": [
    "### Source and target years for the crosswalk"
   ]
  },
  {
   "cell_type": "code",
   "execution_count": 3,
   "metadata": {
    "ExecuteTime": {
     "end_time": "2020-06-13T18:43:33.897850Z",
     "start_time": "2020-06-13T18:43:33.878484Z"
    }
   },
   "outputs": [],
   "source": [
    "source_year, target_year = \"1990\", \"2010\""
   ]
  },
  {
   "cell_type": "markdown",
   "metadata": {},
   "source": [
    "### Source-target building base"
   ]
  },
  {
   "cell_type": "code",
   "execution_count": 4,
   "metadata": {
    "ExecuteTime": {
     "end_time": "2020-06-13T18:43:33.977137Z",
     "start_time": "2020-06-13T18:43:33.900035Z"
    }
   },
   "outputs": [
    {
     "data": {
      "text/html": [
       "<div>\n",
       "<style scoped>\n",
       "    .dataframe tbody tr th:only-of-type {\n",
       "        vertical-align: middle;\n",
       "    }\n",
       "\n",
       "    .dataframe tbody tr th {\n",
       "        vertical-align: top;\n",
       "    }\n",
       "\n",
       "    .dataframe thead th {\n",
       "        text-align: right;\n",
       "    }\n",
       "</style>\n",
       "<table border=\"1\" class=\"dataframe\">\n",
       "  <thead>\n",
       "    <tr style=\"text-align: right;\">\n",
       "      <th></th>\n",
       "      <th>GJOIN1990</th>\n",
       "      <th>GJOIN2010</th>\n",
       "      <th>WEIGHT</th>\n",
       "      <th>PAREA_VIA_BLK00</th>\n",
       "    </tr>\n",
       "  </thead>\n",
       "  <tbody>\n",
       "    <tr>\n",
       "      <th>0</th>\n",
       "      <td>NaN</td>\n",
       "      <td>G10000100432021078</td>\n",
       "      <td>0.0</td>\n",
       "      <td>0.0</td>\n",
       "    </tr>\n",
       "    <tr>\n",
       "      <th>1</th>\n",
       "      <td>NaN</td>\n",
       "      <td>G10000100432023014</td>\n",
       "      <td>0.0</td>\n",
       "      <td>0.0</td>\n",
       "    </tr>\n",
       "    <tr>\n",
       "      <th>2</th>\n",
       "      <td>NaN</td>\n",
       "      <td>G10000100432023015</td>\n",
       "      <td>0.0</td>\n",
       "      <td>0.0</td>\n",
       "    </tr>\n",
       "    <tr>\n",
       "      <th>3</th>\n",
       "      <td>NaN</td>\n",
       "      <td>G10000109900000011</td>\n",
       "      <td>0.0</td>\n",
       "      <td>0.0</td>\n",
       "    </tr>\n",
       "    <tr>\n",
       "      <th>4</th>\n",
       "      <td>NaN</td>\n",
       "      <td>G10000109900000012</td>\n",
       "      <td>0.0</td>\n",
       "      <td>0.0</td>\n",
       "    </tr>\n",
       "  </tbody>\n",
       "</table>\n",
       "</div>"
      ],
      "text/plain": [
       "  GJOIN1990           GJOIN2010  WEIGHT  PAREA_VIA_BLK00\n",
       "0       NaN  G10000100432021078     0.0              0.0\n",
       "1       NaN  G10000100432023014     0.0              0.0\n",
       "2       NaN  G10000100432023015     0.0              0.0\n",
       "3       NaN  G10000109900000011     0.0              0.0\n",
       "4       NaN  G10000109900000012     0.0              0.0"
      ]
     },
     "execution_count": 4,
     "metadata": {},
     "output_type": "execute_result"
    }
   ],
   "source": [
    "subset_data_dir = \"../testing_data_subsets\"\n",
    "base_xwalk_name = \"/nhgis_blk%s_blk%s_gj.csv.zip\" % (source_year, target_year)\n",
    "base_xwalk_file = subset_data_dir + base_xwalk_name\n",
    "data_types = nhgisxwalk.str_types([\"GJOIN%s\"%source_year, \"GJOIN%s\"%target_year])\n",
    "base_xwalk = pandas.read_csv(base_xwalk_file, index_col=0, dtype=data_types)\n",
    "base_xwalk.head()"
   ]
  },
  {
   "cell_type": "markdown",
   "metadata": {},
   "source": [
    "### Source supplementary summary data (special case for 1990)"
   ]
  },
  {
   "cell_type": "code",
   "execution_count": 5,
   "metadata": {
    "ExecuteTime": {
     "end_time": "2020-06-13T18:43:33.998026Z",
     "start_time": "2020-06-13T18:43:33.978673Z"
    }
   },
   "outputs": [],
   "source": [
    "supp_source_name = \"%s_blck_grp_598_103.csv.zip\" % source_year\n",
    "supp_source_file = subset_data_dir + supp_source_name"
   ]
  },
  {
   "cell_type": "markdown",
   "metadata": {},
   "source": [
    "### Convenience code shorthand/lookup"
   ]
  },
  {
   "cell_type": "code",
   "execution_count": 6,
   "metadata": {
    "ExecuteTime": {
     "end_time": "2020-06-13T18:43:34.020936Z",
     "start_time": "2020-06-13T18:43:34.000021Z"
    }
   },
   "outputs": [
    {
     "name": "stdout",
     "output_type": "stream",
     "text": [
      "def valid_geo_shorthand(shorthand_name=True):\n",
      "    \"\"\"Shorthand lookups for census geographies.\"\"\"\n",
      "    lookup = {\n",
      "        \"blk\": \"block\",\n",
      "        \"bgp\": \"block group part\",\n",
      "        \"bkg\": \"block group\",\n",
      "        \"trt\": \"tract\",\n",
      "        \"cty\": \"county\",\n",
      "    }\n",
      "    if not shorthand_name:\n",
      "        lookup = {v: k for k, v in lookup.items()}\n",
      "    return lookup\n",
      "\n"
     ]
    }
   ],
   "source": [
    "print(inspect.getsource(nhgisxwalk.valid_geo_shorthand))"
   ]
  },
  {
   "cell_type": "code",
   "execution_count": 7,
   "metadata": {
    "ExecuteTime": {
     "end_time": "2020-06-13T18:43:34.042357Z",
     "start_time": "2020-06-13T18:43:34.022597Z"
    }
   },
   "outputs": [
    {
     "data": {
      "text/plain": [
       "{'block': 'blk',\n",
       " 'block group part': 'bgp',\n",
       " 'block group': 'bkg',\n",
       " 'tract': 'trt',\n",
       " 'county': 'cty'}"
      ]
     },
     "execution_count": 7,
     "metadata": {},
     "output_type": "execute_result"
    }
   ],
   "source": [
    "nhgisxwalk.valid_geo_shorthand(shorthand_name=False)"
   ]
  },
  {
   "cell_type": "markdown",
   "metadata": {},
   "source": [
    "### Instantiate an `nhgisxwalk.GeoCrossWalk` object\n",
    "##### see [nhgisxwalk.GeoCrossWalk](https://github.com/jGaboardi/nhgisxwalk/blob/92b4fe55de0a9c53d0315dcda8ec121faaf20aef/nhgisxwalk/geocrosswalk.py#L19) for full details"
   ]
  },
  {
   "cell_type": "code",
   "execution_count": 8,
   "metadata": {
    "ExecuteTime": {
     "end_time": "2020-06-13T18:43:34.068952Z",
     "start_time": "2020-06-13T18:43:34.046718Z"
    }
   },
   "outputs": [
    {
     "data": {
      "text/plain": [
       "{'Persons': {'Persons': 'Universe',\n",
       "  'NP1': 'Source code',\n",
       "  'ET1': 'NHGIS code',\n",
       "  'Total': 'ET1001'},\n",
       " 'Families': {'Families': 'Universe',\n",
       "  'NP2': 'Source code',\n",
       "  'EUD': 'NHGIS code',\n",
       "  'Total': 'EUD001'},\n",
       " 'Households': {'Households': 'Universe',\n",
       "  'NP3': 'Source code',\n",
       "  'EUO': 'NHGIS code',\n",
       "  'Total': 'EUO001'},\n",
       " 'Housing Units': {'Housing Units': 'Universe',\n",
       "  'NH1': 'Source code',\n",
       "  'ESA': 'NHGIS code',\n",
       "  'Total': 'ESA001'}}"
      ]
     },
     "execution_count": 8,
     "metadata": {},
     "output_type": "execute_result"
    }
   ],
   "source": [
    "nhgisxwalk.desc_code_1990"
   ]
  },
  {
   "cell_type": "code",
   "execution_count": 9,
   "metadata": {
    "ExecuteTime": {
     "end_time": "2020-06-13T18:43:34.091893Z",
     "start_time": "2020-06-13T18:43:34.070846Z"
    }
   },
   "outputs": [
    {
     "data": {
      "text/plain": [
       "['ET1001', 'EUD001', 'EUO001', 'ESA001']"
      ]
     },
     "execution_count": 9,
     "metadata": {},
     "output_type": "execute_result"
    }
   ],
   "source": [
    "input_vars = [\n",
    "    nhgisxwalk.desc_code_1990[\"Persons\"][\"Total\"],\n",
    "    nhgisxwalk.desc_code_1990[\"Families\"][\"Total\"],\n",
    "    nhgisxwalk.desc_code_1990[\"Households\"][\"Total\"],\n",
    "    nhgisxwalk.desc_code_1990[\"Housing Units\"][\"Total\"]\n",
    "]\n",
    "input_vars"
   ]
  },
  {
   "cell_type": "code",
   "execution_count": 10,
   "metadata": {
    "ExecuteTime": {
     "end_time": "2020-06-13T18:43:34.114421Z",
     "start_time": "2020-06-13T18:43:34.094335Z"
    }
   },
   "outputs": [],
   "source": [
    "input_var_tags = [\"pop\", \"fam\", \"hh\", \"hu\"]"
   ]
  },
  {
   "cell_type": "code",
   "execution_count": 11,
   "metadata": {
    "ExecuteTime": {
     "end_time": "2020-06-13T18:43:34.606415Z",
     "start_time": "2020-06-13T18:43:34.116418Z"
    }
   },
   "outputs": [
    {
     "data": {
      "text/html": [
       "<div>\n",
       "<style scoped>\n",
       "    .dataframe tbody tr th:only-of-type {\n",
       "        vertical-align: middle;\n",
       "    }\n",
       "\n",
       "    .dataframe tbody tr th {\n",
       "        vertical-align: top;\n",
       "    }\n",
       "\n",
       "    .dataframe thead th {\n",
       "        text-align: right;\n",
       "    }\n",
       "</style>\n",
       "<table border=\"1\" class=\"dataframe\">\n",
       "  <thead>\n",
       "    <tr style=\"text-align: right;\">\n",
       "      <th></th>\n",
       "      <th>bgp1990gj</th>\n",
       "      <th>trt2010gj</th>\n",
       "      <th>trt2010ge</th>\n",
       "      <th>wt_pop</th>\n",
       "      <th>wt_fam</th>\n",
       "      <th>wt_hh</th>\n",
       "      <th>wt_hu</th>\n",
       "    </tr>\n",
       "  </thead>\n",
       "  <tbody>\n",
       "    <tr>\n",
       "      <th>688</th>\n",
       "      <td>G100003093996775800002009999999916012</td>\n",
       "      <td>G1000030000200</td>\n",
       "      <td>10003000200</td>\n",
       "      <td>1.0</td>\n",
       "      <td>1.0</td>\n",
       "      <td>1.0</td>\n",
       "      <td>1.0</td>\n",
       "    </tr>\n",
       "    <tr>\n",
       "      <th>689</th>\n",
       "      <td>G100003093996775800002009999999916013</td>\n",
       "      <td>G1000030000200</td>\n",
       "      <td>10003000200</td>\n",
       "      <td>1.0</td>\n",
       "      <td>1.0</td>\n",
       "      <td>1.0</td>\n",
       "      <td>1.0</td>\n",
       "    </tr>\n",
       "    <tr>\n",
       "      <th>690</th>\n",
       "      <td>G100003093996775800002009999999916013</td>\n",
       "      <td>G1000030010800</td>\n",
       "      <td>10003010800</td>\n",
       "      <td>0.0</td>\n",
       "      <td>0.0</td>\n",
       "      <td>0.0</td>\n",
       "      <td>0.0</td>\n",
       "    </tr>\n",
       "    <tr>\n",
       "      <th>691</th>\n",
       "      <td>G100003093996775800002009999999916014</td>\n",
       "      <td>G1000030000200</td>\n",
       "      <td>10003000200</td>\n",
       "      <td>1.0</td>\n",
       "      <td>1.0</td>\n",
       "      <td>1.0</td>\n",
       "      <td>1.0</td>\n",
       "    </tr>\n",
       "    <tr>\n",
       "      <th>692</th>\n",
       "      <td>G100003093996775800002009999999916015</td>\n",
       "      <td>G1000030000200</td>\n",
       "      <td>10003000200</td>\n",
       "      <td>1.0</td>\n",
       "      <td>1.0</td>\n",
       "      <td>1.0</td>\n",
       "      <td>1.0</td>\n",
       "    </tr>\n",
       "    <tr>\n",
       "      <th>693</th>\n",
       "      <td>G100003093996775800002009999999916016</td>\n",
       "      <td>G1000030000200</td>\n",
       "      <td>10003000200</td>\n",
       "      <td>1.0</td>\n",
       "      <td>1.0</td>\n",
       "      <td>1.0</td>\n",
       "      <td>1.0</td>\n",
       "    </tr>\n",
       "    <tr>\n",
       "      <th>694</th>\n",
       "      <td>G100003093996775800002009999999916016</td>\n",
       "      <td>G1000030000300</td>\n",
       "      <td>10003000300</td>\n",
       "      <td>0.0</td>\n",
       "      <td>0.0</td>\n",
       "      <td>0.0</td>\n",
       "      <td>0.0</td>\n",
       "    </tr>\n",
       "    <tr>\n",
       "      <th>695</th>\n",
       "      <td>G100003093996775800003009999999916011</td>\n",
       "      <td>G1000030000300</td>\n",
       "      <td>10003000300</td>\n",
       "      <td>1.0</td>\n",
       "      <td>1.0</td>\n",
       "      <td>1.0</td>\n",
       "      <td>1.0</td>\n",
       "    </tr>\n",
       "    <tr>\n",
       "      <th>696</th>\n",
       "      <td>G100003093996775800003009999999916012</td>\n",
       "      <td>G1000030000300</td>\n",
       "      <td>10003000300</td>\n",
       "      <td>1.0</td>\n",
       "      <td>1.0</td>\n",
       "      <td>1.0</td>\n",
       "      <td>1.0</td>\n",
       "    </tr>\n",
       "  </tbody>\n",
       "</table>\n",
       "</div>"
      ],
      "text/plain": [
       "                                 bgp1990gj       trt2010gj    trt2010ge  \\\n",
       "688  G100003093996775800002009999999916012  G1000030000200  10003000200   \n",
       "689  G100003093996775800002009999999916013  G1000030000200  10003000200   \n",
       "690  G100003093996775800002009999999916013  G1000030010800  10003010800   \n",
       "691  G100003093996775800002009999999916014  G1000030000200  10003000200   \n",
       "692  G100003093996775800002009999999916015  G1000030000200  10003000200   \n",
       "693  G100003093996775800002009999999916016  G1000030000200  10003000200   \n",
       "694  G100003093996775800002009999999916016  G1000030000300  10003000300   \n",
       "695  G100003093996775800003009999999916011  G1000030000300  10003000300   \n",
       "696  G100003093996775800003009999999916012  G1000030000300  10003000300   \n",
       "\n",
       "     wt_pop  wt_fam  wt_hh  wt_hu  \n",
       "688     1.0     1.0    1.0    1.0  \n",
       "689     1.0     1.0    1.0    1.0  \n",
       "690     0.0     0.0    0.0    0.0  \n",
       "691     1.0     1.0    1.0    1.0  \n",
       "692     1.0     1.0    1.0    1.0  \n",
       "693     1.0     1.0    1.0    1.0  \n",
       "694     0.0     0.0    0.0    0.0  \n",
       "695     1.0     1.0    1.0    1.0  \n",
       "696     1.0     1.0    1.0    1.0  "
      ]
     },
     "execution_count": 11,
     "metadata": {},
     "output_type": "execute_result"
    }
   ],
   "source": [
    "subset_state = \"10\"\n",
    "bgp1990_to_trt2010 = nhgisxwalk.GeoCrossWalk(\n",
    "    base_xwalk,\n",
    "    source_year=source_year,\n",
    "    target_year=target_year,\n",
    "    source_geo=\"bgp\",\n",
    "    target_geo=\"trt\",\n",
    "    base_source_table=subset_data_dir+\"/1990_block.csv.zip\",\n",
    "    supp_source_table=subset_data_dir+\"/1990_blck_grp_598_103.csv.zip\",\n",
    "    input_var=input_vars,\n",
    "    weight_var=input_var_tags,\n",
    "    stfips=subset_state,\n",
    "    keep_base=True,\n",
    "    add_geoid=True\n",
    ")\n",
    "bgp1990_to_trt2010.xwalk[688:697]"
   ]
  },
  {
   "cell_type": "markdown",
   "metadata": {},
   "source": [
    "### Write crosswalk to a `.csv`"
   ]
  },
  {
   "cell_type": "code",
   "execution_count": 12,
   "metadata": {
    "ExecuteTime": {
     "end_time": "2020-06-13T18:43:34.637068Z",
     "start_time": "2020-06-13T18:43:34.607947Z"
    }
   },
   "outputs": [],
   "source": [
    "res_dir = \"../../results/\"\n",
    "bgp1990_to_trt2010.xwalk_to_csv(path=res_dir)"
   ]
  },
  {
   "cell_type": "markdown",
   "metadata": {},
   "source": [
    "### Read crosswalk from a `.csv`"
   ]
  },
  {
   "cell_type": "code",
   "execution_count": 13,
   "metadata": {
    "ExecuteTime": {
     "end_time": "2020-06-13T18:43:34.672978Z",
     "start_time": "2020-06-13T18:43:34.638905Z"
    }
   },
   "outputs": [
    {
     "data": {
      "text/html": [
       "<div>\n",
       "<style scoped>\n",
       "    .dataframe tbody tr th:only-of-type {\n",
       "        vertical-align: middle;\n",
       "    }\n",
       "\n",
       "    .dataframe tbody tr th {\n",
       "        vertical-align: top;\n",
       "    }\n",
       "\n",
       "    .dataframe thead th {\n",
       "        text-align: right;\n",
       "    }\n",
       "</style>\n",
       "<table border=\"1\" class=\"dataframe\">\n",
       "  <thead>\n",
       "    <tr style=\"text-align: right;\">\n",
       "      <th></th>\n",
       "      <th>bgp1990gj</th>\n",
       "      <th>trt2010gj</th>\n",
       "      <th>trt2010ge</th>\n",
       "      <th>wt_pop</th>\n",
       "      <th>wt_fam</th>\n",
       "      <th>wt_hh</th>\n",
       "      <th>wt_hu</th>\n",
       "    </tr>\n",
       "  </thead>\n",
       "  <tbody>\n",
       "    <tr>\n",
       "      <th>688</th>\n",
       "      <td>G100003093996775800002009999999916012</td>\n",
       "      <td>G1000030000200</td>\n",
       "      <td>10003000200</td>\n",
       "      <td>1.0</td>\n",
       "      <td>1.0</td>\n",
       "      <td>1.0</td>\n",
       "      <td>1.0</td>\n",
       "    </tr>\n",
       "    <tr>\n",
       "      <th>689</th>\n",
       "      <td>G100003093996775800002009999999916013</td>\n",
       "      <td>G1000030000200</td>\n",
       "      <td>10003000200</td>\n",
       "      <td>1.0</td>\n",
       "      <td>1.0</td>\n",
       "      <td>1.0</td>\n",
       "      <td>1.0</td>\n",
       "    </tr>\n",
       "    <tr>\n",
       "      <th>690</th>\n",
       "      <td>G100003093996775800002009999999916013</td>\n",
       "      <td>G1000030010800</td>\n",
       "      <td>10003010800</td>\n",
       "      <td>0.0</td>\n",
       "      <td>0.0</td>\n",
       "      <td>0.0</td>\n",
       "      <td>0.0</td>\n",
       "    </tr>\n",
       "    <tr>\n",
       "      <th>691</th>\n",
       "      <td>G100003093996775800002009999999916014</td>\n",
       "      <td>G1000030000200</td>\n",
       "      <td>10003000200</td>\n",
       "      <td>1.0</td>\n",
       "      <td>1.0</td>\n",
       "      <td>1.0</td>\n",
       "      <td>1.0</td>\n",
       "    </tr>\n",
       "    <tr>\n",
       "      <th>692</th>\n",
       "      <td>G100003093996775800002009999999916015</td>\n",
       "      <td>G1000030000200</td>\n",
       "      <td>10003000200</td>\n",
       "      <td>1.0</td>\n",
       "      <td>1.0</td>\n",
       "      <td>1.0</td>\n",
       "      <td>1.0</td>\n",
       "    </tr>\n",
       "    <tr>\n",
       "      <th>693</th>\n",
       "      <td>G100003093996775800002009999999916016</td>\n",
       "      <td>G1000030000200</td>\n",
       "      <td>10003000200</td>\n",
       "      <td>1.0</td>\n",
       "      <td>1.0</td>\n",
       "      <td>1.0</td>\n",
       "      <td>1.0</td>\n",
       "    </tr>\n",
       "    <tr>\n",
       "      <th>694</th>\n",
       "      <td>G100003093996775800002009999999916016</td>\n",
       "      <td>G1000030000300</td>\n",
       "      <td>10003000300</td>\n",
       "      <td>0.0</td>\n",
       "      <td>0.0</td>\n",
       "      <td>0.0</td>\n",
       "      <td>0.0</td>\n",
       "    </tr>\n",
       "    <tr>\n",
       "      <th>695</th>\n",
       "      <td>G100003093996775800003009999999916011</td>\n",
       "      <td>G1000030000300</td>\n",
       "      <td>10003000300</td>\n",
       "      <td>1.0</td>\n",
       "      <td>1.0</td>\n",
       "      <td>1.0</td>\n",
       "      <td>1.0</td>\n",
       "    </tr>\n",
       "    <tr>\n",
       "      <th>696</th>\n",
       "      <td>G100003093996775800003009999999916012</td>\n",
       "      <td>G1000030000300</td>\n",
       "      <td>10003000300</td>\n",
       "      <td>1.0</td>\n",
       "      <td>1.0</td>\n",
       "      <td>1.0</td>\n",
       "      <td>1.0</td>\n",
       "    </tr>\n",
       "  </tbody>\n",
       "</table>\n",
       "</div>"
      ],
      "text/plain": [
       "                                 bgp1990gj       trt2010gj    trt2010ge  \\\n",
       "688  G100003093996775800002009999999916012  G1000030000200  10003000200   \n",
       "689  G100003093996775800002009999999916013  G1000030000200  10003000200   \n",
       "690  G100003093996775800002009999999916013  G1000030010800  10003010800   \n",
       "691  G100003093996775800002009999999916014  G1000030000200  10003000200   \n",
       "692  G100003093996775800002009999999916015  G1000030000200  10003000200   \n",
       "693  G100003093996775800002009999999916016  G1000030000200  10003000200   \n",
       "694  G100003093996775800002009999999916016  G1000030000300  10003000300   \n",
       "695  G100003093996775800003009999999916011  G1000030000300  10003000300   \n",
       "696  G100003093996775800003009999999916012  G1000030000300  10003000300   \n",
       "\n",
       "     wt_pop  wt_fam  wt_hh  wt_hu  \n",
       "688     1.0     1.0    1.0    1.0  \n",
       "689     1.0     1.0    1.0    1.0  \n",
       "690     0.0     0.0    0.0    0.0  \n",
       "691     1.0     1.0    1.0    1.0  \n",
       "692     1.0     1.0    1.0    1.0  \n",
       "693     1.0     1.0    1.0    1.0  \n",
       "694     0.0     0.0    0.0    0.0  \n",
       "695     1.0     1.0    1.0    1.0  \n",
       "696     1.0     1.0    1.0    1.0  "
      ]
     },
     "execution_count": 13,
     "metadata": {},
     "output_type": "execute_result"
    }
   ],
   "source": [
    "fname = res_dir + \"bgp1990gj_to_trt2010gj_%s\" % subset_state\n",
    "bgp1990_to_trt2010 = nhgisxwalk.GeoCrossWalk.xwalk_from_csv(fname)\n",
    "bgp1990_to_trt2010[688:697]"
   ]
  },
  {
   "cell_type": "markdown",
   "metadata": {},
   "source": [
    "-----------------------------------------------"
   ]
  }
 ],
 "metadata": {
  "_draft": {
   "nbviewer_url": "https://gist.github.com/9f47e4ec2cc37bce83acf20abfca69d2"
  },
  "gist": {
   "data": {
    "description": "sample-workflow.ipynb",
    "public": true
   },
   "id": "9f47e4ec2cc37bce83acf20abfca69d2"
  },
  "kernelspec": {
   "display_name": "Python [conda env:nhgis]",
   "language": "python",
   "name": "conda-env-nhgis-py"
  },
  "language_info": {
   "codemirror_mode": {
    "name": "ipython",
    "version": 3
   },
   "file_extension": ".py",
   "mimetype": "text/x-python",
   "name": "python",
   "nbconvert_exporter": "python",
   "pygments_lexer": "ipython3",
   "version": "3.7.6"
  }
 },
 "nbformat": 4,
 "nbformat_minor": 4
}
