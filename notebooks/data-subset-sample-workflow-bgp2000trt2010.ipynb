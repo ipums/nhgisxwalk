{
 "cells": [
  {
   "cell_type": "markdown",
   "metadata": {},
   "source": [
    "# Sample workflow: 2000 block group parts to 2010 tracts\n",
    "\n",
    "## Starting from a subset of 2010 Delaware blocks\n",
    "\n",
    "For further background information see:\n",
    "* **Schroeder, J. P**. 2007. *Target-density weighting interpolation and uncertainty evaluation for temporal analysis of census data*. Geographical Analysis 39 (3):311–335.\n",
    "\n",
    "#### NHGIS [block crosswalks](https://www.nhgis.org/user-resources/geographic-crosswalks)"
   ]
  },
  {
   "cell_type": "code",
   "execution_count": 1,
   "metadata": {
    "ExecuteTime": {
     "end_time": "2020-05-16T16:43:17.277768Z",
     "start_time": "2020-05-16T16:43:17.018474Z"
    }
   },
   "outputs": [
    {
     "name": "stdout",
     "output_type": "stream",
     "text": [
      "2020-05-16T12:43:17-04:00\n",
      "\n",
      "CPython 3.7.6\n",
      "IPython 7.13.0\n",
      "\n",
      "compiler   : Clang 9.0.1 \n",
      "system     : Darwin\n",
      "release    : 19.4.0\n",
      "machine    : x86_64\n",
      "processor  : i386\n",
      "CPU cores  : 4\n",
      "interpreter: 64bit\n"
     ]
    }
   ],
   "source": [
    "%load_ext watermark\n",
    "%watermark"
   ]
  },
  {
   "cell_type": "code",
   "execution_count": 2,
   "metadata": {
    "ExecuteTime": {
     "end_time": "2020-05-16T16:43:17.741244Z",
     "start_time": "2020-05-16T16:43:17.281807Z"
    }
   },
   "outputs": [
    {
     "name": "stdout",
     "output_type": "stream",
     "text": [
      "watermark 2.0.2\n",
      "nhgisxwalk 0.0.2\n",
      "pandas     1.0.3\n",
      "\n"
     ]
    }
   ],
   "source": [
    "import nhgisxwalk\n",
    "import inspect\n",
    "import pandas\n",
    "\n",
    "%load_ext autoreload\n",
    "%autoreload 2\n",
    "%watermark -w\n",
    "%watermark -iv"
   ]
  },
  {
   "cell_type": "markdown",
   "metadata": {},
   "source": [
    "### Source and target years for the crosswalk"
   ]
  },
  {
   "cell_type": "code",
   "execution_count": 3,
   "metadata": {
    "ExecuteTime": {
     "end_time": "2020-05-16T16:43:17.789110Z",
     "start_time": "2020-05-16T16:43:17.748659Z"
    }
   },
   "outputs": [],
   "source": [
    "source_year, target_year = \"2000\", \"2010\""
   ]
  },
  {
   "cell_type": "markdown",
   "metadata": {},
   "source": [
    "### Source-target building base"
   ]
  },
  {
   "cell_type": "code",
   "execution_count": 4,
   "metadata": {
    "ExecuteTime": {
     "end_time": "2020-05-16T16:43:17.903294Z",
     "start_time": "2020-05-16T16:43:17.794339Z"
    }
   },
   "outputs": [
    {
     "data": {
      "text/html": [
       "<div>\n",
       "<style scoped>\n",
       "    .dataframe tbody tr th:only-of-type {\n",
       "        vertical-align: middle;\n",
       "    }\n",
       "\n",
       "    .dataframe tbody tr th {\n",
       "        vertical-align: top;\n",
       "    }\n",
       "\n",
       "    .dataframe thead th {\n",
       "        text-align: right;\n",
       "    }\n",
       "</style>\n",
       "<table border=\"1\" class=\"dataframe\">\n",
       "  <thead>\n",
       "    <tr style=\"text-align: right;\">\n",
       "      <th></th>\n",
       "      <th>GJOIN2000</th>\n",
       "      <th>GJOIN2010</th>\n",
       "      <th>WEIGHT</th>\n",
       "      <th>PAREA</th>\n",
       "    </tr>\n",
       "  </thead>\n",
       "  <tbody>\n",
       "    <tr>\n",
       "      <th>0</th>\n",
       "      <td>G10000100401001000</td>\n",
       "      <td>G10000100401001000</td>\n",
       "      <td>1.000000</td>\n",
       "      <td>1.000000</td>\n",
       "    </tr>\n",
       "    <tr>\n",
       "      <th>1</th>\n",
       "      <td>G10000100401001001</td>\n",
       "      <td>G10000100401001001</td>\n",
       "      <td>0.999981</td>\n",
       "      <td>0.999988</td>\n",
       "    </tr>\n",
       "    <tr>\n",
       "      <th>2</th>\n",
       "      <td>G10000100401001001</td>\n",
       "      <td>G10000100401001003</td>\n",
       "      <td>0.000019</td>\n",
       "      <td>0.000012</td>\n",
       "    </tr>\n",
       "    <tr>\n",
       "      <th>3</th>\n",
       "      <td>G10000100401001002</td>\n",
       "      <td>G10000100401001002</td>\n",
       "      <td>1.000000</td>\n",
       "      <td>1.000000</td>\n",
       "    </tr>\n",
       "    <tr>\n",
       "      <th>4</th>\n",
       "      <td>G10000100401001003</td>\n",
       "      <td>G10000100401001003</td>\n",
       "      <td>1.000000</td>\n",
       "      <td>1.000000</td>\n",
       "    </tr>\n",
       "  </tbody>\n",
       "</table>\n",
       "</div>"
      ],
      "text/plain": [
       "            GJOIN2000           GJOIN2010    WEIGHT     PAREA\n",
       "0  G10000100401001000  G10000100401001000  1.000000  1.000000\n",
       "1  G10000100401001001  G10000100401001001  0.999981  0.999988\n",
       "2  G10000100401001001  G10000100401001003  0.000019  0.000012\n",
       "3  G10000100401001002  G10000100401001002  1.000000  1.000000\n",
       "4  G10000100401001003  G10000100401001003  1.000000  1.000000"
      ]
     },
     "execution_count": 4,
     "metadata": {},
     "output_type": "execute_result"
    }
   ],
   "source": [
    "subset_data_dir = \"../testing_data_subsets\"\n",
    "base_xwalk_name = \"/nhgis_blk%s_blk%s_gj.csv.zip\" % (source_year, target_year)\n",
    "base_xwalk_file = subset_data_dir + base_xwalk_name\n",
    "data_types = nhgisxwalk.str_types([\"GJOIN%s\"%source_year, \"GJOIN%s\"%target_year])\n",
    "base_xwalk = pandas.read_csv(base_xwalk_file, index_col=0, dtype=data_types)\n",
    "base_xwalk.head()"
   ]
  },
  {
   "cell_type": "markdown",
   "metadata": {},
   "source": [
    "### Convenience code shorthand/lookup"
   ]
  },
  {
   "cell_type": "code",
   "execution_count": 5,
   "metadata": {
    "ExecuteTime": {
     "end_time": "2020-05-16T16:43:17.956902Z",
     "start_time": "2020-05-16T16:43:17.911646Z"
    }
   },
   "outputs": [
    {
     "name": "stdout",
     "output_type": "stream",
     "text": [
      "def valid_geo_shorthand(shorthand_name=True):\n",
      "    \"\"\"Shorthand lookups for census geographies.\"\"\"\n",
      "    lookup = {\n",
      "        \"blk\": \"block\",\n",
      "        \"bgp\": \"block group part\",\n",
      "        \"bkg\": \"block group\",\n",
      "        \"trt\": \"tract\",\n",
      "        \"cty\": \"county\",\n",
      "    }\n",
      "    if not shorthand_name:\n",
      "        lookup = {v: k for k, v in lookup.items()}\n",
      "    return lookup\n",
      "\n"
     ]
    }
   ],
   "source": [
    "print(inspect.getsource(nhgisxwalk.valid_geo_shorthand))"
   ]
  },
  {
   "cell_type": "code",
   "execution_count": 6,
   "metadata": {
    "ExecuteTime": {
     "end_time": "2020-05-16T16:43:18.019651Z",
     "start_time": "2020-05-16T16:43:17.966092Z"
    }
   },
   "outputs": [
    {
     "data": {
      "text/plain": [
       "{'block': 'blk',\n",
       " 'block group part': 'bgp',\n",
       " 'block group': 'bkg',\n",
       " 'tract': 'trt',\n",
       " 'county': 'cty'}"
      ]
     },
     "execution_count": 6,
     "metadata": {},
     "output_type": "execute_result"
    }
   ],
   "source": [
    "nhgisxwalk.valid_geo_shorthand(shorthand_name=False)"
   ]
  },
  {
   "cell_type": "markdown",
   "metadata": {},
   "source": [
    "### Instantiate an `nhgisxwalk.GeoCrossWalk` object\n",
    "##### see [nhgisxwalk.GeoCrossWalk](https://github.com/jGaboardi/nhgisxwalk/blob/92b4fe55de0a9c53d0315dcda8ec121faaf20aef/nhgisxwalk/geocrosswalk.py#L19) for full details"
   ]
  },
  {
   "cell_type": "code",
   "execution_count": 7,
   "metadata": {
    "ExecuteTime": {
     "end_time": "2020-05-16T16:43:18.081107Z",
     "start_time": "2020-05-16T16:43:18.026868Z"
    }
   },
   "outputs": [
    {
     "data": {
      "text/plain": [
       "{'Persons': {'Persons': 'Universe',\n",
       "  'NP001A': 'Source code',\n",
       "  'FXS': 'NHGIS code',\n",
       "  'Total': 'FXS001'},\n",
       " 'Families': {'Families': 'Universe',\n",
       "  'NP031A': 'Source code',\n",
       "  'F2V': 'NHGIS code',\n",
       "  'Total': 'F2V001'},\n",
       " 'Households': {'Households': 'Universe',\n",
       "  'NP010A': 'Source code',\n",
       "  'FY4': 'NHGIS code',\n",
       "  'Total': 'FY4001'},\n",
       " 'Housing Units': {'Housing Units': 'Universe',\n",
       "  'NH001A': 'Source code',\n",
       "  'FV5': 'NHGIS code',\n",
       "  'Total': 'FV5001'}}"
      ]
     },
     "execution_count": 7,
     "metadata": {},
     "output_type": "execute_result"
    }
   ],
   "source": [
    "nhgisxwalk.desc_code_2000_SF1b"
   ]
  },
  {
   "cell_type": "code",
   "execution_count": 8,
   "metadata": {
    "ExecuteTime": {
     "end_time": "2020-05-16T16:43:18.156064Z",
     "start_time": "2020-05-16T16:43:18.109921Z"
    }
   },
   "outputs": [
    {
     "data": {
      "text/plain": [
       "['FXS001', 'F2V001', 'FY4001', 'FV5001']"
      ]
     },
     "execution_count": 8,
     "metadata": {},
     "output_type": "execute_result"
    }
   ],
   "source": [
    "input_vars = [\n",
    "    nhgisxwalk.desc_code_2000_SF1b[\"Persons\"][\"Total\"],\n",
    "    nhgisxwalk.desc_code_2000_SF1b[\"Families\"][\"Total\"],\n",
    "    nhgisxwalk.desc_code_2000_SF1b[\"Households\"][\"Total\"],\n",
    "    nhgisxwalk.desc_code_2000_SF1b[\"Housing Units\"][\"Total\"]\n",
    "]\n",
    "input_vars"
   ]
  },
  {
   "cell_type": "code",
   "execution_count": 9,
   "metadata": {
    "ExecuteTime": {
     "end_time": "2020-05-16T16:43:18.203408Z",
     "start_time": "2020-05-16T16:43:18.163651Z"
    }
   },
   "outputs": [],
   "source": [
    "input_var_tags = [\"pop\", \"fam\", \"hh\", \"hu\"]"
   ]
  },
  {
   "cell_type": "code",
   "execution_count": 10,
   "metadata": {
    "ExecuteTime": {
     "end_time": "2020-05-16T16:43:19.178121Z",
     "start_time": "2020-05-16T16:43:18.206749Z"
    }
   },
   "outputs": [
    {
     "data": {
      "text/html": [
       "<div>\n",
       "<style scoped>\n",
       "    .dataframe tbody tr th:only-of-type {\n",
       "        vertical-align: middle;\n",
       "    }\n",
       "\n",
       "    .dataframe tbody tr th {\n",
       "        vertical-align: top;\n",
       "    }\n",
       "\n",
       "    .dataframe thead th {\n",
       "        text-align: right;\n",
       "    }\n",
       "</style>\n",
       "<table border=\"1\" class=\"dataframe\">\n",
       "  <thead>\n",
       "    <tr style=\"text-align: right;\">\n",
       "      <th></th>\n",
       "      <th>bgp2000</th>\n",
       "      <th>trt2010</th>\n",
       "      <th>wt_pop</th>\n",
       "      <th>wt_fam</th>\n",
       "      <th>wt_hh</th>\n",
       "      <th>wt_hu</th>\n",
       "    </tr>\n",
       "  </thead>\n",
       "  <tbody>\n",
       "    <tr>\n",
       "      <th>1020</th>\n",
       "      <td>G10000509355299999051301U2</td>\n",
       "      <td>G1000050051301</td>\n",
       "      <td>1.000000</td>\n",
       "      <td>1.000000</td>\n",
       "      <td>1.000000</td>\n",
       "      <td>1.000000</td>\n",
       "    </tr>\n",
       "    <tr>\n",
       "      <th>1021</th>\n",
       "      <td>G10000509355299999051302R1</td>\n",
       "      <td>G1000050051302</td>\n",
       "      <td>1.000000</td>\n",
       "      <td>1.000000</td>\n",
       "      <td>1.000000</td>\n",
       "      <td>1.000000</td>\n",
       "    </tr>\n",
       "    <tr>\n",
       "      <th>1022</th>\n",
       "      <td>G10000509355299999051302R2</td>\n",
       "      <td>G1000050051302</td>\n",
       "      <td>1.000000</td>\n",
       "      <td>1.000000</td>\n",
       "      <td>1.000000</td>\n",
       "      <td>1.000000</td>\n",
       "    </tr>\n",
       "    <tr>\n",
       "      <th>1023</th>\n",
       "      <td>G10000509355299999051302U1</td>\n",
       "      <td>G1000050051302</td>\n",
       "      <td>1.000000</td>\n",
       "      <td>1.000000</td>\n",
       "      <td>1.000000</td>\n",
       "      <td>1.000000</td>\n",
       "    </tr>\n",
       "    <tr>\n",
       "      <th>1024</th>\n",
       "      <td>G10000509355299999051303R1</td>\n",
       "      <td>G1000050051303</td>\n",
       "      <td>1.000000</td>\n",
       "      <td>1.000000</td>\n",
       "      <td>1.000000</td>\n",
       "      <td>1.000000</td>\n",
       "    </tr>\n",
       "    <tr>\n",
       "      <th>1025</th>\n",
       "      <td>G10000509355299999051303U1</td>\n",
       "      <td>G1000050051303</td>\n",
       "      <td>1.000000</td>\n",
       "      <td>1.000000</td>\n",
       "      <td>1.000000</td>\n",
       "      <td>1.000000</td>\n",
       "    </tr>\n",
       "    <tr>\n",
       "      <th>1026</th>\n",
       "      <td>G10000509355299999051304R1</td>\n",
       "      <td>G1000050051305</td>\n",
       "      <td>0.680605</td>\n",
       "      <td>0.633909</td>\n",
       "      <td>0.657366</td>\n",
       "      <td>0.659502</td>\n",
       "    </tr>\n",
       "    <tr>\n",
       "      <th>1027</th>\n",
       "      <td>G10000509355299999051304R1</td>\n",
       "      <td>G1000050051306</td>\n",
       "      <td>0.319167</td>\n",
       "      <td>0.365782</td>\n",
       "      <td>0.342282</td>\n",
       "      <td>0.340111</td>\n",
       "    </tr>\n",
       "    <tr>\n",
       "      <th>1028</th>\n",
       "      <td>G10000509355299999051304R1</td>\n",
       "      <td>G1000050051400</td>\n",
       "      <td>0.000227</td>\n",
       "      <td>0.000309</td>\n",
       "      <td>0.000352</td>\n",
       "      <td>0.000387</td>\n",
       "    </tr>\n",
       "    <tr>\n",
       "      <th>1029</th>\n",
       "      <td>G10000509355299999051304R2</td>\n",
       "      <td>G1000050051305</td>\n",
       "      <td>0.802661</td>\n",
       "      <td>0.817568</td>\n",
       "      <td>0.820896</td>\n",
       "      <td>0.836237</td>\n",
       "    </tr>\n",
       "    <tr>\n",
       "      <th>1030</th>\n",
       "      <td>G10000509355299999051304R2</td>\n",
       "      <td>G1000050051306</td>\n",
       "      <td>0.197339</td>\n",
       "      <td>0.182432</td>\n",
       "      <td>0.179104</td>\n",
       "      <td>0.163763</td>\n",
       "    </tr>\n",
       "  </tbody>\n",
       "</table>\n",
       "</div>"
      ],
      "text/plain": [
       "                         bgp2000         trt2010    wt_pop    wt_fam  \\\n",
       "1020  G10000509355299999051301U2  G1000050051301  1.000000  1.000000   \n",
       "1021  G10000509355299999051302R1  G1000050051302  1.000000  1.000000   \n",
       "1022  G10000509355299999051302R2  G1000050051302  1.000000  1.000000   \n",
       "1023  G10000509355299999051302U1  G1000050051302  1.000000  1.000000   \n",
       "1024  G10000509355299999051303R1  G1000050051303  1.000000  1.000000   \n",
       "1025  G10000509355299999051303U1  G1000050051303  1.000000  1.000000   \n",
       "1026  G10000509355299999051304R1  G1000050051305  0.680605  0.633909   \n",
       "1027  G10000509355299999051304R1  G1000050051306  0.319167  0.365782   \n",
       "1028  G10000509355299999051304R1  G1000050051400  0.000227  0.000309   \n",
       "1029  G10000509355299999051304R2  G1000050051305  0.802661  0.817568   \n",
       "1030  G10000509355299999051304R2  G1000050051306  0.197339  0.182432   \n",
       "\n",
       "         wt_hh     wt_hu  \n",
       "1020  1.000000  1.000000  \n",
       "1021  1.000000  1.000000  \n",
       "1022  1.000000  1.000000  \n",
       "1023  1.000000  1.000000  \n",
       "1024  1.000000  1.000000  \n",
       "1025  1.000000  1.000000  \n",
       "1026  0.657366  0.659502  \n",
       "1027  0.342282  0.340111  \n",
       "1028  0.000352  0.000387  \n",
       "1029  0.820896  0.836237  \n",
       "1030  0.179104  0.163763  "
      ]
     },
     "execution_count": 10,
     "metadata": {},
     "output_type": "execute_result"
    }
   ],
   "source": [
    "subset_state = \"10\"\n",
    "bgp2000_to_trt2010 = nhgisxwalk.GeoCrossWalk(\n",
    "    base_xwalk,\n",
    "    source_year=source_year,\n",
    "    target_year=target_year,\n",
    "    source_geo=\"bgp\",\n",
    "    target_geo=\"trt\",\n",
    "    base_source_table=subset_data_dir+\"/2000_block.csv.zip\",\n",
    "    input_var=input_vars,\n",
    "    weight_var=input_var_tags,\n",
    "    stfips=subset_state\n",
    ")\n",
    "bgp2000_to_trt2010.xwalk[1020:1031]"
   ]
  },
  {
   "cell_type": "markdown",
   "metadata": {},
   "source": [
    "### Write crosswalk to a `.csv`"
   ]
  },
  {
   "cell_type": "code",
   "execution_count": 11,
   "metadata": {
    "ExecuteTime": {
     "end_time": "2020-05-16T16:43:19.286022Z",
     "start_time": "2020-05-16T16:43:19.193274Z"
    }
   },
   "outputs": [],
   "source": [
    "res_dir = \"../../results/\"\n",
    "bgp2000_to_trt2010.xwalk_to_csv(loc=res_dir)"
   ]
  },
  {
   "cell_type": "markdown",
   "metadata": {},
   "source": [
    "### Read crosswalk from a `.csv`"
   ]
  },
  {
   "cell_type": "code",
   "execution_count": 12,
   "metadata": {
    "ExecuteTime": {
     "end_time": "2020-05-16T16:43:19.361961Z",
     "start_time": "2020-05-16T16:43:19.296238Z"
    }
   },
   "outputs": [
    {
     "data": {
      "text/html": [
       "<div>\n",
       "<style scoped>\n",
       "    .dataframe tbody tr th:only-of-type {\n",
       "        vertical-align: middle;\n",
       "    }\n",
       "\n",
       "    .dataframe tbody tr th {\n",
       "        vertical-align: top;\n",
       "    }\n",
       "\n",
       "    .dataframe thead th {\n",
       "        text-align: right;\n",
       "    }\n",
       "</style>\n",
       "<table border=\"1\" class=\"dataframe\">\n",
       "  <thead>\n",
       "    <tr style=\"text-align: right;\">\n",
       "      <th></th>\n",
       "      <th>bgp2000</th>\n",
       "      <th>trt2010</th>\n",
       "      <th>wt_pop</th>\n",
       "      <th>wt_fam</th>\n",
       "      <th>wt_hh</th>\n",
       "      <th>wt_hu</th>\n",
       "    </tr>\n",
       "  </thead>\n",
       "  <tbody>\n",
       "    <tr>\n",
       "      <th>1020</th>\n",
       "      <td>G10000509355299999051301U2</td>\n",
       "      <td>G1000050051301</td>\n",
       "      <td>1.000000</td>\n",
       "      <td>1.000000</td>\n",
       "      <td>1.000000</td>\n",
       "      <td>1.000000</td>\n",
       "    </tr>\n",
       "    <tr>\n",
       "      <th>1021</th>\n",
       "      <td>G10000509355299999051302R1</td>\n",
       "      <td>G1000050051302</td>\n",
       "      <td>1.000000</td>\n",
       "      <td>1.000000</td>\n",
       "      <td>1.000000</td>\n",
       "      <td>1.000000</td>\n",
       "    </tr>\n",
       "    <tr>\n",
       "      <th>1022</th>\n",
       "      <td>G10000509355299999051302R2</td>\n",
       "      <td>G1000050051302</td>\n",
       "      <td>1.000000</td>\n",
       "      <td>1.000000</td>\n",
       "      <td>1.000000</td>\n",
       "      <td>1.000000</td>\n",
       "    </tr>\n",
       "    <tr>\n",
       "      <th>1023</th>\n",
       "      <td>G10000509355299999051302U1</td>\n",
       "      <td>G1000050051302</td>\n",
       "      <td>1.000000</td>\n",
       "      <td>1.000000</td>\n",
       "      <td>1.000000</td>\n",
       "      <td>1.000000</td>\n",
       "    </tr>\n",
       "    <tr>\n",
       "      <th>1024</th>\n",
       "      <td>G10000509355299999051303R1</td>\n",
       "      <td>G1000050051303</td>\n",
       "      <td>1.000000</td>\n",
       "      <td>1.000000</td>\n",
       "      <td>1.000000</td>\n",
       "      <td>1.000000</td>\n",
       "    </tr>\n",
       "    <tr>\n",
       "      <th>1025</th>\n",
       "      <td>G10000509355299999051303U1</td>\n",
       "      <td>G1000050051303</td>\n",
       "      <td>1.000000</td>\n",
       "      <td>1.000000</td>\n",
       "      <td>1.000000</td>\n",
       "      <td>1.000000</td>\n",
       "    </tr>\n",
       "    <tr>\n",
       "      <th>1026</th>\n",
       "      <td>G10000509355299999051304R1</td>\n",
       "      <td>G1000050051305</td>\n",
       "      <td>0.680605</td>\n",
       "      <td>0.633909</td>\n",
       "      <td>0.657366</td>\n",
       "      <td>0.659502</td>\n",
       "    </tr>\n",
       "    <tr>\n",
       "      <th>1027</th>\n",
       "      <td>G10000509355299999051304R1</td>\n",
       "      <td>G1000050051306</td>\n",
       "      <td>0.319167</td>\n",
       "      <td>0.365782</td>\n",
       "      <td>0.342282</td>\n",
       "      <td>0.340111</td>\n",
       "    </tr>\n",
       "    <tr>\n",
       "      <th>1028</th>\n",
       "      <td>G10000509355299999051304R1</td>\n",
       "      <td>G1000050051400</td>\n",
       "      <td>0.000227</td>\n",
       "      <td>0.000309</td>\n",
       "      <td>0.000352</td>\n",
       "      <td>0.000387</td>\n",
       "    </tr>\n",
       "    <tr>\n",
       "      <th>1029</th>\n",
       "      <td>G10000509355299999051304R2</td>\n",
       "      <td>G1000050051305</td>\n",
       "      <td>0.802661</td>\n",
       "      <td>0.817568</td>\n",
       "      <td>0.820896</td>\n",
       "      <td>0.836237</td>\n",
       "    </tr>\n",
       "    <tr>\n",
       "      <th>1030</th>\n",
       "      <td>G10000509355299999051304R2</td>\n",
       "      <td>G1000050051306</td>\n",
       "      <td>0.197339</td>\n",
       "      <td>0.182432</td>\n",
       "      <td>0.179104</td>\n",
       "      <td>0.163763</td>\n",
       "    </tr>\n",
       "  </tbody>\n",
       "</table>\n",
       "</div>"
      ],
      "text/plain": [
       "                         bgp2000         trt2010    wt_pop    wt_fam  \\\n",
       "1020  G10000509355299999051301U2  G1000050051301  1.000000  1.000000   \n",
       "1021  G10000509355299999051302R1  G1000050051302  1.000000  1.000000   \n",
       "1022  G10000509355299999051302R2  G1000050051302  1.000000  1.000000   \n",
       "1023  G10000509355299999051302U1  G1000050051302  1.000000  1.000000   \n",
       "1024  G10000509355299999051303R1  G1000050051303  1.000000  1.000000   \n",
       "1025  G10000509355299999051303U1  G1000050051303  1.000000  1.000000   \n",
       "1026  G10000509355299999051304R1  G1000050051305  0.680605  0.633909   \n",
       "1027  G10000509355299999051304R1  G1000050051306  0.319167  0.365782   \n",
       "1028  G10000509355299999051304R1  G1000050051400  0.000227  0.000309   \n",
       "1029  G10000509355299999051304R2  G1000050051305  0.802661  0.817568   \n",
       "1030  G10000509355299999051304R2  G1000050051306  0.197339  0.182432   \n",
       "\n",
       "         wt_hh     wt_hu  \n",
       "1020  1.000000  1.000000  \n",
       "1021  1.000000  1.000000  \n",
       "1022  1.000000  1.000000  \n",
       "1023  1.000000  1.000000  \n",
       "1024  1.000000  1.000000  \n",
       "1025  1.000000  1.000000  \n",
       "1026  0.657366  0.659502  \n",
       "1027  0.342282  0.340111  \n",
       "1028  0.000352  0.000387  \n",
       "1029  0.820896  0.836237  \n",
       "1030  0.179104  0.163763  "
      ]
     },
     "execution_count": 12,
     "metadata": {},
     "output_type": "execute_result"
    }
   ],
   "source": [
    "fname = res_dir + \"bgp2000_to_trt2010_%s\" % subset_state\n",
    "bgp2000_to_trt2010 = nhgisxwalk.GeoCrossWalk.xwalk_from_csv(fname)\n",
    "bgp2000_to_trt2010[1020:1031]"
   ]
  },
  {
   "cell_type": "markdown",
   "metadata": {},
   "source": [
    "-----------------------------------------------"
   ]
  }
 ],
 "metadata": {
  "_draft": {
   "nbviewer_url": "https://gist.github.com/9f47e4ec2cc37bce83acf20abfca69d2"
  },
  "gist": {
   "data": {
    "description": "sample-workflow.ipynb",
    "public": true
   },
   "id": "9f47e4ec2cc37bce83acf20abfca69d2"
  },
  "kernelspec": {
   "display_name": "Python [conda env:nhgis_env]",
   "language": "python",
   "name": "conda-env-nhgis_env-py"
  },
  "language_info": {
   "codemirror_mode": {
    "name": "ipython",
    "version": 3
   },
   "file_extension": ".py",
   "mimetype": "text/x-python",
   "name": "python",
   "nbconvert_exporter": "python",
   "pygments_lexer": "ipython3",
   "version": "3.7.6"
  }
 },
 "nbformat": 4,
 "nbformat_minor": 4
}
