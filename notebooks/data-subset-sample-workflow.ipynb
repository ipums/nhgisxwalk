{
 "cells": [
  {
   "cell_type": "markdown",
   "metadata": {},
   "source": [
    "# Sample workflow of `nhgisxwalk`\n",
    "\n",
    "## Starting from a subset of 2010 Wyoming blocks\n",
    "\n",
    "For further background information see:\n",
    "* **Schroeder, J. P**. 2007. *Target-density weighting interpolation and uncertainty evaluation for temporal analysis of census data*. Geographical Analysis 39 (3):311–335.\n",
    "\n",
    "#### NHGIS [block crosswalks](https://www.nhgis.org/user-resources/geographic-crosswalks)"
   ]
  },
  {
   "cell_type": "code",
   "execution_count": 1,
   "metadata": {
    "ExecuteTime": {
     "end_time": "2020-05-08T02:27:52.933267Z",
     "start_time": "2020-05-08T02:27:52.769951Z"
    }
   },
   "outputs": [
    {
     "name": "stdout",
     "output_type": "stream",
     "text": [
      "2020-05-07T22:27:52-04:00\n",
      "\n",
      "CPython 3.7.6\n",
      "IPython 7.13.0\n",
      "\n",
      "compiler   : Clang 9.0.1 \n",
      "system     : Darwin\n",
      "release    : 19.4.0\n",
      "machine    : x86_64\n",
      "processor  : i386\n",
      "CPU cores  : 4\n",
      "interpreter: 64bit\n"
     ]
    }
   ],
   "source": [
    "%load_ext watermark\n",
    "%watermark"
   ]
  },
  {
   "cell_type": "code",
   "execution_count": 2,
   "metadata": {
    "ExecuteTime": {
     "end_time": "2020-05-08T02:27:53.388055Z",
     "start_time": "2020-05-08T02:27:52.937367Z"
    }
   },
   "outputs": [
    {
     "name": "stdout",
     "output_type": "stream",
     "text": [
      "watermark 2.0.2\n",
      "pandas     1.0.3\n",
      "nhgisxwalk 0.0.1\n",
      "numpy      1.18.1\n",
      "\n"
     ]
    }
   ],
   "source": [
    "import nhgisxwalk\n",
    "import glob\n",
    "import inspect\n",
    "import numpy\n",
    "import pandas\n",
    "\n",
    "%load_ext autoreload\n",
    "%autoreload 2\n",
    "%watermark -w\n",
    "%watermark -iv"
   ]
  },
  {
   "cell_type": "markdown",
   "metadata": {},
   "source": [
    "### Source and target years for the crosswalk"
   ]
  },
  {
   "cell_type": "code",
   "execution_count": 3,
   "metadata": {
    "ExecuteTime": {
     "end_time": "2020-05-08T02:27:53.421451Z",
     "start_time": "2020-05-08T02:27:53.392590Z"
    }
   },
   "outputs": [],
   "source": [
    "source_year, target_year = \"1990\", \"2010\""
   ]
  },
  {
   "cell_type": "markdown",
   "metadata": {},
   "source": [
    "### Source-target building base"
   ]
  },
  {
   "cell_type": "code",
   "execution_count": 4,
   "metadata": {
    "ExecuteTime": {
     "end_time": "2020-05-08T02:27:53.774889Z",
     "start_time": "2020-05-08T02:27:53.426905Z"
    }
   },
   "outputs": [
    {
     "data": {
      "text/html": [
       "<div>\n",
       "<style scoped>\n",
       "    .dataframe tbody tr th:only-of-type {\n",
       "        vertical-align: middle;\n",
       "    }\n",
       "\n",
       "    .dataframe tbody tr th {\n",
       "        vertical-align: top;\n",
       "    }\n",
       "\n",
       "    .dataframe thead th {\n",
       "        text-align: right;\n",
       "    }\n",
       "</style>\n",
       "<table border=\"1\" class=\"dataframe\">\n",
       "  <thead>\n",
       "    <tr style=\"text-align: right;\">\n",
       "      <th></th>\n",
       "      <th>GJOIN1990</th>\n",
       "      <th>GJOIN2010</th>\n",
       "      <th>WEIGHT</th>\n",
       "      <th>PAREA_VIA_BLK00</th>\n",
       "    </tr>\n",
       "  </thead>\n",
       "  <tbody>\n",
       "    <tr>\n",
       "      <th>0</th>\n",
       "      <td>G08006900025701</td>\n",
       "      <td>G56002100019021461</td>\n",
       "      <td>0.0</td>\n",
       "      <td>6.228556e-06</td>\n",
       "    </tr>\n",
       "    <tr>\n",
       "      <th>1</th>\n",
       "      <td>G08012300024101</td>\n",
       "      <td>G56002100020004064</td>\n",
       "      <td>0.0</td>\n",
       "      <td>9.068587e-07</td>\n",
       "    </tr>\n",
       "    <tr>\n",
       "      <th>2</th>\n",
       "      <td>G08012300024102</td>\n",
       "      <td>G56002100020004064</td>\n",
       "      <td>0.0</td>\n",
       "      <td>1.449911e-07</td>\n",
       "    </tr>\n",
       "    <tr>\n",
       "      <th>3</th>\n",
       "      <td>G08012300024113</td>\n",
       "      <td>G56002100020004064</td>\n",
       "      <td>0.0</td>\n",
       "      <td>1.604626e-07</td>\n",
       "    </tr>\n",
       "    <tr>\n",
       "      <th>4</th>\n",
       "      <td>G08012300024114</td>\n",
       "      <td>G56002100020004064</td>\n",
       "      <td>0.0</td>\n",
       "      <td>9.604924e-07</td>\n",
       "    </tr>\n",
       "  </tbody>\n",
       "</table>\n",
       "</div>"
      ],
      "text/plain": [
       "         GJOIN1990           GJOIN2010  WEIGHT  PAREA_VIA_BLK00\n",
       "0  G08006900025701  G56002100019021461     0.0     6.228556e-06\n",
       "1  G08012300024101  G56002100020004064     0.0     9.068587e-07\n",
       "2  G08012300024102  G56002100020004064     0.0     1.449911e-07\n",
       "3  G08012300024113  G56002100020004064     0.0     1.604626e-07\n",
       "4  G08012300024114  G56002100020004064     0.0     9.604924e-07"
      ]
     },
     "execution_count": 4,
     "metadata": {},
     "output_type": "execute_result"
    }
   ],
   "source": [
    "subset_data_dir = \"../testing_data_subsets\"\n",
    "base_xwalk_name = \"/nhgis_blk%s_blk%s_gj.csv.zip\" % (source_year, target_year)\n",
    "base_xwalk_file = subset_data_dir + base_xwalk_name\n",
    "data_types = nhgisxwalk.str_types([\"GJOIN%s\"%source_year, \"GJOIN%s\"%target_year])\n",
    "base_xwalk = pandas.read_csv(base_xwalk_file, index_col=0, dtype=data_types)\n",
    "base_xwalk.head()"
   ]
  },
  {
   "cell_type": "markdown",
   "metadata": {},
   "source": [
    "### Convenience code shorthand/lookup"
   ]
  },
  {
   "cell_type": "code",
   "execution_count": 5,
   "metadata": {
    "ExecuteTime": {
     "end_time": "2020-05-08T02:27:53.813862Z",
     "start_time": "2020-05-08T02:27:53.778864Z"
    }
   },
   "outputs": [
    {
     "name": "stdout",
     "output_type": "stream",
     "text": [
      "def valid_geo_shorthand(shorthand_name=True):\n",
      "    \"\"\"Shorthand lookups for census geographies.\"\"\"\n",
      "    lookup = {\n",
      "        \"blk\": \"block\",\n",
      "        \"bgp\": \"block group part\",\n",
      "        \"bkg\": \"block group\",\n",
      "        \"trt\": \"tract\",\n",
      "        \"cty\": \"county\",\n",
      "    }\n",
      "    if not shorthand_name:\n",
      "        lookup = {v: k for k, v in lookup.items()}\n",
      "    return lookup\n",
      "\n"
     ]
    }
   ],
   "source": [
    "print(inspect.getsource(nhgisxwalk.valid_geo_shorthand))"
   ]
  },
  {
   "cell_type": "code",
   "execution_count": 6,
   "metadata": {
    "ExecuteTime": {
     "end_time": "2020-05-08T02:27:53.855697Z",
     "start_time": "2020-05-08T02:27:53.817670Z"
    }
   },
   "outputs": [
    {
     "data": {
      "text/plain": [
       "{'block': 'blk',\n",
       " 'block group part': 'bgp',\n",
       " 'block group': 'bkg',\n",
       " 'tract': 'trt',\n",
       " 'county': 'cty'}"
      ]
     },
     "execution_count": 6,
     "metadata": {},
     "output_type": "execute_result"
    }
   ],
   "source": [
    "nhgisxwalk.valid_geo_shorthand(shorthand_name=False)"
   ]
  },
  {
   "cell_type": "markdown",
   "metadata": {},
   "source": [
    "### Instantiate an `nhgisxwalk.GeoCrossWalk` object\n",
    "##### see [nhgisxwalk.GeoCrossWalk](https://github.com/jGaboardi/nhgisxwalk/blob/92b4fe55de0a9c53d0315dcda8ec121faaf20aef/nhgisxwalk/geocrosswalk.py#L19) for full details"
   ]
  },
  {
   "cell_type": "code",
   "execution_count": 7,
   "metadata": {
    "ExecuteTime": {
     "end_time": "2020-05-08T02:27:53.914878Z",
     "start_time": "2020-05-08T02:27:53.864306Z"
    }
   },
   "outputs": [
    {
     "data": {
      "text/plain": [
       "{'Persons': {'Persons': 'Universe',\n",
       "  'NP1': 'Source code',\n",
       "  'ET1': 'NHGIS code',\n",
       "  'Total': 'ET1001'},\n",
       " 'Families': {'Families': 'Universe',\n",
       "  'NP2': 'Source code',\n",
       "  'EUD': 'NHGIS code',\n",
       "  'Total': 'EUD001'},\n",
       " 'Households': {'Households': 'Universe',\n",
       "  'NP3': 'Source code',\n",
       "  'EUO': 'NHGIS code',\n",
       "  'Total': 'EUO001'},\n",
       " 'Housing Units': {'Housing Units': 'Universe',\n",
       "  'NH1': 'Source code',\n",
       "  'ESA': 'NHGIS code',\n",
       "  'Total': 'ESA001'}}"
      ]
     },
     "execution_count": 7,
     "metadata": {},
     "output_type": "execute_result"
    }
   ],
   "source": [
    "nhgisxwalk.desc_code_1990"
   ]
  },
  {
   "cell_type": "code",
   "execution_count": 8,
   "metadata": {
    "ExecuteTime": {
     "end_time": "2020-05-08T02:27:53.967749Z",
     "start_time": "2020-05-08T02:27:53.927157Z"
    }
   },
   "outputs": [
    {
     "data": {
      "text/plain": [
       "['ET1001', 'EUD001', 'EUO001', 'ESA001']"
      ]
     },
     "execution_count": 8,
     "metadata": {},
     "output_type": "execute_result"
    }
   ],
   "source": [
    "input_vars = [\n",
    "    nhgisxwalk.desc_code_1990[\"Persons\"][\"Total\"],\n",
    "    nhgisxwalk.desc_code_1990[\"Families\"][\"Total\"],\n",
    "    nhgisxwalk.desc_code_1990[\"Households\"][\"Total\"],\n",
    "    nhgisxwalk.desc_code_1990[\"Housing Units\"][\"Total\"]\n",
    "]\n",
    "input_vars"
   ]
  },
  {
   "cell_type": "code",
   "execution_count": 9,
   "metadata": {
    "ExecuteTime": {
     "end_time": "2020-05-08T02:27:54.005005Z",
     "start_time": "2020-05-08T02:27:53.976997Z"
    }
   },
   "outputs": [],
   "source": [
    "input_var_tags = [\"pop\", \"fam\", \"hh\", \"hu\"]"
   ]
  },
  {
   "cell_type": "code",
   "execution_count": 10,
   "metadata": {
    "ExecuteTime": {
     "end_time": "2020-05-08T02:28:01.954578Z",
     "start_time": "2020-05-08T02:27:54.009833Z"
    }
   },
   "outputs": [
    {
     "data": {
      "text/html": [
       "<div>\n",
       "<style scoped>\n",
       "    .dataframe tbody tr th:only-of-type {\n",
       "        vertical-align: middle;\n",
       "    }\n",
       "\n",
       "    .dataframe tbody tr th {\n",
       "        vertical-align: top;\n",
       "    }\n",
       "\n",
       "    .dataframe thead th {\n",
       "        text-align: right;\n",
       "    }\n",
       "</style>\n",
       "<table border=\"1\" class=\"dataframe\">\n",
       "  <thead>\n",
       "    <tr style=\"text-align: right;\">\n",
       "      <th></th>\n",
       "      <th>bgp1990</th>\n",
       "      <th>trt2010</th>\n",
       "      <th>wt_pop</th>\n",
       "      <th>wt_fam</th>\n",
       "      <th>wt_hh</th>\n",
       "      <th>wt_hu</th>\n",
       "    </tr>\n",
       "  </thead>\n",
       "  <tbody>\n",
       "    <tr>\n",
       "      <th>1304</th>\n",
       "      <td>G560045092255999999513009999999999921</td>\n",
       "      <td>G5600450951300</td>\n",
       "      <td>1.000000</td>\n",
       "      <td>1.000000</td>\n",
       "      <td>1.000000</td>\n",
       "      <td>1.000000</td>\n",
       "    </tr>\n",
       "    <tr>\n",
       "      <th>1305</th>\n",
       "      <td>G560045092255999999513009999999999922</td>\n",
       "      <td>G5600450951300</td>\n",
       "      <td>1.000000</td>\n",
       "      <td>1.000000</td>\n",
       "      <td>1.000000</td>\n",
       "      <td>1.000000</td>\n",
       "    </tr>\n",
       "    <tr>\n",
       "      <th>1306</th>\n",
       "      <td>G560045092255999999513009999999999923</td>\n",
       "      <td>G5600450951300</td>\n",
       "      <td>1.000000</td>\n",
       "      <td>1.000000</td>\n",
       "      <td>1.000000</td>\n",
       "      <td>1.000000</td>\n",
       "    </tr>\n",
       "    <tr>\n",
       "      <th>1307</th>\n",
       "      <td>G560045092255999999513009999999999924</td>\n",
       "      <td>G5600450951300</td>\n",
       "      <td>1.000000</td>\n",
       "      <td>1.000000</td>\n",
       "      <td>1.000000</td>\n",
       "      <td>1.000000</td>\n",
       "    </tr>\n",
       "    <tr>\n",
       "      <th>1308</th>\n",
       "      <td>G560045092255999999513009999999999925</td>\n",
       "      <td>G5600450951100</td>\n",
       "      <td>0.107631</td>\n",
       "      <td>0.103158</td>\n",
       "      <td>0.089892</td>\n",
       "      <td>0.082977</td>\n",
       "    </tr>\n",
       "    <tr>\n",
       "      <th>1309</th>\n",
       "      <td>G560045092255999999513009999999999925</td>\n",
       "      <td>G5600450951300</td>\n",
       "      <td>0.892369</td>\n",
       "      <td>0.896842</td>\n",
       "      <td>0.910108</td>\n",
       "      <td>0.917023</td>\n",
       "    </tr>\n",
       "    <tr>\n",
       "      <th>1310</th>\n",
       "      <td>G560045093520791259512009999999999926</td>\n",
       "      <td>G5600450951100</td>\n",
       "      <td>1.000000</td>\n",
       "      <td>1.000000</td>\n",
       "      <td>1.000000</td>\n",
       "      <td>1.000000</td>\n",
       "    </tr>\n",
       "    <tr>\n",
       "      <th>1311</th>\n",
       "      <td>G560045093520791259512009999999999927</td>\n",
       "      <td>G5600450951100</td>\n",
       "      <td>1.000000</td>\n",
       "      <td>1.000000</td>\n",
       "      <td>1.000000</td>\n",
       "      <td>1.000000</td>\n",
       "    </tr>\n",
       "    <tr>\n",
       "      <th>1312</th>\n",
       "      <td>G560045093520999999512009999999999921</td>\n",
       "      <td>G5600450951100</td>\n",
       "      <td>1.000000</td>\n",
       "      <td>1.000000</td>\n",
       "      <td>1.000000</td>\n",
       "      <td>1.000000</td>\n",
       "    </tr>\n",
       "    <tr>\n",
       "      <th>1313</th>\n",
       "      <td>G560045093520999999512009999999999922</td>\n",
       "      <td>G5600450951100</td>\n",
       "      <td>1.000000</td>\n",
       "      <td>1.000000</td>\n",
       "      <td>1.000000</td>\n",
       "      <td>1.000000</td>\n",
       "    </tr>\n",
       "    <tr>\n",
       "      <th>1314</th>\n",
       "      <td>G560045093520999999512009999999999923</td>\n",
       "      <td>G5600450951100</td>\n",
       "      <td>1.000000</td>\n",
       "      <td>1.000000</td>\n",
       "      <td>1.000000</td>\n",
       "      <td>1.000000</td>\n",
       "    </tr>\n",
       "    <tr>\n",
       "      <th>1315</th>\n",
       "      <td>G560045093520999999512009999999999924</td>\n",
       "      <td>G5600450951100</td>\n",
       "      <td>1.000000</td>\n",
       "      <td>1.000000</td>\n",
       "      <td>1.000000</td>\n",
       "      <td>1.000000</td>\n",
       "    </tr>\n",
       "    <tr>\n",
       "      <th>1316</th>\n",
       "      <td>G560045093520999999512009999999999925</td>\n",
       "      <td>G5600450951100</td>\n",
       "      <td>1.000000</td>\n",
       "      <td>1.000000</td>\n",
       "      <td>1.000000</td>\n",
       "      <td>1.000000</td>\n",
       "    </tr>\n",
       "    <tr>\n",
       "      <th>1317</th>\n",
       "      <td>G560045093520999999512009999999999926</td>\n",
       "      <td>G5600450951100</td>\n",
       "      <td>1.000000</td>\n",
       "      <td>1.000000</td>\n",
       "      <td>1.000000</td>\n",
       "      <td>1.000000</td>\n",
       "    </tr>\n",
       "    <tr>\n",
       "      <th>1318</th>\n",
       "      <td>G560045093520999999512009999999999927</td>\n",
       "      <td>G5600450951100</td>\n",
       "      <td>1.000000</td>\n",
       "      <td>1.000000</td>\n",
       "      <td>1.000000</td>\n",
       "      <td>1.000000</td>\n",
       "    </tr>\n",
       "  </tbody>\n",
       "</table>\n",
       "</div>"
      ],
      "text/plain": [
       "                                    bgp1990         trt2010    wt_pop  \\\n",
       "1304  G560045092255999999513009999999999921  G5600450951300  1.000000   \n",
       "1305  G560045092255999999513009999999999922  G5600450951300  1.000000   \n",
       "1306  G560045092255999999513009999999999923  G5600450951300  1.000000   \n",
       "1307  G560045092255999999513009999999999924  G5600450951300  1.000000   \n",
       "1308  G560045092255999999513009999999999925  G5600450951100  0.107631   \n",
       "1309  G560045092255999999513009999999999925  G5600450951300  0.892369   \n",
       "1310  G560045093520791259512009999999999926  G5600450951100  1.000000   \n",
       "1311  G560045093520791259512009999999999927  G5600450951100  1.000000   \n",
       "1312  G560045093520999999512009999999999921  G5600450951100  1.000000   \n",
       "1313  G560045093520999999512009999999999922  G5600450951100  1.000000   \n",
       "1314  G560045093520999999512009999999999923  G5600450951100  1.000000   \n",
       "1315  G560045093520999999512009999999999924  G5600450951100  1.000000   \n",
       "1316  G560045093520999999512009999999999925  G5600450951100  1.000000   \n",
       "1317  G560045093520999999512009999999999926  G5600450951100  1.000000   \n",
       "1318  G560045093520999999512009999999999927  G5600450951100  1.000000   \n",
       "\n",
       "        wt_fam     wt_hh     wt_hu  \n",
       "1304  1.000000  1.000000  1.000000  \n",
       "1305  1.000000  1.000000  1.000000  \n",
       "1306  1.000000  1.000000  1.000000  \n",
       "1307  1.000000  1.000000  1.000000  \n",
       "1308  0.103158  0.089892  0.082977  \n",
       "1309  0.896842  0.910108  0.917023  \n",
       "1310  1.000000  1.000000  1.000000  \n",
       "1311  1.000000  1.000000  1.000000  \n",
       "1312  1.000000  1.000000  1.000000  \n",
       "1313  1.000000  1.000000  1.000000  \n",
       "1314  1.000000  1.000000  1.000000  \n",
       "1315  1.000000  1.000000  1.000000  \n",
       "1316  1.000000  1.000000  1.000000  \n",
       "1317  1.000000  1.000000  1.000000  \n",
       "1318  1.000000  1.000000  1.000000  "
      ]
     },
     "execution_count": 10,
     "metadata": {},
     "output_type": "execute_result"
    }
   ],
   "source": [
    "bgp1990_to_trt2010 = nhgisxwalk.GeoCrossWalk(\n",
    "    base_xwalk,\n",
    "    source_year=source_year,\n",
    "    target_year=target_year,\n",
    "    source_geo=\"bgp\",\n",
    "    target_geo=\"trt\",\n",
    "    base_source_table=subset_data_dir+\"/1990_block.csv.zip\",\n",
    "    input_var=input_vars,\n",
    "    weight_var=input_var_tags,\n",
    "    stfips=\"56\"\n",
    ")\n",
    "bgp1990_to_trt2010.xwalk.tail(15)"
   ]
  },
  {
   "cell_type": "markdown",
   "metadata": {},
   "source": [
    "### Write crosswalk to a `.csv`"
   ]
  },
  {
   "cell_type": "code",
   "execution_count": 11,
   "metadata": {
    "ExecuteTime": {
     "end_time": "2020-05-08T02:28:01.997697Z",
     "start_time": "2020-05-08T02:28:01.958588Z"
    }
   },
   "outputs": [],
   "source": [
    "res_dir = \"../../results/\"\n",
    "bgp1990_to_trt2010.xwalk_to_csv(loc=res_dir)"
   ]
  },
  {
   "cell_type": "markdown",
   "metadata": {},
   "source": [
    "### Read crosswalk from a `.csv`"
   ]
  },
  {
   "cell_type": "code",
   "execution_count": 12,
   "metadata": {
    "ExecuteTime": {
     "end_time": "2020-05-08T02:28:02.052007Z",
     "start_time": "2020-05-08T02:28:01.999924Z"
    }
   },
   "outputs": [
    {
     "data": {
      "text/html": [
       "<div>\n",
       "<style scoped>\n",
       "    .dataframe tbody tr th:only-of-type {\n",
       "        vertical-align: middle;\n",
       "    }\n",
       "\n",
       "    .dataframe tbody tr th {\n",
       "        vertical-align: top;\n",
       "    }\n",
       "\n",
       "    .dataframe thead th {\n",
       "        text-align: right;\n",
       "    }\n",
       "</style>\n",
       "<table border=\"1\" class=\"dataframe\">\n",
       "  <thead>\n",
       "    <tr style=\"text-align: right;\">\n",
       "      <th></th>\n",
       "      <th>Unnamed: 0</th>\n",
       "      <th>bgp1990</th>\n",
       "      <th>trt2010</th>\n",
       "      <th>wt_pop</th>\n",
       "      <th>wt_fam</th>\n",
       "      <th>wt_hh</th>\n",
       "      <th>wt_hu</th>\n",
       "    </tr>\n",
       "  </thead>\n",
       "  <tbody>\n",
       "    <tr>\n",
       "      <th>1304</th>\n",
       "      <td>1304</td>\n",
       "      <td>G560045092255999999513009999999999921</td>\n",
       "      <td>G5600450951300</td>\n",
       "      <td>1.000000</td>\n",
       "      <td>1.000000</td>\n",
       "      <td>1.000000</td>\n",
       "      <td>1.000000</td>\n",
       "    </tr>\n",
       "    <tr>\n",
       "      <th>1305</th>\n",
       "      <td>1305</td>\n",
       "      <td>G560045092255999999513009999999999922</td>\n",
       "      <td>G5600450951300</td>\n",
       "      <td>1.000000</td>\n",
       "      <td>1.000000</td>\n",
       "      <td>1.000000</td>\n",
       "      <td>1.000000</td>\n",
       "    </tr>\n",
       "    <tr>\n",
       "      <th>1306</th>\n",
       "      <td>1306</td>\n",
       "      <td>G560045092255999999513009999999999923</td>\n",
       "      <td>G5600450951300</td>\n",
       "      <td>1.000000</td>\n",
       "      <td>1.000000</td>\n",
       "      <td>1.000000</td>\n",
       "      <td>1.000000</td>\n",
       "    </tr>\n",
       "    <tr>\n",
       "      <th>1307</th>\n",
       "      <td>1307</td>\n",
       "      <td>G560045092255999999513009999999999924</td>\n",
       "      <td>G5600450951300</td>\n",
       "      <td>1.000000</td>\n",
       "      <td>1.000000</td>\n",
       "      <td>1.000000</td>\n",
       "      <td>1.000000</td>\n",
       "    </tr>\n",
       "    <tr>\n",
       "      <th>1308</th>\n",
       "      <td>1308</td>\n",
       "      <td>G560045092255999999513009999999999925</td>\n",
       "      <td>G5600450951100</td>\n",
       "      <td>0.107631</td>\n",
       "      <td>0.103158</td>\n",
       "      <td>0.089892</td>\n",
       "      <td>0.082977</td>\n",
       "    </tr>\n",
       "    <tr>\n",
       "      <th>1309</th>\n",
       "      <td>1309</td>\n",
       "      <td>G560045092255999999513009999999999925</td>\n",
       "      <td>G5600450951300</td>\n",
       "      <td>0.892369</td>\n",
       "      <td>0.896842</td>\n",
       "      <td>0.910108</td>\n",
       "      <td>0.917023</td>\n",
       "    </tr>\n",
       "    <tr>\n",
       "      <th>1310</th>\n",
       "      <td>1310</td>\n",
       "      <td>G560045093520791259512009999999999926</td>\n",
       "      <td>G5600450951100</td>\n",
       "      <td>1.000000</td>\n",
       "      <td>1.000000</td>\n",
       "      <td>1.000000</td>\n",
       "      <td>1.000000</td>\n",
       "    </tr>\n",
       "    <tr>\n",
       "      <th>1311</th>\n",
       "      <td>1311</td>\n",
       "      <td>G560045093520791259512009999999999927</td>\n",
       "      <td>G5600450951100</td>\n",
       "      <td>1.000000</td>\n",
       "      <td>1.000000</td>\n",
       "      <td>1.000000</td>\n",
       "      <td>1.000000</td>\n",
       "    </tr>\n",
       "    <tr>\n",
       "      <th>1312</th>\n",
       "      <td>1312</td>\n",
       "      <td>G560045093520999999512009999999999921</td>\n",
       "      <td>G5600450951100</td>\n",
       "      <td>1.000000</td>\n",
       "      <td>1.000000</td>\n",
       "      <td>1.000000</td>\n",
       "      <td>1.000000</td>\n",
       "    </tr>\n",
       "    <tr>\n",
       "      <th>1313</th>\n",
       "      <td>1313</td>\n",
       "      <td>G560045093520999999512009999999999922</td>\n",
       "      <td>G5600450951100</td>\n",
       "      <td>1.000000</td>\n",
       "      <td>1.000000</td>\n",
       "      <td>1.000000</td>\n",
       "      <td>1.000000</td>\n",
       "    </tr>\n",
       "    <tr>\n",
       "      <th>1314</th>\n",
       "      <td>1314</td>\n",
       "      <td>G560045093520999999512009999999999923</td>\n",
       "      <td>G5600450951100</td>\n",
       "      <td>1.000000</td>\n",
       "      <td>1.000000</td>\n",
       "      <td>1.000000</td>\n",
       "      <td>1.000000</td>\n",
       "    </tr>\n",
       "    <tr>\n",
       "      <th>1315</th>\n",
       "      <td>1315</td>\n",
       "      <td>G560045093520999999512009999999999924</td>\n",
       "      <td>G5600450951100</td>\n",
       "      <td>1.000000</td>\n",
       "      <td>1.000000</td>\n",
       "      <td>1.000000</td>\n",
       "      <td>1.000000</td>\n",
       "    </tr>\n",
       "    <tr>\n",
       "      <th>1316</th>\n",
       "      <td>1316</td>\n",
       "      <td>G560045093520999999512009999999999925</td>\n",
       "      <td>G5600450951100</td>\n",
       "      <td>1.000000</td>\n",
       "      <td>1.000000</td>\n",
       "      <td>1.000000</td>\n",
       "      <td>1.000000</td>\n",
       "    </tr>\n",
       "    <tr>\n",
       "      <th>1317</th>\n",
       "      <td>1317</td>\n",
       "      <td>G560045093520999999512009999999999926</td>\n",
       "      <td>G5600450951100</td>\n",
       "      <td>1.000000</td>\n",
       "      <td>1.000000</td>\n",
       "      <td>1.000000</td>\n",
       "      <td>1.000000</td>\n",
       "    </tr>\n",
       "    <tr>\n",
       "      <th>1318</th>\n",
       "      <td>1318</td>\n",
       "      <td>G560045093520999999512009999999999927</td>\n",
       "      <td>G5600450951100</td>\n",
       "      <td>1.000000</td>\n",
       "      <td>1.000000</td>\n",
       "      <td>1.000000</td>\n",
       "      <td>1.000000</td>\n",
       "    </tr>\n",
       "  </tbody>\n",
       "</table>\n",
       "</div>"
      ],
      "text/plain": [
       "      Unnamed: 0                                bgp1990         trt2010  \\\n",
       "1304        1304  G560045092255999999513009999999999921  G5600450951300   \n",
       "1305        1305  G560045092255999999513009999999999922  G5600450951300   \n",
       "1306        1306  G560045092255999999513009999999999923  G5600450951300   \n",
       "1307        1307  G560045092255999999513009999999999924  G5600450951300   \n",
       "1308        1308  G560045092255999999513009999999999925  G5600450951100   \n",
       "1309        1309  G560045092255999999513009999999999925  G5600450951300   \n",
       "1310        1310  G560045093520791259512009999999999926  G5600450951100   \n",
       "1311        1311  G560045093520791259512009999999999927  G5600450951100   \n",
       "1312        1312  G560045093520999999512009999999999921  G5600450951100   \n",
       "1313        1313  G560045093520999999512009999999999922  G5600450951100   \n",
       "1314        1314  G560045093520999999512009999999999923  G5600450951100   \n",
       "1315        1315  G560045093520999999512009999999999924  G5600450951100   \n",
       "1316        1316  G560045093520999999512009999999999925  G5600450951100   \n",
       "1317        1317  G560045093520999999512009999999999926  G5600450951100   \n",
       "1318        1318  G560045093520999999512009999999999927  G5600450951100   \n",
       "\n",
       "        wt_pop    wt_fam     wt_hh     wt_hu  \n",
       "1304  1.000000  1.000000  1.000000  1.000000  \n",
       "1305  1.000000  1.000000  1.000000  1.000000  \n",
       "1306  1.000000  1.000000  1.000000  1.000000  \n",
       "1307  1.000000  1.000000  1.000000  1.000000  \n",
       "1308  0.107631  0.103158  0.089892  0.082977  \n",
       "1309  0.892369  0.896842  0.910108  0.917023  \n",
       "1310  1.000000  1.000000  1.000000  1.000000  \n",
       "1311  1.000000  1.000000  1.000000  1.000000  \n",
       "1312  1.000000  1.000000  1.000000  1.000000  \n",
       "1313  1.000000  1.000000  1.000000  1.000000  \n",
       "1314  1.000000  1.000000  1.000000  1.000000  \n",
       "1315  1.000000  1.000000  1.000000  1.000000  \n",
       "1316  1.000000  1.000000  1.000000  1.000000  \n",
       "1317  1.000000  1.000000  1.000000  1.000000  \n",
       "1318  1.000000  1.000000  1.000000  1.000000  "
      ]
     },
     "execution_count": 12,
     "metadata": {},
     "output_type": "execute_result"
    }
   ],
   "source": [
    "fname = res_dir + \"bgp1990_to_trt2010_56\"\n",
    "bgp1990_to_trt2010 = nhgisxwalk.GeoCrossWalk.xwalk_from_csv(fname)\n",
    "bgp1990_to_trt2010.tail(15)"
   ]
  },
  {
   "cell_type": "markdown",
   "metadata": {},
   "source": [
    "-----------------------------------------------"
   ]
  }
 ],
 "metadata": {
  "_draft": {
   "nbviewer_url": "https://gist.github.com/9f47e4ec2cc37bce83acf20abfca69d2"
  },
  "gist": {
   "data": {
    "description": "sample-workflow.ipynb",
    "public": true
   },
   "id": "9f47e4ec2cc37bce83acf20abfca69d2"
  },
  "kernelspec": {
   "display_name": "Python [conda env:nhgis_env]",
   "language": "python",
   "name": "conda-env-nhgis_env-py"
  },
  "language_info": {
   "codemirror_mode": {
    "name": "ipython",
    "version": 3
   },
   "file_extension": ".py",
   "mimetype": "text/x-python",
   "name": "python",
   "nbconvert_exporter": "python",
   "pygments_lexer": "ipython3",
   "version": "3.7.6"
  }
 },
 "nbformat": 4,
 "nbformat_minor": 4
}
