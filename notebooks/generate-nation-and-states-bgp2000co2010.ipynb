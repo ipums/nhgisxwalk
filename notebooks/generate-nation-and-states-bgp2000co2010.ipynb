{
 "cells": [
  {
   "cell_type": "markdown",
   "metadata": {},
   "source": [
    "# Generate national and state-level crosswalks\n",
    "## 2000 block group parts to 2010 county\n",
    "\n",
    "### NHGIS [block crosswalks](https://www.nhgis.org/user-resources/geographic-crosswalks)\n",
    "\n",
    "**James D. Gaboardi, 06/2020**"
   ]
  },
  {
   "cell_type": "code",
   "execution_count": 1,
   "metadata": {
    "ExecuteTime": {
     "end_time": "2020-08-10T22:07:43.419015Z",
     "start_time": "2020-08-10T22:07:43.309064Z"
    }
   },
   "outputs": [
    {
     "name": "stdout",
     "output_type": "stream",
     "text": [
      "2020-08-10T18:07:43-04:00\n",
      "\n",
      "CPython 3.8.5\n",
      "IPython 7.16.1\n",
      "\n",
      "compiler   : Clang 10.0.1 \n",
      "system     : Darwin\n",
      "release    : 19.6.0\n",
      "machine    : x86_64\n",
      "processor  : i386\n",
      "CPU cores  : 8\n",
      "interpreter: 64bit\n"
     ]
    }
   ],
   "source": [
    "%load_ext watermark\n",
    "%watermark"
   ]
  },
  {
   "cell_type": "code",
   "execution_count": 2,
   "metadata": {
    "ExecuteTime": {
     "end_time": "2020-08-10T22:07:43.707091Z",
     "start_time": "2020-08-10T22:07:43.420915Z"
    }
   },
   "outputs": [
    {
     "name": "stdout",
     "output_type": "stream",
     "text": [
      "watermark 2.0.2\n",
      "numpy      1.19.1\n",
      "nhgisxwalk 0.0.8\n",
      "pandas     1.1.0\n",
      "\n"
     ]
    }
   ],
   "source": [
    "import nhgisxwalk\n",
    "import inspect\n",
    "import numpy\n",
    "import pandas\n",
    "\n",
    "%load_ext autoreload\n",
    "%autoreload 2\n",
    "%watermark -w\n",
    "%watermark -iv"
   ]
  },
  {
   "cell_type": "markdown",
   "metadata": {},
   "source": [
    "### Source and target years for the crosswalk"
   ]
  },
  {
   "cell_type": "code",
   "execution_count": 3,
   "metadata": {
    "ExecuteTime": {
     "end_time": "2020-08-10T22:07:43.728413Z",
     "start_time": "2020-08-10T22:07:43.710172Z"
    }
   },
   "outputs": [],
   "source": [
    "source_year, target_year = \"2000\", \"2010\"\n",
    "gj_src, gj_trg = \"GJOIN%s\"%source_year, \"GJOIN%s\"%target_year"
   ]
  },
  {
   "cell_type": "code",
   "execution_count": 4,
   "metadata": {
    "ExecuteTime": {
     "end_time": "2020-08-10T22:07:43.748629Z",
     "start_time": "2020-08-10T22:07:43.730683Z"
    }
   },
   "outputs": [],
   "source": [
    "data_in = \"../../crosswalks/\"\n",
    "data_tab = \"../../tabular_data/\""
   ]
  },
  {
   "cell_type": "markdown",
   "metadata": {},
   "source": [
    "### Source-target building base"
   ]
  },
  {
   "cell_type": "code",
   "execution_count": 5,
   "metadata": {
    "ExecuteTime": {
     "end_time": "2020-08-10T22:07:57.683706Z",
     "start_time": "2020-08-10T22:07:43.750575Z"
    }
   },
   "outputs": [
    {
     "data": {
      "text/html": [
       "<div>\n",
       "<style scoped>\n",
       "    .dataframe tbody tr th:only-of-type {\n",
       "        vertical-align: middle;\n",
       "    }\n",
       "\n",
       "    .dataframe tbody tr th {\n",
       "        vertical-align: top;\n",
       "    }\n",
       "\n",
       "    .dataframe thead th {\n",
       "        text-align: right;\n",
       "    }\n",
       "</style>\n",
       "<table border=\"1\" class=\"dataframe\">\n",
       "  <thead>\n",
       "    <tr style=\"text-align: right;\">\n",
       "      <th></th>\n",
       "      <th>GJOIN2000</th>\n",
       "      <th>GJOIN2010</th>\n",
       "      <th>WEIGHT</th>\n",
       "      <th>PAREA</th>\n",
       "    </tr>\n",
       "  </thead>\n",
       "  <tbody>\n",
       "    <tr>\n",
       "      <th>0</th>\n",
       "      <td>G01000100201001000</td>\n",
       "      <td>G01000100201002000</td>\n",
       "      <td>0.035897</td>\n",
       "      <td>0.008988</td>\n",
       "    </tr>\n",
       "    <tr>\n",
       "      <th>1</th>\n",
       "      <td>G01000100201001000</td>\n",
       "      <td>G01000100201002001</td>\n",
       "      <td>0.253330</td>\n",
       "      <td>0.263725</td>\n",
       "    </tr>\n",
       "    <tr>\n",
       "      <th>2</th>\n",
       "      <td>G01000100201001000</td>\n",
       "      <td>G01000100201002002</td>\n",
       "      <td>0.000000</td>\n",
       "      <td>0.000385</td>\n",
       "    </tr>\n",
       "    <tr>\n",
       "      <th>3</th>\n",
       "      <td>G01000100201001000</td>\n",
       "      <td>G01000100201002003</td>\n",
       "      <td>0.076297</td>\n",
       "      <td>0.055430</td>\n",
       "    </tr>\n",
       "    <tr>\n",
       "      <th>4</th>\n",
       "      <td>G01000100201001000</td>\n",
       "      <td>G01000100201002004</td>\n",
       "      <td>0.032441</td>\n",
       "      <td>0.007543</td>\n",
       "    </tr>\n",
       "  </tbody>\n",
       "</table>\n",
       "</div>"
      ],
      "text/plain": [
       "            GJOIN2000           GJOIN2010    WEIGHT     PAREA\n",
       "0  G01000100201001000  G01000100201002000  0.035897  0.008988\n",
       "1  G01000100201001000  G01000100201002001  0.253330  0.263725\n",
       "2  G01000100201001000  G01000100201002002  0.000000  0.000385\n",
       "3  G01000100201001000  G01000100201002003  0.076297  0.055430\n",
       "4  G01000100201001000  G01000100201002004  0.032441  0.007543"
      ]
     },
     "execution_count": 5,
     "metadata": {},
     "output_type": "execute_result"
    }
   ],
   "source": [
    "base_xwalk_name = \"nhgis_blk%s_blk%s_gj\" % (source_year, target_year)\n",
    "data_types = nhgisxwalk.str_types([gj_src, gj_trg])\n",
    "from_csv_kws = {\"path\": data_in, \"archived\": True, \"remove_unpacked\": True}\n",
    "read_csv_kws = {\"dtype\": data_types}\n",
    "base_xwalk = nhgisxwalk.xwalk_df_from_csv(\n",
    "    base_xwalk_name, **from_csv_kws, **read_csv_kws\n",
    ")\n",
    "base_xwalk.head()"
   ]
  },
  {
   "cell_type": "markdown",
   "metadata": {},
   "source": [
    "### Source summary data"
   ]
  },
  {
   "cell_type": "code",
   "execution_count": 6,
   "metadata": {
    "ExecuteTime": {
     "end_time": "2020-08-10T22:07:57.707275Z",
     "start_time": "2020-08-10T22:07:57.685917Z"
    }
   },
   "outputs": [
    {
     "data": {
      "text/plain": [
       "'../../tabular_data/2000_block/2000_block.csv'"
      ]
     },
     "execution_count": 6,
     "metadata": {},
     "output_type": "execute_result"
    }
   ],
   "source": [
    "base_source_name = \"%s_block/%s_block.csv\" % (source_year, source_year)\n",
    "base_source_file = \"%s%s\" % (data_tab, base_source_name)\n",
    "base_source_file"
   ]
  },
  {
   "cell_type": "markdown",
   "metadata": {},
   "source": [
    "### Convenience code shorthand/lookup"
   ]
  },
  {
   "cell_type": "code",
   "execution_count": 7,
   "metadata": {
    "ExecuteTime": {
     "end_time": "2020-08-10T22:07:57.729156Z",
     "start_time": "2020-08-10T22:07:57.708976Z"
    }
   },
   "outputs": [
    {
     "data": {
      "text/plain": [
       "{'block': 'blk',\n",
       " 'block group part': 'bgp',\n",
       " 'block group': 'bg',\n",
       " 'tract': 'tr',\n",
       " 'county': 'co'}"
      ]
     },
     "execution_count": 7,
     "metadata": {},
     "output_type": "execute_result"
    }
   ],
   "source": [
    "nhgisxwalk.valid_geo_shorthand(shorthand_name=False)"
   ]
  },
  {
   "cell_type": "markdown",
   "metadata": {},
   "source": [
    "### Set the `nhgisxwalk.GeoCrossWalk` parameters\n",
    "##### see [nhgisxwalk.GeoCrossWalk](https://github.com/jGaboardi/nhgisxwalk/blob/92b4fe55de0a9c53d0315dcda8ec121faaf20aef/nhgisxwalk/geocrosswalk.py#L19) for full details"
   ]
  },
  {
   "cell_type": "code",
   "execution_count": 8,
   "metadata": {
    "ExecuteTime": {
     "end_time": "2020-08-10T22:07:57.751440Z",
     "start_time": "2020-08-10T22:07:57.732127Z"
    }
   },
   "outputs": [
    {
     "data": {
      "text/plain": [
       "{'Persons': {'Persons': 'Universe',\n",
       "  'NP001A': 'Source code',\n",
       "  'FXS': 'NHGIS code',\n",
       "  'Total': 'FXS001'},\n",
       " 'Families': {'Families': 'Universe',\n",
       "  'NP031A': 'Source code',\n",
       "  'F2V': 'NHGIS code',\n",
       "  'Total': 'F2V001'},\n",
       " 'Households': {'Households': 'Universe',\n",
       "  'NP010A': 'Source code',\n",
       "  'FY4': 'NHGIS code',\n",
       "  'Total': 'FY4001'},\n",
       " 'Housing Units': {'Housing Units': 'Universe',\n",
       "  'NH001A': 'Source code',\n",
       "  'FV5': 'NHGIS code',\n",
       "  'Total': 'FV5001'}}"
      ]
     },
     "execution_count": 8,
     "metadata": {},
     "output_type": "execute_result"
    }
   ],
   "source": [
    "nhgisxwalk.desc_code_2000_SF1b"
   ]
  },
  {
   "cell_type": "code",
   "execution_count": 9,
   "metadata": {
    "ExecuteTime": {
     "end_time": "2020-08-10T22:07:57.772991Z",
     "start_time": "2020-08-10T22:07:57.753527Z"
    }
   },
   "outputs": [
    {
     "data": {
      "text/plain": [
       "['FXS001', 'F2V001', 'FY4001', 'FV5001']"
      ]
     },
     "execution_count": 9,
     "metadata": {},
     "output_type": "execute_result"
    }
   ],
   "source": [
    "input_vars = [\n",
    "    nhgisxwalk.desc_code_2000_SF1b[\"Persons\"][\"Total\"],\n",
    "    nhgisxwalk.desc_code_2000_SF1b[\"Families\"][\"Total\"],\n",
    "    nhgisxwalk.desc_code_2000_SF1b[\"Households\"][\"Total\"],\n",
    "    nhgisxwalk.desc_code_2000_SF1b[\"Housing Units\"][\"Total\"]\n",
    "]\n",
    "input_vars"
   ]
  },
  {
   "cell_type": "code",
   "execution_count": 10,
   "metadata": {
    "ExecuteTime": {
     "end_time": "2020-08-10T22:07:57.793268Z",
     "start_time": "2020-08-10T22:07:57.774793Z"
    }
   },
   "outputs": [],
   "source": [
    "input_var_tags = [\"pop\", \"fam\", \"hh\", \"hu\"]"
   ]
  },
  {
   "cell_type": "code",
   "execution_count": 11,
   "metadata": {
    "ExecuteTime": {
     "end_time": "2020-08-10T22:07:57.813209Z",
     "start_time": "2020-08-10T22:07:57.794568Z"
    }
   },
   "outputs": [],
   "source": [
    "xwalk_args = {\n",
    "    \"source_year\": source_year,\n",
    "    \"target_year\": target_year,\n",
    "    \"source_geo\": \"bgp\",\n",
    "    \"target_geo\": \"co\",\n",
    "    \"base_source_table\": base_source_file,\n",
    "    \"input_var\": input_vars,\n",
    "    \"weight_var\": input_var_tags,\n",
    "    \"keep_base\": False,\n",
    "    \"add_geoid\": True\n",
    "}"
   ]
  },
  {
   "cell_type": "markdown",
   "metadata": {},
   "source": [
    "### Generate data product\n",
    "1. Create a national crosswalk then split by state \n",
    "2. Write out all products with `README.txt` files"
   ]
  },
  {
   "cell_type": "code",
   "execution_count": 12,
   "metadata": {
    "ExecuteTime": {
     "end_time": "2020-08-10T22:10:08.718930Z",
     "start_time": "2020-08-10T22:07:57.814527Z"
    }
   },
   "outputs": [],
   "source": [
    "nhgisxwalk.generate_data_product(base_xwalk, xwalk_args, data_in)"
   ]
  },
  {
   "cell_type": "markdown",
   "metadata": {},
   "source": [
    "-----------------------------------------------"
   ]
  }
 ],
 "metadata": {
  "_draft": {
   "nbviewer_url": "https://gist.github.com/9f47e4ec2cc37bce83acf20abfca69d2"
  },
  "gist": {
   "data": {
    "description": "sample-workflow.ipynb",
    "public": true
   },
   "id": "9f47e4ec2cc37bce83acf20abfca69d2"
  },
  "kernelspec": {
   "display_name": "Python [conda env:nhgis]",
   "language": "python",
   "name": "conda-env-nhgis-py"
  },
  "language_info": {
   "codemirror_mode": {
    "name": "ipython",
    "version": 3
   },
   "file_extension": ".py",
   "mimetype": "text/x-python",
   "name": "python",
   "nbconvert_exporter": "python",
   "pygments_lexer": "ipython3",
   "version": "3.8.5"
  }
 },
 "nbformat": 4,
 "nbformat_minor": 4
}
