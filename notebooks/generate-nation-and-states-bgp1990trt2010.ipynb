{
 "cells": [
  {
   "cell_type": "markdown",
   "metadata": {},
   "source": [
    "# Generate national and state-level crosswalks\n",
    "## 1990 block group parts to 2010 tracts\n",
    "\n",
    "### NHGIS [block crosswalks](https://www.nhgis.org/user-resources/geographic-crosswalks)\n",
    "\n",
    "**James D. Gaboardi, 06/2020**"
   ]
  },
  {
   "cell_type": "code",
   "execution_count": 1,
   "metadata": {
    "ExecuteTime": {
     "end_time": "2020-07-13T02:20:08.178524Z",
     "start_time": "2020-07-13T02:20:08.152352Z"
    }
   },
   "outputs": [
    {
     "name": "stdout",
     "output_type": "stream",
     "text": [
      "2020-07-12T22:20:08-04:00\n",
      "\n",
      "CPython 3.7.6\n",
      "IPython 7.15.0\n",
      "\n",
      "compiler   : Clang 9.0.1 \n",
      "system     : Darwin\n",
      "release    : 19.5.0\n",
      "machine    : x86_64\n",
      "processor  : i386\n",
      "CPU cores  : 8\n",
      "interpreter: 64bit\n"
     ]
    }
   ],
   "source": [
    "%load_ext watermark\n",
    "%watermark"
   ]
  },
  {
   "cell_type": "code",
   "execution_count": 2,
   "metadata": {
    "ExecuteTime": {
     "end_time": "2020-07-13T02:20:08.656664Z",
     "start_time": "2020-07-13T02:20:08.180597Z"
    }
   },
   "outputs": [
    {
     "name": "stdout",
     "output_type": "stream",
     "text": [
      "watermark 2.0.2\n",
      "numpy      1.18.5\n",
      "nhgisxwalk 0.0.6\n",
      "pandas     1.0.4\n",
      "\n"
     ]
    }
   ],
   "source": [
    "import nhgisxwalk\n",
    "import inspect\n",
    "import numpy\n",
    "import pandas\n",
    "\n",
    "%load_ext autoreload\n",
    "%autoreload 2\n",
    "%watermark -w\n",
    "%watermark -iv"
   ]
  },
  {
   "cell_type": "markdown",
   "metadata": {},
   "source": [
    "### Source and target years for the crosswalk"
   ]
  },
  {
   "cell_type": "code",
   "execution_count": 3,
   "metadata": {
    "ExecuteTime": {
     "end_time": "2020-07-13T02:20:08.678799Z",
     "start_time": "2020-07-13T02:20:08.659792Z"
    }
   },
   "outputs": [],
   "source": [
    "source_year, target_year = \"1990\", \"2010\"\n",
    "gj_src, gj_trg = \"GJOIN%s\"%source_year, \"GJOIN%s\"%target_year"
   ]
  },
  {
   "cell_type": "markdown",
   "metadata": {},
   "source": [
    "### Source-target building base"
   ]
  },
  {
   "cell_type": "code",
   "execution_count": 4,
   "metadata": {
    "ExecuteTime": {
     "end_time": "2020-07-13T02:20:26.600851Z",
     "start_time": "2020-07-13T02:20:08.680868Z"
    }
   },
   "outputs": [
    {
     "data": {
      "text/html": [
       "<div>\n",
       "<style scoped>\n",
       "    .dataframe tbody tr th:only-of-type {\n",
       "        vertical-align: middle;\n",
       "    }\n",
       "\n",
       "    .dataframe tbody tr th {\n",
       "        vertical-align: top;\n",
       "    }\n",
       "\n",
       "    .dataframe thead th {\n",
       "        text-align: right;\n",
       "    }\n",
       "</style>\n",
       "<table border=\"1\" class=\"dataframe\">\n",
       "  <thead>\n",
       "    <tr style=\"text-align: right;\">\n",
       "      <th></th>\n",
       "      <th>GJOIN1990</th>\n",
       "      <th>GJOIN2010</th>\n",
       "      <th>WEIGHT</th>\n",
       "      <th>PAREA_VIA_BLK00</th>\n",
       "    </tr>\n",
       "  </thead>\n",
       "  <tbody>\n",
       "    <tr>\n",
       "      <th>0</th>\n",
       "      <td>G01000100201101A</td>\n",
       "      <td>G01000100201002004</td>\n",
       "      <td>0.000753</td>\n",
       "      <td>0.014284</td>\n",
       "    </tr>\n",
       "    <tr>\n",
       "      <th>1</th>\n",
       "      <td>G01000100201101A</td>\n",
       "      <td>G01000100201002005</td>\n",
       "      <td>0.042020</td>\n",
       "      <td>0.109618</td>\n",
       "    </tr>\n",
       "    <tr>\n",
       "      <th>2</th>\n",
       "      <td>G01000100201101A</td>\n",
       "      <td>G01000100201002006</td>\n",
       "      <td>0.262146</td>\n",
       "      <td>0.498133</td>\n",
       "    </tr>\n",
       "    <tr>\n",
       "      <th>3</th>\n",
       "      <td>G01000100201101A</td>\n",
       "      <td>G01000100201002016</td>\n",
       "      <td>0.237187</td>\n",
       "      <td>0.218109</td>\n",
       "    </tr>\n",
       "    <tr>\n",
       "      <th>4</th>\n",
       "      <td>G01000100201101A</td>\n",
       "      <td>G01000100201002023</td>\n",
       "      <td>0.099097</td>\n",
       "      <td>0.012864</td>\n",
       "    </tr>\n",
       "  </tbody>\n",
       "</table>\n",
       "</div>"
      ],
      "text/plain": [
       "          GJOIN1990           GJOIN2010    WEIGHT  PAREA_VIA_BLK00\n",
       "0  G01000100201101A  G01000100201002004  0.000753         0.014284\n",
       "1  G01000100201101A  G01000100201002005  0.042020         0.109618\n",
       "2  G01000100201101A  G01000100201002006  0.262146         0.498133\n",
       "3  G01000100201101A  G01000100201002016  0.237187         0.218109\n",
       "4  G01000100201101A  G01000100201002023  0.099097         0.012864"
      ]
     },
     "execution_count": 4,
     "metadata": {},
     "output_type": "execute_result"
    }
   ],
   "source": [
    "base_xwalk_name = \"nhgis_blk%s_blk%s_gj.zip\" % (source_year, target_year)\n",
    "base_xwalk_file = \"../../crosswalks/%s\" % base_xwalk_name\n",
    "data_types = nhgisxwalk.str_types([gj_src, gj_trg])\n",
    "base_xwalk = pandas.read_csv(base_xwalk_file, dtype=data_types)\n",
    "base_xwalk.head()"
   ]
  },
  {
   "cell_type": "markdown",
   "metadata": {},
   "source": [
    "### Source summary data"
   ]
  },
  {
   "cell_type": "code",
   "execution_count": 5,
   "metadata": {
    "ExecuteTime": {
     "end_time": "2020-07-13T02:20:26.625673Z",
     "start_time": "2020-07-13T02:20:26.603853Z"
    }
   },
   "outputs": [],
   "source": [
    "base_source_name = \"%s_block/%s_block.csv\" % (source_year, source_year)\n",
    "base_source_file = \"../../tabular_data/%s\" % base_source_name"
   ]
  },
  {
   "cell_type": "markdown",
   "metadata": {},
   "source": [
    "### Source supplementary summary data (special case for 1990)"
   ]
  },
  {
   "cell_type": "code",
   "execution_count": 6,
   "metadata": {
    "ExecuteTime": {
     "end_time": "2020-07-13T02:20:26.645752Z",
     "start_time": "2020-07-13T02:20:26.627127Z"
    }
   },
   "outputs": [],
   "source": [
    "supp_source_name = \"%s_blck_grp_598_103/%s_blck_grp_598_103.csv\" % (\n",
    "    source_year, source_year\n",
    ")\n",
    "supp_source_file = \"../../tabular_data/%s\" % supp_source_name"
   ]
  },
  {
   "cell_type": "markdown",
   "metadata": {},
   "source": [
    "### Convenience code shorthand/lookup"
   ]
  },
  {
   "cell_type": "code",
   "execution_count": 7,
   "metadata": {
    "ExecuteTime": {
     "end_time": "2020-07-13T02:20:26.667817Z",
     "start_time": "2020-07-13T02:20:26.648030Z"
    }
   },
   "outputs": [
    {
     "data": {
      "text/plain": [
       "{'block': 'blk',\n",
       " 'block group part': 'bgp',\n",
       " 'block group': 'bkg',\n",
       " 'tract': 'trt',\n",
       " 'county': 'cty'}"
      ]
     },
     "execution_count": 7,
     "metadata": {},
     "output_type": "execute_result"
    }
   ],
   "source": [
    "nhgisxwalk.valid_geo_shorthand(shorthand_name=False)"
   ]
  },
  {
   "cell_type": "markdown",
   "metadata": {},
   "source": [
    "### Instantiate an `nhgisxwalk.GeoCrossWalk` object\n",
    "##### see [nhgisxwalk.GeoCrossWalk](https://github.com/jGaboardi/nhgisxwalk/blob/92b4fe55de0a9c53d0315dcda8ec121faaf20aef/nhgisxwalk/geocrosswalk.py#L19) for full details"
   ]
  },
  {
   "cell_type": "code",
   "execution_count": 8,
   "metadata": {
    "ExecuteTime": {
     "end_time": "2020-07-13T02:20:26.690188Z",
     "start_time": "2020-07-13T02:20:26.670958Z"
    }
   },
   "outputs": [
    {
     "data": {
      "text/plain": [
       "{'Persons': {'Persons': 'Universe',\n",
       "  'NP1': 'Source code',\n",
       "  'ET1': 'NHGIS code',\n",
       "  'Total': 'ET1001'},\n",
       " 'Families': {'Families': 'Universe',\n",
       "  'NP2': 'Source code',\n",
       "  'EUD': 'NHGIS code',\n",
       "  'Total': 'EUD001'},\n",
       " 'Households': {'Households': 'Universe',\n",
       "  'NP3': 'Source code',\n",
       "  'EUO': 'NHGIS code',\n",
       "  'Total': 'EUO001'},\n",
       " 'Housing Units': {'Housing Units': 'Universe',\n",
       "  'NH1': 'Source code',\n",
       "  'ESA': 'NHGIS code',\n",
       "  'Total': 'ESA001'}}"
      ]
     },
     "execution_count": 8,
     "metadata": {},
     "output_type": "execute_result"
    }
   ],
   "source": [
    "nhgisxwalk.desc_code_1990"
   ]
  },
  {
   "cell_type": "code",
   "execution_count": 9,
   "metadata": {
    "ExecuteTime": {
     "end_time": "2020-07-13T02:20:26.715714Z",
     "start_time": "2020-07-13T02:20:26.692035Z"
    }
   },
   "outputs": [
    {
     "data": {
      "text/plain": [
       "['ET1001', 'EUD001', 'EUO001', 'ESA001']"
      ]
     },
     "execution_count": 9,
     "metadata": {},
     "output_type": "execute_result"
    }
   ],
   "source": [
    "input_vars = [\n",
    "    nhgisxwalk.desc_code_1990[\"Persons\"][\"Total\"],\n",
    "    nhgisxwalk.desc_code_1990[\"Families\"][\"Total\"],\n",
    "    nhgisxwalk.desc_code_1990[\"Households\"][\"Total\"],\n",
    "    nhgisxwalk.desc_code_1990[\"Housing Units\"][\"Total\"]\n",
    "]\n",
    "input_vars"
   ]
  },
  {
   "cell_type": "code",
   "execution_count": 10,
   "metadata": {
    "ExecuteTime": {
     "end_time": "2020-07-13T02:20:26.740114Z",
     "start_time": "2020-07-13T02:20:26.717849Z"
    }
   },
   "outputs": [],
   "source": [
    "input_var_tags = [\"pop\", \"fam\", \"hh\", \"hu\"]"
   ]
  },
  {
   "cell_type": "code",
   "execution_count": 11,
   "metadata": {
    "ExecuteTime": {
     "end_time": "2020-07-13T02:24:18.184609Z",
     "start_time": "2020-07-13T02:20:26.741636Z"
    }
   },
   "outputs": [
    {
     "data": {
      "text/html": [
       "<div>\n",
       "<style scoped>\n",
       "    .dataframe tbody tr th:only-of-type {\n",
       "        vertical-align: middle;\n",
       "    }\n",
       "\n",
       "    .dataframe tbody tr th {\n",
       "        vertical-align: top;\n",
       "    }\n",
       "\n",
       "    .dataframe thead th {\n",
       "        text-align: right;\n",
       "    }\n",
       "</style>\n",
       "<table border=\"1\" class=\"dataframe\">\n",
       "  <thead>\n",
       "    <tr style=\"text-align: right;\">\n",
       "      <th></th>\n",
       "      <th>bgp1990gj</th>\n",
       "      <th>trt2010gj</th>\n",
       "      <th>trt2010ge</th>\n",
       "      <th>wt_pop</th>\n",
       "      <th>wt_fam</th>\n",
       "      <th>wt_hh</th>\n",
       "      <th>wt_hu</th>\n",
       "    </tr>\n",
       "  </thead>\n",
       "  <tbody>\n",
       "    <tr>\n",
       "      <th>0</th>\n",
       "      <td>G010001090171032200211039999999999922</td>\n",
       "      <td>G0100010021100</td>\n",
       "      <td>01001021100</td>\n",
       "      <td>1.0</td>\n",
       "      <td>1.0</td>\n",
       "      <td>1.0</td>\n",
       "      <td>1.0</td>\n",
       "    </tr>\n",
       "    <tr>\n",
       "      <th>1</th>\n",
       "      <td>G010001090171032200211039999999999923</td>\n",
       "      <td>G0100010020801</td>\n",
       "      <td>01001020801</td>\n",
       "      <td>0.0</td>\n",
       "      <td>0.0</td>\n",
       "      <td>0.0</td>\n",
       "      <td>0.0</td>\n",
       "    </tr>\n",
       "    <tr>\n",
       "      <th>2</th>\n",
       "      <td>G010001090171032200211039999999999923</td>\n",
       "      <td>G0100010021100</td>\n",
       "      <td>01001021100</td>\n",
       "      <td>1.0</td>\n",
       "      <td>1.0</td>\n",
       "      <td>1.0</td>\n",
       "      <td>1.0</td>\n",
       "    </tr>\n",
       "    <tr>\n",
       "      <th>3</th>\n",
       "      <td>G010001090171999990211039999999999921</td>\n",
       "      <td>G0100010021100</td>\n",
       "      <td>01001021100</td>\n",
       "      <td>1.0</td>\n",
       "      <td>1.0</td>\n",
       "      <td>1.0</td>\n",
       "      <td>1.0</td>\n",
       "    </tr>\n",
       "    <tr>\n",
       "      <th>4</th>\n",
       "      <td>G010001090171999990211039999999999922</td>\n",
       "      <td>G0100010021100</td>\n",
       "      <td>01001021100</td>\n",
       "      <td>1.0</td>\n",
       "      <td>1.0</td>\n",
       "      <td>1.0</td>\n",
       "      <td>1.0</td>\n",
       "    </tr>\n",
       "    <tr>\n",
       "      <th>...</th>\n",
       "      <td>...</td>\n",
       "      <td>...</td>\n",
       "      <td>...</td>\n",
       "      <td>...</td>\n",
       "      <td>...</td>\n",
       "      <td>...</td>\n",
       "      <td>...</td>\n",
       "    </tr>\n",
       "    <tr>\n",
       "      <th>497351</th>\n",
       "      <td>NaN</td>\n",
       "      <td>G5500790990000</td>\n",
       "      <td>55079990000</td>\n",
       "      <td>0.0</td>\n",
       "      <td>0.0</td>\n",
       "      <td>0.0</td>\n",
       "      <td>0.0</td>\n",
       "    </tr>\n",
       "    <tr>\n",
       "      <th>497352</th>\n",
       "      <td>NaN</td>\n",
       "      <td>G5500830990000</td>\n",
       "      <td>55083990000</td>\n",
       "      <td>0.0</td>\n",
       "      <td>0.0</td>\n",
       "      <td>0.0</td>\n",
       "      <td>0.0</td>\n",
       "    </tr>\n",
       "    <tr>\n",
       "      <th>497353</th>\n",
       "      <td>NaN</td>\n",
       "      <td>G5500890990000</td>\n",
       "      <td>55089990000</td>\n",
       "      <td>0.0</td>\n",
       "      <td>0.0</td>\n",
       "      <td>0.0</td>\n",
       "      <td>0.0</td>\n",
       "    </tr>\n",
       "    <tr>\n",
       "      <th>497354</th>\n",
       "      <td>NaN</td>\n",
       "      <td>G5501010990000</td>\n",
       "      <td>55101990000</td>\n",
       "      <td>0.0</td>\n",
       "      <td>0.0</td>\n",
       "      <td>0.0</td>\n",
       "      <td>0.0</td>\n",
       "    </tr>\n",
       "    <tr>\n",
       "      <th>497355</th>\n",
       "      <td>NaN</td>\n",
       "      <td>G5501170990000</td>\n",
       "      <td>55117990000</td>\n",
       "      <td>0.0</td>\n",
       "      <td>0.0</td>\n",
       "      <td>0.0</td>\n",
       "      <td>0.0</td>\n",
       "    </tr>\n",
       "  </tbody>\n",
       "</table>\n",
       "<p>497356 rows × 7 columns</p>\n",
       "</div>"
      ],
      "text/plain": [
       "                                    bgp1990gj       trt2010gj    trt2010ge  \\\n",
       "0       G010001090171032200211039999999999922  G0100010021100  01001021100   \n",
       "1       G010001090171032200211039999999999923  G0100010020801  01001020801   \n",
       "2       G010001090171032200211039999999999923  G0100010021100  01001021100   \n",
       "3       G010001090171999990211039999999999921  G0100010021100  01001021100   \n",
       "4       G010001090171999990211039999999999922  G0100010021100  01001021100   \n",
       "...                                       ...             ...          ...   \n",
       "497351                                    NaN  G5500790990000  55079990000   \n",
       "497352                                    NaN  G5500830990000  55083990000   \n",
       "497353                                    NaN  G5500890990000  55089990000   \n",
       "497354                                    NaN  G5501010990000  55101990000   \n",
       "497355                                    NaN  G5501170990000  55117990000   \n",
       "\n",
       "        wt_pop  wt_fam  wt_hh  wt_hu  \n",
       "0          1.0     1.0    1.0    1.0  \n",
       "1          0.0     0.0    0.0    0.0  \n",
       "2          1.0     1.0    1.0    1.0  \n",
       "3          1.0     1.0    1.0    1.0  \n",
       "4          1.0     1.0    1.0    1.0  \n",
       "...        ...     ...    ...    ...  \n",
       "497351     0.0     0.0    0.0    0.0  \n",
       "497352     0.0     0.0    0.0    0.0  \n",
       "497353     0.0     0.0    0.0    0.0  \n",
       "497354     0.0     0.0    0.0    0.0  \n",
       "497355     0.0     0.0    0.0    0.0  \n",
       "\n",
       "[497356 rows x 7 columns]"
      ]
     },
     "execution_count": 11,
     "metadata": {},
     "output_type": "execute_result"
    }
   ],
   "source": [
    "bgp1990_to_trt2010 = nhgisxwalk.GeoCrossWalk(\n",
    "    base_xwalk,\n",
    "    source_year=source_year,\n",
    "    target_year=target_year,\n",
    "    source_geo=\"bgp\",\n",
    "    target_geo=\"trt\",\n",
    "    base_source_table=base_source_file,\n",
    "    supp_source_table=supp_source_file,\n",
    "    input_var=input_vars,\n",
    "    weight_var=input_var_tags,\n",
    "    keep_base=False,\n",
    "    add_geoid=True\n",
    ")\n",
    "del base_xwalk\n",
    "bgp1990_to_trt2010.xwalk"
   ]
  },
  {
   "cell_type": "markdown",
   "metadata": {},
   "source": [
    "### Write crosswalk to a `.csv`"
   ]
  },
  {
   "cell_type": "code",
   "execution_count": 12,
   "metadata": {
    "ExecuteTime": {
     "end_time": "2020-07-13T02:24:21.005937Z",
     "start_time": "2020-07-13T02:24:18.187641Z"
    }
   },
   "outputs": [],
   "source": [
    "nat_dir = \"../../crosswalks/\"\n",
    "nhgisxwalk.xwalk_df_to_csv(\n",
    "    dfkwds={\n",
    "        \"df\": bgp1990_to_trt2010.xwalk,\n",
    "        \"xwalk_name\": bgp1990_to_trt2010.xwalk_name\n",
    "    },\n",
    "    path=nat_dir\n",
    ")"
   ]
  },
  {
   "cell_type": "markdown",
   "metadata": {},
   "source": [
    "### Split by (target) state and write out"
   ]
  },
  {
   "cell_type": "code",
   "execution_count": 13,
   "metadata": {
    "ExecuteTime": {
     "end_time": "2020-07-13T02:24:21.290382Z",
     "start_time": "2020-07-13T02:24:21.007346Z"
    }
   },
   "outputs": [
    {
     "data": {
      "text/plain": [
       "['01',\n",
       " '02',\n",
       " '04',\n",
       " '05',\n",
       " '06',\n",
       " '08',\n",
       " '09',\n",
       " '10',\n",
       " '11',\n",
       " '12',\n",
       " '13',\n",
       " '15',\n",
       " '16',\n",
       " '17',\n",
       " '18',\n",
       " '19',\n",
       " '20',\n",
       " '21',\n",
       " '22',\n",
       " '23',\n",
       " '24',\n",
       " '25',\n",
       " '26',\n",
       " '27',\n",
       " '28',\n",
       " '29',\n",
       " '30',\n",
       " '31',\n",
       " '32',\n",
       " '33',\n",
       " '34',\n",
       " '35',\n",
       " '36',\n",
       " '37',\n",
       " '38',\n",
       " '39',\n",
       " '40',\n",
       " '41',\n",
       " '42',\n",
       " '44',\n",
       " '45',\n",
       " '46',\n",
       " '47',\n",
       " '48',\n",
       " '49',\n",
       " '50',\n",
       " '51',\n",
       " '53',\n",
       " '54',\n",
       " '55',\n",
       " '56',\n",
       " 'nan']"
      ]
     },
     "execution_count": 13,
     "metadata": {},
     "output_type": "execute_result"
    }
   ],
   "source": [
    "stfips_codes = nhgisxwalk.extract_unique_stfips(\n",
    "    df=bgp1990_to_trt2010.xwalk, endpoint=bgp1990_to_trt2010.target\n",
    ")\n",
    "stfips_codes = sorted(list(stfips_codes))\n",
    "stfips_codes"
   ]
  },
  {
   "cell_type": "code",
   "execution_count": 14,
   "metadata": {
    "ExecuteTime": {
     "end_time": "2020-07-13T02:24:36.706647Z",
     "start_time": "2020-07-13T02:24:21.292298Z"
    }
   },
   "outputs": [],
   "source": [
    "state_dir = nat_dir + \"nhgis_bgp1990_trt2010_state/\"\n",
    "for stfips in stfips_codes:\n",
    "    xwalk_name = bgp1990_to_trt2010.xwalk_name\n",
    "    source, target = bgp1990_to_trt2010.target, bgp1990_to_trt2010.target\n",
    "    _stxwalk = nhgisxwalk.extract_state(\n",
    "        bgp1990_to_trt2010.xwalk,\n",
    "        stfips,\n",
    "        xwalk_name,\n",
    "        target,\n",
    "        sort_by=[source, target]\n",
    "    )\n",
    "    dfkwds = {\"df\": _stxwalk, \"stfips\": stfips, \"xwalk_name\": xwalk_name}\n",
    "    nhgisxwalk.xwalk_df_to_csv(dfkwds=dfkwds, path=state_dir)"
   ]
  },
  {
   "cell_type": "markdown",
   "metadata": {},
   "source": [
    "-----------------------------------------------"
   ]
  }
 ],
 "metadata": {
  "_draft": {
   "nbviewer_url": "https://gist.github.com/9f47e4ec2cc37bce83acf20abfca69d2"
  },
  "gist": {
   "data": {
    "description": "sample-workflow.ipynb",
    "public": true
   },
   "id": "9f47e4ec2cc37bce83acf20abfca69d2"
  },
  "kernelspec": {
   "display_name": "Python [conda env:nhgis]",
   "language": "python",
   "name": "conda-env-nhgis-py"
  },
  "language_info": {
   "codemirror_mode": {
    "name": "ipython",
    "version": 3
   },
   "file_extension": ".py",
   "mimetype": "text/x-python",
   "name": "python",
   "nbconvert_exporter": "python",
   "pygments_lexer": "ipython3",
   "version": "3.7.6"
  }
 },
 "nbformat": 4,
 "nbformat_minor": 4
}
