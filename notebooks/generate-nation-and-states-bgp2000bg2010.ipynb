{
 "cells": [
  {
   "cell_type": "markdown",
   "metadata": {},
   "source": [
    "# Generate national and state-level crosswalks\n",
    "## 2000 block group parts to 2010 block groups\n",
    "\n",
    "### NHGIS [block crosswalks](https://www.nhgis.org/user-resources/geographic-crosswalks)\n",
    "\n",
    "**James D. Gaboardi, 06/2020**"
   ]
  },
  {
   "cell_type": "code",
   "execution_count": 1,
   "metadata": {
    "ExecuteTime": {
     "end_time": "2020-07-29T02:12:21.181587Z",
     "start_time": "2020-07-29T02:12:21.159816Z"
    }
   },
   "outputs": [
    {
     "name": "stdout",
     "output_type": "stream",
     "text": [
      "2020-07-28T22:12:21-04:00\n",
      "\n",
      "CPython 3.7.6\n",
      "IPython 7.15.0\n",
      "\n",
      "compiler   : Clang 9.0.1 \n",
      "system     : Darwin\n",
      "release    : 19.6.0\n",
      "machine    : x86_64\n",
      "processor  : i386\n",
      "CPU cores  : 8\n",
      "interpreter: 64bit\n"
     ]
    }
   ],
   "source": [
    "%load_ext watermark\n",
    "%watermark"
   ]
  },
  {
   "cell_type": "code",
   "execution_count": 2,
   "metadata": {
    "ExecuteTime": {
     "end_time": "2020-07-29T02:12:21.724483Z",
     "start_time": "2020-07-29T02:12:21.184007Z"
    }
   },
   "outputs": [
    {
     "name": "stdout",
     "output_type": "stream",
     "text": [
      "watermark 2.0.2\n",
      "pandas     1.0.4\n",
      "numpy      1.18.5\n",
      "nhgisxwalk 0.0.6\n",
      "\n"
     ]
    }
   ],
   "source": [
    "import nhgisxwalk\n",
    "import inspect\n",
    "import numpy\n",
    "import pandas\n",
    "\n",
    "%load_ext autoreload\n",
    "%autoreload 2\n",
    "%watermark -w\n",
    "%watermark -iv"
   ]
  },
  {
   "cell_type": "markdown",
   "metadata": {},
   "source": [
    "### Source and target years for the crosswalk"
   ]
  },
  {
   "cell_type": "code",
   "execution_count": 3,
   "metadata": {
    "ExecuteTime": {
     "end_time": "2020-07-29T02:12:21.744325Z",
     "start_time": "2020-07-29T02:12:21.727434Z"
    }
   },
   "outputs": [],
   "source": [
    "source_year, target_year = \"2000\", \"2010\"\n",
    "gj_src, gj_trg = \"GJOIN%s\"%source_year, \"GJOIN%s\"%target_year"
   ]
  },
  {
   "cell_type": "markdown",
   "metadata": {},
   "source": [
    "### Source-target building base"
   ]
  },
  {
   "cell_type": "code",
   "execution_count": 4,
   "metadata": {
    "ExecuteTime": {
     "end_time": "2020-07-29T02:12:34.632080Z",
     "start_time": "2020-07-29T02:12:21.746380Z"
    }
   },
   "outputs": [
    {
     "data": {
      "text/html": [
       "<div>\n",
       "<style scoped>\n",
       "    .dataframe tbody tr th:only-of-type {\n",
       "        vertical-align: middle;\n",
       "    }\n",
       "\n",
       "    .dataframe tbody tr th {\n",
       "        vertical-align: top;\n",
       "    }\n",
       "\n",
       "    .dataframe thead th {\n",
       "        text-align: right;\n",
       "    }\n",
       "</style>\n",
       "<table border=\"1\" class=\"dataframe\">\n",
       "  <thead>\n",
       "    <tr style=\"text-align: right;\">\n",
       "      <th></th>\n",
       "      <th>GJOIN2000</th>\n",
       "      <th>GJOIN2010</th>\n",
       "      <th>WEIGHT</th>\n",
       "      <th>PAREA</th>\n",
       "    </tr>\n",
       "  </thead>\n",
       "  <tbody>\n",
       "    <tr>\n",
       "      <th>0</th>\n",
       "      <td>G01000100201001000</td>\n",
       "      <td>G01000100201002000</td>\n",
       "      <td>0.035897</td>\n",
       "      <td>0.008988</td>\n",
       "    </tr>\n",
       "    <tr>\n",
       "      <th>1</th>\n",
       "      <td>G01000100201001000</td>\n",
       "      <td>G01000100201002001</td>\n",
       "      <td>0.253330</td>\n",
       "      <td>0.263725</td>\n",
       "    </tr>\n",
       "    <tr>\n",
       "      <th>2</th>\n",
       "      <td>G01000100201001000</td>\n",
       "      <td>G01000100201002002</td>\n",
       "      <td>0.000000</td>\n",
       "      <td>0.000385</td>\n",
       "    </tr>\n",
       "    <tr>\n",
       "      <th>3</th>\n",
       "      <td>G01000100201001000</td>\n",
       "      <td>G01000100201002003</td>\n",
       "      <td>0.076297</td>\n",
       "      <td>0.055430</td>\n",
       "    </tr>\n",
       "    <tr>\n",
       "      <th>4</th>\n",
       "      <td>G01000100201001000</td>\n",
       "      <td>G01000100201002004</td>\n",
       "      <td>0.032441</td>\n",
       "      <td>0.007543</td>\n",
       "    </tr>\n",
       "  </tbody>\n",
       "</table>\n",
       "</div>"
      ],
      "text/plain": [
       "            GJOIN2000           GJOIN2010    WEIGHT     PAREA\n",
       "0  G01000100201001000  G01000100201002000  0.035897  0.008988\n",
       "1  G01000100201001000  G01000100201002001  0.253330  0.263725\n",
       "2  G01000100201001000  G01000100201002002  0.000000  0.000385\n",
       "3  G01000100201001000  G01000100201002003  0.076297  0.055430\n",
       "4  G01000100201001000  G01000100201002004  0.032441  0.007543"
      ]
     },
     "execution_count": 4,
     "metadata": {},
     "output_type": "execute_result"
    }
   ],
   "source": [
    "base_xwalk_name = \"nhgis_blk%s_blk%s_gj.zip\" % (source_year, target_year)\n",
    "base_xwalk_file = \"../../crosswalks/%s\" % base_xwalk_name\n",
    "data_types = nhgisxwalk.str_types([gj_src, gj_trg])\n",
    "base_xwalk = pandas.read_csv(base_xwalk_file, dtype=data_types)\n",
    "base_xwalk.head()"
   ]
  },
  {
   "cell_type": "markdown",
   "metadata": {},
   "source": [
    "### Source summary data"
   ]
  },
  {
   "cell_type": "code",
   "execution_count": 5,
   "metadata": {
    "ExecuteTime": {
     "end_time": "2020-07-29T02:12:34.674721Z",
     "start_time": "2020-07-29T02:12:34.633786Z"
    }
   },
   "outputs": [],
   "source": [
    "base_source_name = \"%s_block/%s_block.csv\" % (source_year, source_year)\n",
    "base_source_file = \"../../tabular_data/%s\" % base_source_name"
   ]
  },
  {
   "cell_type": "markdown",
   "metadata": {},
   "source": [
    "### Convenience code shorthand/lookup"
   ]
  },
  {
   "cell_type": "code",
   "execution_count": 6,
   "metadata": {
    "ExecuteTime": {
     "end_time": "2020-07-29T02:12:34.694685Z",
     "start_time": "2020-07-29T02:12:34.676126Z"
    }
   },
   "outputs": [
    {
     "data": {
      "text/plain": [
       "{'block': 'blk',\n",
       " 'block group part': 'bgp',\n",
       " 'block group': 'bg',\n",
       " 'tract': 'tr',\n",
       " 'county': 'co'}"
      ]
     },
     "execution_count": 6,
     "metadata": {},
     "output_type": "execute_result"
    }
   ],
   "source": [
    "nhgisxwalk.valid_geo_shorthand(shorthand_name=False)"
   ]
  },
  {
   "cell_type": "markdown",
   "metadata": {},
   "source": [
    "### Instantiate an `nhgisxwalk.GeoCrossWalk` object\n",
    "##### see [nhgisxwalk.GeoCrossWalk](https://github.com/jGaboardi/nhgisxwalk/blob/92b4fe55de0a9c53d0315dcda8ec121faaf20aef/nhgisxwalk/geocrosswalk.py#L19) for full details"
   ]
  },
  {
   "cell_type": "code",
   "execution_count": 7,
   "metadata": {
    "ExecuteTime": {
     "end_time": "2020-07-29T02:12:34.715802Z",
     "start_time": "2020-07-29T02:12:34.695905Z"
    }
   },
   "outputs": [
    {
     "data": {
      "text/plain": [
       "{'Persons': {'Persons': 'Universe',\n",
       "  'NP001A': 'Source code',\n",
       "  'FXS': 'NHGIS code',\n",
       "  'Total': 'FXS001'},\n",
       " 'Families': {'Families': 'Universe',\n",
       "  'NP031A': 'Source code',\n",
       "  'F2V': 'NHGIS code',\n",
       "  'Total': 'F2V001'},\n",
       " 'Households': {'Households': 'Universe',\n",
       "  'NP010A': 'Source code',\n",
       "  'FY4': 'NHGIS code',\n",
       "  'Total': 'FY4001'},\n",
       " 'Housing Units': {'Housing Units': 'Universe',\n",
       "  'NH001A': 'Source code',\n",
       "  'FV5': 'NHGIS code',\n",
       "  'Total': 'FV5001'}}"
      ]
     },
     "execution_count": 7,
     "metadata": {},
     "output_type": "execute_result"
    }
   ],
   "source": [
    "nhgisxwalk.desc_code_2000_SF1b"
   ]
  },
  {
   "cell_type": "code",
   "execution_count": 8,
   "metadata": {
    "ExecuteTime": {
     "end_time": "2020-07-29T02:12:34.737805Z",
     "start_time": "2020-07-29T02:12:34.719252Z"
    }
   },
   "outputs": [
    {
     "data": {
      "text/plain": [
       "['FXS001', 'F2V001', 'FY4001', 'FV5001']"
      ]
     },
     "execution_count": 8,
     "metadata": {},
     "output_type": "execute_result"
    }
   ],
   "source": [
    "input_vars = [\n",
    "    nhgisxwalk.desc_code_2000_SF1b[\"Persons\"][\"Total\"],\n",
    "    nhgisxwalk.desc_code_2000_SF1b[\"Families\"][\"Total\"],\n",
    "    nhgisxwalk.desc_code_2000_SF1b[\"Households\"][\"Total\"],\n",
    "    nhgisxwalk.desc_code_2000_SF1b[\"Housing Units\"][\"Total\"]\n",
    "]\n",
    "input_vars"
   ]
  },
  {
   "cell_type": "code",
   "execution_count": 9,
   "metadata": {
    "ExecuteTime": {
     "end_time": "2020-07-29T02:12:34.756603Z",
     "start_time": "2020-07-29T02:12:34.739474Z"
    }
   },
   "outputs": [],
   "source": [
    "input_var_tags = [\"pop\", \"fam\", \"hh\", \"hu\"]"
   ]
  },
  {
   "cell_type": "code",
   "execution_count": 10,
   "metadata": {
    "ExecuteTime": {
     "end_time": "2020-07-29T02:14:42.451044Z",
     "start_time": "2020-07-29T02:12:34.757984Z"
    }
   },
   "outputs": [
    {
     "data": {
      "text/html": [
       "<div>\n",
       "<style scoped>\n",
       "    .dataframe tbody tr th:only-of-type {\n",
       "        vertical-align: middle;\n",
       "    }\n",
       "\n",
       "    .dataframe tbody tr th {\n",
       "        vertical-align: top;\n",
       "    }\n",
       "\n",
       "    .dataframe thead th {\n",
       "        text-align: right;\n",
       "    }\n",
       "</style>\n",
       "<table border=\"1\" class=\"dataframe\">\n",
       "  <thead>\n",
       "    <tr style=\"text-align: right;\">\n",
       "      <th></th>\n",
       "      <th>bgp2000gj</th>\n",
       "      <th>bg2010gj</th>\n",
       "      <th>bg2010ge</th>\n",
       "      <th>wt_pop</th>\n",
       "      <th>wt_fam</th>\n",
       "      <th>wt_hh</th>\n",
       "      <th>wt_hu</th>\n",
       "    </tr>\n",
       "  </thead>\n",
       "  <tbody>\n",
       "    <tr>\n",
       "      <th>0</th>\n",
       "      <td>G01000109017103220021100R2</td>\n",
       "      <td>G01000100211001</td>\n",
       "      <td>010010211001</td>\n",
       "      <td>1.0</td>\n",
       "      <td>1.0</td>\n",
       "      <td>1.0</td>\n",
       "      <td>1.0</td>\n",
       "    </tr>\n",
       "    <tr>\n",
       "      <th>1</th>\n",
       "      <td>G01000109017103220021100R3</td>\n",
       "      <td>G01000100211003</td>\n",
       "      <td>010010211003</td>\n",
       "      <td>1.0</td>\n",
       "      <td>1.0</td>\n",
       "      <td>1.0</td>\n",
       "      <td>1.0</td>\n",
       "    </tr>\n",
       "    <tr>\n",
       "      <th>2</th>\n",
       "      <td>G01000109017199999021100R1</td>\n",
       "      <td>G01000100211002</td>\n",
       "      <td>010010211002</td>\n",
       "      <td>1.0</td>\n",
       "      <td>1.0</td>\n",
       "      <td>1.0</td>\n",
       "      <td>1.0</td>\n",
       "    </tr>\n",
       "    <tr>\n",
       "      <th>3</th>\n",
       "      <td>G01000109017199999021100R2</td>\n",
       "      <td>G01000100211001</td>\n",
       "      <td>010010211001</td>\n",
       "      <td>1.0</td>\n",
       "      <td>1.0</td>\n",
       "      <td>1.0</td>\n",
       "      <td>1.0</td>\n",
       "    </tr>\n",
       "    <tr>\n",
       "      <th>4</th>\n",
       "      <td>G01000109017199999021100R3</td>\n",
       "      <td>G01000100208011</td>\n",
       "      <td>010010208011</td>\n",
       "      <td>0.0</td>\n",
       "      <td>0.0</td>\n",
       "      <td>0.0</td>\n",
       "      <td>0.0</td>\n",
       "    </tr>\n",
       "    <tr>\n",
       "      <th>...</th>\n",
       "      <td>...</td>\n",
       "      <td>...</td>\n",
       "      <td>...</td>\n",
       "      <td>...</td>\n",
       "      <td>...</td>\n",
       "      <td>...</td>\n",
       "      <td>...</td>\n",
       "    </tr>\n",
       "    <tr>\n",
       "      <th>501579</th>\n",
       "      <td>G56004509225599999951300U3</td>\n",
       "      <td>G56004509513003</td>\n",
       "      <td>560459513003</td>\n",
       "      <td>1.0</td>\n",
       "      <td>0.0</td>\n",
       "      <td>1.0</td>\n",
       "      <td>1.0</td>\n",
       "    </tr>\n",
       "    <tr>\n",
       "      <th>501580</th>\n",
       "      <td>G56004509352079125951100R1</td>\n",
       "      <td>G56004509511001</td>\n",
       "      <td>560459511001</td>\n",
       "      <td>1.0</td>\n",
       "      <td>1.0</td>\n",
       "      <td>1.0</td>\n",
       "      <td>1.0</td>\n",
       "    </tr>\n",
       "    <tr>\n",
       "      <th>501581</th>\n",
       "      <td>G56004509352099999951100R1</td>\n",
       "      <td>G56001109502002</td>\n",
       "      <td>560119502002</td>\n",
       "      <td>0.0</td>\n",
       "      <td>0.0</td>\n",
       "      <td>0.0</td>\n",
       "      <td>0.0</td>\n",
       "    </tr>\n",
       "    <tr>\n",
       "      <th>501582</th>\n",
       "      <td>G56004509352099999951100R1</td>\n",
       "      <td>G56004509511001</td>\n",
       "      <td>560459511001</td>\n",
       "      <td>1.0</td>\n",
       "      <td>1.0</td>\n",
       "      <td>1.0</td>\n",
       "      <td>1.0</td>\n",
       "    </tr>\n",
       "    <tr>\n",
       "      <th>501583</th>\n",
       "      <td>G56004509352099999951100R2</td>\n",
       "      <td>G56004509511002</td>\n",
       "      <td>560459511002</td>\n",
       "      <td>0.0</td>\n",
       "      <td>0.0</td>\n",
       "      <td>0.0</td>\n",
       "      <td>0.0</td>\n",
       "    </tr>\n",
       "  </tbody>\n",
       "</table>\n",
       "<p>501584 rows × 7 columns</p>\n",
       "</div>"
      ],
      "text/plain": [
       "                         bgp2000gj         bg2010gj      bg2010ge  wt_pop  \\\n",
       "0       G01000109017103220021100R2  G01000100211001  010010211001     1.0   \n",
       "1       G01000109017103220021100R3  G01000100211003  010010211003     1.0   \n",
       "2       G01000109017199999021100R1  G01000100211002  010010211002     1.0   \n",
       "3       G01000109017199999021100R2  G01000100211001  010010211001     1.0   \n",
       "4       G01000109017199999021100R3  G01000100208011  010010208011     0.0   \n",
       "...                            ...              ...           ...     ...   \n",
       "501579  G56004509225599999951300U3  G56004509513003  560459513003     1.0   \n",
       "501580  G56004509352079125951100R1  G56004509511001  560459511001     1.0   \n",
       "501581  G56004509352099999951100R1  G56001109502002  560119502002     0.0   \n",
       "501582  G56004509352099999951100R1  G56004509511001  560459511001     1.0   \n",
       "501583  G56004509352099999951100R2  G56004509511002  560459511002     0.0   \n",
       "\n",
       "        wt_fam  wt_hh  wt_hu  \n",
       "0          1.0    1.0    1.0  \n",
       "1          1.0    1.0    1.0  \n",
       "2          1.0    1.0    1.0  \n",
       "3          1.0    1.0    1.0  \n",
       "4          0.0    0.0    0.0  \n",
       "...        ...    ...    ...  \n",
       "501579     0.0    1.0    1.0  \n",
       "501580     1.0    1.0    1.0  \n",
       "501581     0.0    0.0    0.0  \n",
       "501582     1.0    1.0    1.0  \n",
       "501583     0.0    0.0    0.0  \n",
       "\n",
       "[501584 rows x 7 columns]"
      ]
     },
     "execution_count": 10,
     "metadata": {},
     "output_type": "execute_result"
    }
   ],
   "source": [
    "bgp2000_to_bg2010 = nhgisxwalk.GeoCrossWalk(\n",
    "    base_xwalk,\n",
    "    source_year=source_year,\n",
    "    target_year=target_year,\n",
    "    source_geo=\"bgp\",\n",
    "    target_geo=\"bg\",\n",
    "    base_source_table=base_source_file,\n",
    "    input_var=input_vars,\n",
    "    weight_var=input_var_tags,\n",
    "    keep_base=False,\n",
    "    add_geoid=True\n",
    ")\n",
    "del base_xwalk\n",
    "bgp2000_to_bg2010.xwalk"
   ]
  },
  {
   "cell_type": "markdown",
   "metadata": {},
   "source": [
    "### Write crosswalk to a `.csv`"
   ]
  },
  {
   "cell_type": "code",
   "execution_count": 11,
   "metadata": {
    "ExecuteTime": {
     "end_time": "2020-07-29T02:14:45.679801Z",
     "start_time": "2020-07-29T02:14:42.452660Z"
    }
   },
   "outputs": [],
   "source": [
    "nat_dir = \"../../crosswalks/\"\n",
    "nhgisxwalk.xwalk_df_to_csv(\n",
    "    dfkwds={\n",
    "        \"df\": bgp2000_to_bg2010.xwalk,\n",
    "        \"xwalk_name\": bgp2000_to_bg2010.xwalk_name\n",
    "    },\n",
    "    path=nat_dir\n",
    ")"
   ]
  },
  {
   "cell_type": "markdown",
   "metadata": {},
   "source": [
    "### Split by (target) state and write out"
   ]
  },
  {
   "cell_type": "code",
   "execution_count": 12,
   "metadata": {
    "ExecuteTime": {
     "end_time": "2020-07-29T02:14:45.963327Z",
     "start_time": "2020-07-29T02:14:45.681051Z"
    }
   },
   "outputs": [
    {
     "data": {
      "text/plain": [
       "['01',\n",
       " '02',\n",
       " '04',\n",
       " '05',\n",
       " '06',\n",
       " '08',\n",
       " '09',\n",
       " '10',\n",
       " '11',\n",
       " '12',\n",
       " '13',\n",
       " '15',\n",
       " '16',\n",
       " '17',\n",
       " '18',\n",
       " '19',\n",
       " '20',\n",
       " '21',\n",
       " '22',\n",
       " '23',\n",
       " '24',\n",
       " '25',\n",
       " '26',\n",
       " '27',\n",
       " '28',\n",
       " '29',\n",
       " '30',\n",
       " '31',\n",
       " '32',\n",
       " '33',\n",
       " '34',\n",
       " '35',\n",
       " '36',\n",
       " '37',\n",
       " '38',\n",
       " '39',\n",
       " '40',\n",
       " '41',\n",
       " '42',\n",
       " '44',\n",
       " '45',\n",
       " '46',\n",
       " '47',\n",
       " '48',\n",
       " '49',\n",
       " '50',\n",
       " '51',\n",
       " '53',\n",
       " '54',\n",
       " '55',\n",
       " '56']"
      ]
     },
     "execution_count": 12,
     "metadata": {},
     "output_type": "execute_result"
    }
   ],
   "source": [
    "stfips_codes = nhgisxwalk.extract_unique_stfips(\n",
    "    df=bgp2000_to_bg2010.xwalk, endpoint=bgp2000_to_bg2010.target\n",
    ")\n",
    "stfips_codes = sorted(list(stfips_codes))\n",
    "stfips_codes"
   ]
  },
  {
   "cell_type": "code",
   "execution_count": 13,
   "metadata": {
    "ExecuteTime": {
     "end_time": "2020-07-29T02:15:02.178934Z",
     "start_time": "2020-07-29T02:14:45.965010Z"
    }
   },
   "outputs": [],
   "source": [
    "state_dir = nat_dir + \"nhgis_bgp2000_bg2010_state/\"\n",
    "for stfips in stfips_codes:\n",
    "    xwalk_name = bgp2000_to_bg2010.xwalk_name\n",
    "    source, target = bgp2000_to_bg2010.target, bgp2000_to_bg2010.target\n",
    "    _stxwalk = nhgisxwalk.extract_state(\n",
    "        bgp2000_to_bg2010.xwalk,\n",
    "        stfips,\n",
    "        xwalk_name,\n",
    "        target,\n",
    "        sort_by=[source, target]\n",
    "    )\n",
    "    dfkwds = {\"df\": _stxwalk, \"stfips\": stfips, \"xwalk_name\": xwalk_name}\n",
    "    nhgisxwalk.xwalk_df_to_csv(dfkwds=dfkwds, path=state_dir)"
   ]
  },
  {
   "cell_type": "markdown",
   "metadata": {},
   "source": [
    "-----------------------------------------------"
   ]
  }
 ],
 "metadata": {
  "_draft": {
   "nbviewer_url": "https://gist.github.com/9f47e4ec2cc37bce83acf20abfca69d2"
  },
  "gist": {
   "data": {
    "description": "sample-workflow.ipynb",
    "public": true
   },
   "id": "9f47e4ec2cc37bce83acf20abfca69d2"
  },
  "kernelspec": {
   "display_name": "Python [conda env:nhgis]",
   "language": "python",
   "name": "conda-env-nhgis-py"
  },
  "language_info": {
   "codemirror_mode": {
    "name": "ipython",
    "version": 3
   },
   "file_extension": ".py",
   "mimetype": "text/x-python",
   "name": "python",
   "nbconvert_exporter": "python",
   "pygments_lexer": "ipython3",
   "version": "3.7.6"
  }
 },
 "nbformat": 4,
 "nbformat_minor": 4
}
