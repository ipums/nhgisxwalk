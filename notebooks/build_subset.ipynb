{
 "cells": [
  {
   "cell_type": "markdown",
   "metadata": {},
   "source": [
    "# Generating Subsets for testing\n",
    "\n",
    "\n",
    "1. Create state-level subsets for NHGIS base crosswalks\n",
    "1. Create state-level subsets for NHGIS base tabular data\n",
    "1. Record unit tests values for posterity\n",
    "\n",
    "\n",
    "***This is currently only intended for use with block-level data.***\n",
    "\n",
    "\n",
    "**James Gaboardi** **(<jgaboardi@gmail.com>), 2020-05**"
   ]
  },
  {
   "cell_type": "code",
   "execution_count": 1,
   "metadata": {
    "ExecuteTime": {
     "end_time": "2020-05-19T16:01:06.090981Z",
     "start_time": "2020-05-19T16:01:05.875268Z"
    }
   },
   "outputs": [
    {
     "name": "stdout",
     "output_type": "stream",
     "text": [
      "2020-05-19T12:01:06-04:00\n",
      "\n",
      "CPython 3.7.6\n",
      "IPython 7.13.0\n",
      "\n",
      "compiler   : Clang 9.0.1 \n",
      "system     : Darwin\n",
      "release    : 19.4.0\n",
      "machine    : x86_64\n",
      "processor  : i386\n",
      "CPU cores  : 4\n",
      "interpreter: 64bit\n"
     ]
    }
   ],
   "source": [
    "%load_ext watermark\n",
    "%watermark"
   ]
  },
  {
   "cell_type": "code",
   "execution_count": 2,
   "metadata": {
    "ExecuteTime": {
     "end_time": "2020-05-19T16:01:07.008326Z",
     "start_time": "2020-05-19T16:01:06.625684Z"
    }
   },
   "outputs": [
    {
     "name": "stdout",
     "output_type": "stream",
     "text": [
      "watermark 2.0.2\n",
      "numpy      1.18.1\n",
      "nhgisxwalk 0.0.2\n",
      "pandas     1.0.3\n",
      "\n"
     ]
    }
   ],
   "source": [
    "import inspect\n",
    "import nhgisxwalk\n",
    "import numpy\n",
    "import pandas\n",
    "\n",
    "%load_ext autoreload\n",
    "%autoreload 2\n",
    "%watermark -w\n",
    "%watermark -iv"
   ]
  },
  {
   "cell_type": "code",
   "execution_count": 3,
   "metadata": {
    "ExecuteTime": {
     "end_time": "2020-05-19T16:01:07.799284Z",
     "start_time": "2020-05-19T16:01:07.754780Z"
    }
   },
   "outputs": [],
   "source": [
    "def build_subset(\n",
    "    stfips,\n",
    "    src_year,\n",
    "    src_geog,\n",
    "    trg_year,\n",
    "    trg_geog,\n",
    "    tabular,\n",
    "    tabular_dir=\"\",\n",
    "    xwalk_dir=\"\",\n",
    "    code_type=\"GJOIN\",\n",
    "    out_dir=\"../testing_data_subsets\",\n",
    "    ur_path=None\n",
    "):\n",
    "    \"\"\"Create and write out state-level subsets for NHGIS base crosswalks\n",
    "    and the associated base tabular data. This is currently only intended\n",
    "    for use with block-level data.\n",
    "    \n",
    "    Parameters\n",
    "    ----------\n",
    "    \n",
    "    stfips : str\n",
    "        State FIPS code for subset (target year)\n",
    "        \n",
    "    src_year : str\n",
    "        Source year.\n",
    "    \n",
    "    src_geog : str\n",
    "        Source geography.\n",
    "    \n",
    "    trg_year : str\n",
    "        Target year.\n",
    "    \n",
    "    trg_geog : str\n",
    "        Target geography.\n",
    "    \n",
    "    tabular : str\n",
    "        Tabular geography type (as a base for file name).\n",
    "    \n",
    "    tabular_dir : str\n",
    "        Path to the tabular geography file. Default is ''.\n",
    "    \n",
    "    xwalk_dir : str\n",
    "        Path to the crosswalk file. Default is ''.\n",
    "    \n",
    "    code_type : str\n",
    "        Code type/format. Default is 'GJOIN'.\n",
    "    \n",
    "    out_dir : str\n",
    "        Default is '../testing_data_subsets'.\n",
    "    \n",
    "    ur_path : str\n",
    "        Path to Urban/Rural code data for 2000 blocks.\n",
    "    \n",
    "    Returns\n",
    "    -------\n",
    "    \n",
    "    xwalk : pandas.DataFrame\n",
    "        Subset of the base crosswalk.\n",
    "    \n",
    "    tab : pandas.DataFrame\n",
    "        Subset of the base tabular data.\n",
    "    \n",
    "    \"\"\"\n",
    "    \n",
    "    # 1. read in base_xwalk\n",
    "    src_col = \"%s%s\" % (code_type, src_year)\n",
    "    trg_col = \"%s%s\" % (code_type, trg_year)\n",
    "    dtype = {c:str for c in [src_col, trg_col]}\n",
    "    ct = code_type.lower()[:2]\n",
    "    xwalk_base_name = \"/nhgis_%s%s_%s%s_%s.csv.zip\"\n",
    "    f_xwalk = xwalk_base_name % (src_geog, src_year, trg_geog, trg_year, ct)\n",
    "    xwalk = pandas.read_csv(xwalk_dir+f_xwalk, index_col=0, dtype=dtype)\n",
    "    \n",
    "    # 2. create temp column in base_xwalk for trg_year, stfips\n",
    "    temp_col = \"state%s\" % trg_year\n",
    "    xwalk[temp_col] = xwalk[trg_col].map(lambda x: x[1:3])\n",
    "    \n",
    "    # 3. subset base_xwalk, remove temp column, reset index, and write out\n",
    "    xwalk = xwalk[xwalk[temp_col] == stfips]\n",
    "    xwalk = xwalk[xwalk.columns[:-1]]\n",
    "    xwalk.reset_index(inplace=True, drop=True)\n",
    "    xwalk.to_csv(out_dir+f_xwalk)\n",
    "    \n",
    "    # 4. read in base_tabular\n",
    "    dtype = [\"GISJOIN\", \"YEAR\", \"STATE\", \"STATEA\", \"COUNTY\", \"COUNTYA\"]\n",
    "    dtype += [\"CTY_SUB\", \"CTY_SUBA\", \"PLACE\", \"PLACEA\", \"TRACTA\"]\n",
    "    dtype += [\"BLCK_GRPA\", \"AIANHHA\", \"URBRURALA\", \"NAME\"]\n",
    "    dtype += [\"URB_AREAA\", \"CDA\", \"RES_TRSTA\", \"ANRCA\"]\n",
    "    dtype = {c:str for c in dtype}\n",
    "    f_tab = \"%s_%s\" % (src_year, tabular)\n",
    "    f_tab_in = \"/%s/%s.csv\" % (f_tab, f_tab)\n",
    "    tab = pandas.read_csv(tabular_dir+f_tab_in, index_col=0, dtype=dtype)\n",
    "    \n",
    "    # 5. subset base_tabular by stfips and extract UR code for 2000 blocks\n",
    "    tab = tab[tab[\"STATEA\"] == stfips]\n",
    "    if src_year == \"2000\" and ur_path:\n",
    "        # Special case for 2000 blocks (of 2000 bgp)-- needs Urban/Rural code\n",
    "        # For more details see:\n",
    "        # https://gist.github.com/jGaboardi/36c7640af1f228cdc8a691505262e543\n",
    "        ur_df = pandas.read_csv(ur_path, index_col=0, dtype=str)\n",
    "        ur_df = ur_df[ur_df[\"STATE\"] == stfips]\n",
    "        blk_cols = [\"STATE\", \"COUNTY\", \"TRACT\", \"BLOCK\"]\n",
    "        ur_df = nhgisxwalk.id_codes.blk_id(ur_df, blk_cols, )\n",
    "        tab[\"URBRURALA\"] = tab.index.map(dict(ur_df[[\"GISJOIN\", \"UR\"]].values))\n",
    "        # reorder columns\n",
    "        cols = tab.columns\n",
    "        reorder_cols = list(cols[:11]) + list(cols[-1:]) + list(cols[11:-1])\n",
    "        tab = tab[reorder_cols]\n",
    "        \n",
    "    # 6. write out\n",
    "    tab.to_csv(\"%s/%s.csv.zip\"%(out_dir,f_tab))\n",
    "    \n",
    "    return xwalk, tab"
   ]
  },
  {
   "cell_type": "markdown",
   "metadata": {},
   "source": [
    "## Generate subset"
   ]
  },
  {
   "cell_type": "code",
   "execution_count": 4,
   "metadata": {
    "ExecuteTime": {
     "end_time": "2020-05-19T16:01:13.898588Z",
     "start_time": "2020-05-19T16:01:13.873963Z"
    }
   },
   "outputs": [],
   "source": [
    "subset_state = \"10\" # Delaware\n",
    "#subset_state = \"11\" # DC\n",
    "#subset_state = \"56\" # Wyoming\n",
    "\n",
    "source_year, target_year = \"1990\", \"2010\"\n",
    "#source_year, target_year = \"2000\", \"2010\""
   ]
  },
  {
   "cell_type": "code",
   "execution_count": 5,
   "metadata": {
    "ExecuteTime": {
     "end_time": "2020-05-19T16:02:25.945727Z",
     "start_time": "2020-05-19T16:01:23.418339Z"
    }
   },
   "outputs": [
    {
     "name": "stderr",
     "output_type": "stream",
     "text": [
      "/Users/jgaboardi/miniconda3/envs/nhgis_env/lib/python3.7/site-packages/numpy/lib/arraysetops.py:569: FutureWarning: elementwise comparison failed; returning scalar instead, but in the future will perform elementwise comparison\n",
      "  mask |= (ar1 == a)\n"
     ]
    }
   ],
   "source": [
    "if source_year == \"1990\" or target_year == \"1990\":\n",
    "    xwalk_df, tab_df = build_subset(\n",
    "        subset_state,\n",
    "        source_year,\n",
    "        \"blk\",\n",
    "        target_year,\n",
    "        \"blk\",\n",
    "        \"block\",\n",
    "        tabular_dir=\"../../tabular_data\",\n",
    "        xwalk_dir=\"../../crosswalks\"\n",
    "    )\n",
    "if source_year == \"2000\" or target_year == \"2000\":\n",
    "    xwalk_df, tab_df = build_subset(\n",
    "        subset_state,\n",
    "        source_year,\n",
    "        \"blk\",\n",
    "        target_year,\n",
    "        \"blk\",\n",
    "        \"block\",\n",
    "        tabular_dir=\"../../tabular_data\",\n",
    "        xwalk_dir=\"../../crosswalks\",\n",
    "        ur_path=\"../../missing_UR_codes/2000_block_UR.csv.zip\"\n",
    "    )"
   ]
  },
  {
   "cell_type": "code",
   "execution_count": 6,
   "metadata": {
    "ExecuteTime": {
     "end_time": "2020-05-19T16:02:26.007342Z",
     "start_time": "2020-05-19T16:02:25.948662Z"
    }
   },
   "outputs": [
    {
     "data": {
      "text/html": [
       "<div>\n",
       "<style scoped>\n",
       "    .dataframe tbody tr th:only-of-type {\n",
       "        vertical-align: middle;\n",
       "    }\n",
       "\n",
       "    .dataframe tbody tr th {\n",
       "        vertical-align: top;\n",
       "    }\n",
       "\n",
       "    .dataframe thead th {\n",
       "        text-align: right;\n",
       "    }\n",
       "</style>\n",
       "<table border=\"1\" class=\"dataframe\">\n",
       "  <thead>\n",
       "    <tr style=\"text-align: right;\">\n",
       "      <th></th>\n",
       "      <th>GJOIN1990</th>\n",
       "      <th>GJOIN2010</th>\n",
       "      <th>WEIGHT</th>\n",
       "      <th>PAREA_VIA_BLK00</th>\n",
       "    </tr>\n",
       "  </thead>\n",
       "  <tbody>\n",
       "    <tr>\n",
       "      <th>0</th>\n",
       "      <td>NaN</td>\n",
       "      <td>G10000100432021078</td>\n",
       "      <td>0.0</td>\n",
       "      <td>0.0</td>\n",
       "    </tr>\n",
       "    <tr>\n",
       "      <th>1</th>\n",
       "      <td>NaN</td>\n",
       "      <td>G10000100432023014</td>\n",
       "      <td>0.0</td>\n",
       "      <td>0.0</td>\n",
       "    </tr>\n",
       "    <tr>\n",
       "      <th>2</th>\n",
       "      <td>NaN</td>\n",
       "      <td>G10000100432023015</td>\n",
       "      <td>0.0</td>\n",
       "      <td>0.0</td>\n",
       "    </tr>\n",
       "    <tr>\n",
       "      <th>3</th>\n",
       "      <td>NaN</td>\n",
       "      <td>G10000109900000011</td>\n",
       "      <td>0.0</td>\n",
       "      <td>0.0</td>\n",
       "    </tr>\n",
       "    <tr>\n",
       "      <th>4</th>\n",
       "      <td>NaN</td>\n",
       "      <td>G10000109900000012</td>\n",
       "      <td>0.0</td>\n",
       "      <td>0.0</td>\n",
       "    </tr>\n",
       "  </tbody>\n",
       "</table>\n",
       "</div>"
      ],
      "text/plain": [
       "  GJOIN1990           GJOIN2010  WEIGHT  PAREA_VIA_BLK00\n",
       "0       NaN  G10000100432021078     0.0              0.0\n",
       "1       NaN  G10000100432023014     0.0              0.0\n",
       "2       NaN  G10000100432023015     0.0              0.0\n",
       "3       NaN  G10000109900000011     0.0              0.0\n",
       "4       NaN  G10000109900000012     0.0              0.0"
      ]
     },
     "execution_count": 6,
     "metadata": {},
     "output_type": "execute_result"
    }
   ],
   "source": [
    "xwalk_df.head()\n",
    "#xwalk_df[145:155]"
   ]
  },
  {
   "cell_type": "code",
   "execution_count": 7,
   "metadata": {
    "ExecuteTime": {
     "end_time": "2020-05-19T01:46:39.059655Z",
     "start_time": "2020-05-19T01:46:39.010141Z"
    }
   },
   "outputs": [
    {
     "data": {
      "text/html": [
       "<div>\n",
       "<style scoped>\n",
       "    .dataframe tbody tr th:only-of-type {\n",
       "        vertical-align: middle;\n",
       "    }\n",
       "\n",
       "    .dataframe tbody tr th {\n",
       "        vertical-align: top;\n",
       "    }\n",
       "\n",
       "    .dataframe thead th {\n",
       "        text-align: right;\n",
       "    }\n",
       "</style>\n",
       "<table border=\"1\" class=\"dataframe\">\n",
       "  <thead>\n",
       "    <tr style=\"text-align: right;\">\n",
       "      <th></th>\n",
       "      <th>YEAR</th>\n",
       "      <th>ANRCA</th>\n",
       "      <th>AIANHHA</th>\n",
       "      <th>RES_ONLYA</th>\n",
       "      <th>TRUSTA</th>\n",
       "      <th>RES_TRSTA</th>\n",
       "      <th>BLOCKA</th>\n",
       "      <th>BLCK_GRPA</th>\n",
       "      <th>TRACTA</th>\n",
       "      <th>CDA</th>\n",
       "      <th>...</th>\n",
       "      <th>STATE</th>\n",
       "      <th>STATEA</th>\n",
       "      <th>URBRURALA</th>\n",
       "      <th>URB_AREAA</th>\n",
       "      <th>CD103A</th>\n",
       "      <th>ANPSADPI</th>\n",
       "      <th>ET1001</th>\n",
       "      <th>EUD001</th>\n",
       "      <th>EUO001</th>\n",
       "      <th>ESA001</th>\n",
       "    </tr>\n",
       "    <tr>\n",
       "      <th>GISJOIN</th>\n",
       "      <th></th>\n",
       "      <th></th>\n",
       "      <th></th>\n",
       "      <th></th>\n",
       "      <th></th>\n",
       "      <th></th>\n",
       "      <th></th>\n",
       "      <th></th>\n",
       "      <th></th>\n",
       "      <th></th>\n",
       "      <th></th>\n",
       "      <th></th>\n",
       "      <th></th>\n",
       "      <th></th>\n",
       "      <th></th>\n",
       "      <th></th>\n",
       "      <th></th>\n",
       "      <th></th>\n",
       "      <th></th>\n",
       "      <th></th>\n",
       "      <th></th>\n",
       "    </tr>\n",
       "  </thead>\n",
       "  <tbody>\n",
       "    <tr>\n",
       "      <th>G10000100401101</th>\n",
       "      <td>1990</td>\n",
       "      <td>99</td>\n",
       "      <td>9999</td>\n",
       "      <td>9999</td>\n",
       "      <td>9999</td>\n",
       "      <td>9</td>\n",
       "      <td>101</td>\n",
       "      <td>1</td>\n",
       "      <td>0401</td>\n",
       "      <td>00</td>\n",
       "      <td>...</td>\n",
       "      <td>Delaware</td>\n",
       "      <td>10</td>\n",
       "      <td>2</td>\n",
       "      <td>9999</td>\n",
       "      <td>NaN</td>\n",
       "      <td>Block 101</td>\n",
       "      <td>24</td>\n",
       "      <td>6</td>\n",
       "      <td>8</td>\n",
       "      <td>9</td>\n",
       "    </tr>\n",
       "    <tr>\n",
       "      <th>G10000100401102</th>\n",
       "      <td>1990</td>\n",
       "      <td>99</td>\n",
       "      <td>9999</td>\n",
       "      <td>9999</td>\n",
       "      <td>9999</td>\n",
       "      <td>9</td>\n",
       "      <td>102</td>\n",
       "      <td>1</td>\n",
       "      <td>0401</td>\n",
       "      <td>00</td>\n",
       "      <td>...</td>\n",
       "      <td>Delaware</td>\n",
       "      <td>10</td>\n",
       "      <td>2</td>\n",
       "      <td>9999</td>\n",
       "      <td>NaN</td>\n",
       "      <td>Block 102</td>\n",
       "      <td>145</td>\n",
       "      <td>39</td>\n",
       "      <td>50</td>\n",
       "      <td>58</td>\n",
       "    </tr>\n",
       "    <tr>\n",
       "      <th>G10000100401103</th>\n",
       "      <td>1990</td>\n",
       "      <td>99</td>\n",
       "      <td>9999</td>\n",
       "      <td>9999</td>\n",
       "      <td>9999</td>\n",
       "      <td>9</td>\n",
       "      <td>103</td>\n",
       "      <td>1</td>\n",
       "      <td>0401</td>\n",
       "      <td>00</td>\n",
       "      <td>...</td>\n",
       "      <td>Delaware</td>\n",
       "      <td>10</td>\n",
       "      <td>2</td>\n",
       "      <td>9999</td>\n",
       "      <td>NaN</td>\n",
       "      <td>Block 103</td>\n",
       "      <td>75</td>\n",
       "      <td>23</td>\n",
       "      <td>27</td>\n",
       "      <td>29</td>\n",
       "    </tr>\n",
       "    <tr>\n",
       "      <th>G10000100401104</th>\n",
       "      <td>1990</td>\n",
       "      <td>99</td>\n",
       "      <td>9999</td>\n",
       "      <td>9999</td>\n",
       "      <td>9999</td>\n",
       "      <td>9</td>\n",
       "      <td>104</td>\n",
       "      <td>1</td>\n",
       "      <td>0401</td>\n",
       "      <td>00</td>\n",
       "      <td>...</td>\n",
       "      <td>Delaware</td>\n",
       "      <td>10</td>\n",
       "      <td>2</td>\n",
       "      <td>9999</td>\n",
       "      <td>NaN</td>\n",
       "      <td>Block 104</td>\n",
       "      <td>69</td>\n",
       "      <td>19</td>\n",
       "      <td>21</td>\n",
       "      <td>22</td>\n",
       "    </tr>\n",
       "    <tr>\n",
       "      <th>G10000100401105</th>\n",
       "      <td>1990</td>\n",
       "      <td>99</td>\n",
       "      <td>9999</td>\n",
       "      <td>9999</td>\n",
       "      <td>9999</td>\n",
       "      <td>9</td>\n",
       "      <td>105</td>\n",
       "      <td>1</td>\n",
       "      <td>0401</td>\n",
       "      <td>00</td>\n",
       "      <td>...</td>\n",
       "      <td>Delaware</td>\n",
       "      <td>10</td>\n",
       "      <td>2</td>\n",
       "      <td>9999</td>\n",
       "      <td>NaN</td>\n",
       "      <td>Block 105</td>\n",
       "      <td>2</td>\n",
       "      <td>0</td>\n",
       "      <td>2</td>\n",
       "      <td>3</td>\n",
       "    </tr>\n",
       "  </tbody>\n",
       "</table>\n",
       "<p>5 rows × 29 columns</p>\n",
       "</div>"
      ],
      "text/plain": [
       "                 YEAR ANRCA AIANHHA  RES_ONLYA  TRUSTA RES_TRSTA BLOCKA  \\\n",
       "GISJOIN                                                                   \n",
       "G10000100401101  1990    99    9999       9999    9999         9    101   \n",
       "G10000100401102  1990    99    9999       9999    9999         9    102   \n",
       "G10000100401103  1990    99    9999       9999    9999         9    103   \n",
       "G10000100401104  1990    99    9999       9999    9999         9    104   \n",
       "G10000100401105  1990    99    9999       9999    9999         9    105   \n",
       "\n",
       "                BLCK_GRPA TRACTA CDA  ...     STATE STATEA URBRURALA  \\\n",
       "GISJOIN                               ...                              \n",
       "G10000100401101         1   0401  00  ...  Delaware     10         2   \n",
       "G10000100401102         1   0401  00  ...  Delaware     10         2   \n",
       "G10000100401103         1   0401  00  ...  Delaware     10         2   \n",
       "G10000100401104         1   0401  00  ...  Delaware     10         2   \n",
       "G10000100401105         1   0401  00  ...  Delaware     10         2   \n",
       "\n",
       "                URB_AREAA  CD103A   ANPSADPI ET1001  EUD001  EUO001 ESA001  \n",
       "GISJOIN                                                                     \n",
       "G10000100401101      9999     NaN  Block 101     24       6       8      9  \n",
       "G10000100401102      9999     NaN  Block 102    145      39      50     58  \n",
       "G10000100401103      9999     NaN  Block 103     75      23      27     29  \n",
       "G10000100401104      9999     NaN  Block 104     69      19      21     22  \n",
       "G10000100401105      9999     NaN  Block 105      2       0       2      3  \n",
       "\n",
       "[5 rows x 29 columns]"
      ]
     },
     "execution_count": 7,
     "metadata": {},
     "output_type": "execute_result"
    }
   ],
   "source": [
    "tab_df.head()"
   ]
  },
  {
   "cell_type": "markdown",
   "metadata": {},
   "source": [
    "## Test crosswalk build with generated subset"
   ]
  },
  {
   "cell_type": "code",
   "execution_count": 11,
   "metadata": {
    "ExecuteTime": {
     "end_time": "2020-05-19T15:51:24.462226Z",
     "start_time": "2020-05-19T15:51:24.278800Z"
    }
   },
   "outputs": [
    {
     "data": {
      "text/html": [
       "<div>\n",
       "<style scoped>\n",
       "    .dataframe tbody tr th:only-of-type {\n",
       "        vertical-align: middle;\n",
       "    }\n",
       "\n",
       "    .dataframe tbody tr th {\n",
       "        vertical-align: top;\n",
       "    }\n",
       "\n",
       "    .dataframe thead th {\n",
       "        text-align: right;\n",
       "    }\n",
       "</style>\n",
       "<table border=\"1\" class=\"dataframe\">\n",
       "  <thead>\n",
       "    <tr style=\"text-align: right;\">\n",
       "      <th></th>\n",
       "      <th>GJOIN2000</th>\n",
       "      <th>GJOIN2010</th>\n",
       "      <th>WEIGHT</th>\n",
       "      <th>PAREA</th>\n",
       "    </tr>\n",
       "  </thead>\n",
       "  <tbody>\n",
       "    <tr>\n",
       "      <th>0</th>\n",
       "      <td>G10000100401001000</td>\n",
       "      <td>G10000100401001000</td>\n",
       "      <td>1.000000</td>\n",
       "      <td>1.000000</td>\n",
       "    </tr>\n",
       "    <tr>\n",
       "      <th>1</th>\n",
       "      <td>G10000100401001001</td>\n",
       "      <td>G10000100401001001</td>\n",
       "      <td>0.999981</td>\n",
       "      <td>0.999988</td>\n",
       "    </tr>\n",
       "    <tr>\n",
       "      <th>2</th>\n",
       "      <td>G10000100401001001</td>\n",
       "      <td>G10000100401001003</td>\n",
       "      <td>0.000019</td>\n",
       "      <td>0.000012</td>\n",
       "    </tr>\n",
       "    <tr>\n",
       "      <th>3</th>\n",
       "      <td>G10000100401001002</td>\n",
       "      <td>G10000100401001002</td>\n",
       "      <td>1.000000</td>\n",
       "      <td>1.000000</td>\n",
       "    </tr>\n",
       "    <tr>\n",
       "      <th>4</th>\n",
       "      <td>G10000100401001003</td>\n",
       "      <td>G10000100401001003</td>\n",
       "      <td>1.000000</td>\n",
       "      <td>1.000000</td>\n",
       "    </tr>\n",
       "  </tbody>\n",
       "</table>\n",
       "</div>"
      ],
      "text/plain": [
       "            GJOIN2000           GJOIN2010    WEIGHT     PAREA\n",
       "0  G10000100401001000  G10000100401001000  1.000000  1.000000\n",
       "1  G10000100401001001  G10000100401001001  0.999981  0.999988\n",
       "2  G10000100401001001  G10000100401001003  0.000019  0.000012\n",
       "3  G10000100401001002  G10000100401001002  1.000000  1.000000\n",
       "4  G10000100401001003  G10000100401001003  1.000000  1.000000"
      ]
     },
     "execution_count": 11,
     "metadata": {},
     "output_type": "execute_result"
    }
   ],
   "source": [
    "subset_data_dir = \"../testing_data_subsets\"\n",
    "base_xwalk_name = \"/nhgis_blk%s_blk%s_gj.csv.zip\" % (source_year, target_year)\n",
    "base_xwalk_file = subset_data_dir + base_xwalk_name\n",
    "data_types = nhgisxwalk.str_types([\"GJOIN%s\"%source_year, \"GJOIN%s\"%target_year])\n",
    "base_xwalk = pandas.read_csv(base_xwalk_file, index_col=0, dtype=data_types)\n",
    "base_xwalk.head()"
   ]
  },
  {
   "cell_type": "code",
   "execution_count": 17,
   "metadata": {
    "ExecuteTime": {
     "end_time": "2020-05-19T15:51:56.465413Z",
     "start_time": "2020-05-19T15:51:56.415033Z"
    }
   },
   "outputs": [
    {
     "data": {
      "text/plain": [
       "['FXS001', 'F2V001', 'FY4001', 'FV5001']"
      ]
     },
     "execution_count": 17,
     "metadata": {},
     "output_type": "execute_result"
    }
   ],
   "source": [
    "invc = nhgisxwalk.desc_code_1990\n",
    "#invc = nhgisxwalk.desc_code_2000_SF1b\n",
    "\n",
    "input_var_names = [\"Persons\", \"Families\", \"Households\", \"Housing Units\"]\n",
    "input_var_codes = [invc[name][\"Total\"] for name in input_var_names]\n",
    "input_var_codes"
   ]
  },
  {
   "cell_type": "code",
   "execution_count": 18,
   "metadata": {
    "ExecuteTime": {
     "end_time": "2020-05-19T15:51:56.941322Z",
     "start_time": "2020-05-19T15:51:56.901421Z"
    }
   },
   "outputs": [],
   "source": [
    "input_var_tags = [\"pop\", \"fam\", \"hh\", \"hu\"]"
   ]
  },
  {
   "cell_type": "code",
   "execution_count": 19,
   "metadata": {
    "ExecuteTime": {
     "end_time": "2020-05-19T15:51:57.903138Z",
     "start_time": "2020-05-19T15:51:57.466666Z"
    }
   },
   "outputs": [
    {
     "data": {
      "text/html": [
       "<div>\n",
       "<style scoped>\n",
       "    .dataframe tbody tr th:only-of-type {\n",
       "        vertical-align: middle;\n",
       "    }\n",
       "\n",
       "    .dataframe tbody tr th {\n",
       "        vertical-align: top;\n",
       "    }\n",
       "\n",
       "    .dataframe thead th {\n",
       "        text-align: right;\n",
       "    }\n",
       "</style>\n",
       "<table border=\"1\" class=\"dataframe\">\n",
       "  <thead>\n",
       "    <tr style=\"text-align: right;\">\n",
       "      <th></th>\n",
       "      <th>bgp2000</th>\n",
       "      <th>trt2010</th>\n",
       "      <th>wt_pop</th>\n",
       "      <th>wt_fam</th>\n",
       "      <th>wt_hh</th>\n",
       "      <th>wt_hu</th>\n",
       "    </tr>\n",
       "  </thead>\n",
       "  <tbody>\n",
       "    <tr>\n",
       "      <th>0</th>\n",
       "      <td>G10000109044444430042202U1</td>\n",
       "      <td>G1000010042202</td>\n",
       "      <td>1.0</td>\n",
       "      <td>1.0</td>\n",
       "      <td>1.0</td>\n",
       "      <td>1.0</td>\n",
       "    </tr>\n",
       "    <tr>\n",
       "      <th>1</th>\n",
       "      <td>G10000109044461265042201R1</td>\n",
       "      <td>G1000010042201</td>\n",
       "      <td>1.0</td>\n",
       "      <td>1.0</td>\n",
       "      <td>1.0</td>\n",
       "      <td>1.0</td>\n",
       "    </tr>\n",
       "    <tr>\n",
       "      <th>2</th>\n",
       "      <td>G10000109044461265042201U1</td>\n",
       "      <td>G1000010042201</td>\n",
       "      <td>1.0</td>\n",
       "      <td>1.0</td>\n",
       "      <td>1.0</td>\n",
       "      <td>1.0</td>\n",
       "    </tr>\n",
       "    <tr>\n",
       "      <th>3</th>\n",
       "      <td>G10000109044461265042201U2</td>\n",
       "      <td>G1000010042201</td>\n",
       "      <td>1.0</td>\n",
       "      <td>1.0</td>\n",
       "      <td>1.0</td>\n",
       "      <td>1.0</td>\n",
       "    </tr>\n",
       "    <tr>\n",
       "      <th>4</th>\n",
       "      <td>G10000109044461480042202R2</td>\n",
       "      <td>G1000010042202</td>\n",
       "      <td>1.0</td>\n",
       "      <td>1.0</td>\n",
       "      <td>1.0</td>\n",
       "      <td>1.0</td>\n",
       "    </tr>\n",
       "  </tbody>\n",
       "</table>\n",
       "</div>"
      ],
      "text/plain": [
       "                      bgp2000         trt2010  wt_pop  wt_fam  wt_hh  wt_hu\n",
       "0  G10000109044444430042202U1  G1000010042202     1.0     1.0    1.0    1.0\n",
       "1  G10000109044461265042201R1  G1000010042201     1.0     1.0    1.0    1.0\n",
       "2  G10000109044461265042201U1  G1000010042201     1.0     1.0    1.0    1.0\n",
       "3  G10000109044461265042201U2  G1000010042201     1.0     1.0    1.0    1.0\n",
       "4  G10000109044461480042202R2  G1000010042202     1.0     1.0    1.0    1.0"
      ]
     },
     "execution_count": 19,
     "metadata": {},
     "output_type": "execute_result"
    }
   ],
   "source": [
    "#'''\n",
    "bgp1990_to_trt2010 = nhgisxwalk.GeoCrossWalk(\n",
    "    base_xwalk,\n",
    "    source_year=source_year,\n",
    "    target_year=target_year,\n",
    "    source_geo=\"bgp\",\n",
    "    target_geo=\"trt\",\n",
    "    base_source_table=subset_data_dir+\"/1990_block.csv.zip\",\n",
    "    input_var=input_var_codes,\n",
    "    weight_var=input_var_tags,\n",
    "    stfips=subset_state\n",
    ")\n",
    "\n",
    "#'''\n",
    "'''\n",
    "bgp2000_to_trt2010 = nhgisxwalk.GeoCrossWalk(\n",
    "    base_xwalk,\n",
    "    source_year=source_year,\n",
    "    target_year=target_year,\n",
    "    source_geo=\"bgp\",\n",
    "    target_geo=\"trt\",\n",
    "    base_source_table=subset_data_dir+\"/2000_block.csv.zip\",\n",
    "    input_var=input_var_codes,\n",
    "    weight_var=input_var_tags,\n",
    "    stfips=subset_state\n",
    ")\n",
    "'''\n",
    "bgp1990_to_trt2010.xwalk.head()\n",
    "#bgp2000_to_trt2010.xwalk.head()"
   ]
  },
  {
   "cell_type": "markdown",
   "metadata": {},
   "source": [
    "-----------------------\n",
    "\n",
    "## Data for unittests and doctests\n",
    "### Delaware\n",
    "**base_xwalk_blk1990_blk2010**"
   ]
  },
  {
   "cell_type": "code",
   "execution_count": 23,
   "metadata": {
    "ExecuteTime": {
     "end_time": "2020-05-19T15:53:59.523496Z",
     "start_time": "2020-05-19T15:53:59.484321Z"
    }
   },
   "outputs": [],
   "source": [
    "wgt_cols = [\"wt_pop\", \"wt_fam\", \"wt_hh\", \"wt_hu\"]\n",
    "id_cols = [\"bgp2000\", \"trt2010\"]"
   ]
  },
  {
   "cell_type": "code",
   "execution_count": 24,
   "metadata": {
    "ExecuteTime": {
     "end_time": "2020-05-19T15:53:59.797584Z",
     "start_time": "2020-05-19T15:53:59.749168Z"
    }
   },
   "outputs": [],
   "source": [
    "#ix1, ix2 = 677, 681\n",
    "\n",
    "#ix1, ix2 = 1025, 1029 # bgp1990_to_trt2010\n",
    "#bgp1990_to_trt2010.xwalk[ix1:ix2]"
   ]
  },
  {
   "cell_type": "markdown",
   "metadata": {},
   "source": [
    "**base_xwalk_blk2000_blk2010**"
   ]
  },
  {
   "cell_type": "code",
   "execution_count": 26,
   "metadata": {
    "ExecuteTime": {
     "end_time": "2020-05-19T15:54:24.449380Z",
     "start_time": "2020-05-19T15:54:24.406525Z"
    }
   },
   "outputs": [
    {
     "name": "stdout",
     "output_type": "stream",
     "text": [
      "                         bgp2000         trt2010    wt_pop    wt_fam\n",
      "1020  G10000509355299999051302R1  G1000050051302  1.000000  1.000000\n",
      "1021  G10000509355299999051302R2  G1000050051302  1.000000  1.000000\n",
      "1022  G10000509355299999051302U1  G1000050051302  1.000000  1.000000\n",
      "1023  G10000509355299999051303R1  G1000050051303  1.000000  1.000000\n",
      "1024  G10000509355299999051303U1  G1000050051303  1.000000  1.000000\n",
      "1025  G10000509355299999051304R1  G1000050051305  0.680605  0.633909\n",
      "1026  G10000509355299999051304R1  G1000050051306  0.319167  0.365782\n",
      "1027  G10000509355299999051304R1  G1000050051400  0.000227  0.000309\n",
      "1028  G10000509355299999051304R2  G1000050051305  0.802661  0.817568\n",
      "1029  G10000509355299999051304R2  G1000050051306  0.197339  0.182432\n",
      "1030  G10000509355299999051304U2  G1000050051305  0.530658  0.557464\n"
     ]
    }
   ],
   "source": [
    "# doctest\n",
    "print(bgp2000_to_trt2010.xwalk[id_cols+wgt_cols[:2]][1020:1031])"
   ]
  },
  {
   "cell_type": "code",
   "execution_count": 27,
   "metadata": {
    "ExecuteTime": {
     "end_time": "2020-05-19T15:55:36.609299Z",
     "start_time": "2020-05-19T15:55:36.570475Z"
    }
   },
   "outputs": [
    {
     "data": {
      "text/html": [
       "<div>\n",
       "<style scoped>\n",
       "    .dataframe tbody tr th:only-of-type {\n",
       "        vertical-align: middle;\n",
       "    }\n",
       "\n",
       "    .dataframe tbody tr th {\n",
       "        vertical-align: top;\n",
       "    }\n",
       "\n",
       "    .dataframe thead th {\n",
       "        text-align: right;\n",
       "    }\n",
       "</style>\n",
       "<table border=\"1\" class=\"dataframe\">\n",
       "  <thead>\n",
       "    <tr style=\"text-align: right;\">\n",
       "      <th></th>\n",
       "      <th>bgp2000</th>\n",
       "      <th>trt2010</th>\n",
       "      <th>wt_pop</th>\n",
       "      <th>wt_fam</th>\n",
       "      <th>wt_hh</th>\n",
       "      <th>wt_hu</th>\n",
       "    </tr>\n",
       "  </thead>\n",
       "  <tbody>\n",
       "    <tr>\n",
       "      <th>0</th>\n",
       "      <td>G10000109044444430042202U1</td>\n",
       "      <td>G1000010042202</td>\n",
       "      <td>1.0</td>\n",
       "      <td>1.0</td>\n",
       "      <td>1.0</td>\n",
       "      <td>1.0</td>\n",
       "    </tr>\n",
       "    <tr>\n",
       "      <th>1</th>\n",
       "      <td>G10000109044461265042201R1</td>\n",
       "      <td>G1000010042201</td>\n",
       "      <td>1.0</td>\n",
       "      <td>1.0</td>\n",
       "      <td>1.0</td>\n",
       "      <td>1.0</td>\n",
       "    </tr>\n",
       "    <tr>\n",
       "      <th>2</th>\n",
       "      <td>G10000109044461265042201U1</td>\n",
       "      <td>G1000010042201</td>\n",
       "      <td>1.0</td>\n",
       "      <td>1.0</td>\n",
       "      <td>1.0</td>\n",
       "      <td>1.0</td>\n",
       "    </tr>\n",
       "    <tr>\n",
       "      <th>3</th>\n",
       "      <td>G10000109044461265042201U2</td>\n",
       "      <td>G1000010042201</td>\n",
       "      <td>1.0</td>\n",
       "      <td>1.0</td>\n",
       "      <td>1.0</td>\n",
       "      <td>1.0</td>\n",
       "    </tr>\n",
       "    <tr>\n",
       "      <th>4</th>\n",
       "      <td>G10000109044461480042202R2</td>\n",
       "      <td>G1000010042202</td>\n",
       "      <td>1.0</td>\n",
       "      <td>1.0</td>\n",
       "      <td>1.0</td>\n",
       "      <td>1.0</td>\n",
       "    </tr>\n",
       "  </tbody>\n",
       "</table>\n",
       "</div>"
      ],
      "text/plain": [
       "                      bgp2000         trt2010  wt_pop  wt_fam  wt_hh  wt_hu\n",
       "0  G10000109044444430042202U1  G1000010042202     1.0     1.0    1.0    1.0\n",
       "1  G10000109044461265042201R1  G1000010042201     1.0     1.0    1.0    1.0\n",
       "2  G10000109044461265042201U1  G1000010042201     1.0     1.0    1.0    1.0\n",
       "3  G10000109044461265042201U2  G1000010042201     1.0     1.0    1.0    1.0\n",
       "4  G10000109044461480042202R2  G1000010042202     1.0     1.0    1.0    1.0"
      ]
     },
     "execution_count": 27,
     "metadata": {},
     "output_type": "execute_result"
    }
   ],
   "source": [
    "bgp2000_to_trt2010.xwalk.head()"
   ]
  },
  {
   "cell_type": "code",
   "execution_count": 28,
   "metadata": {
    "ExecuteTime": {
     "end_time": "2020-05-19T15:55:39.621130Z",
     "start_time": "2020-05-19T15:55:39.588466Z"
    }
   },
   "outputs": [
    {
     "data": {
      "text/html": [
       "<div>\n",
       "<style scoped>\n",
       "    .dataframe tbody tr th:only-of-type {\n",
       "        vertical-align: middle;\n",
       "    }\n",
       "\n",
       "    .dataframe tbody tr th {\n",
       "        vertical-align: top;\n",
       "    }\n",
       "\n",
       "    .dataframe thead th {\n",
       "        text-align: right;\n",
       "    }\n",
       "</style>\n",
       "<table border=\"1\" class=\"dataframe\">\n",
       "  <thead>\n",
       "    <tr style=\"text-align: right;\">\n",
       "      <th></th>\n",
       "      <th>bgp2000</th>\n",
       "      <th>trt2010</th>\n",
       "      <th>wt_pop</th>\n",
       "      <th>wt_fam</th>\n",
       "      <th>wt_hh</th>\n",
       "      <th>wt_hu</th>\n",
       "    </tr>\n",
       "  </thead>\n",
       "  <tbody>\n",
       "    <tr>\n",
       "      <th>1025</th>\n",
       "      <td>G10000509355299999051304R1</td>\n",
       "      <td>G1000050051305</td>\n",
       "      <td>0.680605</td>\n",
       "      <td>0.633909</td>\n",
       "      <td>0.657366</td>\n",
       "      <td>0.659502</td>\n",
       "    </tr>\n",
       "    <tr>\n",
       "      <th>1026</th>\n",
       "      <td>G10000509355299999051304R1</td>\n",
       "      <td>G1000050051306</td>\n",
       "      <td>0.319167</td>\n",
       "      <td>0.365782</td>\n",
       "      <td>0.342282</td>\n",
       "      <td>0.340111</td>\n",
       "    </tr>\n",
       "    <tr>\n",
       "      <th>1027</th>\n",
       "      <td>G10000509355299999051304R1</td>\n",
       "      <td>G1000050051400</td>\n",
       "      <td>0.000227</td>\n",
       "      <td>0.000309</td>\n",
       "      <td>0.000352</td>\n",
       "      <td>0.000387</td>\n",
       "    </tr>\n",
       "    <tr>\n",
       "      <th>1028</th>\n",
       "      <td>G10000509355299999051304R2</td>\n",
       "      <td>G1000050051305</td>\n",
       "      <td>0.802661</td>\n",
       "      <td>0.817568</td>\n",
       "      <td>0.820896</td>\n",
       "      <td>0.836237</td>\n",
       "    </tr>\n",
       "  </tbody>\n",
       "</table>\n",
       "</div>"
      ],
      "text/plain": [
       "                         bgp2000         trt2010    wt_pop    wt_fam  \\\n",
       "1025  G10000509355299999051304R1  G1000050051305  0.680605  0.633909   \n",
       "1026  G10000509355299999051304R1  G1000050051306  0.319167  0.365782   \n",
       "1027  G10000509355299999051304R1  G1000050051400  0.000227  0.000309   \n",
       "1028  G10000509355299999051304R2  G1000050051305  0.802661  0.817568   \n",
       "\n",
       "         wt_hh     wt_hu  \n",
       "1025  0.657366  0.659502  \n",
       "1026  0.342282  0.340111  \n",
       "1027  0.000352  0.000387  \n",
       "1028  0.820896  0.836237  "
      ]
     },
     "execution_count": 28,
     "metadata": {},
     "output_type": "execute_result"
    }
   ],
   "source": [
    "ix1, ix2 = 1025, 1029 # bgp2000_to_trt2010\n",
    "bgp2000_to_trt2010.xwalk[ix1:ix2]"
   ]
  },
  {
   "cell_type": "code",
   "execution_count": 29,
   "metadata": {
    "ExecuteTime": {
     "end_time": "2020-05-19T15:55:50.922989Z",
     "start_time": "2020-05-19T15:55:50.893042Z"
    }
   },
   "outputs": [
    {
     "data": {
      "text/plain": [
       "array([['G10000509355299999051304R1', 'G1000050051305'],\n",
       "       ['G10000509355299999051304R1', 'G1000050051306'],\n",
       "       ['G10000509355299999051304R1', 'G1000050051400'],\n",
       "       ['G10000509355299999051304R2', 'G1000050051305']], dtype=object)"
      ]
     },
     "execution_count": 29,
     "metadata": {},
     "output_type": "execute_result"
    }
   ],
   "source": [
    "bgp2000_to_trt2010.xwalk[id_cols][ix1:ix2].values"
   ]
  },
  {
   "cell_type": "code",
   "execution_count": 31,
   "metadata": {
    "ExecuteTime": {
     "end_time": "2020-05-19T15:56:51.607588Z",
     "start_time": "2020-05-19T15:56:51.578510Z"
    }
   },
   "outputs": [
    {
     "data": {
      "text/plain": [
       "array([['G10000509355299999051304R1', 'G1000050051305'],\n",
       "       ['G10000509355299999051304R1', 'G1000050051306'],\n",
       "       ['G10000509355299999051304R1', 'G1000050051400'],\n",
       "       ['G10000509355299999051304R2', 'G1000050051305']], dtype='<U26')"
      ]
     },
     "execution_count": 31,
     "metadata": {},
     "output_type": "execute_result"
    }
   ],
   "source": [
    "knw_str_vals = numpy.array(\n",
    "    [\n",
    "        [\"G10000509355299999051304R1\", \"G1000050051305\"],\n",
    "        [\"G10000509355299999051304R1\", \"G1000050051306\"],\n",
    "        [\"G10000509355299999051304R1\", \"G1000050051400\"],\n",
    "        [\"G10000509355299999051304R2\", \"G1000050051305\"]\n",
    "    ]\n",
    ")\n",
    "knw_str_vals"
   ]
  },
  {
   "cell_type": "code",
   "execution_count": 32,
   "metadata": {
    "ExecuteTime": {
     "end_time": "2020-05-19T15:56:52.712065Z",
     "start_time": "2020-05-19T15:56:52.682430Z"
    }
   },
   "outputs": [
    {
     "data": {
      "text/plain": [
       "True"
      ]
     },
     "execution_count": 32,
     "metadata": {},
     "output_type": "execute_result"
    }
   ],
   "source": [
    "numpy.equal(\n",
    "    bgp2000_to_trt2010.xwalk[id_cols][ix1:ix2].values,\n",
    "    knw_str_vals\n",
    ").all()"
   ]
  },
  {
   "cell_type": "code",
   "execution_count": 33,
   "metadata": {
    "ExecuteTime": {
     "end_time": "2020-05-19T15:56:55.009090Z",
     "start_time": "2020-05-19T15:56:54.978265Z"
    }
   },
   "outputs": [
    {
     "data": {
      "text/plain": [
       "array([[6.80605382e-01, 6.33909150e-01, 6.57366450e-01, 6.59501671e-01],\n",
       "       [3.19167389e-01, 3.65781711e-01, 3.42281879e-01, 3.40110906e-01],\n",
       "       [2.27229039e-04, 3.09138740e-04, 3.51671251e-04, 3.87423412e-04],\n",
       "       [8.02660754e-01, 8.17567568e-01, 8.20895522e-01, 8.36236934e-01]])"
      ]
     },
     "execution_count": 33,
     "metadata": {},
     "output_type": "execute_result"
    }
   ],
   "source": [
    "bgp2000_to_trt2010.xwalk[wgt_cols][ix1:ix2].values"
   ]
  },
  {
   "cell_type": "code",
   "execution_count": 34,
   "metadata": {
    "ExecuteTime": {
     "end_time": "2020-05-19T15:57:48.983279Z",
     "start_time": "2020-05-19T15:57:48.930292Z"
    }
   },
   "outputs": [
    {
     "data": {
      "text/plain": [
       "array([[6.80605382e-01, 6.33909150e-01, 6.57366450e-01, 6.59501671e-01],\n",
       "       [3.19167389e-01, 3.65781711e-01, 3.42281879e-01, 3.40110906e-01],\n",
       "       [2.27229039e-04, 3.09138740e-04, 3.51671251e-04, 3.87423412e-04],\n",
       "       [8.02660754e-01, 8.17567568e-01, 8.20895522e-01, 8.36236934e-01]])"
      ]
     },
     "execution_count": 34,
     "metadata": {},
     "output_type": "execute_result"
    }
   ],
   "source": [
    "knw_num_vals = numpy.array(\n",
    "    [\n",
    "        [6.80605382e-01, 6.33909150e-01, 6.57366450e-01, 6.59501671e-01],\n",
    "        [3.19167389e-01, 3.65781711e-01, 3.42281879e-01, 3.40110906e-01],\n",
    "        [2.27229039e-04, 3.09138740e-04, 3.51671251e-04, 3.87423412e-04],\n",
    "        [8.02660754e-01, 8.17567568e-01, 8.20895522e-01, 8.36236934e-01]\n",
    "    ]\n",
    ")\n",
    "knw_num_vals"
   ]
  },
  {
   "cell_type": "code",
   "execution_count": 35,
   "metadata": {
    "ExecuteTime": {
     "end_time": "2020-05-19T15:57:50.847581Z",
     "start_time": "2020-05-19T15:57:50.805814Z"
    }
   },
   "outputs": [
    {
     "data": {
      "text/plain": [
       "True"
      ]
     },
     "execution_count": 35,
     "metadata": {},
     "output_type": "execute_result"
    }
   ],
   "source": [
    "numpy.allclose(\n",
    "    bgp2000_to_trt2010.xwalk[wgt_cols][ix1:ix2].values,\n",
    "    knw_num_vals\n",
    ")"
   ]
  },
  {
   "cell_type": "markdown",
   "metadata": {},
   "source": [
    "-------------------------"
   ]
  },
  {
   "cell_type": "markdown",
   "metadata": {},
   "source": [
    "### DC\n",
    "**base_xwalk_blk1990_blk2010**"
   ]
  },
  {
   "cell_type": "code",
   "execution_count": null,
   "metadata": {},
   "outputs": [],
   "source": [
    "#ix1, ix2 = 688, 692\n",
    "\n",
    "#knw_str_vals = numpy.array(\n",
    "#    [\n",
    "#        [\"G11000105000050000009806989999999884011\", \"G1100010009811\"],\n",
    "#        [\"G11000105000050000009806989999999884012\", \"G1100010009810\"],\n",
    "#        [\"G11000105000050000009806989999999884012\", \"G1100010009811\"],\n",
    "#        [\"G11000105000050000009807989999999884011\", \"G1100010009807\"],\n",
    "#    ]\n",
    "#)\n",
    "#knw_num_vals = numpy.array(\n",
    "#    [\n",
    "#        [1.0, 1.0, 1.0, 1.0],\n",
    "#        [0.41477113, 0.41545353, 0.39687267, 0.39506995],\n",
    "#        [0.58522887, 0.58454647, 0.60312733, 0.60493005],\n",
    "#        [1.0, 1.0, 1.0, 1.0],\n",
    "#    ]\n",
    "#)\n",
    "#obs_xwalk = nhgisxwalk.GeoCrossWalk(\n",
    "#    base_xwalk_blk1990_blk2010,\n",
    "#    source_year=_90,\n",
    "#    target_year=_10,\n",
    "#    source_geo=bgp,\n",
    "#    target_geo=trt,\n",
    "#    base_source_table=tab_data_path_1990,\n",
    "#    input_var=input_vars_1990,\n",
    "#    weight_var=input_var_tags,\n",
    "#)\n",
    "#ix1, ix2 = 688, 692\n",
    "#id_cols = [\"bgp1990\", \"trt2010\"]\n",
    "#obs_str_vals = obs_xwalk.xwalk[id_cols][ix1:ix2].values\n",
    "#wgt_cols = [\"wt_pop\", \"wt_fam\", \"wt_hh\", \"wt_hu\"]\n",
    "#obs_num_vals = obs_xwalk.xwalk[wgt_cols][ix1:ix2].values\n",
    "#numpy.testing.assert_equal(knw_str_vals, obs_str_vals)\n",
    "#numpy.testing.assert_allclose(knw_num_vals, obs_num_vals)"
   ]
  },
  {
   "cell_type": "markdown",
   "metadata": {},
   "source": [
    "**base_xwalk_blk2000_blk2010**"
   ]
  },
  {
   "cell_type": "code",
   "execution_count": null,
   "metadata": {},
   "outputs": [],
   "source": [
    "#ix1, ix2 = 677, 681\n",
    "\n",
    "#knw_str_vals = numpy.array(\n",
    "#    [\n",
    "#        [\"G1101050000500009806R2\", \"G1100010009810\"],\n",
    "#        [\"G1101050000500009806U1\", \"G1100010009811\"],\n",
    "#        [\"G1101050000500009806U2\", \"G1100010009810\"],\n",
    "#        [\"G1101050000500009806U2\", \"G1100010009811\"],\n",
    "#    ]\n",
    "#)\n",
    "#knw_num_vals = numpy.array(\n",
    "#    [\n",
    "#        [0.0, 0.0, 0.0, 0.0],\n",
    "#        [1.0, 1.0, 1.0, 1.0],\n",
    "#        [0.4234478601567, 0.4310747663551, 0.404344193817, 0.4043715846994],\n",
    "#        [0.5765521398432, 0.5689252336448, 0.595655806182, 0.5956284153005],\n",
    "#    ]\n",
    "#)\n",
    "#obs_xwalk = nhgisxwalk.GeoCrossWalk(\n",
    "#    base_xwalk_blk2000_blk2010,\n",
    "#    source_year=_00,\n",
    "#    target_year=_10,\n",
    "#    source_geo=bgp,\n",
    "#    target_geo=trt,\n",
    "#    base_source_table=tab_data_path_2000,\n",
    "#    input_var=input_vars_2000_SF1b,\n",
    "#    weight_var=input_var_tags,\n",
    "#)\n",
    "#ix1, ix2 = 677, 681\n",
    "#id_cols = [\"bgp2000\", \"trt2010\"]\n",
    "#obs_str_vals = obs_xwalk.xwalk[id_cols][ix1:ix2].values\n",
    "#wgt_cols = [\"wt_pop\", \"wt_fam\", \"wt_hh\", \"wt_hu\"]\n",
    "#obs_num_vals = obs_xwalk.xwalk[wgt_cols][ix1:ix2].values\n",
    "#numpy.testing.assert_equal(knw_str_vals, obs_str_vals)\n",
    "#numpy.testing.assert_allclose(knw_num_vals, obs_num_vals)"
   ]
  },
  {
   "cell_type": "code",
   "execution_count": null,
   "metadata": {},
   "outputs": [],
   "source": []
  },
  {
   "cell_type": "markdown",
   "metadata": {},
   "source": [
    "### Wyoming\n",
    "**base_xwalk_blk1990_blk2010**"
   ]
  },
  {
   "cell_type": "code",
   "execution_count": null,
   "metadata": {},
   "outputs": [],
   "source": []
  },
  {
   "cell_type": "markdown",
   "metadata": {},
   "source": [
    "**base_xwalk_blk2000_blk2010**"
   ]
  },
  {
   "cell_type": "code",
   "execution_count": null,
   "metadata": {},
   "outputs": [],
   "source": []
  },
  {
   "cell_type": "code",
   "execution_count": null,
   "metadata": {},
   "outputs": [],
   "source": []
  },
  {
   "cell_type": "code",
   "execution_count": null,
   "metadata": {},
   "outputs": [],
   "source": []
  },
  {
   "cell_type": "code",
   "execution_count": null,
   "metadata": {},
   "outputs": [],
   "source": []
  },
  {
   "cell_type": "code",
   "execution_count": null,
   "metadata": {},
   "outputs": [],
   "source": []
  },
  {
   "cell_type": "markdown",
   "metadata": {},
   "source": [
    "-----------------"
   ]
  }
 ],
 "metadata": {
  "_draft": {
   "nbviewer_url": "https://gist.github.com/9f47e4ec2cc37bce83acf20abfca69d2"
  },
  "gist": {
   "data": {
    "description": "sample-workflow.ipynb",
    "public": true
   },
   "id": "9f47e4ec2cc37bce83acf20abfca69d2"
  },
  "kernelspec": {
   "display_name": "Python [conda env:nhgis_env]",
   "language": "python",
   "name": "conda-env-nhgis_env-py"
  },
  "language_info": {
   "codemirror_mode": {
    "name": "ipython",
    "version": 3
   },
   "file_extension": ".py",
   "mimetype": "text/x-python",
   "name": "python",
   "nbconvert_exporter": "python",
   "pygments_lexer": "ipython3",
   "version": "3.7.6"
  }
 },
 "nbformat": 4,
 "nbformat_minor": 4
}
