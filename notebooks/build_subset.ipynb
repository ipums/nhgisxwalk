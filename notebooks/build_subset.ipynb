{
 "cells": [
  {
   "cell_type": "markdown",
   "metadata": {},
   "source": [
    "# Generating Subsets for testing\n",
    "\n",
    "\n",
    "1. Create state-level subsets for NHGIS base crosswalks\n",
    "1. Create state-level subsets for NHGIS base tabular data\n",
    "1. Record unit tests values for posterity\n",
    "\n",
    "\n",
    "***This is currently only intended for use with block-level data.***\n",
    "\n",
    "\n",
    "**James Gaboardi** **(<jgaboardi@gmail.com>), 2020-05**"
   ]
  },
  {
   "cell_type": "code",
   "execution_count": null,
   "metadata": {
    "ExecuteTime": {
     "end_time": "2020-05-16T00:14:26.709199Z",
     "start_time": "2020-05-16T00:14:26.524794Z"
    }
   },
   "outputs": [],
   "source": [
    "%load_ext watermark\n",
    "%watermark"
   ]
  },
  {
   "cell_type": "code",
   "execution_count": null,
   "metadata": {
    "ExecuteTime": {
     "end_time": "2020-05-16T00:14:28.070577Z",
     "start_time": "2020-05-16T00:14:27.724288Z"
    }
   },
   "outputs": [],
   "source": [
    "import inspect\n",
    "import nhgisxwalk\n",
    "import numpy\n",
    "import pandas\n",
    "\n",
    "%load_ext autoreload\n",
    "%autoreload 2\n",
    "%watermark -w\n",
    "%watermark -iv"
   ]
  },
  {
   "cell_type": "code",
   "execution_count": null,
   "metadata": {
    "ExecuteTime": {
     "end_time": "2020-05-16T00:15:25.498538Z",
     "start_time": "2020-05-16T00:15:25.447810Z"
    }
   },
   "outputs": [],
   "source": [
    "def build_subset(\n",
    "    stfips,\n",
    "    src_year,\n",
    "    src_geog,\n",
    "    trg_year,\n",
    "    trg_geog,\n",
    "    tabular,\n",
    "    tabular_dir=\"\",\n",
    "    xwalk_dir=\"\",\n",
    "    code_type=\"GJOIN\",\n",
    "    out_dir=\"../testing_data_subsets\",\n",
    "    ur_path=None\n",
    "):\n",
    "    \"\"\"Create and write out state-level subsets for NHGIS base crosswalks\n",
    "    and the associated base tabular data. This is currently only intended\n",
    "    for use with block-level data.\n",
    "    \n",
    "    Parameters\n",
    "    ----------\n",
    "    \n",
    "    stfips : str\n",
    "        State FIPS code for subset (target year)\n",
    "        \n",
    "    src_year : str\n",
    "        Source year.\n",
    "    \n",
    "    src_geog : str\n",
    "        Source geography.\n",
    "    \n",
    "    trg_year : str\n",
    "        Target year.\n",
    "    \n",
    "    trg_geog : str\n",
    "        Target geography.\n",
    "    \n",
    "    tabular : str\n",
    "        Tabular geography type (as a base for file name).\n",
    "    \n",
    "    tabular_dir : str\n",
    "        Path to the tabular geography file. Default is ''.\n",
    "    \n",
    "    xwalk_dir : str\n",
    "        Path to the crosswalk file. Default is ''.\n",
    "    \n",
    "    code_type : str\n",
    "        Code type/format. Default is 'GJOIN'.\n",
    "    \n",
    "    out_dir : str\n",
    "        Default is '../testing_data_subsets'.\n",
    "    \n",
    "    ur_path : str\n",
    "        Path to Urban/Rural code data for 2000 blocks.\n",
    "    \n",
    "    Returns\n",
    "    -------\n",
    "    \n",
    "    xwalk : pandas.DataFrame\n",
    "        Subset of the base crosswalk.\n",
    "    \n",
    "    tab : pandas.DataFrame\n",
    "        Subset of the base tabular data.\n",
    "    \n",
    "    \"\"\"\n",
    "    \n",
    "    def blk_id(df, order, cname=\"GISJOIN\", tzero=[\"STATE\", \"COUNTY\"]):\n",
    "        \"\"\"Recreate BLK GISJOIN ---- Used to extract 2000 block UR codes.\"\"\"\n",
    "        def _gjoin(x):\n",
    "            join_id_vals = []\n",
    "            for o in order:\n",
    "                _id_val = getattr(x, o)\n",
    "                if o in tzero:\n",
    "                    _id_val += \"0\"\n",
    "                join_id_vals.append(_id_val)\n",
    "            id_str = \"\".join(join_id_vals)\n",
    "            id_str = \"G\" + id_str\n",
    "            return id_str\n",
    "        df[cname] = [_gjoin(record) for record in df.itertuples()]\n",
    "        return df\n",
    "    \n",
    "    # 1. read in base_xwalk\n",
    "    src_col = \"%s%s\" % (code_type, src_year)\n",
    "    trg_col = \"%s%s\" % (code_type, trg_year)\n",
    "    dtype = {c:str for c in [src_col, trg_col]}\n",
    "    ct = code_type.lower()[:2]\n",
    "    xwalk_base_name = \"/nhgis_%s%s_%s%s_%s.csv.zip\"\n",
    "    f_xwalk = xwalk_base_name % (src_geog, src_year, trg_geog, trg_year, ct)\n",
    "    xwalk = pandas.read_csv(xwalk_dir+f_xwalk, index_col=0, dtype=dtype)\n",
    "    \n",
    "    # 2. create temp column in base_xwalk for trg_year, stfips\n",
    "    temp_col = \"state%s\" % trg_year\n",
    "    xwalk[temp_col] = xwalk[trg_col].map(lambda x: x[1:3])\n",
    "    \n",
    "    # 3. subset base_xwalk, remove temp column, reset index, and write out\n",
    "    xwalk = xwalk[xwalk[temp_col] == stfips]\n",
    "    xwalk = xwalk[xwalk.columns[:-1]]\n",
    "    xwalk.reset_index(inplace=True, drop=True)\n",
    "    xwalk.to_csv(out_dir+f_xwalk)\n",
    "    \n",
    "    # 4. read in base_tabular\n",
    "    dtype = [\"GISJOIN\", \"YEAR\", \"STATE\", \"STATEA\", \"COUNTY\", \"COUNTYA\"]\n",
    "    dtype += [\"CTY_SUB\", \"CTY_SUBA\", \"PLACE\", \"PLACEA\", \"TRACTA\"]\n",
    "    dtype += [\"BLCK_GRPA\", \"AIANHHA\", \"URBRURALA\", \"NAME\"]\n",
    "    dtype = {c:str for c in dtype}\n",
    "    f_tab = \"%s_%s\" % (src_year, tabular)\n",
    "    f_tab_in = \"/%s/%s.csv\" % (f_tab, f_tab)\n",
    "    tab = pandas.read_csv(tabular_dir+f_tab_in, index_col=0, dtype=dtype)\n",
    "    \n",
    "    # 5. subset base_tabular by stfips and extract UR code for 2000 blocks\n",
    "    tab = tab[tab[\"STATEA\"] == stfips]\n",
    "    if src_year == \"2000\" and ur_path:\n",
    "        # Special case for 2000 blocks (of 2000 bgp)-- needs Urban/Rural code\n",
    "        # For more details see:\n",
    "        # https://gist.github.com/jGaboardi/36c7640af1f228cdc8a691505262e543\n",
    "        ur_df = pandas.read_csv(ur_path, index_col=0, dtype=str)\n",
    "        ur_df = ur_df[ur_df[\"STATE\"] == stfips]\n",
    "        blk_cols = [\"STATE\", \"COUNTY\", \"TRACT\", \"BLOCK\"]\n",
    "        ur_df = blk_id(ur_df, blk_cols)\n",
    "        tab[\"URBRURALA\"] = tab.index.map(dict(ur_df[[\"GISJOIN\", \"UR\"]].values))\n",
    "        # reorder columns\n",
    "        cols = tab.columns\n",
    "        reorder_cols = list(cols[:11]) + list(cols[-1:]) + list(cols[11:-1])\n",
    "        tab = tab[reorder_cols]\n",
    "        \n",
    "    # 6. write out\n",
    "    tab.to_csv(\"%s/%s.csv.zip\"%(out_dir,f_tab))\n",
    "    \n",
    "    return xwalk, tab"
   ]
  },
  {
   "cell_type": "markdown",
   "metadata": {},
   "source": [
    "## Generate subset"
   ]
  },
  {
   "cell_type": "code",
   "execution_count": null,
   "metadata": {
    "ExecuteTime": {
     "end_time": "2020-05-16T00:15:26.889025Z",
     "start_time": "2020-05-16T00:15:26.862389Z"
    }
   },
   "outputs": [],
   "source": [
    "subset_state = \"10\" # Delaware\n",
    "#subset_state = \"11\" # DC\n",
    "#subset_state = \"56\" # Wyoming\n",
    "\n",
    "#source_year, target_year = \"1990\", \"2010\"\n",
    "source_year, target_year = \"2000\", \"2010\""
   ]
  },
  {
   "cell_type": "code",
   "execution_count": null,
   "metadata": {
    "ExecuteTime": {
     "end_time": "2020-05-16T00:16:22.536074Z",
     "start_time": "2020-05-16T00:15:29.130486Z"
    }
   },
   "outputs": [],
   "source": [
    "if source_year == \"1990\" or target_year == \"1990\":\n",
    "    xwalk_df, tab_df = build_subset(\n",
    "        subset_state,\n",
    "        source_year,\n",
    "        \"blk\",\n",
    "        target_year,\n",
    "        \"blk\",\n",
    "        \"block\",\n",
    "        tabular_dir=\"../../tabular_data\",\n",
    "        xwalk_dir=\"../../crosswalks\"\n",
    "    )\n",
    "if source_year == \"2000\" or target_year == \"2000\":\n",
    "    xwalk_df, tab_df = build_subset(\n",
    "        subset_state,\n",
    "        source_year,\n",
    "        \"blk\",\n",
    "        target_year,\n",
    "        \"blk\",\n",
    "        \"block\",\n",
    "        tabular_dir=\"../../tabular_data\",\n",
    "        xwalk_dir=\"../../crosswalks\",\n",
    "        ur_path=\"../../missing_UR_codes/2000_block_UR.csv.zip\"\n",
    "    )"
   ]
  },
  {
   "cell_type": "code",
   "execution_count": null,
   "metadata": {
    "ExecuteTime": {
     "end_time": "2020-05-16T00:16:22.628646Z",
     "start_time": "2020-05-16T00:16:22.538822Z"
    }
   },
   "outputs": [],
   "source": [
    "xwalk_df.head()"
   ]
  },
  {
   "cell_type": "code",
   "execution_count": null,
   "metadata": {
    "ExecuteTime": {
     "end_time": "2020-05-16T00:16:22.752789Z",
     "start_time": "2020-05-16T00:16:22.641191Z"
    }
   },
   "outputs": [],
   "source": [
    "tab_df.head()"
   ]
  },
  {
   "cell_type": "markdown",
   "metadata": {},
   "source": [
    "## Test crosswalk build with generated subset"
   ]
  },
  {
   "cell_type": "code",
   "execution_count": null,
   "metadata": {
    "ExecuteTime": {
     "end_time": "2020-05-16T00:16:32.780221Z",
     "start_time": "2020-05-16T00:16:32.705142Z"
    }
   },
   "outputs": [],
   "source": [
    "subset_data_dir = \"../testing_data_subsets\"\n",
    "base_xwalk_name = \"/nhgis_blk%s_blk%s_gj.csv.zip\" % (source_year, target_year)\n",
    "base_xwalk_file = subset_data_dir + base_xwalk_name\n",
    "data_types = nhgisxwalk.str_types([\"GJOIN%s\"%source_year, \"GJOIN%s\"%target_year])\n",
    "base_xwalk = pandas.read_csv(base_xwalk_file, index_col=0, dtype=data_types)\n",
    "base_xwalk.head()"
   ]
  },
  {
   "cell_type": "code",
   "execution_count": null,
   "metadata": {
    "ExecuteTime": {
     "end_time": "2020-05-16T00:16:33.982806Z",
     "start_time": "2020-05-16T00:16:33.948036Z"
    }
   },
   "outputs": [],
   "source": [
    "#invc = nhgisxwalk.desc_code_1990\n",
    "invc = nhgisxwalk.desc_code_2000_SF1b\n",
    "\n",
    "input_var_names = [\"Persons\", \"Families\", \"Households\", \"Housing Units\"]\n",
    "input_var_codes = [invc[name][\"Total\"] for name in input_var_names]\n",
    "input_var_codes"
   ]
  },
  {
   "cell_type": "code",
   "execution_count": null,
   "metadata": {
    "ExecuteTime": {
     "end_time": "2020-05-16T00:16:35.744994Z",
     "start_time": "2020-05-16T00:16:35.707064Z"
    }
   },
   "outputs": [],
   "source": [
    "input_var_tags = [\"pop\", \"fam\", \"hh\", \"hu\"]"
   ]
  },
  {
   "cell_type": "code",
   "execution_count": null,
   "metadata": {
    "ExecuteTime": {
     "end_time": "2020-05-16T00:17:20.081705Z",
     "start_time": "2020-05-16T00:17:19.209377Z"
    }
   },
   "outputs": [],
   "source": [
    "'''\n",
    "bgp1990_to_trt2010 = nhgisxwalk.GeoCrossWalk(\n",
    "    base_xwalk,\n",
    "    source_year=source_year,\n",
    "    target_year=target_year,\n",
    "    source_geo=\"bgp\",\n",
    "    target_geo=\"trt\",\n",
    "    base_source_table=subset_data_dir+\"/1990_block.csv.zip\",\n",
    "    input_var=input_var_codes,\n",
    "    weight_var=input_var_tags,\n",
    "    stfips=subset_state\n",
    ")\n",
    "'''\n",
    "\n",
    "bgp2000_to_trt2010 = nhgisxwalk.GeoCrossWalk(\n",
    "    base_xwalk,\n",
    "    source_year=source_year,\n",
    "    target_year=target_year,\n",
    "    source_geo=\"bgp\",\n",
    "    target_geo=\"trt\",\n",
    "    base_source_table=subset_data_dir+\"/2000_block.csv.zip\",\n",
    "    input_var=input_var_codes,\n",
    "    weight_var=input_var_tags,\n",
    "    stfips=subset_state\n",
    ")"
   ]
  },
  {
   "cell_type": "markdown",
   "metadata": {},
   "source": [
    "-----------------------\n",
    "\n",
    "## Data for unittests and doctests\n",
    "### Delaware\n",
    "**base_xwalk_blk1990_blk2010**"
   ]
  },
  {
   "cell_type": "code",
   "execution_count": null,
   "metadata": {
    "ExecuteTime": {
     "end_time": "2020-05-16T00:20:39.464991Z",
     "start_time": "2020-05-16T00:20:39.440007Z"
    }
   },
   "outputs": [],
   "source": [
    "wgt_cols = [\"wt_pop\", \"wt_fam\", \"wt_hh\", \"wt_hu\"]\n",
    "id_cols = [\"bgp2000\", \"trt2010\"]"
   ]
  },
  {
   "cell_type": "code",
   "execution_count": null,
   "metadata": {
    "ExecuteTime": {
     "end_time": "2020-05-16T00:20:39.748362Z",
     "start_time": "2020-05-16T00:20:39.709932Z"
    }
   },
   "outputs": [],
   "source": [
    "#ix1, ix2 = 677, 681\n",
    "\n",
    "#ix1, ix2 = 1025, 1029 # bgp1990_to_trt2010\n",
    "#bgp1990_to_trt2010.xwalk[ix1:ix2]"
   ]
  },
  {
   "cell_type": "markdown",
   "metadata": {},
   "source": [
    "**base_xwalk_blk2000_blk2010**"
   ]
  },
  {
   "cell_type": "code",
   "execution_count": null,
   "metadata": {
    "ExecuteTime": {
     "end_time": "2020-05-16T00:34:35.903447Z",
     "start_time": "2020-05-16T00:34:35.869287Z"
    }
   },
   "outputs": [],
   "source": [
    "bgp2000_to_trt2010.xwalk.head()"
   ]
  },
  {
   "cell_type": "code",
   "execution_count": null,
   "metadata": {
    "ExecuteTime": {
     "end_time": "2020-05-16T00:20:42.489065Z",
     "start_time": "2020-05-16T00:20:42.449364Z"
    }
   },
   "outputs": [],
   "source": [
    "ix1, ix2 = 1025, 1029 # bgp2000_to_trt2010\n",
    "bgp2000_to_trt2010.xwalk[ix1:ix2]"
   ]
  },
  {
   "cell_type": "code",
   "execution_count": null,
   "metadata": {},
   "outputs": [],
   "source": [
    "#bgp2000_to_trt2010.xwalk[id_cols][ix1:ix2].values"
   ]
  },
  {
   "cell_type": "code",
   "execution_count": null,
   "metadata": {
    "ExecuteTime": {
     "end_time": "2020-05-16T00:25:26.233546Z",
     "start_time": "2020-05-16T00:25:26.203751Z"
    }
   },
   "outputs": [],
   "source": [
    "knw_str_vals = numpy.array(\n",
    "    [\n",
    "        [\"G10000509355299999051303U1\", \"G1000050051303\"],\n",
    "        [\"G10000509355299999051304R1\", \"G1000050051305\"],\n",
    "        [\"G10000509355299999051304R1\", \"G1000050051306\"],\n",
    "        [\"G10000509355299999051304R1\", \"G1000050051400\"]\n",
    "    ]\n",
    ")\n",
    "knw_str_vals"
   ]
  },
  {
   "cell_type": "code",
   "execution_count": null,
   "metadata": {
    "ExecuteTime": {
     "end_time": "2020-05-16T00:28:20.641190Z",
     "start_time": "2020-05-16T00:28:20.612509Z"
    }
   },
   "outputs": [],
   "source": [
    "numpy.equal(\n",
    "    bgp2000_to_trt2010.xwalk[id_cols][ix1:ix2].values,\n",
    "    knw_str_vals\n",
    ").all()"
   ]
  },
  {
   "cell_type": "code",
   "execution_count": null,
   "metadata": {
    "ExecuteTime": {
     "end_time": "2020-05-16T00:25:21.854565Z",
     "start_time": "2020-05-16T00:25:21.829218Z"
    }
   },
   "outputs": [],
   "source": [
    "#bgp2000_to_trt2010.xwalk[wgt_cols][ix1:ix2].values"
   ]
  },
  {
   "cell_type": "code",
   "execution_count": null,
   "metadata": {
    "ExecuteTime": {
     "end_time": "2020-05-16T00:25:23.304966Z",
     "start_time": "2020-05-16T00:25:23.273848Z"
    }
   },
   "outputs": [],
   "source": [
    "knw_num_vals = numpy.array(\n",
    "    [\n",
    "        [1.00000000e+00, 1.00000000e+00, 1.00000000e+00, 1.00000000e+00],\n",
    "        [6.80605382e-01, 6.33909150e-01, 6.57366450e-01, 6.59501671e-01],\n",
    "        [3.19167389e-01, 3.65781711e-01, 3.42281879e-01, 3.40110906e-01],\n",
    "        [2.27229039e-04, 3.09138740e-04, 3.51671251e-04, 3.87423412e-04]\n",
    "    ]\n",
    ")\n",
    "knw_num_vals"
   ]
  },
  {
   "cell_type": "code",
   "execution_count": null,
   "metadata": {
    "ExecuteTime": {
     "end_time": "2020-05-16T00:27:16.757833Z",
     "start_time": "2020-05-16T00:27:16.726311Z"
    }
   },
   "outputs": [],
   "source": [
    "numpy.allclose(\n",
    "    bgp2000_to_trt2010.xwalk[wgt_cols][ix1:ix2].values,\n",
    "    knw_num_vals\n",
    ")"
   ]
  },
  {
   "cell_type": "markdown",
   "metadata": {},
   "source": [
    "-------------------------"
   ]
  },
  {
   "cell_type": "markdown",
   "metadata": {},
   "source": [
    "### DC\n",
    "**base_xwalk_blk1990_blk2010**"
   ]
  },
  {
   "cell_type": "code",
   "execution_count": null,
   "metadata": {},
   "outputs": [],
   "source": [
    "#ix1, ix2 = 688, 692\n",
    "\n",
    "#knw_str_vals = numpy.array(\n",
    "#    [\n",
    "#        [\"G11000105000050000009806989999999884011\", \"G1100010009811\"],\n",
    "#        [\"G11000105000050000009806989999999884012\", \"G1100010009810\"],\n",
    "#        [\"G11000105000050000009806989999999884012\", \"G1100010009811\"],\n",
    "#        [\"G11000105000050000009807989999999884011\", \"G1100010009807\"],\n",
    "#    ]\n",
    "#)\n",
    "#knw_num_vals = numpy.array(\n",
    "#    [\n",
    "#        [1.0, 1.0, 1.0, 1.0],\n",
    "#        [0.41477113, 0.41545353, 0.39687267, 0.39506995],\n",
    "#        [0.58522887, 0.58454647, 0.60312733, 0.60493005],\n",
    "#        [1.0, 1.0, 1.0, 1.0],\n",
    "#    ]\n",
    "#)\n",
    "#obs_xwalk = nhgisxwalk.GeoCrossWalk(\n",
    "#    base_xwalk_blk1990_blk2010,\n",
    "#    source_year=_90,\n",
    "#    target_year=_10,\n",
    "#    source_geo=bgp,\n",
    "#    target_geo=trt,\n",
    "#    base_source_table=tab_data_path_1990,\n",
    "#    input_var=input_vars_1990,\n",
    "#    weight_var=input_var_tags,\n",
    "#)\n",
    "#ix1, ix2 = 688, 692\n",
    "#id_cols = [\"bgp1990\", \"trt2010\"]\n",
    "#obs_str_vals = obs_xwalk.xwalk[id_cols][ix1:ix2].values\n",
    "#wgt_cols = [\"wt_pop\", \"wt_fam\", \"wt_hh\", \"wt_hu\"]\n",
    "#obs_num_vals = obs_xwalk.xwalk[wgt_cols][ix1:ix2].values\n",
    "#numpy.testing.assert_equal(knw_str_vals, obs_str_vals)\n",
    "#numpy.testing.assert_allclose(knw_num_vals, obs_num_vals)"
   ]
  },
  {
   "cell_type": "markdown",
   "metadata": {},
   "source": [
    "**base_xwalk_blk2000_blk2010**"
   ]
  },
  {
   "cell_type": "code",
   "execution_count": null,
   "metadata": {},
   "outputs": [],
   "source": [
    "#ix1, ix2 = 677, 681\n",
    "\n",
    "#knw_str_vals = numpy.array(\n",
    "#    [\n",
    "#        [\"G1101050000500009806R2\", \"G1100010009810\"],\n",
    "#        [\"G1101050000500009806U1\", \"G1100010009811\"],\n",
    "#        [\"G1101050000500009806U2\", \"G1100010009810\"],\n",
    "#        [\"G1101050000500009806U2\", \"G1100010009811\"],\n",
    "#    ]\n",
    "#)\n",
    "#knw_num_vals = numpy.array(\n",
    "#    [\n",
    "#        [0.0, 0.0, 0.0, 0.0],\n",
    "#        [1.0, 1.0, 1.0, 1.0],\n",
    "#        [0.4234478601567, 0.4310747663551, 0.404344193817, 0.4043715846994],\n",
    "#        [0.5765521398432, 0.5689252336448, 0.595655806182, 0.5956284153005],\n",
    "#    ]\n",
    "#)\n",
    "#obs_xwalk = nhgisxwalk.GeoCrossWalk(\n",
    "#    base_xwalk_blk2000_blk2010,\n",
    "#    source_year=_00,\n",
    "#    target_year=_10,\n",
    "#    source_geo=bgp,\n",
    "#    target_geo=trt,\n",
    "#    base_source_table=tab_data_path_2000,\n",
    "#    input_var=input_vars_2000_SF1b,\n",
    "#    weight_var=input_var_tags,\n",
    "#)\n",
    "#ix1, ix2 = 677, 681\n",
    "#id_cols = [\"bgp2000\", \"trt2010\"]\n",
    "#obs_str_vals = obs_xwalk.xwalk[id_cols][ix1:ix2].values\n",
    "#wgt_cols = [\"wt_pop\", \"wt_fam\", \"wt_hh\", \"wt_hu\"]\n",
    "#obs_num_vals = obs_xwalk.xwalk[wgt_cols][ix1:ix2].values\n",
    "#numpy.testing.assert_equal(knw_str_vals, obs_str_vals)\n",
    "#numpy.testing.assert_allclose(knw_num_vals, obs_num_vals)"
   ]
  },
  {
   "cell_type": "code",
   "execution_count": null,
   "metadata": {},
   "outputs": [],
   "source": []
  },
  {
   "cell_type": "markdown",
   "metadata": {},
   "source": [
    "### Wyoming\n",
    "**base_xwalk_blk1990_blk2010**"
   ]
  },
  {
   "cell_type": "code",
   "execution_count": null,
   "metadata": {},
   "outputs": [],
   "source": []
  },
  {
   "cell_type": "markdown",
   "metadata": {},
   "source": [
    "**base_xwalk_blk2000_blk2010**"
   ]
  },
  {
   "cell_type": "code",
   "execution_count": null,
   "metadata": {},
   "outputs": [],
   "source": []
  },
  {
   "cell_type": "code",
   "execution_count": null,
   "metadata": {},
   "outputs": [],
   "source": []
  },
  {
   "cell_type": "code",
   "execution_count": null,
   "metadata": {},
   "outputs": [],
   "source": []
  },
  {
   "cell_type": "code",
   "execution_count": null,
   "metadata": {},
   "outputs": [],
   "source": []
  },
  {
   "cell_type": "code",
   "execution_count": null,
   "metadata": {},
   "outputs": [],
   "source": []
  },
  {
   "cell_type": "markdown",
   "metadata": {},
   "source": [
    "-----------------"
   ]
  }
 ],
 "metadata": {
  "_draft": {
   "nbviewer_url": "https://gist.github.com/9f47e4ec2cc37bce83acf20abfca69d2"
  },
  "gist": {
   "data": {
    "description": "sample-workflow.ipynb",
    "public": true
   },
   "id": "9f47e4ec2cc37bce83acf20abfca69d2"
  },
  "kernelspec": {
   "display_name": "Python [conda env:nhgis_env]",
   "language": "python",
   "name": "conda-env-nhgis_env-py"
  },
  "language_info": {
   "codemirror_mode": {
    "name": "ipython",
    "version": 3
   },
   "file_extension": ".py",
   "mimetype": "text/x-python",
   "name": "python",
   "nbconvert_exporter": "python",
   "pygments_lexer": "ipython3",
   "version": "3.7.6"
  }
 },
 "nbformat": 4,
 "nbformat_minor": 4
}
