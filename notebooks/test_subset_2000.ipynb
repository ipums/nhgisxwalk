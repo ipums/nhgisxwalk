{
 "cells": [
  {
   "cell_type": "markdown",
   "metadata": {},
   "source": [
    "# Test Subsets for testing: 2000\n",
    "##  blocks, block groups parts, and blocks\n",
    "\n",
    "\n",
    "1. From a national crosswalk: \n",
    " 1. Create target state-level subsets for NHGIS base crosswalks\n",
    " 1. Create target state-level subsets for NHGIS base tabular data\n",
    " 1. Record unit tests values for posterity\n",
    "\n",
    "\n",
    "\n",
    "**This is currently only intended for use with block-level data as base units.**\n",
    "\n",
    "\n",
    "**James Gaboardi** **(<jgaboardi@gmail.com>), 2020-05**"
   ]
  },
  {
   "cell_type": "code",
   "execution_count": 1,
   "metadata": {
    "ExecuteTime": {
     "end_time": "2020-07-29T20:10:24.109063Z",
     "start_time": "2020-07-29T20:10:24.091244Z"
    }
   },
   "outputs": [
    {
     "name": "stdout",
     "output_type": "stream",
     "text": [
      "2020-07-29T16:10:24-04:00\n",
      "\n",
      "CPython 3.7.6\n",
      "IPython 7.15.0\n",
      "\n",
      "compiler   : Clang 9.0.1 \n",
      "system     : Darwin\n",
      "release    : 19.6.0\n",
      "machine    : x86_64\n",
      "processor  : i386\n",
      "CPU cores  : 8\n",
      "interpreter: 64bit\n"
     ]
    }
   ],
   "source": [
    "%load_ext watermark\n",
    "%watermark"
   ]
  },
  {
   "cell_type": "code",
   "execution_count": 2,
   "metadata": {
    "ExecuteTime": {
     "end_time": "2020-07-29T20:10:24.356453Z",
     "start_time": "2020-07-29T20:10:24.111172Z"
    }
   },
   "outputs": [
    {
     "name": "stdout",
     "output_type": "stream",
     "text": [
      "watermark 2.0.2\n",
      "nhgisxwalk 0.0.6\n",
      "pandas     1.0.4\n",
      "numpy      1.18.5\n",
      "\n"
     ]
    }
   ],
   "source": [
    "import inspect\n",
    "import nhgisxwalk\n",
    "import numpy\n",
    "import pandas\n",
    "\n",
    "%load_ext autoreload\n",
    "%autoreload 2\n",
    "%watermark -w\n",
    "%watermark -iv"
   ]
  },
  {
   "cell_type": "markdown",
   "metadata": {},
   "source": [
    "### Set the state (for subsetting), source & target, and year & geography"
   ]
  },
  {
   "cell_type": "code",
   "execution_count": 3,
   "metadata": {
    "ExecuteTime": {
     "end_time": "2020-07-29T20:10:24.377603Z",
     "start_time": "2020-07-29T20:10:24.359249Z"
    }
   },
   "outputs": [],
   "source": [
    "subset_state = \"10\"\n",
    "source_year, target_year = \"2000\", \"2010\"\n",
    "gj_src, gj_trg = \"GJOIN%s\"%source_year, \"GJOIN%s\"%target_year"
   ]
  },
  {
   "cell_type": "markdown",
   "metadata": {},
   "source": [
    "### Set the base-level crosswalk file name"
   ]
  },
  {
   "cell_type": "code",
   "execution_count": 4,
   "metadata": {
    "ExecuteTime": {
     "end_time": "2020-07-29T20:10:24.401120Z",
     "start_time": "2020-07-29T20:10:24.379505Z"
    }
   },
   "outputs": [
    {
     "data": {
      "text/plain": [
       "'../testing_data_subsets/nhgis_blk2000_blk2010_gj.zip'"
      ]
     },
     "execution_count": 4,
     "metadata": {},
     "output_type": "execute_result"
    }
   ],
   "source": [
    "base_xwalk_name = \"nhgis_blk%s_blk%s_gj.zip\" % (source_year, target_year)\n",
    "base_xwalk_file = \"../testing_data_subsets/%s\" % base_xwalk_name\n",
    "base_xwalk_file"
   ]
  },
  {
   "cell_type": "markdown",
   "metadata": {},
   "source": [
    "### Set the base (source) summary file name"
   ]
  },
  {
   "cell_type": "code",
   "execution_count": 5,
   "metadata": {
    "ExecuteTime": {
     "end_time": "2020-07-29T20:10:24.422079Z",
     "start_time": "2020-07-29T20:10:24.402566Z"
    }
   },
   "outputs": [
    {
     "data": {
      "text/plain": [
       "'../testing_data_subsets/2000_block.csv.zip'"
      ]
     },
     "execution_count": 5,
     "metadata": {},
     "output_type": "execute_result"
    }
   ],
   "source": [
    "base_source_name = \"%s_block.csv.zip\" % source_year\n",
    "base_source_file = \"../testing_data_subsets/%s\" % base_source_name\n",
    "base_source_file"
   ]
  },
  {
   "cell_type": "markdown",
   "metadata": {},
   "source": [
    "### Read in the national the base-level crosswalk"
   ]
  },
  {
   "cell_type": "code",
   "execution_count": 6,
   "metadata": {
    "ExecuteTime": {
     "end_time": "2020-07-29T20:10:24.485957Z",
     "start_time": "2020-07-29T20:10:24.423362Z"
    }
   },
   "outputs": [
    {
     "data": {
      "text/html": [
       "<div>\n",
       "<style scoped>\n",
       "    .dataframe tbody tr th:only-of-type {\n",
       "        vertical-align: middle;\n",
       "    }\n",
       "\n",
       "    .dataframe tbody tr th {\n",
       "        vertical-align: top;\n",
       "    }\n",
       "\n",
       "    .dataframe thead th {\n",
       "        text-align: right;\n",
       "    }\n",
       "</style>\n",
       "<table border=\"1\" class=\"dataframe\">\n",
       "  <thead>\n",
       "    <tr style=\"text-align: right;\">\n",
       "      <th></th>\n",
       "      <th>GJOIN2000</th>\n",
       "      <th>GJOIN2010</th>\n",
       "      <th>WEIGHT</th>\n",
       "      <th>PAREA</th>\n",
       "    </tr>\n",
       "  </thead>\n",
       "  <tbody>\n",
       "    <tr>\n",
       "      <th>0</th>\n",
       "      <td>G10000100401001000</td>\n",
       "      <td>G10000100401001000</td>\n",
       "      <td>1.000000</td>\n",
       "      <td>1.000000</td>\n",
       "    </tr>\n",
       "    <tr>\n",
       "      <th>1</th>\n",
       "      <td>G10000100401001001</td>\n",
       "      <td>G10000100401001001</td>\n",
       "      <td>0.999981</td>\n",
       "      <td>0.999988</td>\n",
       "    </tr>\n",
       "    <tr>\n",
       "      <th>2</th>\n",
       "      <td>G10000100401001001</td>\n",
       "      <td>G10000100401001003</td>\n",
       "      <td>0.000019</td>\n",
       "      <td>0.000012</td>\n",
       "    </tr>\n",
       "    <tr>\n",
       "      <th>3</th>\n",
       "      <td>G10000100401001002</td>\n",
       "      <td>G10000100401001002</td>\n",
       "      <td>1.000000</td>\n",
       "      <td>1.000000</td>\n",
       "    </tr>\n",
       "    <tr>\n",
       "      <th>4</th>\n",
       "      <td>G10000100401001003</td>\n",
       "      <td>G10000100401001003</td>\n",
       "      <td>1.000000</td>\n",
       "      <td>1.000000</td>\n",
       "    </tr>\n",
       "    <tr>\n",
       "      <th>...</th>\n",
       "      <td>...</td>\n",
       "      <td>...</td>\n",
       "      <td>...</td>\n",
       "      <td>...</td>\n",
       "    </tr>\n",
       "    <tr>\n",
       "      <th>28471</th>\n",
       "      <td>G10000500519002095</td>\n",
       "      <td>G10000500519002075</td>\n",
       "      <td>1.000000</td>\n",
       "      <td>1.000000</td>\n",
       "    </tr>\n",
       "    <tr>\n",
       "      <th>28472</th>\n",
       "      <td>G10000500519002096</td>\n",
       "      <td>G10000500519002131</td>\n",
       "      <td>1.000000</td>\n",
       "      <td>1.000000</td>\n",
       "    </tr>\n",
       "    <tr>\n",
       "      <th>28473</th>\n",
       "      <td>G10000500519002097</td>\n",
       "      <td>G10000500519002130</td>\n",
       "      <td>1.000000</td>\n",
       "      <td>1.000000</td>\n",
       "    </tr>\n",
       "    <tr>\n",
       "      <th>28474</th>\n",
       "      <td>G10000500519002098</td>\n",
       "      <td>G10000500519002079</td>\n",
       "      <td>1.000000</td>\n",
       "      <td>1.000000</td>\n",
       "    </tr>\n",
       "    <tr>\n",
       "      <th>28475</th>\n",
       "      <td>G34003300204002001</td>\n",
       "      <td>G10000309901000007</td>\n",
       "      <td>0.000000</td>\n",
       "      <td>0.000000</td>\n",
       "    </tr>\n",
       "  </tbody>\n",
       "</table>\n",
       "<p>28476 rows × 4 columns</p>\n",
       "</div>"
      ],
      "text/plain": [
       "                GJOIN2000           GJOIN2010    WEIGHT     PAREA\n",
       "0      G10000100401001000  G10000100401001000  1.000000  1.000000\n",
       "1      G10000100401001001  G10000100401001001  0.999981  0.999988\n",
       "2      G10000100401001001  G10000100401001003  0.000019  0.000012\n",
       "3      G10000100401001002  G10000100401001002  1.000000  1.000000\n",
       "4      G10000100401001003  G10000100401001003  1.000000  1.000000\n",
       "...                   ...                 ...       ...       ...\n",
       "28471  G10000500519002095  G10000500519002075  1.000000  1.000000\n",
       "28472  G10000500519002096  G10000500519002131  1.000000  1.000000\n",
       "28473  G10000500519002097  G10000500519002130  1.000000  1.000000\n",
       "28474  G10000500519002098  G10000500519002079  1.000000  1.000000\n",
       "28475  G34003300204002001  G10000309901000007  0.000000  0.000000\n",
       "\n",
       "[28476 rows x 4 columns]"
      ]
     },
     "execution_count": 6,
     "metadata": {},
     "output_type": "execute_result"
    }
   ],
   "source": [
    "data_types = nhgisxwalk.str_types([gj_src, gj_trg])\n",
    "base_xwalk = pandas.read_csv(base_xwalk_file, index_col=0, dtype=data_types)\n",
    "base_xwalk"
   ]
  },
  {
   "cell_type": "code",
   "execution_count": 7,
   "metadata": {
    "ExecuteTime": {
     "end_time": "2020-07-29T20:10:24.510337Z",
     "start_time": "2020-07-29T20:10:24.487513Z"
    }
   },
   "outputs": [
    {
     "data": {
      "text/html": [
       "<div>\n",
       "<style scoped>\n",
       "    .dataframe tbody tr th:only-of-type {\n",
       "        vertical-align: middle;\n",
       "    }\n",
       "\n",
       "    .dataframe tbody tr th {\n",
       "        vertical-align: top;\n",
       "    }\n",
       "\n",
       "    .dataframe thead th {\n",
       "        text-align: right;\n",
       "    }\n",
       "</style>\n",
       "<table border=\"1\" class=\"dataframe\">\n",
       "  <thead>\n",
       "    <tr style=\"text-align: right;\">\n",
       "      <th></th>\n",
       "      <th>GJOIN2000</th>\n",
       "      <th>GJOIN2010</th>\n",
       "      <th>WEIGHT</th>\n",
       "      <th>PAREA</th>\n",
       "    </tr>\n",
       "  </thead>\n",
       "  <tbody>\n",
       "    <tr>\n",
       "      <th>0</th>\n",
       "      <td>G10000100401001000</td>\n",
       "      <td>G10000100401001000</td>\n",
       "      <td>1.000000</td>\n",
       "      <td>1.000000</td>\n",
       "    </tr>\n",
       "    <tr>\n",
       "      <th>1</th>\n",
       "      <td>G10000100401001001</td>\n",
       "      <td>G10000100401001001</td>\n",
       "      <td>0.999981</td>\n",
       "      <td>0.999988</td>\n",
       "    </tr>\n",
       "    <tr>\n",
       "      <th>2</th>\n",
       "      <td>G10000100401001001</td>\n",
       "      <td>G10000100401001003</td>\n",
       "      <td>0.000019</td>\n",
       "      <td>0.000012</td>\n",
       "    </tr>\n",
       "    <tr>\n",
       "      <th>3</th>\n",
       "      <td>G10000100401001002</td>\n",
       "      <td>G10000100401001002</td>\n",
       "      <td>1.000000</td>\n",
       "      <td>1.000000</td>\n",
       "    </tr>\n",
       "    <tr>\n",
       "      <th>4</th>\n",
       "      <td>G10000100401001003</td>\n",
       "      <td>G10000100401001003</td>\n",
       "      <td>1.000000</td>\n",
       "      <td>1.000000</td>\n",
       "    </tr>\n",
       "  </tbody>\n",
       "</table>\n",
       "</div>"
      ],
      "text/plain": [
       "            GJOIN2000           GJOIN2010    WEIGHT     PAREA\n",
       "0  G10000100401001000  G10000100401001000  1.000000  1.000000\n",
       "1  G10000100401001001  G10000100401001001  0.999981  0.999988\n",
       "2  G10000100401001001  G10000100401001003  0.000019  0.000012\n",
       "3  G10000100401001002  G10000100401001002  1.000000  1.000000\n",
       "4  G10000100401001003  G10000100401001003  1.000000  1.000000"
      ]
     },
     "execution_count": 7,
     "metadata": {},
     "output_type": "execute_result"
    }
   ],
   "source": [
    "base_xwalk.head()"
   ]
  },
  {
   "cell_type": "markdown",
   "metadata": {},
   "source": [
    "### Declare input variable\n",
    "**not needed for creating a subset perse, but should do regardless**"
   ]
  },
  {
   "cell_type": "code",
   "execution_count": 8,
   "metadata": {
    "ExecuteTime": {
     "end_time": "2020-07-29T20:10:24.533132Z",
     "start_time": "2020-07-29T20:10:24.513156Z"
    }
   },
   "outputs": [],
   "source": [
    "input_vars = [\n",
    "    nhgisxwalk.desc_code_2000_SF1b[\"Persons\"][\"Total\"],\n",
    "    nhgisxwalk.desc_code_2000_SF1b[\"Families\"][\"Total\"],\n",
    "    nhgisxwalk.desc_code_2000_SF1b[\"Households\"][\"Total\"],\n",
    "    nhgisxwalk.desc_code_2000_SF1b[\"Housing Units\"][\"Total\"]\n",
    "]\n",
    "input_var_tags = [\"pop\", \"fam\", \"hh\", \"hu\"]"
   ]
  },
  {
   "cell_type": "markdown",
   "metadata": {},
   "source": [
    "### Generate the desired crosswalk and subset down to the target state"
   ]
  },
  {
   "cell_type": "code",
   "execution_count": 9,
   "metadata": {
    "ExecuteTime": {
     "end_time": "2020-07-29T20:10:24.841269Z",
     "start_time": "2020-07-29T20:10:24.535031Z"
    }
   },
   "outputs": [
    {
     "data": {
      "text/html": [
       "<div>\n",
       "<style scoped>\n",
       "    .dataframe tbody tr th:only-of-type {\n",
       "        vertical-align: middle;\n",
       "    }\n",
       "\n",
       "    .dataframe tbody tr th {\n",
       "        vertical-align: top;\n",
       "    }\n",
       "\n",
       "    .dataframe thead th {\n",
       "        text-align: right;\n",
       "    }\n",
       "</style>\n",
       "<table border=\"1\" class=\"dataframe\">\n",
       "  <thead>\n",
       "    <tr style=\"text-align: right;\">\n",
       "      <th></th>\n",
       "      <th>bgp2000gj</th>\n",
       "      <th>tr2010gj</th>\n",
       "      <th>tr2010ge</th>\n",
       "      <th>wt_pop</th>\n",
       "      <th>wt_fam</th>\n",
       "      <th>wt_hh</th>\n",
       "      <th>wt_hu</th>\n",
       "    </tr>\n",
       "  </thead>\n",
       "  <tbody>\n",
       "    <tr>\n",
       "      <th>0</th>\n",
       "      <td>G10000109044444430042202U1</td>\n",
       "      <td>G1000010042202</td>\n",
       "      <td>10001042202</td>\n",
       "      <td>1.0</td>\n",
       "      <td>1.0</td>\n",
       "      <td>1.0</td>\n",
       "      <td>1.0</td>\n",
       "    </tr>\n",
       "    <tr>\n",
       "      <th>1</th>\n",
       "      <td>G10000109044461265042201R1</td>\n",
       "      <td>G1000010042201</td>\n",
       "      <td>10001042201</td>\n",
       "      <td>1.0</td>\n",
       "      <td>1.0</td>\n",
       "      <td>1.0</td>\n",
       "      <td>1.0</td>\n",
       "    </tr>\n",
       "    <tr>\n",
       "      <th>2</th>\n",
       "      <td>G10000109044461265042201U1</td>\n",
       "      <td>G1000010042201</td>\n",
       "      <td>10001042201</td>\n",
       "      <td>1.0</td>\n",
       "      <td>1.0</td>\n",
       "      <td>1.0</td>\n",
       "      <td>1.0</td>\n",
       "    </tr>\n",
       "    <tr>\n",
       "      <th>3</th>\n",
       "      <td>G10000109044461265042201U2</td>\n",
       "      <td>G1000010042201</td>\n",
       "      <td>10001042201</td>\n",
       "      <td>1.0</td>\n",
       "      <td>1.0</td>\n",
       "      <td>1.0</td>\n",
       "      <td>1.0</td>\n",
       "    </tr>\n",
       "    <tr>\n",
       "      <th>4</th>\n",
       "      <td>G10000109044461480042202R2</td>\n",
       "      <td>G1000010042202</td>\n",
       "      <td>10001042202</td>\n",
       "      <td>1.0</td>\n",
       "      <td>1.0</td>\n",
       "      <td>1.0</td>\n",
       "      <td>1.0</td>\n",
       "    </tr>\n",
       "    <tr>\n",
       "      <th>...</th>\n",
       "      <td>...</td>\n",
       "      <td>...</td>\n",
       "      <td>...</td>\n",
       "      <td>...</td>\n",
       "      <td>...</td>\n",
       "      <td>...</td>\n",
       "      <td>...</td>\n",
       "    </tr>\n",
       "    <tr>\n",
       "      <th>1038</th>\n",
       "      <td>G10000509355299999051500R4</td>\n",
       "      <td>G1000050051500</td>\n",
       "      <td>10005051500</td>\n",
       "      <td>1.0</td>\n",
       "      <td>1.0</td>\n",
       "      <td>1.0</td>\n",
       "      <td>1.0</td>\n",
       "    </tr>\n",
       "    <tr>\n",
       "      <th>1039</th>\n",
       "      <td>G10000509355299999051500U1</td>\n",
       "      <td>G1000050051500</td>\n",
       "      <td>10005051500</td>\n",
       "      <td>1.0</td>\n",
       "      <td>1.0</td>\n",
       "      <td>1.0</td>\n",
       "      <td>1.0</td>\n",
       "    </tr>\n",
       "    <tr>\n",
       "      <th>1040</th>\n",
       "      <td>G10000509355299999051500U3</td>\n",
       "      <td>G1000050051500</td>\n",
       "      <td>10005051500</td>\n",
       "      <td>1.0</td>\n",
       "      <td>1.0</td>\n",
       "      <td>1.0</td>\n",
       "      <td>1.0</td>\n",
       "    </tr>\n",
       "    <tr>\n",
       "      <th>1041</th>\n",
       "      <td>G10000509355299999051500U4</td>\n",
       "      <td>G1000050051500</td>\n",
       "      <td>10005051500</td>\n",
       "      <td>1.0</td>\n",
       "      <td>1.0</td>\n",
       "      <td>1.0</td>\n",
       "      <td>1.0</td>\n",
       "    </tr>\n",
       "    <tr>\n",
       "      <th>1042</th>\n",
       "      <td>G34003301061010600020400U2</td>\n",
       "      <td>G1000030990100</td>\n",
       "      <td>10003990100</td>\n",
       "      <td>0.0</td>\n",
       "      <td>0.0</td>\n",
       "      <td>0.0</td>\n",
       "      <td>0.0</td>\n",
       "    </tr>\n",
       "  </tbody>\n",
       "</table>\n",
       "<p>1043 rows × 7 columns</p>\n",
       "</div>"
      ],
      "text/plain": [
       "                       bgp2000gj        tr2010gj     tr2010ge  wt_pop  wt_fam  \\\n",
       "0     G10000109044444430042202U1  G1000010042202  10001042202     1.0     1.0   \n",
       "1     G10000109044461265042201R1  G1000010042201  10001042201     1.0     1.0   \n",
       "2     G10000109044461265042201U1  G1000010042201  10001042201     1.0     1.0   \n",
       "3     G10000109044461265042201U2  G1000010042201  10001042201     1.0     1.0   \n",
       "4     G10000109044461480042202R2  G1000010042202  10001042202     1.0     1.0   \n",
       "...                          ...             ...          ...     ...     ...   \n",
       "1038  G10000509355299999051500R4  G1000050051500  10005051500     1.0     1.0   \n",
       "1039  G10000509355299999051500U1  G1000050051500  10005051500     1.0     1.0   \n",
       "1040  G10000509355299999051500U3  G1000050051500  10005051500     1.0     1.0   \n",
       "1041  G10000509355299999051500U4  G1000050051500  10005051500     1.0     1.0   \n",
       "1042  G34003301061010600020400U2  G1000030990100  10003990100     0.0     0.0   \n",
       "\n",
       "      wt_hh  wt_hu  \n",
       "0       1.0    1.0  \n",
       "1       1.0    1.0  \n",
       "2       1.0    1.0  \n",
       "3       1.0    1.0  \n",
       "4       1.0    1.0  \n",
       "...     ...    ...  \n",
       "1038    1.0    1.0  \n",
       "1039    1.0    1.0  \n",
       "1040    1.0    1.0  \n",
       "1041    1.0    1.0  \n",
       "1042    0.0    0.0  \n",
       "\n",
       "[1043 rows x 7 columns]"
      ]
     },
     "execution_count": 9,
     "metadata": {},
     "output_type": "execute_result"
    }
   ],
   "source": [
    "state_bgp2000trt2010 = nhgisxwalk.GeoCrossWalk(\n",
    "    base_xwalk,\n",
    "    source_year=source_year,\n",
    "    target_year=target_year,\n",
    "    source_geo=\"bgp\",\n",
    "    target_geo=\"tr\",\n",
    "    base_source_table=base_source_file,\n",
    "    input_var=input_vars,\n",
    "    weight_var=input_var_tags,\n",
    "    keep_base=True,\n",
    "    add_geoid=True,\n",
    "    stfips=subset_state\n",
    ")\n",
    "#del base_xwalk\n",
    "state_bgp2000trt2010.xwalk"
   ]
  },
  {
   "cell_type": "markdown",
   "metadata": {},
   "source": [
    "### docstring test"
   ]
  },
  {
   "cell_type": "code",
   "execution_count": 10,
   "metadata": {
    "ExecuteTime": {
     "end_time": "2020-07-29T20:10:24.868895Z",
     "start_time": "2020-07-29T20:10:24.843280Z"
    }
   },
   "outputs": [
    {
     "data": {
      "text/html": [
       "<div>\n",
       "<style scoped>\n",
       "    .dataframe tbody tr th:only-of-type {\n",
       "        vertical-align: middle;\n",
       "    }\n",
       "\n",
       "    .dataframe tbody tr th {\n",
       "        vertical-align: top;\n",
       "    }\n",
       "\n",
       "    .dataframe thead th {\n",
       "        text-align: right;\n",
       "    }\n",
       "</style>\n",
       "<table border=\"1\" class=\"dataframe\">\n",
       "  <thead>\n",
       "    <tr style=\"text-align: right;\">\n",
       "      <th></th>\n",
       "      <th>bgp2000gj</th>\n",
       "      <th>tr2010gj</th>\n",
       "      <th>tr2010ge</th>\n",
       "      <th>wt_pop</th>\n",
       "      <th>wt_fam</th>\n",
       "    </tr>\n",
       "  </thead>\n",
       "  <tbody>\n",
       "    <tr>\n",
       "      <th>1020</th>\n",
       "      <td>G10000509355299999051302R1</td>\n",
       "      <td>G1000050051302</td>\n",
       "      <td>10005051302</td>\n",
       "      <td>1.000000</td>\n",
       "      <td>1.000000</td>\n",
       "    </tr>\n",
       "    <tr>\n",
       "      <th>1021</th>\n",
       "      <td>G10000509355299999051302R2</td>\n",
       "      <td>G1000050051302</td>\n",
       "      <td>10005051302</td>\n",
       "      <td>1.000000</td>\n",
       "      <td>1.000000</td>\n",
       "    </tr>\n",
       "    <tr>\n",
       "      <th>1022</th>\n",
       "      <td>G10000509355299999051302U1</td>\n",
       "      <td>G1000050051302</td>\n",
       "      <td>10005051302</td>\n",
       "      <td>1.000000</td>\n",
       "      <td>1.000000</td>\n",
       "    </tr>\n",
       "    <tr>\n",
       "      <th>1023</th>\n",
       "      <td>G10000509355299999051303R1</td>\n",
       "      <td>G1000050051303</td>\n",
       "      <td>10005051303</td>\n",
       "      <td>1.000000</td>\n",
       "      <td>1.000000</td>\n",
       "    </tr>\n",
       "    <tr>\n",
       "      <th>1024</th>\n",
       "      <td>G10000509355299999051303U1</td>\n",
       "      <td>G1000050051303</td>\n",
       "      <td>10005051303</td>\n",
       "      <td>1.000000</td>\n",
       "      <td>1.000000</td>\n",
       "    </tr>\n",
       "    <tr>\n",
       "      <th>1025</th>\n",
       "      <td>G10000509355299999051304R1</td>\n",
       "      <td>G1000050051305</td>\n",
       "      <td>10005051305</td>\n",
       "      <td>0.680605</td>\n",
       "      <td>0.633909</td>\n",
       "    </tr>\n",
       "    <tr>\n",
       "      <th>1026</th>\n",
       "      <td>G10000509355299999051304R1</td>\n",
       "      <td>G1000050051306</td>\n",
       "      <td>10005051306</td>\n",
       "      <td>0.319167</td>\n",
       "      <td>0.365782</td>\n",
       "    </tr>\n",
       "    <tr>\n",
       "      <th>1027</th>\n",
       "      <td>G10000509355299999051304R1</td>\n",
       "      <td>G1000050051400</td>\n",
       "      <td>10005051400</td>\n",
       "      <td>0.000227</td>\n",
       "      <td>0.000309</td>\n",
       "    </tr>\n",
       "    <tr>\n",
       "      <th>1028</th>\n",
       "      <td>G10000509355299999051304R2</td>\n",
       "      <td>G1000050051305</td>\n",
       "      <td>10005051305</td>\n",
       "      <td>0.802661</td>\n",
       "      <td>0.817568</td>\n",
       "    </tr>\n",
       "    <tr>\n",
       "      <th>1029</th>\n",
       "      <td>G10000509355299999051304R2</td>\n",
       "      <td>G1000050051306</td>\n",
       "      <td>10005051306</td>\n",
       "      <td>0.197339</td>\n",
       "      <td>0.182432</td>\n",
       "    </tr>\n",
       "    <tr>\n",
       "      <th>1030</th>\n",
       "      <td>G10000509355299999051304U2</td>\n",
       "      <td>G1000050051305</td>\n",
       "      <td>10005051305</td>\n",
       "      <td>0.530658</td>\n",
       "      <td>0.557464</td>\n",
       "    </tr>\n",
       "  </tbody>\n",
       "</table>\n",
       "</div>"
      ],
      "text/plain": [
       "                       bgp2000gj        tr2010gj     tr2010ge    wt_pop  \\\n",
       "1020  G10000509355299999051302R1  G1000050051302  10005051302  1.000000   \n",
       "1021  G10000509355299999051302R2  G1000050051302  10005051302  1.000000   \n",
       "1022  G10000509355299999051302U1  G1000050051302  10005051302  1.000000   \n",
       "1023  G10000509355299999051303R1  G1000050051303  10005051303  1.000000   \n",
       "1024  G10000509355299999051303U1  G1000050051303  10005051303  1.000000   \n",
       "1025  G10000509355299999051304R1  G1000050051305  10005051305  0.680605   \n",
       "1026  G10000509355299999051304R1  G1000050051306  10005051306  0.319167   \n",
       "1027  G10000509355299999051304R1  G1000050051400  10005051400  0.000227   \n",
       "1028  G10000509355299999051304R2  G1000050051305  10005051305  0.802661   \n",
       "1029  G10000509355299999051304R2  G1000050051306  10005051306  0.197339   \n",
       "1030  G10000509355299999051304U2  G1000050051305  10005051305  0.530658   \n",
       "\n",
       "        wt_fam  \n",
       "1020  1.000000  \n",
       "1021  1.000000  \n",
       "1022  1.000000  \n",
       "1023  1.000000  \n",
       "1024  1.000000  \n",
       "1025  0.633909  \n",
       "1026  0.365782  \n",
       "1027  0.000309  \n",
       "1028  0.817568  \n",
       "1029  0.182432  \n",
       "1030  0.557464  "
      ]
     },
     "execution_count": 10,
     "metadata": {},
     "output_type": "execute_result"
    }
   ],
   "source": [
    "state_bgp2000trt2010.xwalk[1020:1031].drop(columns=[\"wt_hh\", \"wt_hu\"])"
   ]
  },
  {
   "cell_type": "markdown",
   "metadata": {},
   "source": [
    "### unittests"
   ]
  },
  {
   "cell_type": "code",
   "execution_count": 11,
   "metadata": {
    "ExecuteTime": {
     "end_time": "2020-07-29T20:10:24.898736Z",
     "start_time": "2020-07-29T20:10:24.870423Z"
    }
   },
   "outputs": [
    {
     "data": {
      "text/html": [
       "<div>\n",
       "<style scoped>\n",
       "    .dataframe tbody tr th:only-of-type {\n",
       "        vertical-align: middle;\n",
       "    }\n",
       "\n",
       "    .dataframe tbody tr th {\n",
       "        vertical-align: top;\n",
       "    }\n",
       "\n",
       "    .dataframe thead th {\n",
       "        text-align: right;\n",
       "    }\n",
       "</style>\n",
       "<table border=\"1\" class=\"dataframe\">\n",
       "  <thead>\n",
       "    <tr style=\"text-align: right;\">\n",
       "      <th></th>\n",
       "      <th>bgp2000gj</th>\n",
       "      <th>tr2010gj</th>\n",
       "      <th>tr2010ge</th>\n",
       "      <th>wt_pop</th>\n",
       "      <th>wt_fam</th>\n",
       "      <th>wt_hh</th>\n",
       "      <th>wt_hu</th>\n",
       "    </tr>\n",
       "  </thead>\n",
       "  <tbody>\n",
       "    <tr>\n",
       "      <th>0</th>\n",
       "      <td>G10000109044444430042202U1</td>\n",
       "      <td>G1000010042202</td>\n",
       "      <td>10001042202</td>\n",
       "      <td>1.0</td>\n",
       "      <td>1.0</td>\n",
       "      <td>1.0</td>\n",
       "      <td>1.0</td>\n",
       "    </tr>\n",
       "    <tr>\n",
       "      <th>1</th>\n",
       "      <td>G10000109044461265042201R1</td>\n",
       "      <td>G1000010042201</td>\n",
       "      <td>10001042201</td>\n",
       "      <td>1.0</td>\n",
       "      <td>1.0</td>\n",
       "      <td>1.0</td>\n",
       "      <td>1.0</td>\n",
       "    </tr>\n",
       "    <tr>\n",
       "      <th>2</th>\n",
       "      <td>G10000109044461265042201U1</td>\n",
       "      <td>G1000010042201</td>\n",
       "      <td>10001042201</td>\n",
       "      <td>1.0</td>\n",
       "      <td>1.0</td>\n",
       "      <td>1.0</td>\n",
       "      <td>1.0</td>\n",
       "    </tr>\n",
       "    <tr>\n",
       "      <th>3</th>\n",
       "      <td>G10000109044461265042201U2</td>\n",
       "      <td>G1000010042201</td>\n",
       "      <td>10001042201</td>\n",
       "      <td>1.0</td>\n",
       "      <td>1.0</td>\n",
       "      <td>1.0</td>\n",
       "      <td>1.0</td>\n",
       "    </tr>\n",
       "    <tr>\n",
       "      <th>4</th>\n",
       "      <td>G10000109044461480042202R2</td>\n",
       "      <td>G1000010042202</td>\n",
       "      <td>10001042202</td>\n",
       "      <td>1.0</td>\n",
       "      <td>1.0</td>\n",
       "      <td>1.0</td>\n",
       "      <td>1.0</td>\n",
       "    </tr>\n",
       "    <tr>\n",
       "      <th>...</th>\n",
       "      <td>...</td>\n",
       "      <td>...</td>\n",
       "      <td>...</td>\n",
       "      <td>...</td>\n",
       "      <td>...</td>\n",
       "      <td>...</td>\n",
       "      <td>...</td>\n",
       "    </tr>\n",
       "    <tr>\n",
       "      <th>1038</th>\n",
       "      <td>G10000509355299999051500R4</td>\n",
       "      <td>G1000050051500</td>\n",
       "      <td>10005051500</td>\n",
       "      <td>1.0</td>\n",
       "      <td>1.0</td>\n",
       "      <td>1.0</td>\n",
       "      <td>1.0</td>\n",
       "    </tr>\n",
       "    <tr>\n",
       "      <th>1039</th>\n",
       "      <td>G10000509355299999051500U1</td>\n",
       "      <td>G1000050051500</td>\n",
       "      <td>10005051500</td>\n",
       "      <td>1.0</td>\n",
       "      <td>1.0</td>\n",
       "      <td>1.0</td>\n",
       "      <td>1.0</td>\n",
       "    </tr>\n",
       "    <tr>\n",
       "      <th>1040</th>\n",
       "      <td>G10000509355299999051500U3</td>\n",
       "      <td>G1000050051500</td>\n",
       "      <td>10005051500</td>\n",
       "      <td>1.0</td>\n",
       "      <td>1.0</td>\n",
       "      <td>1.0</td>\n",
       "      <td>1.0</td>\n",
       "    </tr>\n",
       "    <tr>\n",
       "      <th>1041</th>\n",
       "      <td>G10000509355299999051500U4</td>\n",
       "      <td>G1000050051500</td>\n",
       "      <td>10005051500</td>\n",
       "      <td>1.0</td>\n",
       "      <td>1.0</td>\n",
       "      <td>1.0</td>\n",
       "      <td>1.0</td>\n",
       "    </tr>\n",
       "    <tr>\n",
       "      <th>1042</th>\n",
       "      <td>G34003301061010600020400U2</td>\n",
       "      <td>G1000030990100</td>\n",
       "      <td>10003990100</td>\n",
       "      <td>0.0</td>\n",
       "      <td>0.0</td>\n",
       "      <td>0.0</td>\n",
       "      <td>0.0</td>\n",
       "    </tr>\n",
       "  </tbody>\n",
       "</table>\n",
       "<p>1043 rows × 7 columns</p>\n",
       "</div>"
      ],
      "text/plain": [
       "                       bgp2000gj        tr2010gj     tr2010ge  wt_pop  wt_fam  \\\n",
       "0     G10000109044444430042202U1  G1000010042202  10001042202     1.0     1.0   \n",
       "1     G10000109044461265042201R1  G1000010042201  10001042201     1.0     1.0   \n",
       "2     G10000109044461265042201U1  G1000010042201  10001042201     1.0     1.0   \n",
       "3     G10000109044461265042201U2  G1000010042201  10001042201     1.0     1.0   \n",
       "4     G10000109044461480042202R2  G1000010042202  10001042202     1.0     1.0   \n",
       "...                          ...             ...          ...     ...     ...   \n",
       "1038  G10000509355299999051500R4  G1000050051500  10005051500     1.0     1.0   \n",
       "1039  G10000509355299999051500U1  G1000050051500  10005051500     1.0     1.0   \n",
       "1040  G10000509355299999051500U3  G1000050051500  10005051500     1.0     1.0   \n",
       "1041  G10000509355299999051500U4  G1000050051500  10005051500     1.0     1.0   \n",
       "1042  G34003301061010600020400U2  G1000030990100  10003990100     0.0     0.0   \n",
       "\n",
       "      wt_hh  wt_hu  \n",
       "0       1.0    1.0  \n",
       "1       1.0    1.0  \n",
       "2       1.0    1.0  \n",
       "3       1.0    1.0  \n",
       "4       1.0    1.0  \n",
       "...     ...    ...  \n",
       "1038    1.0    1.0  \n",
       "1039    1.0    1.0  \n",
       "1040    1.0    1.0  \n",
       "1041    1.0    1.0  \n",
       "1042    0.0    0.0  \n",
       "\n",
       "[1043 rows x 7 columns]"
      ]
     },
     "execution_count": 11,
     "metadata": {},
     "output_type": "execute_result"
    }
   ],
   "source": [
    "state_bgp2000trt2010.xwalk.drop_duplicates(subset=[\"bgp2000gj\", \"tr2010gj\"])"
   ]
  },
  {
   "cell_type": "code",
   "execution_count": 12,
   "metadata": {
    "ExecuteTime": {
     "end_time": "2020-07-29T20:10:24.921460Z",
     "start_time": "2020-07-29T20:10:24.900318Z"
    }
   },
   "outputs": [
    {
     "data": {
      "text/plain": [
       "array([['G10000509355299999051304R1', 'G1000050051305', '10005051305'],\n",
       "       ['G10000509355299999051304R1', 'G1000050051306', '10005051306'],\n",
       "       ['G10000509355299999051304R1', 'G1000050051400', '10005051400'],\n",
       "       ['G10000509355299999051304R2', 'G1000050051305', '10005051305']],\n",
       "      dtype=object)"
      ]
     },
     "execution_count": 12,
     "metadata": {},
     "output_type": "execute_result"
    }
   ],
   "source": [
    "ix1, ix2 = 1025, 1029\n",
    "id_cols = [\"bgp2000gj\", \"tr2010gj\", \"tr2010ge\"]\n",
    "obs_str_vals = state_bgp2000trt2010.xwalk[id_cols][ix1:ix2].values\n",
    "obs_str_vals"
   ]
  },
  {
   "cell_type": "code",
   "execution_count": 13,
   "metadata": {
    "ExecuteTime": {
     "end_time": "2020-07-29T20:10:24.943530Z",
     "start_time": "2020-07-29T20:10:24.922919Z"
    }
   },
   "outputs": [
    {
     "data": {
      "text/plain": [
       "array([[6.80605382e-01, 6.33909150e-01, 6.57366450e-01, 6.59501671e-01],\n",
       "       [3.19167389e-01, 3.65781711e-01, 3.42281879e-01, 3.40110906e-01],\n",
       "       [2.27229000e-04, 3.09138700e-04, 3.51671300e-04, 3.87423400e-04],\n",
       "       [8.02660754e-01, 8.17567568e-01, 8.20895522e-01, 8.36236934e-01]])"
      ]
     },
     "execution_count": 13,
     "metadata": {},
     "output_type": "execute_result"
    }
   ],
   "source": [
    "wgt_cols = [\"wt_pop\", \"wt_fam\", \"wt_hh\", \"wt_hu\"]\n",
    "obs_num_vals = state_bgp2000trt2010.xwalk[wgt_cols][ix1:ix2].values\n",
    "obs_num_vals"
   ]
  },
  {
   "cell_type": "code",
   "execution_count": null,
   "metadata": {},
   "outputs": [],
   "source": []
  },
  {
   "cell_type": "code",
   "execution_count": null,
   "metadata": {},
   "outputs": [],
   "source": []
  },
  {
   "cell_type": "code",
   "execution_count": null,
   "metadata": {},
   "outputs": [],
   "source": []
  },
  {
   "cell_type": "markdown",
   "metadata": {},
   "source": [
    "-----------------"
   ]
  }
 ],
 "metadata": {
  "_draft": {
   "nbviewer_url": "https://gist.github.com/9f47e4ec2cc37bce83acf20abfca69d2"
  },
  "gist": {
   "data": {
    "description": "sample-workflow.ipynb",
    "public": true
   },
   "id": "9f47e4ec2cc37bce83acf20abfca69d2"
  },
  "kernelspec": {
   "display_name": "Python [conda env:nhgis]",
   "language": "python",
   "name": "conda-env-nhgis-py"
  },
  "language_info": {
   "codemirror_mode": {
    "name": "ipython",
    "version": 3
   },
   "file_extension": ".py",
   "mimetype": "text/x-python",
   "name": "python",
   "nbconvert_exporter": "python",
   "pygments_lexer": "ipython3",
   "version": "3.7.6"
  }
 },
 "nbformat": 4,
 "nbformat_minor": 4
}
