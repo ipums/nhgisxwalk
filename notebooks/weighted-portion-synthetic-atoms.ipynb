{
 "cells": [
  {
   "cell_type": "markdown",
   "metadata": {},
   "source": [
    "# weighted-portion-synthetic-atoms\n",
    "\n",
    " ###  toy example"
   ]
  },
  {
   "cell_type": "code",
   "execution_count": 1,
   "metadata": {
    "ExecuteTime": {
     "end_time": "2020-05-05T17:19:24.429332Z",
     "start_time": "2020-05-05T17:19:24.259412Z"
    }
   },
   "outputs": [
    {
     "name": "stdout",
     "output_type": "stream",
     "text": [
      "2020-05-05T13:19:24-04:00\n",
      "\n",
      "CPython 3.7.6\n",
      "IPython 7.13.0\n",
      "\n",
      "compiler   : Clang 9.0.1 \n",
      "system     : Darwin\n",
      "release    : 19.4.0\n",
      "machine    : x86_64\n",
      "processor  : i386\n",
      "CPU cores  : 4\n",
      "interpreter: 64bit\n"
     ]
    }
   ],
   "source": [
    "%load_ext watermark\n",
    "%watermark"
   ]
  },
  {
   "cell_type": "code",
   "execution_count": 2,
   "metadata": {
    "ExecuteTime": {
     "end_time": "2020-05-05T17:19:25.245142Z",
     "start_time": "2020-05-05T17:19:24.862806Z"
    }
   },
   "outputs": [
    {
     "name": "stdout",
     "output_type": "stream",
     "text": [
      "watermark 2.0.2\n",
      "nhgisxwalk 0.0.1\n",
      "\n"
     ]
    }
   ],
   "source": [
    "import nhgisxwalk\n",
    "import inspect\n",
    "\n",
    "%watermark -w\n",
    "%watermark -iv"
   ]
  },
  {
   "cell_type": "code",
   "execution_count": 3,
   "metadata": {
    "ExecuteTime": {
     "end_time": "2020-05-05T17:19:25.348311Z",
     "start_time": "2020-05-05T17:19:25.333103Z"
    }
   },
   "outputs": [
    {
     "name": "stdout",
     "output_type": "stream",
     "text": [
      "def calculate_atoms(\n",
      "    df, weight=None, input_var=None, sum_var=None, source_id=None, groupby_cols=None\n",
      "):\n",
      "    \"\"\" Calculate the atoms (intersecting parts) of census geographies.\n",
      "    \n",
      "    Parameters\n",
      "    ----------\n",
      "    \n",
      "    df : pandas.DataFrame\n",
      "        input data\n",
      "    \n",
      "    weight : str\n",
      "        weight colum name\n",
      "    \n",
      "    input_var : str or iterable\n",
      "        input variable column name\n",
      "    \n",
      "    sum_var : str or iterable\n",
      "        groupby and summed variable column name\n",
      "    \n",
      "    source_id : str\n",
      "        Source ID column name.\n",
      "    \n",
      "    groupby_cols : list\n",
      "        dataframe columns to perform groupby\n",
      "    \n",
      "    Returns\n",
      "    -------\n",
      "    \n",
      "    df : pandas.DataFrame\n",
      "        atom data (all intersections between source and target geographies)\n",
      "        -- the \"weight\" column calculates the propotion of source area\n",
      "            attributes are in target area.\n",
      "    \n",
      "    \"\"\"\n",
      "    \n",
      "    if type(input_var) == str:\n",
      "        input_var = [input_var]\n",
      "    if type(sum_var) == str:\n",
      "        sum_var = [sum_var]\n",
      "    \n",
      "    # iterate over each pair of input/interpolation variables \n",
      "    for ivar, svar in zip(input_var, sum_var):\n",
      "        # calculate numerators\n",
      "        df[svar] = df[weight] * df[ivar]\n",
      "        df = df.groupby(groupby_cols)[svar].sum().to_frame()\n",
      "        df.reset_index(inplace=True)\n",
      "\n",
      "        # calculate denominators\n",
      "        denominators = df.groupby(source_id)[svar].sum()\n",
      "\n",
      "        # interpolate weights\n",
      "        df[svar] = df[svar] / df[source_id].map(denominators)\n",
      "\n",
      "    return df\n",
      "\n"
     ]
    }
   ],
   "source": [
    "print(inspect.getsource(nhgisxwalk.calculate_atoms))"
   ]
  },
  {
   "cell_type": "markdown",
   "metadata": {},
   "source": [
    "### toy data"
   ]
  },
  {
   "cell_type": "code",
   "execution_count": 4,
   "metadata": {
    "ExecuteTime": {
     "end_time": "2020-05-05T17:19:30.000673Z",
     "start_time": "2020-05-05T17:19:29.972103Z"
    }
   },
   "outputs": [
    {
     "data": {
      "text/html": [
       "<div>\n",
       "<style scoped>\n",
       "    .dataframe tbody tr th:only-of-type {\n",
       "        vertical-align: middle;\n",
       "    }\n",
       "\n",
       "    .dataframe tbody tr th {\n",
       "        vertical-align: top;\n",
       "    }\n",
       "\n",
       "    .dataframe thead th {\n",
       "        text-align: right;\n",
       "    }\n",
       "</style>\n",
       "<table border=\"1\" class=\"dataframe\">\n",
       "  <thead>\n",
       "    <tr style=\"text-align: right;\">\n",
       "      <th></th>\n",
       "      <th>id_bgp90</th>\n",
       "      <th>id_bk90</th>\n",
       "      <th>id_bk10</th>\n",
       "      <th>id_tract10</th>\n",
       "      <th>wt</th>\n",
       "      <th>pop_bk90</th>\n",
       "    </tr>\n",
       "  </thead>\n",
       "  <tbody>\n",
       "    <tr>\n",
       "      <th>0</th>\n",
       "      <td>A</td>\n",
       "      <td>A.1</td>\n",
       "      <td>X.1</td>\n",
       "      <td>X</td>\n",
       "      <td>1.0</td>\n",
       "      <td>60.0</td>\n",
       "    </tr>\n",
       "    <tr>\n",
       "      <th>1</th>\n",
       "      <td>A</td>\n",
       "      <td>A.2</td>\n",
       "      <td>X.2</td>\n",
       "      <td>X</td>\n",
       "      <td>0.3</td>\n",
       "      <td>100.0</td>\n",
       "    </tr>\n",
       "    <tr>\n",
       "      <th>2</th>\n",
       "      <td>A</td>\n",
       "      <td>A.2</td>\n",
       "      <td>Y.1</td>\n",
       "      <td>Y</td>\n",
       "      <td>0.7</td>\n",
       "      <td>100.0</td>\n",
       "    </tr>\n",
       "    <tr>\n",
       "      <th>3</th>\n",
       "      <td>B</td>\n",
       "      <td>B.1</td>\n",
       "      <td>X.3</td>\n",
       "      <td>X</td>\n",
       "      <td>1.0</td>\n",
       "      <td>50.0</td>\n",
       "    </tr>\n",
       "    <tr>\n",
       "      <th>4</th>\n",
       "      <td>B</td>\n",
       "      <td>B.2</td>\n",
       "      <td>Y.2</td>\n",
       "      <td>Y</td>\n",
       "      <td>1.0</td>\n",
       "      <td>80.0</td>\n",
       "    </tr>\n",
       "  </tbody>\n",
       "</table>\n",
       "</div>"
      ],
      "text/plain": [
       "  id_bgp90 id_bk90 id_bk10 id_tract10   wt  pop_bk90\n",
       "0        A     A.1     X.1          X  1.0      60.0\n",
       "1        A     A.2     X.2          X  0.3     100.0\n",
       "2        A     A.2     Y.1          Y  0.7     100.0\n",
       "3        B     B.1     X.3          X  1.0      50.0\n",
       "4        B     B.2     Y.2          Y  1.0      80.0"
      ]
     },
     "execution_count": 4,
     "metadata": {},
     "output_type": "execute_result"
    }
   ],
   "source": [
    "toy_df = nhgisxwalk.GeoCrossWalk.example_crosswalk_data()\n",
    "toy_df"
   ]
  },
  {
   "cell_type": "markdown",
   "metadata": {},
   "source": [
    "### demo atom crosswalk calculation"
   ]
  },
  {
   "cell_type": "code",
   "execution_count": 5,
   "metadata": {
    "ExecuteTime": {
     "end_time": "2020-05-05T17:19:31.292042Z",
     "start_time": "2020-05-05T17:19:31.238660Z"
    }
   },
   "outputs": [
    {
     "data": {
      "text/html": [
       "<div>\n",
       "<style scoped>\n",
       "    .dataframe tbody tr th:only-of-type {\n",
       "        vertical-align: middle;\n",
       "    }\n",
       "\n",
       "    .dataframe tbody tr th {\n",
       "        vertical-align: top;\n",
       "    }\n",
       "\n",
       "    .dataframe thead th {\n",
       "        text-align: right;\n",
       "    }\n",
       "</style>\n",
       "<table border=\"1\" class=\"dataframe\">\n",
       "  <thead>\n",
       "    <tr style=\"text-align: right;\">\n",
       "      <th></th>\n",
       "      <th>id_bgp90</th>\n",
       "      <th>id_tract10</th>\n",
       "      <th>pop_bgp1990_tract2010</th>\n",
       "    </tr>\n",
       "  </thead>\n",
       "  <tbody>\n",
       "    <tr>\n",
       "      <th>0</th>\n",
       "      <td>A</td>\n",
       "      <td>X</td>\n",
       "      <td>0.562500</td>\n",
       "    </tr>\n",
       "    <tr>\n",
       "      <th>1</th>\n",
       "      <td>A</td>\n",
       "      <td>Y</td>\n",
       "      <td>0.437500</td>\n",
       "    </tr>\n",
       "    <tr>\n",
       "      <th>2</th>\n",
       "      <td>B</td>\n",
       "      <td>X</td>\n",
       "      <td>0.384615</td>\n",
       "    </tr>\n",
       "    <tr>\n",
       "      <th>3</th>\n",
       "      <td>B</td>\n",
       "      <td>Y</td>\n",
       "      <td>0.615385</td>\n",
       "    </tr>\n",
       "  </tbody>\n",
       "</table>\n",
       "</div>"
      ],
      "text/plain": [
       "  id_bgp90 id_tract10  pop_bgp1990_tract2010\n",
       "0        A          X               0.562500\n",
       "1        A          Y               0.437500\n",
       "2        B          X               0.384615\n",
       "3        B          Y               0.615385"
      ]
     },
     "execution_count": 5,
     "metadata": {},
     "output_type": "execute_result"
    }
   ],
   "source": [
    "toy_atoms = nhgisxwalk.calculate_atoms(\n",
    "    toy_df,\n",
    "    weight=\"wt\",\n",
    "    input_var=\"pop_bk90\",\n",
    "    sum_var=\"pop_bgp1990_tract2010\",\n",
    "    source_id=\"id_bgp90\",\n",
    "    groupby_cols=[\"id_bgp90\", \"id_tract10\"])\n",
    "toy_atoms"
   ]
  },
  {
   "cell_type": "markdown",
   "metadata": {},
   "source": [
    "-------------------"
   ]
  }
 ],
 "metadata": {
  "_draft": {
   "nbviewer_url": "https://gist.github.com/ee43d7cfc266d2bfcba379cb572107f4"
  },
  "gist": {
   "data": {
    "description": "weighted-portion-synthetic-atoms.ipynb",
    "public": true
   },
   "id": "ee43d7cfc266d2bfcba379cb572107f4"
  },
  "kernelspec": {
   "display_name": "Python [conda env:nhgis_env]",
   "language": "python",
   "name": "conda-env-nhgis_env-py"
  },
  "language_info": {
   "codemirror_mode": {
    "name": "ipython",
    "version": 3
   },
   "file_extension": ".py",
   "mimetype": "text/x-python",
   "name": "python",
   "nbconvert_exporter": "python",
   "pygments_lexer": "ipython3",
   "version": "3.7.6"
  }
 },
 "nbformat": 4,
 "nbformat_minor": 4
}
