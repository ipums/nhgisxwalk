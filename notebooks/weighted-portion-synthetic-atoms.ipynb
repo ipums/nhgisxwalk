{
 "cells": [
  {
   "cell_type": "markdown",
   "metadata": {},
   "source": [
    "# weighted-portion-synthetic-atoms\n",
    "\n",
    " ###  toy example"
   ]
  },
  {
   "cell_type": "code",
   "execution_count": 1,
   "metadata": {
    "ExecuteTime": {
     "end_time": "2020-05-06T18:17:51.521993Z",
     "start_time": "2020-05-06T18:17:51.347241Z"
    }
   },
   "outputs": [
    {
     "name": "stdout",
     "output_type": "stream",
     "text": [
      "2020-05-06T14:17:51-04:00\n",
      "\n",
      "CPython 3.7.6\n",
      "IPython 7.13.0\n",
      "\n",
      "compiler   : Clang 9.0.1 \n",
      "system     : Darwin\n",
      "release    : 19.4.0\n",
      "machine    : x86_64\n",
      "processor  : i386\n",
      "CPU cores  : 4\n",
      "interpreter: 64bit\n"
     ]
    }
   ],
   "source": [
    "%load_ext watermark\n",
    "%watermark"
   ]
  },
  {
   "cell_type": "code",
   "execution_count": 2,
   "metadata": {
    "ExecuteTime": {
     "end_time": "2020-05-06T18:17:51.948307Z",
     "start_time": "2020-05-06T18:17:51.526843Z"
    }
   },
   "outputs": [
    {
     "name": "stdout",
     "output_type": "stream",
     "text": [
      "watermark 2.0.2\n",
      "nhgisxwalk 0.0.1\n",
      "\n"
     ]
    }
   ],
   "source": [
    "import nhgisxwalk\n",
    "import inspect\n",
    "\n",
    "%load_ext autoreload\n",
    "%autoreload 2\n",
    "%watermark -w\n",
    "%watermark -iv"
   ]
  },
  {
   "cell_type": "code",
   "execution_count": 3,
   "metadata": {
    "ExecuteTime": {
     "end_time": "2020-05-06T18:17:52.012969Z",
     "start_time": "2020-05-06T18:17:51.958108Z"
    }
   },
   "outputs": [
    {
     "name": "stdout",
     "output_type": "stream",
     "text": [
      "def calculate_atoms(\n",
      "    df,\n",
      "    weight=None,\n",
      "    input_var=None,\n",
      "    weight_var=None,\n",
      "    weight_prefix=None,\n",
      "    source_id=None,\n",
      "    groupby_cols=None,\n",
      "):\n",
      "    \"\"\" Calculate the atoms (intersecting parts) of census geographies and\n",
      "    interpolate a \"weight\" of the source attribute that lies within the\n",
      "    target geography.\n",
      "    \n",
      "    Parameters\n",
      "    ----------\n",
      "    \n",
      "    df : pandas.DataFrame\n",
      "        input data\n",
      "    \n",
      "    weight : str\n",
      "        weight colum name(s)\n",
      "    \n",
      "    input_var : str or iterable\n",
      "        input variable column name(s)\n",
      "    \n",
      "    weight_var : str or iterable\n",
      "        groupby and summed variable column name(s)\n",
      "    \n",
      "    weight_prefix : str\n",
      "        Prepend this prefix to the the `weight_var` column name.\n",
      "    \n",
      "    source_id : str\n",
      "        Source ID column name.\n",
      "    \n",
      "    groupby_cols : list\n",
      "        dataframe columns to perform groupby\n",
      "    \n",
      "    Returns\n",
      "    -------\n",
      "    \n",
      "    atoms : pandas.DataFrame\n",
      "        all intersections between source and target geographies, and \n",
      "        the interpolated weight calculations for the propotion of\n",
      "        source area attributes that are in the target area.\n",
      "    \n",
      "    \"\"\"\n",
      "\n",
      "    if type(input_var) == str:\n",
      "        input_var = [input_var]\n",
      "    if type(weight_var) == str:\n",
      "        weight_var = [weight_var]\n",
      "    \n",
      "    n_input_var, n_weight_var = len(input_var), len(weight_var)\n",
      "    \n",
      "    if n_input_var != n_weight_var:\n",
      "        msg = \"The 'input_var' and 'weight_var' should be the same length. \"\n",
      "        msg += \"%s != %s\" % (n_input_var, n_weight_var)\n",
      "        raise RuntimeError(msg)\n",
      "\n",
      "    if weight_prefix:\n",
      "        weight_var = [weight_prefix + wvar for wvar in weight_var]\n",
      "\n",
      "    # iterate over each pair of input/interpolation variables\n",
      "    for ix, (ivar, wvar) in enumerate(zip(input_var, weight_var)):\n",
      "        \n",
      "        # calculate numerators\n",
      "        df[wvar] = df[weight] * df[ivar]\n",
      "        if ix == 0:\n",
      "            # on the first iteration create an atom dataframe\n",
      "            atoms = df.groupby(groupby_cols)[wvar].sum().to_frame()\n",
      "            atoms.reset_index(inplace=True)\n",
      "        else:\n",
      "            # on tsubsequent iterations add weights as a column\n",
      "            atoms[wvar] = df.groupby(groupby_cols)[wvar].sum().values\n",
      "\n",
      "        # calculate denominators\n",
      "        denominators = atoms.groupby(source_id)[wvar].sum()\n",
      "\n",
      "        # interpolate weights\n",
      "        atoms[wvar] = atoms[wvar] / atoms[source_id].map(denominators)\n",
      "\n",
      "    return atoms\n",
      "\n"
     ]
    }
   ],
   "source": [
    "print(inspect.getsource(nhgisxwalk.calculate_atoms))"
   ]
  },
  {
   "cell_type": "markdown",
   "metadata": {},
   "source": [
    "### toy data"
   ]
  },
  {
   "cell_type": "code",
   "execution_count": 4,
   "metadata": {
    "ExecuteTime": {
     "end_time": "2020-05-06T18:17:52.103350Z",
     "start_time": "2020-05-06T18:17:52.020911Z"
    }
   },
   "outputs": [
    {
     "data": {
      "text/html": [
       "<div>\n",
       "<style scoped>\n",
       "    .dataframe tbody tr th:only-of-type {\n",
       "        vertical-align: middle;\n",
       "    }\n",
       "\n",
       "    .dataframe tbody tr th {\n",
       "        vertical-align: top;\n",
       "    }\n",
       "\n",
       "    .dataframe thead th {\n",
       "        text-align: right;\n",
       "    }\n",
       "</style>\n",
       "<table border=\"1\" class=\"dataframe\">\n",
       "  <thead>\n",
       "    <tr style=\"text-align: right;\">\n",
       "      <th></th>\n",
       "      <th>bgp1990</th>\n",
       "      <th>blk1990</th>\n",
       "      <th>blk2010</th>\n",
       "      <th>trt2010</th>\n",
       "      <th>wt</th>\n",
       "      <th>pop_1990</th>\n",
       "      <th>hh_1990</th>\n",
       "    </tr>\n",
       "  </thead>\n",
       "  <tbody>\n",
       "    <tr>\n",
       "      <th>0</th>\n",
       "      <td>A</td>\n",
       "      <td>A.1</td>\n",
       "      <td>X.1</td>\n",
       "      <td>X</td>\n",
       "      <td>1.0</td>\n",
       "      <td>60.0</td>\n",
       "      <td>25.0</td>\n",
       "    </tr>\n",
       "    <tr>\n",
       "      <th>1</th>\n",
       "      <td>A</td>\n",
       "      <td>A.2</td>\n",
       "      <td>X.2</td>\n",
       "      <td>X</td>\n",
       "      <td>0.3</td>\n",
       "      <td>100.0</td>\n",
       "      <td>40.0</td>\n",
       "    </tr>\n",
       "    <tr>\n",
       "      <th>2</th>\n",
       "      <td>A</td>\n",
       "      <td>A.2</td>\n",
       "      <td>Y.1</td>\n",
       "      <td>Y</td>\n",
       "      <td>0.7</td>\n",
       "      <td>100.0</td>\n",
       "      <td>40.0</td>\n",
       "    </tr>\n",
       "    <tr>\n",
       "      <th>3</th>\n",
       "      <td>B</td>\n",
       "      <td>B.1</td>\n",
       "      <td>X.3</td>\n",
       "      <td>X</td>\n",
       "      <td>1.0</td>\n",
       "      <td>50.0</td>\n",
       "      <td>20.0</td>\n",
       "    </tr>\n",
       "    <tr>\n",
       "      <th>4</th>\n",
       "      <td>B</td>\n",
       "      <td>B.2</td>\n",
       "      <td>Y.2</td>\n",
       "      <td>Y</td>\n",
       "      <td>1.0</td>\n",
       "      <td>80.0</td>\n",
       "      <td>30.0</td>\n",
       "    </tr>\n",
       "  </tbody>\n",
       "</table>\n",
       "</div>"
      ],
      "text/plain": [
       "  bgp1990 blk1990 blk2010 trt2010   wt  pop_1990  hh_1990\n",
       "0       A     A.1     X.1       X  1.0      60.0     25.0\n",
       "1       A     A.2     X.2       X  0.3     100.0     40.0\n",
       "2       A     A.2     Y.1       Y  0.7     100.0     40.0\n",
       "3       B     B.1     X.3       X  1.0      50.0     20.0\n",
       "4       B     B.2     Y.2       Y  1.0      80.0     30.0"
      ]
     },
     "execution_count": 4,
     "metadata": {},
     "output_type": "execute_result"
    }
   ],
   "source": [
    "toy_df = nhgisxwalk.example_crosswalk_data()\n",
    "toy_df"
   ]
  },
  {
   "cell_type": "markdown",
   "metadata": {},
   "source": [
    "### demo atom crosswalk calculation"
   ]
  },
  {
   "cell_type": "code",
   "execution_count": 5,
   "metadata": {
    "ExecuteTime": {
     "end_time": "2020-05-06T18:17:52.189645Z",
     "start_time": "2020-05-06T18:17:52.112144Z"
    }
   },
   "outputs": [
    {
     "data": {
      "text/html": [
       "<div>\n",
       "<style scoped>\n",
       "    .dataframe tbody tr th:only-of-type {\n",
       "        vertical-align: middle;\n",
       "    }\n",
       "\n",
       "    .dataframe tbody tr th {\n",
       "        vertical-align: top;\n",
       "    }\n",
       "\n",
       "    .dataframe thead th {\n",
       "        text-align: right;\n",
       "    }\n",
       "</style>\n",
       "<table border=\"1\" class=\"dataframe\">\n",
       "  <thead>\n",
       "    <tr style=\"text-align: right;\">\n",
       "      <th></th>\n",
       "      <th>bgp1990</th>\n",
       "      <th>trt2010</th>\n",
       "      <th>wt_pop</th>\n",
       "      <th>wt_hh</th>\n",
       "    </tr>\n",
       "  </thead>\n",
       "  <tbody>\n",
       "    <tr>\n",
       "      <th>0</th>\n",
       "      <td>A</td>\n",
       "      <td>X</td>\n",
       "      <td>0.562500</td>\n",
       "      <td>0.569231</td>\n",
       "    </tr>\n",
       "    <tr>\n",
       "      <th>1</th>\n",
       "      <td>A</td>\n",
       "      <td>Y</td>\n",
       "      <td>0.437500</td>\n",
       "      <td>0.430769</td>\n",
       "    </tr>\n",
       "    <tr>\n",
       "      <th>2</th>\n",
       "      <td>B</td>\n",
       "      <td>X</td>\n",
       "      <td>0.384615</td>\n",
       "      <td>0.400000</td>\n",
       "    </tr>\n",
       "    <tr>\n",
       "      <th>3</th>\n",
       "      <td>B</td>\n",
       "      <td>Y</td>\n",
       "      <td>0.615385</td>\n",
       "      <td>0.600000</td>\n",
       "    </tr>\n",
       "  </tbody>\n",
       "</table>\n",
       "</div>"
      ],
      "text/plain": [
       "  bgp1990 trt2010    wt_pop     wt_hh\n",
       "0       A       X  0.562500  0.569231\n",
       "1       A       Y  0.437500  0.430769\n",
       "2       B       X  0.384615  0.400000\n",
       "3       B       Y  0.615385  0.600000"
      ]
     },
     "execution_count": 5,
     "metadata": {},
     "output_type": "execute_result"
    }
   ],
   "source": [
    "toy_atoms = nhgisxwalk.calculate_atoms(\n",
    "    toy_df,\n",
    "    weight=\"wt\",\n",
    "    input_var=[\"pop_1990\", \"hh_1990\"],\n",
    "    weight_var=[\"pop\", \"hh\"],\n",
    "    weight_prefix=\"wt_\",\n",
    "    source_id=\"bgp1990\",\n",
    "    groupby_cols=[\"bgp1990\", \"trt2010\"])\n",
    "toy_atoms"
   ]
  },
  {
   "cell_type": "markdown",
   "metadata": {},
   "source": [
    "-------------------"
   ]
  }
 ],
 "metadata": {
  "_draft": {
   "nbviewer_url": "https://gist.github.com/ee43d7cfc266d2bfcba379cb572107f4"
  },
  "gist": {
   "data": {
    "description": "weighted-portion-synthetic-atoms.ipynb",
    "public": true
   },
   "id": "ee43d7cfc266d2bfcba379cb572107f4"
  },
  "kernelspec": {
   "display_name": "Python [conda env:nhgis_env]",
   "language": "python",
   "name": "conda-env-nhgis_env-py"
  },
  "language_info": {
   "codemirror_mode": {
    "name": "ipython",
    "version": 3
   },
   "file_extension": ".py",
   "mimetype": "text/x-python",
   "name": "python",
   "nbconvert_exporter": "python",
   "pygments_lexer": "ipython3",
   "version": "3.7.6"
  }
 },
 "nbformat": 4,
 "nbformat_minor": 4
}
